{
 "cells": [
  {
   "cell_type": "markdown",
   "metadata": {},
   "source": [
    "# Lorenz attractor"
   ]
  },
  {
   "cell_type": "markdown",
   "metadata": {},
   "source": [
    "Here, the system is a Lorenz attractor, directly defined by the equations\n",
    "\n",
    "\\begin{eqnarray*}\n",
    "\\dot{x} & = & \\sigma(y-x)\\\\\n",
    "\\dot{y} & = & x(\\rho-z)-y\\\\\n",
    "\\dot{z} & = & xy-\\beta z\n",
    "\\end{eqnarray*}\n",
    "\n",
    "See the [Wikipedia page](http://en.wikipedia.org/wiki/Lorenz_system) for a discussion. Here, all right-hand sides are multiplied by a factor $\\omega$ to adjust the speed. For visualisation, the system is orthogonally projected onto the plane containing the $z$-axis and the axis making an angle $\\theta$ with the $x$-axis in the $xy$-plane, where $\\theta$ is a parameter which can be modified during the simulation.\n",
    "\n",
    "<span style=\"font-size: x-small\">See also: the [documentation](../doc/odesimu.html) of module `system`.</span>"
   ]
  },
  {
   "cell_type": "code",
   "execution_count": 1,
   "metadata": {
    "collapsed": false
   },
   "outputs": [],
   "source": [
    "%autoreload 2\n",
    "\n",
    "import logging\n",
    "logger = logging.getLogger()\n",
    "\n",
    "from functools import partial\n",
    "from numpy import sin, cos, pi, array, infty, nan\n",
    "from system import System\n",
    "from util import logger_hook"
   ]
  },
  {
   "cell_type": "markdown",
   "metadata": {},
   "source": [
    "## LorenzAttractor class"
   ]
  },
  {
   "cell_type": "code",
   "execution_count": 2,
   "metadata": {
    "collapsed": false
   },
   "outputs": [],
   "source": [
    "#----------------------------------------------------------------------------------------------------\n",
    "class LorenzAttractor (System):\n",
    "#----------------------------------------------------------------------------------------------------\n",
    "\n",
    "    shadowshape = (3,)\n",
    "\n",
    "    def __init__(self,sigma,rho,beta,omega):\n",
    "        \"\"\"\n",
    ":param sigma,rho,beta: parameters of the equation in s^-1\n",
    "        \"\"\"\n",
    "        def main(t,state):\n",
    "            x,y,z = state\n",
    "            return omega*array((sigma*(y-x),x*(rho-z)-y,x*y-beta*z))\n",
    "        self.main = main\n",
    "        def jac(t,state):\n",
    "            x,y,z = state\n",
    "            return omega*array(((-sigma,sigma,0),(rho-z,-1,-x),(y,x,-beta)))\n",
    "        self.jacobian = jac\n",
    "        def fordisplay(state): return state,state\n",
    "        self.fordisplay = fordisplay\n",
    "\n",
    "    def display(self,ax,ini=None,**ka):\n",
    "        from matplotlib.patches import Ellipse, Arrow\n",
    "        from matplotlib.transforms import Affine2D\n",
    "        ax.set_title(r'trajectory:?')\n",
    "        diag_s = ax.scatter((),(),marker='o',c='b')\n",
    "        tail_l, = ax.plot((),(),c='y')\n",
    "        rmov = None\n",
    "        def rotate_on(ev,delta=pi/100):\n",
    "            nonlocal rmov\n",
    "            if ev.key == 'right': rmov = delta\n",
    "            elif ev.key == 'left': rmov = -delta\n",
    "            else: return\n",
    "        def rotate_off(ev):\n",
    "            nonlocal rmov\n",
    "            if ev.key=='right' or ev.key=='left': rmov = None\n",
    "        ax.figure.canvas.mpl_connect('key_press_event',rotate_on)\n",
    "        ax.figure.canvas.mpl_connect('key_release_event',rotate_off)\n",
    "        # naive projection, no perspective\n",
    "        theta,rcos,rsin = 0.,1.,0.\n",
    "        rot = lambda x,y: x*rcos+y*rsin\n",
    "        def slant(theta=0): return Affine2D().rotate(theta).scale(sx=1.,sy=.6).translate(.95,.05)+ax.transAxes\n",
    "        ax.add_patch(Ellipse(xy=(.95,.05),width=.06,height=.04,fill=False,ec='k',alpha=.4,transform=ax.transAxes))\n",
    "        arrow = ax.add_patch(Arrow(0.,0.,.03,0,lw=1,width=.01,ec='k',alpha=.4,transform=slant()))\n",
    "        ax.add_patch(Arrow(.95,.05,0,.05,lw=1,width=.01,ec='k',transform=ax.transAxes))\n",
    "        def disp(t,live,tail):\n",
    "            nonlocal theta, rcos, rsin\n",
    "            if rmov is not None: theta += rmov; rcos,rsin = cos(theta),sin(theta); arrow.set_transform(slant(theta))\n",
    "            x,y,z = live\n",
    "            diag_s.set_offsets(((rot(x,y),z),))\n",
    "            tail_l.set_data(rot(tail[:,0],tail[:,1]),tail[:,2])\n",
    "            ax.relim()\n",
    "            ax.autoscale_view()\n",
    "        return super(LorenzAttractor,self).display(ax,disp,ini=ini,**ka)\n",
    "\n",
    "    @staticmethod\n",
    "    def makestate(x=0,y=0,z=0): return array((x,y,z))"
   ]
  },
  {
   "cell_type": "markdown",
   "metadata": {},
   "source": [
    "Launcher\n",
    "--------\n",
    "\n",
    "System parameters:\n",
    "\n",
    "* `sigma`,`beta`,`rho`: neutral\n",
    "* `omega`: in sec$^{-1}$\n",
    "\n",
    "Launch parameters:\n",
    "\n",
    "* `ini/x,y,z`: neutral\n",
    "* `srate`: simulation rate (in frames.sec$^{-1}$)\n",
    "* `taild`: duration of shadow, ie. trace of previous states (in sec)\n",
    "* `hooks`: list of display hooks (see doc)\n",
    "\n",
    "The rotation angle $\\theta$ for the visualisation is reflected in an ellipse at the bottom right corner of the figure, and can be modified using the arrow keys of the keyboard: \"right\" to increase $\\theta$ (turns the projection plane anti-clockwise) and \"left\" to decrease $\\theta$ (turns the projection plane clockwise). Maybe it is the other way round :-)"
   ]
  },
  {
   "cell_type": "code",
   "execution_count": 3,
   "metadata": {
    "collapsed": false
   },
   "outputs": [],
   "source": [
    "logger.setLevel(logging.WARN) # can be changed dynamically by logger_hook\n",
    "syst = LorenzAttractor(sigma=10,rho=28,beta=8/3,omega=.2)\n",
    "syst.launch(\n",
    "    ini=syst.makestate(x=-1,y=2,z=12),\n",
    "    maxtime=infty,\n",
    "    srate=25.,\n",
    "    taild=60,\n",
    "    hooks=(partial(logger_hook,logger=logger),),\n",
    "    animate=dict(\n",
    "        repeat=False,\n",
    "        ),\n",
    "    )"
   ]
  }
 ],
 "metadata": {
  "kernelspec": {
   "display_name": "Python 3",
   "language": "python",
   "name": "python3"
  },
  "language_info": {
   "codemirror_mode": {
    "name": "ipython",
    "version": 3
   },
   "file_extension": ".py",
   "mimetype": "text/x-python",
   "name": "python",
   "nbconvert_exporter": "python",
   "pygments_lexer": "ipython3",
   "version": "3.4.3"
  }
 },
 "nbformat": 4,
 "nbformat_minor": 0
}
