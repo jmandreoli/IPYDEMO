{
 "cells": [
  {
   "cell_type": "markdown",
   "metadata": {},
   "source": [
    "# N-body system"
   ]
  },
  {
   "cell_type": "markdown",
   "metadata": {},
   "source": [
    "Here, the system is a $N$-body system under gravitational attraction. The masses are $(m_i)_{i\\in I}$ and the gravitational constant is ${\\mathcal G}$.\n",
    "\n",
    "We use standard (Euclidian) coordinates $(x_i,y_i)_{i\\in I}$ in some arbitrary inertial frame of reference.\n",
    "\n",
    "The equations of the dynamics are given by:\n",
    "\n",
    "\\begin{equation*}\n",
    "\\left\\{\n",
    "\\begin{array}{rcl}\n",
    "\\ddot{x_i} & = &\n",
    "\\sum_{j\\not=i}{\\mathcal G}m_j((x_j-x_i)^2+(y_j-y_i)^2)^{-\\frac{3}{2}}(x_j-x_i)\n",
    "\\\\\n",
    "\\ddot{y_i} & = &\n",
    "\\sum_{j\\not=i}{\\mathcal G}m_j((x_j-x_i)^2+(y_j-y_i)^2)^{-\\frac{3}{2}}(y_j-y_i)\n",
    "\\end{array}\n",
    "\\right.\n",
    "\\end{equation*}\n",
    "\n",
    "<span style=\"font-size: x-small\">See also: the [documentation](../doc/odesimu.html) of module `system`.</span>"
   ]
  },
  {
   "cell_type": "code",
   "execution_count": 1,
   "metadata": {
    "collapsed": false
   },
   "outputs": [],
   "source": [
    "%autoreload 2\n",
    "\n",
    "import logging\n",
    "logger = logging.getLogger()\n",
    "\n",
    "from functools import partial\n",
    "from numpy import array, zeros, newaxis, square, sqrt, sum, eye, infty, swapaxes, dot, pi, cos, sin\n",
    "from system import System\n",
    "from util import logger_hook"
   ]
  },
  {
   "cell_type": "code",
   "execution_count": 2,
   "metadata": {
    "collapsed": false
   },
   "outputs": [],
   "source": [
    "#----------------------------------------------------------------------------------------------------\n",
    "class GNbody (System):\n",
    "#----------------------------------------------------------------------------------------------------\n",
    "\n",
    "    def __init__(self,*ML,G=None):\n",
    "        \"\"\"\n",
    ":param G: gravitational constant in m^3.kg^-1.s^-2\n",
    ":param ML: list of mass of the bodies in kg\n",
    "        \"\"\"\n",
    "        self.ML,self.G = ML,G\n",
    "        N = len(ML)\n",
    "        MM = array(ML)*G\n",
    "        ID = eye(N,dtype=bool)\n",
    "        slices = slice(None,N),slice(N,2*N)\n",
    "        slicesd = slice(2*N,3*N),slice(3*N,None)\n",
    "        self.shadowshape = (N,2)\n",
    "        def main(t,state,a=zeros((2,N,N),dtype=float),b=zeros((1,N,N),dtype=float)):\n",
    "            r = state.copy()\n",
    "            for s,v,sd in zip(slices,a,slicesd):\n",
    "                z = state[s]\n",
    "                v[...] = z[newaxis,:]-z[:,newaxis]\n",
    "                r[s] = state[sd]\n",
    "            b = sum(square(a),axis=0,keepdims=True)\n",
    "            b *= sqrt(b)\n",
    "            b[0][ID] = 1.\n",
    "            a /= b\n",
    "            for s,v in zip(slicesd,a): dot(v,MM,r[s])\n",
    "            return r\n",
    "        self.main = main\n",
    "        def fordisplay(state):\n",
    "            x,y = (state[s] for s in slices)\n",
    "            live = tuple(zip(x,y))\n",
    "            return live, live\n",
    "        self.fordisplay = fordisplay\n",
    "\n",
    "    def display(self,ax,refsize=50.,**ka):\n",
    "        \"\"\"\n",
    ":param refsize: average size in points^2 of the masses\n",
    "        \"\"\"\n",
    "        diag_s = ax.scatter((),(),s=refsize,marker='o',c='b')\n",
    "        tails_l = tuple(ax.plot((),(),'y')[0] for m in self.ML)\n",
    "        ax.set_title('trajectory:?')\n",
    "        def disp(t,live,tail):\n",
    "            diag_s.set_offsets(live)\n",
    "            for t_l,xy in zip(tails_l,swapaxes(tail,0,1)): t_l.set_data(xy[:,0],xy[:,1])\n",
    "            ax.relim()\n",
    "            ax.autoscale_view()\n",
    "        return super(GNbody,self).display(ax,disp,**ka)\n",
    "\n",
    "    def makestate(self,*xydxdys):\n",
    "        assert len(xydxdys)==len(self.ML)\n",
    "        for u in xydxdys: assert len(u)==4\n",
    "        return array([u[i] for i in range(4) for u in xydxdys])"
   ]
  },
  {
   "cell_type": "markdown",
   "metadata": {},
   "source": [
    "Launcher\n",
    "--------\n",
    "\n",
    "System parameters:\n",
    "\n",
    "* `*` (arg list): masses of the bodies (in kg)\n",
    "* `G`: gravitational constant (in m$^3$.kg$^{-1}$.sec$^{-2}$)\n",
    "\n",
    "Launch parameters:\n",
    "\n",
    "* `ini/*` (arg list): initial list of quadruples ($x$-position, $y$-pos, $x$-speed, $y$-speed), one for each body (in m, m, m.sec$^{-1}$, m.sec$^{-1}$)\n",
    "* `srate`: simulation rate (in frames.sec$^{-1}$)\n",
    "* `taild`: duration of shadow, ie. trace of previous states (in sec)\n",
    "* `hooks`: list of display hooks (see doc)"
   ]
  },
  {
   "cell_type": "code",
   "execution_count": 3,
   "metadata": {
    "collapsed": false
   },
   "outputs": [],
   "source": [
    "logger.setLevel(logging.WARN) # can be changed dynamically by logger_hook\n",
    "syst = GNbody(10,10,10,10,G=1)\n",
    "v = 1\n",
    "u = 4\n",
    "a = -pi/12\n",
    "syst.launch(\n",
    "    ini=syst.makestate(\n",
    "        (-u,-u,v*cos(a),v*sin(a)),\n",
    "        (u,-u,-v*sin(a),v*cos(a)),\n",
    "        (u,u,-v*cos(a),-v*sin(a)),\n",
    "        (-u,u,v*sin(a),-v*cos(a)),\n",
    "        ),\n",
    "    maxtime=infty,\n",
    "    srate=25.,\n",
    "    taild=10,\n",
    "    hooks=(partial(logger_hook,logger=logger),),\n",
    "    animate=dict(\n",
    "        repeat=False,\n",
    "        ),\n",
    "    )"
   ]
  }
 ],
 "metadata": {
  "kernelspec": {
   "display_name": "Python 3",
   "language": "python",
   "name": "python3"
  },
  "language_info": {
   "codemirror_mode": {
    "name": "ipython",
    "version": 3
   },
   "file_extension": ".py",
   "mimetype": "text/x-python",
   "name": "python",
   "nbconvert_exporter": "python",
   "pygments_lexer": "ipython3",
   "version": "3.4.3"
  }
 },
 "nbformat": 4,
 "nbformat_minor": 0
}
