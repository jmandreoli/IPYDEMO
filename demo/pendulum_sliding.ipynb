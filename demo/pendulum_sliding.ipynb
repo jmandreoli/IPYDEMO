{
 "cells": [
  {
   "cell_type": "markdown",
   "metadata": {},
   "source": [
    "# Sliding pendulum system, with control\n",
    "\n",
    "Consider the system composed of a simple pendulum of length $l$ and mass $m$ concentrated at its bob. The pivot of the pendulum is attached to a chariot of mass $m_o$ concentrated at its centre, sliding along a horizontal rail and submitted to a lateral control force field $\\zeta$, possibly depending on time. The system is submitted to a uniform, constant gravitational acceleration field $g$ and moves without friction.\n",
    "\n",
    "The generalised coordinate of the system is the position $x$ of the pivot on the rail and angle $\\theta$ of the pendulum with the downward vertical direction. The standard (Cartesian) coordinates of the bob are then given by\n",
    "\n",
    "\\begin{equation*}\n",
    "x_b = x+l\\sin\\theta\n",
    "\\hspace{2cm}\n",
    "y_b = -l\\cos\\theta\n",
    "\\end{equation*}\n",
    "\n",
    "The active forces are weight on the bob ($V_{(b)}=mgy$) and control on the pivot ($V_{(p)}=-\\zeta x$). Hence the Lagrangian\n",
    "\n",
    "\\begin{eqnarray*}\n",
    "\\mathcal{L} & = & \\frac{1}{2}(m_ox^2+m(\\dot{x}^2+l^2\\dot{\\theta}^2+2l\\dot{x}\\dot{\\theta}\\cos\\theta))+\\zeta x+mgl\\cos\\theta\\\\\n",
    "& = & \\frac{1}{2}(m_o+m)\\dot{x}^2+\\frac{1}{2}m l^2\\dot{\\theta}^2+ml\\dot{x}\\dot{\\theta}\\cos\\theta+\\zeta x+mgl\\cos\\theta\n",
    "\\end{eqnarray*}\n",
    "\n",
    "The equations of the dynamics are given by:\n",
    "\n",
    "\\begin{equation*}\n",
    "\\begin{array}{rrcl}\n",
    "\\left[\\frac{\\mathbf{d}}{\\mathbf{d}t}\\frac{\\partial\\mathcal{L}}{\\partial\\dot{x}} = \\frac{\\partial\\mathcal{L}}{\\partial x}\\right]\n",
    "\\hspace{1cm} &\n",
    "(m_o+m)\\ddot{x}+ml\\ddot{\\theta}\\cos\\theta & = & \\zeta+ml\\dot{\\theta}^2\\sin\\theta\n",
    "\\\\\n",
    "\\left[\\frac{\\mathbf{d}}{\\mathbf{d}t}\\frac{\\partial\\mathcal{L}}{\\partial\\dot{\\theta}} = \\frac{\\partial\\mathcal{L}}{\\partial\\theta}\\right]\n",
    "\\hspace{1cm} &\n",
    "\\ddot{x}\\cos\\theta+l\\ddot{\\theta} & = & -g\\sin\\theta\n",
    "\\end{array}\n",
    "\\end{equation*}\n",
    "\n",
    "which can be rewritten as\n",
    "\n",
    "\\begin{equation*}\n",
    "\\left\\{\n",
    "\\begin{array}{rcl}\n",
    "a\\ddot{x}+l\\ddot{\\theta}\\cos\\theta & = & u\n",
    "\\\\\n",
    "\\ddot{x}\\cos\\theta+l\\ddot{\\theta} & = & v\n",
    "\\end{array}\n",
    "\\right.\n",
    "\\hspace{1cm}\\textrm{where}\\hspace{1cm}\n",
    "\\left|\n",
    "\\begin{array}{l}\n",
    "a \\triangleq 1+\\frac{m_o}{m}\n",
    "\\\\\n",
    "u \\triangleq \\frac{\\zeta}{m}+l\\dot{\\theta}^2\\sin\\theta\n",
    "\\hspace{1cm}\n",
    "v \\triangleq -g\\sin\\theta\n",
    "\\end{array}\n",
    "\\right.\n",
    "\\end{equation*}\n",
    "\n",
    "The solution in $\\ddot{x},\\ddot{\\theta}$ is therefore\n",
    "\n",
    "\\begin{equation*}\n",
    "\\left\\{\n",
    "\\begin{array}{rcl}\n",
    "\\ddot{x} & = &\n",
    "\\frac{u-v\\cos\\theta}{a-\\cos^2\\theta}\n",
    "\\\\\n",
    "\\ddot{\\theta} & = &\n",
    "\\frac{av-u\\cos\\theta}{l(a-\\cos^2\\theta)}\n",
    "\\end{array}\n",
    "\\right.\n",
    "\\end{equation*}\n",
    "\n",
    "\n",
    "\n",
    "Documentation: [here](../doc/_build/html/odesimu.html)"
   ]
  },
  {
   "cell_type": "code",
   "execution_count": 1,
   "metadata": {
    "collapsed": false
   },
   "outputs": [
    {
     "name": "stdout",
     "output_type": "stream",
     "text": [
      "Using matplotlib backend: Qt5Agg\n",
      "Populating the interactive namespace from numpy and matplotlib\n"
     ]
    }
   ],
   "source": [
    "%pylab\n",
    "# for inline animation (but slower and more resource consuming):\n",
    "#%pylab nbagg\n",
    "\n",
    "import logging\n",
    "from functools import partial\n",
    "from scipy.integrate import quad\n",
    "from ipyshow.util import Setup\n",
    "from ipyshow.odesimu.system import System, marker_hook\n",
    "from ipyshow.odesimu.util import DPiecewiseFunc, buffered, blurred, logger_hook, PIDController"
   ]
  },
  {
   "cell_type": "markdown",
   "metadata": {},
   "source": [
    "## ControlledPendulum class"
   ]
  },
  {
   "cell_type": "code",
   "execution_count": 2,
   "metadata": {
    "collapsed": false
   },
   "outputs": [],
   "source": [
    "#----------------------------------------------------------------------------------------------------\n",
    "class ControlledPendulum (System):\n",
    "#----------------------------------------------------------------------------------------------------\n",
    "\n",
    "    shadowshape = (2,)\n",
    "\n",
    "    #integrator = dict(name='dopri5')\n",
    "    integrator = dict(name='dop853')\n",
    "\n",
    "    @Setup(\n",
    "        'Mo,M: mass of the chariot and the bob [kg]',\n",
    "        'L: length of pendulum [m]',\n",
    "        'G: intensity of the gravity [m.sec^-2]',\n",
    "        'control: (lateral) control force field (instance of Controller class)',\n",
    "    )\n",
    "    def __init__(self,control,Mo,M,L,G):\n",
    "        self.Mo, self.M, self.L, self.G = Mo, M, L, G\n",
    "        self.control = control\n",
    "        def main(t,state,a=1+Mo/M):\n",
    "            x,theta,dx,dtheta = state\n",
    "            sintheta, costheta = sin(theta), cos(theta)\n",
    "            u = control(t)[0]/M+L*square(dtheta)*sintheta\n",
    "            v = -G*sintheta\n",
    "            D = a-square(costheta)\n",
    "            ddx = (u-v*costheta)/D\n",
    "            ddtheta = (a*v-u*costheta)/(L*D)\n",
    "            return array((dx,dtheta,ddx,ddtheta))\n",
    "        self.main = main\n",
    "        def fordisplay(state,a=1+Mo/M):\n",
    "            x,theta,dx,dtheta = state\n",
    "            live = x, (x+L*sin(theta), -L*cos(theta))\n",
    "            return live, live[1]\n",
    "        self.fordisplay = fordisplay\n",
    "\n",
    "    def runstep(self,crate=None,ini=None,**ka):\n",
    "        self.control.reset(ini)\n",
    "        t0 = T = 1/crate\n",
    "        for t,y in super(ControlledPendulum,self).runstep(ini=ini,**ka):\n",
    "            if t>t0: self.control.update(t,y); t0 += T\n",
    "            yield t,y\n",
    "\n",
    "    def display(self,ax,refsize=None,**ka):\n",
    "        L = 4*self.L\n",
    "        ax.set_ylim(-L,L)\n",
    "        ax.set_xlim(-L,L)\n",
    "        ax.axhline(0,c='k')\n",
    "        mo,m = self.Mo,self.M\n",
    "        r = clip(sqrt(mo/m),1./refsize,refsize)\n",
    "        sz = (refsize*r,refsize/r)\n",
    "        diag_l, = ax.plot((),(),'k')\n",
    "        diag_s = ax.scatter((),(),s=sz,marker='o',c=('b','r'))\n",
    "        tail_l, = ax.plot((),(),'y')\n",
    "        ax.set_title(r'trajectory:cahotic')\n",
    "        def disp(t,live,tail,L=2*self.L):\n",
    "            x,(xb,yb) = live\n",
    "            diag_l.set_data((x,xb),(0,yb))\n",
    "            diag_s.set_offsets(((x,0),(xb,yb),))\n",
    "            tail_l.set_data(tail[:,0],tail[:,1])\n",
    "            xr = ax.get_xlim()\n",
    "            if x>xr[1]: ax.set_xlim(xr[0]+L,xr[1]+L)\n",
    "            elif x<xr[0]: ax.set_xlim(xr[0]-L,xr[1]-L)\n",
    "        return super(ControlledPendulum,self).display(ax,disp,**ka)\n",
    "\n",
    "    @staticmethod\n",
    "    @Setup(\n",
    "        'x: initial position of the pivot [m]',\n",
    "        'v: initial speed of the pivot [m.sec^-1]',\n",
    "        'theta: initial angle of the pendulum with downward vertical [deg]',\n",
    "        'w: initial angular speed of pendulum [deg.sec^-1]',\n",
    "        x=0.,v=0.,theta=0.,w=0.\n",
    "    )\n",
    "    def makestate(x,v,theta,w,c=pi/180.):\n",
    "        s = array((x,theta,v,w))\n",
    "        s[2:] *= c\n",
    "        return s\n",
    "\n",
    "    @Setup.extend(\n",
    "        System.launch,\n",
    "        'refsize: average size (area) of the bob and pivot for display [pt^2]',\n",
    "        'crate: control rate',\n",
    "        taild=20.,refsize=60.,hooks=(partial(logger_hook,logger=logging.getLogger()),)\n",
    "    )\n",
    "    def launch(self,*a,**ka): return super().launch(*a,**ka)"
   ]
  },
  {
   "cell_type": "code",
   "execution_count": 3,
   "metadata": {
    "collapsed": false
   },
   "outputs": [
    {
     "data": {
      "text/html": [
       "<TABLE><TBODY><TR><TD colspan=\"4\" style=\"background-color: gray; color: white; font-weight: bold;\">ControlledPendulum.launch(self, *a, **ka)</TD></TR><TR><TH>refsize</TH><TD style=\"max-width:2cm; white-space: nowrap; overflow: hidden\">60.0</TD><TD>average size (area) of the bob and pivot for display</TD><TD><SPAN>pt</SPAN><SUP>2</SUP></TD></TR><TR><TH>crate</TH><TD style=\"max-width:2cm; white-space: nowrap; overflow: hidden\"></TD><TD>control rate</TD></TR><TR><TH>maxtime</TH><TD style=\"max-width:2cm; white-space: nowrap; overflow: hidden\">inf</TD><TD>total simulation time length</TD><TD><SPAN>sec</SPAN></TD></TR><TR><TH>srate</TH><TD style=\"max-width:2cm; white-space: nowrap; overflow: hidden\">25.0</TD><TD>sampling rate</TD><TD><SPAN>sec</SPAN><SUP>-1</SUP></TD></TR><TR><TH>taild</TH><TD style=\"max-width:2cm; white-space: nowrap; overflow: hidden\">20.0</TD><TD>shadow duration</TD><TD><SPAN>sec</SPAN></TD></TR><TR><TH>hooks</TH><TD style=\"max-width:2cm; white-space: nowrap; overflow: hidden\">(functools.partial(&lt;function logger_hook at 0x7f7491147400&gt;, logger=&lt;logging.RootLogger object at 0x7f7495e5bcc0&gt;),)</TD><TD>tuple of display hooks</TD></TR><TR><TH>ini</TH><TD style=\"max-width:2cm; white-space: nowrap; overflow: hidden\"></TD><TD>initial state</TD></TR><TR><TD colspan=\"4\" style=\"background-color: gray; color: white; font-weight: bold;\">ControlledPendulum.makestate(x, v, theta, w, c=0.017453292519943295)</TD></TR><TR><TH>x</TH><TD style=\"max-width:2cm; white-space: nowrap; overflow: hidden\">0.0</TD><TD>initial position of the pivot</TD><TD><SPAN>m</SPAN></TD></TR><TR><TH>v</TH><TD style=\"max-width:2cm; white-space: nowrap; overflow: hidden\">0.0</TD><TD>initial speed of the pivot</TD><TD><SPAN>m</SPAN> <SPAN>sec</SPAN><SUP>-1</SUP></TD></TR><TR><TH>theta</TH><TD style=\"max-width:2cm; white-space: nowrap; overflow: hidden\">0.0</TD><TD>initial angle of the pendulum with downward vertical</TD><TD><SPAN>deg</SPAN></TD></TR><TR><TH>w</TH><TD style=\"max-width:2cm; white-space: nowrap; overflow: hidden\">0.0</TD><TD>initial angular speed of pendulum</TD><TD><SPAN>deg</SPAN> <SPAN>sec</SPAN><SUP>-1</SUP></TD></TR><TR><TD colspan=\"4\" style=\"background-color: gray; color: white; font-weight: bold;\">ControlledPendulum.__init__(self, control, Mo, M, L, G)</TD></TR><TR><TH>Mo,M</TH><TD style=\"max-width:2cm; white-space: nowrap; overflow: hidden\"></TD><TD>mass of the chariot and the bob</TD><TD><SPAN>kg</SPAN></TD></TR><TR><TH>L</TH><TD style=\"max-width:2cm; white-space: nowrap; overflow: hidden\"></TD><TD>length of pendulum</TD><TD><SPAN>m</SPAN></TD></TR><TR><TH>G</TH><TD style=\"max-width:2cm; white-space: nowrap; overflow: hidden\"></TD><TD>intensity of the gravity</TD><TD><SPAN>m</SPAN> <SPAN>sec</SPAN><SUP>-2</SUP></TD></TR><TR><TH>control</TH><TD style=\"max-width:2cm; white-space: nowrap; overflow: hidden\"></TD><TD>(lateral) control force field (instance of Controller class)</TD></TR><TR><TD colspan=\"4\" style=\"background-color: gray; color: white; font-weight: bold;\">PIDController.__init__(self, gP, gI, gD, observe, target, **ka)</TD></TR><TR><TH>N</TH><TD style=\"max-width:2cm; white-space: nowrap; overflow: hidden\"></TD><TD>size of the control buffer</TD></TR><TR><TH>gP</TH><TD style=\"max-width:2cm; white-space: nowrap; overflow: hidden\">0.0</TD><TD>control gain (proportional)</TD></TR><TR><TH>gI</TH><TD style=\"max-width:2cm; white-space: nowrap; overflow: hidden\">0.0</TD><TD>control gain (integral)</TD></TR><TR><TH>gD</TH><TD style=\"max-width:2cm; white-space: nowrap; overflow: hidden\">0.0</TD><TD>control gain (derivative)</TD></TR><TR><TH>observe</TH><TD style=\"max-width:2cm; white-space: nowrap; overflow: hidden\"></TD><TD>observation function</TD></TR><TR><TH>target</TH><TD style=\"max-width:2cm; white-space: nowrap; overflow: hidden\"></TD><TD>target function</TD></TR></TBODY></TABLE>"
      ],
      "text/plain": [
       "**** ControlledPendulum.launch(self, *a, **ka) ****\n",
       "    refsize   (60.0      ): average size (area) of the bob and pivot for display [pt^2]\n",
       "    crate     : control rate\n",
       "    maxtime   (inf       ): total simulation time length [sec]\n",
       "    srate     (25.0      ): sampling rate [sec^-1]\n",
       "    taild     (20.0      ): shadow duration [sec]\n",
       "    hooks     ((functools): tuple of display hooks\n",
       "    ini       : initial state\n",
       "**** ControlledPendulum.makestate(x, v, theta, w, c=0.017453292519943295) ****\n",
       "    x         (0.0       ): initial position of the pivot [m]\n",
       "    v         (0.0       ): initial speed of the pivot [m.sec^-1]\n",
       "    theta     (0.0       ): initial angle of the pendulum with downward vertical [deg]\n",
       "    w         (0.0       ): initial angular speed of pendulum [deg.sec^-1]\n",
       "**** ControlledPendulum.__init__(self, control, Mo, M, L, G) ****\n",
       "    Mo,M      : mass of the chariot and the bob [kg]\n",
       "    L         : length of pendulum [m]\n",
       "    G         : intensity of the gravity [m.sec^-2]\n",
       "    control   : (lateral) control force field (instance of Controller class)\n",
       "**** PIDController.__init__(self, gP, gI, gD, observe, target, **ka) ****\n",
       "    N         : size of the control buffer\n",
       "    gP        (0.0       ): control gain (proportional)\n",
       "    gI        (0.0       ): control gain (integral)\n",
       "    gD        (0.0       ): control gain (derivative)\n",
       "    observe   : observation function\n",
       "    target    : target function"
      ]
     },
     "execution_count": 3,
     "metadata": {},
     "output_type": "execute_result"
    }
   ],
   "source": [
    "Setup"
   ]
  },
  {
   "cell_type": "code",
   "execution_count": 4,
   "metadata": {
    "collapsed": false
   },
   "outputs": [
    {
     "data": {
      "text/plain": [
       "<matplotlib.animation.FuncAnimation at 0x7f74582e6be0>"
      ]
     },
     "execution_count": 4,
     "metadata": {},
     "output_type": "execute_result"
    }
   ],
   "source": [
    "logging.basicConfig(level='WARN') # can be changed dynamically by logger_hook\n",
    "\n",
    "period=2\n",
    "def sintarget(t,R=1.,omega=2*pi/period):\n",
    "    p = omega*t\n",
    "    return R*sin(p)\n",
    "def sinsintarget(t,R=1.,k=3.,omega=2*pi/period):\n",
    "    p = omega*t\n",
    "    return R*sin(p)*sin(p/k)\n",
    "\n",
    "#target = buffered(T=period,N=int(100*period))(partial(sintarget,R=3.))\n",
    "target = buffered(T=period,N=int(100*period))(partial(sinsintarget,R=3.,k=10.5))\n",
    "#target = lambda t: 0\n",
    "control = PIDController(\n",
    "    N=2,\n",
    "    gP=6.,\n",
    "    #gP=.5,\n",
    "    #gI=1.,\n",
    "    gD=10.,\n",
    "    #gD=7.,\n",
    "    target=blurred(0.05,shape=(1,))(target),\n",
    "    observe=(lambda state=zeros((4,)):state[:1]),\n",
    "    )\n",
    "\n",
    "syst = ControlledPendulum(control,Mo=1,M=5,L=2,G=9.81)\n",
    "syst.launch(\n",
    "    ini=syst.makestate(theta=179.,v=0.,w=0),\n",
    "    crate=5.,\n",
    "    hooks=(partial(marker_hook,f=(lambda t: (target(t),0.)),marker='^',s=40,c='g'),partial(logger_hook,logger=logging.getLogger())),\n",
    "    )"
   ]
  },
  {
   "cell_type": "code",
   "execution_count": null,
   "metadata": {
    "collapsed": true
   },
   "outputs": [],
   "source": []
  }
 ],
 "metadata": {
  "anaconda-cloud": {},
  "kernelspec": {
   "display_name": "Python [default]",
   "language": "python",
   "name": "python3"
  },
  "language_info": {
   "codemirror_mode": {
    "name": "ipython",
    "version": 3
   },
   "file_extension": ".py",
   "mimetype": "text/x-python",
   "name": "python",
   "nbconvert_exporter": "python",
   "pygments_lexer": "ipython3",
   "version": "3.5.2"
  }
 },
 "nbformat": 4,
 "nbformat_minor": 0
}
