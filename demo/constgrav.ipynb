{
 "cells": [
  {
   "cell_type": "markdown",
   "metadata": {},
   "source": [
    "# Gravitation constrained to a surface\n",
    "\n",
    "Consider a point mass $m$ constrained to a surface in the 3-D space. The system is submitted to a uniform constant acceleration $g$ and moves without friction. For simplicity, we assume that the surface is stable by rotation around an axis $\\Delta$ parallel to $g$. The referential is taken to be centred on a point $O$ of $\\Delta$. Its $z$-axis is taken to be the semi-axis of $\\Delta$ in the opposite direction to $g$. The $x$- and $y$-axes are chosen arbitrarily so as to form an orthogonal basis.\n",
    "\n",
    "The generalised coordinates of the system are the angle $\\phi$ (\"azimuth\") which is the polar coordinate of the projection of the point mass on the $x,y$-plane, and the angle $\\theta$ (\"zenith\") which is the angle of the $z$-axis with the point mass. We have $0\\leq\\theta\\leq\\pi$, and any two $\\theta,\\phi$ identify a single point on the surface at radius $R(\\theta)$. The coordinates of the point mass are then given by\n",
    "\n",
    "\n",
    "\\begin{equation*}\n",
    "x = R\\sin\\theta\\cos\\phi\n",
    "\\hspace{2cm}\n",
    "y = R\\sin\\theta\\sin\\phi\n",
    "\\hspace{2cm}\n",
    "z = -R\\cos\\theta\n",
    "\\end{equation*}\n",
    "\n",
    "The only active force is weight with coordinates $(0,0,-mg)$, hence of the form $-\\nabla V$ with $V=mgz=-mgR\\cos\\theta$. Hence the Lagrangian\n",
    "\n",
    "\\begin{eqnarray*}\n",
    "\\mathcal{L} & = & m\\left(\\frac{1}{2}R^2\\dot{\\phi}^2\\sin^2\\theta+\\frac{1}{2}(R^2+R'^2)\\dot{\\theta}^2+gR\\cos\\theta\\right)\n",
    "\\end{eqnarray*}\n",
    "\n",
    "Introducing the intermediary variable $\\lambda=R^2\\dot{\\phi}\\sin^2\\theta$ (angular momentum), the equations of the dynamics are given by:\n",
    "\n",
    "\\begin{equation*}\n",
    "\\begin{array}{rrcl}\n",
    "\\left[\\frac{\\mathbf{d}}{\\mathbf{d}t}\\frac{\\partial\\mathcal{L}}{\\partial\\dot{\\phi}} = \\frac{\\partial\\mathcal{L}}{\\partial\\phi}\\right]\n",
    "\\hspace{1cm} &\n",
    "\\dot{\\phi} & = & \\frac{\\lambda}{R^2\\sin^2\\theta}\n",
    "\\\\\n",
    "& \\dot{\\lambda} & = & 0\n",
    "\\\\\n",
    "\\left[\\frac{\\mathbf{d}}{\\mathbf{d}t}\\frac{\\partial\\mathcal{L}}{\\partial\\dot{\\theta}} = \\frac{\\partial\\mathcal{L}}{\\partial\\theta}\\right]\n",
    "\\hspace{1cm} &\n",
    "\\ddot{\\theta} & = & \\frac{1}{R^2+R'^2}\\left(\\frac{\\lambda^2}{R^3\\sin^3\\theta}(R'\\sin\\theta+R\\cos\\theta)+g(R'\\cos\\theta-R\\sin\\theta)-R'(R+R'')\\dot{\\theta}^2\\right)\n",
    "\\end{array}\n",
    "\\end{equation*}\n",
    "\n",
    "For a sphere, $R$ is independant of $\\theta$ hence $R'=R''=0$ and, introducing $\\Lambda\\triangleq\\frac{\\lambda}{R^2}$, the system simplifies to\n",
    "\n",
    "\\begin{equation*}\n",
    "\\begin{array}{rcl}\n",
    "\\dot{\\phi} & = & \\frac{\\Lambda}{\\sin^2\\theta}\\\\\n",
    "\\dot{\\Lambda} & = & 0\\\\\n",
    "\\ddot{\\theta} & = & \\frac{\\Lambda^2\\cos\\theta}{\\sin^3\\theta}-\\frac{g}{R}\\sin\\theta\n",
    "\\end{array}\n",
    "\\end{equation*}\n",
    "\n",
    "Documentation: [here](../doc/_build/html/odesimu.html)"
   ]
  },
  {
   "cell_type": "code",
   "execution_count": 1,
   "metadata": {},
   "outputs": [
    {
     "name": "stdout",
     "output_type": "stream",
     "text": [
      "Populating the interactive namespace from numpy and matplotlib\n"
     ]
    }
   ],
   "source": [
    "%pylab\n",
    "# for inline animation (but slower and more resource consuming):\n",
    "#%pylab notebook\n",
    "\n",
    "import logging\n",
    "from functools import partial\n",
    "from ipyshow.util import Setup\n",
    "from ipyshow.odesimu import System\n",
    "from ipyshow.odesimu.util import logger_hook"
   ]
  },
  {
   "cell_type": "code",
   "execution_count": 2,
   "metadata": {},
   "outputs": [],
   "source": [
    "#----------------------------------------------------------------------------------------------------\n",
    "class SphereSlider (System):\n",
    "#----------------------------------------------------------------------------------------------------\n",
    "\n",
    "    shadowshape = (5,)\n",
    "\n",
    "    @Setup(\n",
    "        'R: radius of the constraining sphere [m]',\n",
    "        'G: intensity of the gravity [m.sec^-2]'\n",
    "    )\n",
    "    def __init__(self,R,G):\n",
    "        from matplotlib.cm import get_cmap\n",
    "        self.R, self.G = R, G\n",
    "        def main(t,state,a=G/R):\n",
    "            θ,θʹ,φ,Λ = state\n",
    "            cosθ,sinθ = cos(θ),sin(θ)\n",
    "            φʹ = Λ/square(sinθ)\n",
    "            θʺ = (square(φʹ)*cosθ-a)*sinθ\n",
    "            Λʹ = 0\n",
    "            return array((θʹ,θʺ,φʹ,Λʹ))\n",
    "        self.main = main\n",
    "        def jac(t,state,a=G/R):\n",
    "            θ,θʹ,φ,Λ = state\n",
    "            cosθ,sinθ = cos(θ),sin(θ)\n",
    "            s = 1/square(sinθ)\n",
    "            v = 2*Λ*s*cosθ/sinθ\n",
    "            return array(((0,1,0,0),(square(Λ)*s*(2-3*s)-a*cosθ,0,0,v),(-v,0,0,s),(0,0,0,0)))\n",
    "        self.jacobian = jac\n",
    "        def fordisplay(state,cmap=get_cmap('rainbow')):\n",
    "            θ,θʹ,φ,Λ = state\n",
    "            r = R*sin(θ)\n",
    "            live = (r*cos(φ),r*sin(φ))+cmap((1-cos(θ))/2)[:-1]\n",
    "            return live, live\n",
    "        self.fordisplay = fordisplay\n",
    "\n",
    "    def display(self,ax,refsize=None,**ka):\n",
    "        from matplotlib.patches import Circle\n",
    "        R = 1.05*self.R\n",
    "        ax.set_xlim(-R,R)\n",
    "        ax.set_ylim(-R,R)\n",
    "        ax.scatter((0.,),(0.,),c='k',marker='o',s=refsize)\n",
    "        ax.add_patch(Circle((0,0),self.R,edgecolor='k',facecolor='none'))\n",
    "        diag_s = ax.scatter((),(),s=refsize,marker='o',c='r')\n",
    "        tail_l, = ax.plot((),(),'gray')\n",
    "        tail_s = ax.scatter((),(),s=refsize,marker='o')\n",
    "        def disp(t,live,tail):\n",
    "            x,y = live[:2]\n",
    "            diag_s.set_offsets(((x,y),))\n",
    "            diag_s.set_color(live[2:])\n",
    "            tail_l.set_data(tail[:,0],tail[:,1])\n",
    "            tail_s.set_offsets(tail[:,:2])\n",
    "            tail_s.set_color(tail[:,2:])\n",
    "        return super().display(ax,disp,**ka)\n",
    "\n",
    "    @staticmethod\n",
    "    @Setup(\n",
    "        'θ: zenith [deg]',\n",
    "        'θʹ: angular speed (zenith) [deg.sec^-1]',\n",
    "        'φ: azimuth [deg]',\n",
    "        'φʹ: angular speed (azimuth) [deg.sec^-1]',\n",
    "        φ=0.,θʹ=0.,φʹ=0.\n",
    "    )\n",
    "    def makestate(θ,θʹ,φ,φʹ):\n",
    "        s = square(sin(radians(θ)))\n",
    "        return radians((θ,θʹ,φ,φʹ*s))\n",
    "\n",
    "    @Setup(\n",
    "        'refsize: size (area) of the blob for display [pt^2]',\n",
    "        taild=1.,refsize=50.,hooks=(partial(logger_hook,logger=logging.getLogger()),)\n",
    "    )\n",
    "    def launch(self,*a,**ka): return super().launch(*a,**ka)"
   ]
  },
  {
   "cell_type": "code",
   "execution_count": 3,
   "metadata": {},
   "outputs": [
    {
     "data": {
      "text/html": [
       "<TABLE><TBODY><TR><TD colspan=\"4\" style=\"background-color: gray; color: white; font-weight: bold;\">SphereSlider.__init__(self, R, G)</TD></TR><TR><TH>R</TH><TD style=\"max-width:2cm; white-space: nowrap; overflow: hidden\" title=\"\"></TD><TD>radius of the constraining sphere</TD><TD> <SPAN>m</SPAN></TD></TR><TR><TH>G</TH><TD style=\"max-width:2cm; white-space: nowrap; overflow: hidden\" title=\"\"></TD><TD>intensity of the gravity</TD><TD> <SPAN>m</SPAN> <SPAN>sec</SPAN><SUP>-2</SUP></TD></TR><TR><TD colspan=\"4\" style=\"background-color: gray; color: white; font-weight: bold;\">SphereSlider.launch(self, *a, **ka)</TD></TR><TR><TH>maxtime</TH><TD style=\"max-width:2cm; white-space: nowrap; overflow: hidden\" title=\"inf\">inf</TD><TD>total simulation time length</TD><TD> <SPAN>sec</SPAN></TD></TR><TR><TH>srate</TH><TD style=\"max-width:2cm; white-space: nowrap; overflow: hidden\" title=\"25.0\">25.0</TD><TD>sampling rate</TD><TD> <SPAN>sec</SPAN><SUP>-1</SUP></TD></TR><TR><TH>taild</TH><TD style=\"max-width:2cm; white-space: nowrap; overflow: hidden\" title=\"1.0\">1.0</TD><TD>shadow duration</TD><TD> <SPAN>sec</SPAN></TD></TR><TR><TH>hooks</TH><TD style=\"max-width:2cm; white-space: nowrap; overflow: hidden\" title=\"(functools.partial(&lt;function logger_hook at 0x7f3c60503378&gt;, logger=&lt;RootLogger root (WARNING)&gt;),)\">(functools.partial(&lt;function logger_hook at 0x7f3c60503378&gt;, logger=&lt;RootLogger root (WARNING)&gt;),)</TD><TD>tuple of display hooks</TD><TD/></TR><TR><TH>ini</TH><TD style=\"max-width:2cm; white-space: nowrap; overflow: hidden\" title=\"\"></TD><TD>initial state</TD><TD/></TR><TR><TH>refsize</TH><TD style=\"max-width:2cm; white-space: nowrap; overflow: hidden\" title=\"50.0\">50.0</TD><TD>size (area) of the blob for display</TD><TD> <SPAN>pt</SPAN><SUP>2</SUP></TD></TR><TR><TD colspan=\"4\" style=\"background-color: gray; color: white; font-weight: bold;\">SphereSlider.makestate(θ, θʹ, φ, φʹ)</TD></TR><TR><TH>θ</TH><TD style=\"max-width:2cm; white-space: nowrap; overflow: hidden\" title=\"\"></TD><TD>zenith</TD><TD> <SPAN>deg</SPAN></TD></TR><TR><TH>θʹ</TH><TD style=\"max-width:2cm; white-space: nowrap; overflow: hidden\" title=\"0.0\">0.0</TD><TD>angular speed (zenith)</TD><TD> <SPAN>deg</SPAN> <SPAN>sec</SPAN><SUP>-1</SUP></TD></TR><TR><TH>φ</TH><TD style=\"max-width:2cm; white-space: nowrap; overflow: hidden\" title=\"0.0\">0.0</TD><TD>azimuth</TD><TD> <SPAN>deg</SPAN></TD></TR><TR><TH>φʹ</TH><TD style=\"max-width:2cm; white-space: nowrap; overflow: hidden\" title=\"0.0\">0.0</TD><TD>angular speed (azimuth)</TD><TD> <SPAN>deg</SPAN> <SPAN>sec</SPAN><SUP>-1</SUP></TD></TR></TBODY></TABLE>"
      ],
      "text/plain": [
       "**** SphereSlider.__init__(self, R, G) ****\n",
       "    R         : radius of the constraining sphere [m]\n",
       "    G         : intensity of the gravity [m.sec^-2]\n",
       "**** SphereSlider.launch(self, *a, **ka) ****\n",
       "    maxtime   (inf       ): total simulation time length [sec]\n",
       "    srate     (25.0      ): sampling rate [sec^-1]\n",
       "    taild     (1.0       ): shadow duration [sec]\n",
       "    hooks     ((functools): tuple of display hooks []\n",
       "    ini       : initial state []\n",
       "    refsize   (50.0      ): size (area) of the blob for display [pt^2]\n",
       "**** SphereSlider.makestate(θ, θʹ, φ, φʹ) ****\n",
       "    θ         : zenith [deg]\n",
       "    θʹ        (0.0       ): angular speed (zenith) [deg.sec^-1]\n",
       "    φ         (0.0       ): azimuth [deg]\n",
       "    φʹ        (0.0       ): angular speed (azimuth) [deg.sec^-1]"
      ]
     },
     "execution_count": 3,
     "metadata": {},
     "output_type": "execute_result"
    }
   ],
   "source": [
    "Setup.display(SphereSlider)"
   ]
  },
  {
   "cell_type": "code",
   "execution_count": 4,
   "metadata": {},
   "outputs": [
    {
     "data": {
      "text/plain": [
       "<matplotlib.animation.FuncAnimation at 0x7f3c58e82be0>"
      ]
     },
     "execution_count": 4,
     "metadata": {},
     "output_type": "execute_result"
    },
    {
     "name": "stderr",
     "output_type": "stream",
     "text": [
      "/local/Tools/anaconda/lib/python3.6/site-packages/matplotlib/colors.py:251: RuntimeWarning: invalid value encountered in less\n",
      "  if np.any((result < 0) | (result > 1)):\n",
      "/local/Tools/anaconda/lib/python3.6/site-packages/matplotlib/colors.py:251: RuntimeWarning: invalid value encountered in greater\n",
      "  if np.any((result < 0) | (result > 1)):\n"
     ]
    }
   ],
   "source": [
    "syst = SphereSlider(R=2.,G=9.81)\n",
    "ini = dict(θ=135,θʹ=0,φʹ=-30)\n",
    "syst.launch(ini=syst.makestate(**ini))"
   ]
  },
  {
   "cell_type": "code",
   "execution_count": null,
   "metadata": {
    "collapsed": true
   },
   "outputs": [],
   "source": []
  }
 ],
 "metadata": {
  "anaconda-cloud": {},
  "kernelspec": {
   "display_name": "Python 3",
   "language": "python",
   "name": "python3"
  },
  "language_info": {
   "codemirror_mode": {
    "name": "ipython",
    "version": 3
   },
   "file_extension": ".py",
   "mimetype": "text/x-python",
   "name": "python",
   "nbconvert_exporter": "python",
   "pygments_lexer": "ipython3",
   "version": "3.6.5"
  }
 },
 "nbformat": 4,
 "nbformat_minor": 1
}
