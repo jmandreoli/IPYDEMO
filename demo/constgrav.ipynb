{
 "cells": [
  {
   "cell_type": "markdown",
   "metadata": {},
   "source": [
    "# Gravitation constrained to a surface\n",
    "\n",
    "Consider a point mass $m$ constrained to a surface in the 3-D space. The system is submitted to a uniform constant acceleration $g$ and moves without friction. For simplicity, we assume that the surface is stable by rotation around an axis $\\Delta$ parallel to $g$. The referential is taken to be centred on a point $O$ of $\\Delta$. Its $z$-axis is taken to be the semi-axis of $\\Delta$ in the opposite direction to $g$. The $x$- and $y$-axes are chosen arbitrarily so as to form an orthogonal basis.\n",
    "\n",
    "The generalised coordinates of the system are the angle $\\phi$ (\"azimuth\") which is the polar coordinate of the projection of the point mass on the $x,y$-plane, and the angle $\\theta$ (\"zenith\") which is the angle of the $z$-axis with the point mass. We have $0\\leq\\theta\\leq\\pi$, and any two $\\theta,\\phi$ identify a single point on the surface at radius $R(\\theta)$. The coordinates of the point mass are then given by\n",
    "\n",
    "\n",
    "\\begin{equation*}\n",
    "x = R\\sin\\theta\\cos\\phi\n",
    "\\hspace{2cm}\n",
    "y = R\\sin\\theta\\sin\\phi\n",
    "\\hspace{2cm}\n",
    "z = -R\\cos\\theta\n",
    "\\end{equation*}\n",
    "\n",
    "The only active force is weight with coordinates $(0,0,-mg)$, hence of the form $-\\nabla V$ with $V=mgz=-mgR\\cos\\theta$. Hence the Lagrangian\n",
    "\n",
    "\\begin{eqnarray*}\n",
    "\\mathcal{L} & = & m\\left(\\frac{1}{2}R^2\\dot{\\phi}^2\\sin^2\\theta+\\frac{1}{2}(R^2+R'^2)\\dot{\\theta}^2+gR\\cos\\theta\\right)\n",
    "\\end{eqnarray*}\n",
    "\n",
    "Introducing the intermediary variable $q=R^2\\dot{\\phi}\\sin^2\\theta$ (angular moment), the equations of the dynamics are given by:\n",
    "\n",
    "\\begin{equation*}\n",
    "\\begin{array}{rrcl}\n",
    "\\left[\\frac{\\mathbf{d}}{\\mathbf{d}t}\\frac{\\partial\\mathcal{L}}{\\partial\\dot{\\phi}} = \\frac{\\partial\\mathcal{L}}{\\partial\\phi}\\right]\n",
    "\\hspace{1cm} &\n",
    "\\dot{\\phi} & = & \\frac{q}{R^2\\sin^2\\theta}\n",
    "\\\\\n",
    "& \\dot{q} & = & 0\n",
    "\\\\\n",
    "\\left[\\frac{\\mathbf{d}}{\\mathbf{d}t}\\frac{\\partial\\mathcal{L}}{\\partial\\dot{\\theta}} = \\frac{\\partial\\mathcal{L}}{\\partial\\theta}\\right]\n",
    "\\hspace{1cm} &\n",
    "\\ddot{\\theta} & = & \\frac{1}{R^2+R'^2}\\left(\\frac{q^2}{R^3\\sin^3\\theta}(R'\\sin\\theta+R\\cos\\theta)+g(R'\\cos\\theta-R\\sin\\theta)-R'(R+R'')\\dot{\\theta}^2\\right)\n",
    "\\end{array}\n",
    "\\end{equation*}\n",
    "\n",
    "For a sphere, $R$ is constant and $R'=R''=0$ and, introducing $Q\\triangleq\\frac{q}{R^2}$, the system simplifies to\n",
    "\n",
    "\\begin{equation*}\n",
    "\\begin{array}{rcl}\n",
    "\\dot{\\phi} & = & \\frac{Q}{\\sin^2\\theta}\\\\\n",
    "\\dot{Q} & = & 0\\\\\n",
    "\\ddot{\\theta} & = & \\frac{Q^2\\cos\\theta}{\\sin^3\\theta}-\\frac{g}{R}\\sin\\theta\n",
    "\\end{array}\n",
    "\\end{equation*}\n",
    "\n",
    "Documentation: [here](../doc/_build/html/odesimu.html)"
   ]
  },
  {
   "cell_type": "code",
   "execution_count": 1,
   "metadata": {
    "collapsed": false
   },
   "outputs": [
    {
     "name": "stdout",
     "output_type": "stream",
     "text": [
      "Using matplotlib backend: Qt5Agg\n",
      "Populating the interactive namespace from numpy and matplotlib\n"
     ]
    }
   ],
   "source": [
    "%pylab\n",
    "# for inline animation (but slower and more resource consuming):\n",
    "#%pylab nbagg\n",
    "\n",
    "import logging\n",
    "from functools import partial\n",
    "from ipyshow.util import Setup\n",
    "from ipyshow.odesimu.system import System\n",
    "from ipyshow.odesimu.util import logger_hook"
   ]
  },
  {
   "cell_type": "code",
   "execution_count": 2,
   "metadata": {
    "collapsed": false
   },
   "outputs": [],
   "source": [
    "#----------------------------------------------------------------------------------------------------\n",
    "class SphereSlider (System):\n",
    "#----------------------------------------------------------------------------------------------------\n",
    "\n",
    "    shadowshape = (5,)\n",
    "\n",
    "    @Setup(\n",
    "        'R: radius of the constraining sphere [m]',\n",
    "        'G: intensity of the gravity [m.sec^-2]'\n",
    "    )\n",
    "    def __init__(self,R,G):\n",
    "        from matplotlib.cm import get_cmap\n",
    "        self.R, self.G = R, G\n",
    "        def main(t,state,a=G/R):\n",
    "            theta,dtheta,phi,q = state\n",
    "            c,s = cos(theta),sin(theta)\n",
    "            q2,s2 = square(q),square(s)\n",
    "            ddtheta = q2/s2*c/s-a*s\n",
    "            dphi = q/s2\n",
    "            dq = 0\n",
    "            return array((dtheta,ddtheta,dphi,dq))\n",
    "        self.main = main\n",
    "        def jac(t,state,a=G/R):\n",
    "            theta,dtheta,phi,q = state\n",
    "            c,s = cos(theta),sin(theta)\n",
    "            q2,s2 = square(q),square(s)\n",
    "            v = 2*q/s2*c/s\n",
    "            return array(((0,1,0,0),(q2/s2*(2-3/s2)-a*c,0,0,v),(-v,0,0,1/s2),(0,0,0,0)))\n",
    "        self.jacobian = jac\n",
    "        def fordisplay(state,cmap=get_cmap('rainbow')):\n",
    "            theta,dtheta,phi,q = state\n",
    "            r = R*sin(theta)\n",
    "            live = (r*cos(phi),r*sin(phi))+cmap((1-cos(theta))/2)[:-1]\n",
    "            return live, live\n",
    "        self.fordisplay = fordisplay\n",
    "\n",
    "    def display(self,ax,refsize=None,**ka):\n",
    "        from matplotlib.patches import Circle\n",
    "        R = 1.05*self.R\n",
    "        ax.set_xlim(-R,R)\n",
    "        ax.set_ylim(-R,R)\n",
    "        ax.scatter((0.,),(0.,),c='k',marker='o',s=refsize)\n",
    "        ax.add_patch(Circle((0,0),self.R,edgecolor='k',facecolor='none'))\n",
    "        diag_s = ax.scatter((),(),s=refsize,marker='o',c='r')\n",
    "        tail_l, = ax.plot((),(),'gray')\n",
    "        tail_s = ax.scatter((),(),s=refsize,marker='o')\n",
    "        def disp(t,live,tail):\n",
    "            x,y = live[:2]\n",
    "            diag_s.set_offsets(((x,y),))\n",
    "            diag_s.set_color(live[2:])\n",
    "            tail_l.set_data(tail[:,0],tail[:,1])\n",
    "            tail_s.set_offsets(tail[:,:2])\n",
    "            tail_s.set_color(tail[:,2:])\n",
    "        return super().display(ax,disp,**ka)\n",
    "\n",
    "    @staticmethod\n",
    "    @Setup(\n",
    "        'theta: zenith [deg]',\n",
    "        'wtheta: angular speed (zenith) [deg.sec^-1]',\n",
    "        'phi: azimuth [deg]',\n",
    "        'wphi: angular speed (azimuth) [deg.sec^-1]',\n",
    "        theta=0.,wtheta=0.,phi=0.,wphi=0.\n",
    "    )\n",
    "    def makestate(theta,wtheta,phi,wphi,c=pi/180.):\n",
    "        s = sin(theta*c)\n",
    "        return array((theta,wtheta,phi,wphi*square(s)),float)*c\n",
    "\n",
    "    @Setup.extend(\n",
    "        System.launch,\n",
    "        'refsize: size (area) of the blob for display [pt^2]',\n",
    "        taild=1.,refsize=50.,hooks=(partial(logger_hook,logger=logging.getLogger()),)\n",
    "    )\n",
    "    def launch(self,*a,**ka): return super().launch(*a,**ka)"
   ]
  },
  {
   "cell_type": "code",
   "execution_count": 4,
   "metadata": {
    "collapsed": false
   },
   "outputs": [
    {
     "data": {
      "text/html": [
       "<TABLE><TBODY><TR><TD colspan=\"4\" style=\"background-color: gray; color: white; font-weight: bold;\">SphereSlider.launch(self, *a, **ka)</TD></TR><TR><TH>refsize</TH><TD style=\"max-width:2cm; white-space: nowrap; overflow: hidden\">50.0</TD><TD>size (area) of the blob for display</TD><TD><SPAN>pt</SPAN><SUP>2</SUP></TD></TR><TR><TH>maxtime</TH><TD style=\"max-width:2cm; white-space: nowrap; overflow: hidden\">inf</TD><TD>total simulation time length</TD><TD><SPAN>sec</SPAN></TD></TR><TR><TH>srate</TH><TD style=\"max-width:2cm; white-space: nowrap; overflow: hidden\">25.0</TD><TD>sampling rate</TD><TD><SPAN>sec</SPAN><SUP>-1</SUP></TD></TR><TR><TH>taild</TH><TD style=\"max-width:2cm; white-space: nowrap; overflow: hidden\">1.0</TD><TD>shadow duration</TD><TD><SPAN>sec</SPAN></TD></TR><TR><TH>hooks</TH><TD style=\"max-width:2cm; white-space: nowrap; overflow: hidden\">(functools.partial(&lt;function logger_hook at 0x7ff17160f378&gt;, logger=&lt;logging.RootLogger object at 0x7ff176323cf8&gt;),)</TD><TD>tuple of display hooks</TD></TR><TR><TH>ini</TH><TD style=\"max-width:2cm; white-space: nowrap; overflow: hidden\"></TD><TD>initial state</TD></TR><TR><TD colspan=\"4\" style=\"background-color: gray; color: white; font-weight: bold;\">SphereSlider.makestate(theta, wtheta, phi, wphi, c=0.017453292519943295)</TD></TR><TR><TH>theta</TH><TD style=\"max-width:2cm; white-space: nowrap; overflow: hidden\">0.0</TD><TD>zenith</TD><TD><SPAN>deg</SPAN></TD></TR><TR><TH>wtheta</TH><TD style=\"max-width:2cm; white-space: nowrap; overflow: hidden\">0.0</TD><TD>angular speed (zenith)</TD><TD><SPAN>deg</SPAN> <SPAN>sec</SPAN><SUP>-1</SUP></TD></TR><TR><TH>phi</TH><TD style=\"max-width:2cm; white-space: nowrap; overflow: hidden\">0.0</TD><TD>azimuth</TD><TD><SPAN>deg</SPAN></TD></TR><TR><TH>wphi</TH><TD style=\"max-width:2cm; white-space: nowrap; overflow: hidden\">0.0</TD><TD>angular speed (azimuth)</TD><TD><SPAN>deg</SPAN> <SPAN>sec</SPAN><SUP>-1</SUP></TD></TR><TR><TD colspan=\"4\" style=\"background-color: gray; color: white; font-weight: bold;\">SphereSlider.__init__(self, R, G)</TD></TR><TR><TH>R</TH><TD style=\"max-width:2cm; white-space: nowrap; overflow: hidden\"></TD><TD>radius of the constraining sphere</TD><TD><SPAN>m</SPAN></TD></TR><TR><TH>G</TH><TD style=\"max-width:2cm; white-space: nowrap; overflow: hidden\"></TD><TD>intensity of the gravity</TD><TD><SPAN>m</SPAN> <SPAN>sec</SPAN><SUP>-2</SUP></TD></TR><TR><TD colspan=\"4\" style=\"background-color: gray; color: white; font-weight: bold;\">PIDController.__init__(self, gP, gI, gD, observe, target, **ka)</TD></TR><TR><TH>N</TH><TD style=\"max-width:2cm; white-space: nowrap; overflow: hidden\"></TD><TD>size of the control buffer</TD></TR><TR><TH>gP</TH><TD style=\"max-width:2cm; white-space: nowrap; overflow: hidden\">0.0</TD><TD>control gain (proportional)</TD></TR><TR><TH>gI</TH><TD style=\"max-width:2cm; white-space: nowrap; overflow: hidden\">0.0</TD><TD>control gain (integral)</TD></TR><TR><TH>gD</TH><TD style=\"max-width:2cm; white-space: nowrap; overflow: hidden\">0.0</TD><TD>control gain (derivative)</TD></TR><TR><TH>observe</TH><TD style=\"max-width:2cm; white-space: nowrap; overflow: hidden\"></TD><TD>observation function</TD></TR><TR><TH>target</TH><TD style=\"max-width:2cm; white-space: nowrap; overflow: hidden\"></TD><TD>target function</TD></TR></TBODY></TABLE>"
      ],
      "text/plain": [
       "**** SphereSlider.launch(self, *a, **ka) ****\n",
       "    refsize   (50.0      ): size (area) of the blob for display [pt^2]\n",
       "    maxtime   (inf       ): total simulation time length [sec]\n",
       "    srate     (25.0      ): sampling rate [sec^-1]\n",
       "    taild     (1.0       ): shadow duration [sec]\n",
       "    hooks     ((functools): tuple of display hooks\n",
       "    ini       : initial state\n",
       "**** SphereSlider.makestate(theta, wtheta, phi, wphi, c=0.017453292519943295) ****\n",
       "    theta     (0.0       ): zenith [deg]\n",
       "    wtheta    (0.0       ): angular speed (zenith) [deg.sec^-1]\n",
       "    phi       (0.0       ): azimuth [deg]\n",
       "    wphi      (0.0       ): angular speed (azimuth) [deg.sec^-1]\n",
       "**** SphereSlider.__init__(self, R, G) ****\n",
       "    R         : radius of the constraining sphere [m]\n",
       "    G         : intensity of the gravity [m.sec^-2]\n",
       "**** PIDController.__init__(self, gP, gI, gD, observe, target, **ka) ****\n",
       "    N         : size of the control buffer\n",
       "    gP        (0.0       ): control gain (proportional)\n",
       "    gI        (0.0       ): control gain (integral)\n",
       "    gD        (0.0       ): control gain (derivative)\n",
       "    observe   : observation function\n",
       "    target    : target function"
      ]
     },
     "execution_count": 4,
     "metadata": {},
     "output_type": "execute_result"
    }
   ],
   "source": [
    "Setup"
   ]
  },
  {
   "cell_type": "code",
   "execution_count": 5,
   "metadata": {
    "collapsed": false
   },
   "outputs": [
    {
     "data": {
      "text/plain": [
       "<matplotlib.animation.FuncAnimation at 0x7ff13878ed30>"
      ]
     },
     "execution_count": 5,
     "metadata": {},
     "output_type": "execute_result"
    }
   ],
   "source": [
    "syst = SphereSlider(R=2.,G=9.81); ini = dict(theta=135,wtheta=0,wphi=-30)\n",
    "syst.launch(ini=syst.makestate(**ini))"
   ]
  },
  {
   "cell_type": "code",
   "execution_count": null,
   "metadata": {
    "collapsed": true
   },
   "outputs": [],
   "source": []
  }
 ],
 "metadata": {
  "anaconda-cloud": {},
  "kernelspec": {
   "display_name": "Python [default]",
   "language": "python",
   "name": "python3"
  },
  "language_info": {
   "codemirror_mode": {
    "name": "ipython",
    "version": 3
   },
   "file_extension": ".py",
   "mimetype": "text/x-python",
   "name": "python",
   "nbconvert_exporter": "python",
   "pygments_lexer": "ipython3",
   "version": "3.5.2"
  }
 },
 "nbformat": 4,
 "nbformat_minor": 1
}
