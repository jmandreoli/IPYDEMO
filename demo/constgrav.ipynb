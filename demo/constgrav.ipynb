{
 "cells": [
  {
   "cell_type": "markdown",
   "metadata": {},
   "source": [
    "# Gravitation constrained to a surface\n",
    "\n",
    "Consider a point mass $m$ constrained to a surface in the 3-D space. The system is submitted to a uniform constant acceleration $g$ and moves without friction. For simplicity, we assume that the surface is stable by rotation around an axis $\\Delta$ parallel to $g$. The referential is taken to be centred on a point $O$ of $\\Delta$. Its $z$-axis is taken to be the semi-axis of $\\Delta$ in the opposite direction to $g$. The $x$- and $y$-axes are chosen arbitrarily so as to form an orthogonal basis.\n",
    "\n",
    "The generalised coordinates of the system are the angle $\\phi$ (\"azimuth\") which is the polar coordinate of the projection of the point mass on the $x,y$-plane, and the angle $\\theta$ (\"zenith\") which is the angle of the $z$-axis with the point mass. We have $0\\leq\\theta\\leq\\pi$, and any two $\\theta,\\phi$ identify a single point on the surface at radius $R(\\theta)$. The coordinates of the point mass are then given by\n",
    "\n",
    "\n",
    "\\begin{equation*}\n",
    "x = R\\sin\\theta\\cos\\phi\n",
    "\\hspace{2cm}\n",
    "y = R\\sin\\theta\\sin\\phi\n",
    "\\hspace{2cm}\n",
    "z = -R\\cos\\theta\n",
    "\\end{equation*}\n",
    "\n",
    "The only active force is weight with coordinates $(0,0,-mg)$, hence of the form $-\\nabla V$ with $V=mgz=-mgR\\cos\\theta$. Hence the Lagrangian\n",
    "\n",
    "\\begin{eqnarray*}\n",
    "\\mathcal{L} & = & m\\left(\\frac{1}{2}R^2\\dot{\\phi}^2\\sin^2\\theta+\\frac{1}{2}(R^2+R'^2)\\dot{\\theta}^2+gR\\cos\\theta\\right)\n",
    "\\end{eqnarray*}\n",
    "\n",
    "Introducing the intermediary variable $q=R^2\\dot{\\phi}\\sin^2\\theta$ (angular moment), the equations of the dynamics are given by:\n",
    "\n",
    "\\begin{equation*}\n",
    "\\begin{array}{rrcl}\n",
    "\\left[\\frac{\\mathbf{d}}{\\mathbf{d}t}\\frac{\\partial\\mathcal{L}}{\\partial\\dot{\\phi}} = \\frac{\\partial\\mathcal{L}}{\\partial\\phi}\\right]\n",
    "\\hspace{1cm} &\n",
    "\\dot{\\phi} & = & \\frac{q}{R^2\\sin^2\\theta}\n",
    "\\\\\n",
    "& \\dot{q} & = & 0\n",
    "\\\\\n",
    "\\left[\\frac{\\mathbf{d}}{\\mathbf{d}t}\\frac{\\partial\\mathcal{L}}{\\partial\\dot{\\theta}} = \\frac{\\partial\\mathcal{L}}{\\partial\\theta}\\right]\n",
    "\\hspace{1cm} &\n",
    "\\ddot{\\theta} & = & \\frac{1}{R^2+R'^2}\\left(\\frac{q^2}{R^3\\sin^3\\theta}(R'\\sin\\theta+R\\cos\\theta)+g(R'\\cos\\theta-R\\sin\\theta)-R'(R+R'')\\dot{\\theta}^2\\right)\n",
    "\\end{array}\n",
    "\\end{equation*}\n",
    "\n",
    "For a sphere, $R$ is constant and $R'=R''=0$ and the system simplifies to\n",
    "\n",
    "\\begin{equation*}\n",
    "\\begin{array}{rcl}\n",
    "\\ddot{\\theta} & = & \\frac{q^2\\cos\\theta}{R^4\\sin^3\\theta}-\\frac{g}{R}\\sin\\theta\\\\\n",
    "\\dot{q} & = & 0\n",
    "\\end{array}\n",
    "\\end{equation*}\n",
    "\n",
    "Documentation: [here](../doc/_build/html/odesimu.html)"
   ]
  },
  {
   "cell_type": "code",
   "execution_count": 1,
   "metadata": {
    "collapsed": false
   },
   "outputs": [
    {
     "name": "stdout",
     "output_type": "stream",
     "text": [
      "Using matplotlib backend: MacOSX\n",
      "Populating the interactive namespace from numpy and matplotlib\n"
     ]
    }
   ],
   "source": [
    "#%pylab nbagg\n",
    "%pylab\n",
    "# for better display performance\n",
    "\n",
    "import logging\n",
    "logger = logging.getLogger()\n",
    "\n",
    "from functools import partial\n",
    "from collections import ChainMap\n",
    "from scipy.integrate import quad\n",
    "from ipyshow.odesimu.system import System\n",
    "from ipyshow.odesimu.util import logger_hook"
   ]
  },
  {
   "cell_type": "code",
   "execution_count": 2,
   "metadata": {
    "collapsed": false
   },
   "outputs": [],
   "source": [
    "#----------------------------------------------------------------------------------------------------\n",
    "class SphereSlider (System):\n",
    "#----------------------------------------------------------------------------------------------------\n",
    "\n",
    "    shadowshape = (5,)\n",
    "\n",
    "    def __init__(self,R,G):\n",
    "        from matplotlib.cm import get_cmap\n",
    "        self.R, self.G = R, G\n",
    "        def main(t,state,a=G/R):\n",
    "            theta,dtheta,phi,q = state\n",
    "            c,s = cos(theta),sin(theta)\n",
    "            q2,s2 = square(q),square(s)\n",
    "            ddtheta = q2/s2*c/s-a*s\n",
    "            dphi = q/s2\n",
    "            dq = 0\n",
    "            return array((dtheta,ddtheta,dphi,dq))\n",
    "        self.main = main\n",
    "        def jac(t,state,a=G/R):\n",
    "            theta,dtheta,phi,q = state\n",
    "            c,s = cos(theta),sin(theta)\n",
    "            q2,s2 = square(q),square(s)\n",
    "            v = 2*q/s2*c/s\n",
    "            return array(((0,1,0,0),(q2/s2*(2-3/s2)-a*c,0,0,v),(-v,0,0,1/s2),(0,0,0,0)))\n",
    "        self.jacobian = jac\n",
    "        def fordisplay(state,cmap=get_cmap('rainbow')):\n",
    "            theta,dtheta,phi,q = state\n",
    "            r = R*sin(theta)\n",
    "            live = (r*cos(phi),r*sin(phi))+cmap((1-cos(theta))/2)[:-1]\n",
    "            return live, live\n",
    "        self.fordisplay = fordisplay\n",
    "\n",
    "    Help = '''\n",
    "        /G [m.sec^-2]: gravitational acceleration\n",
    "        /R [m]: radius of the sphere\n",
    "    '''\n",
    "\n",
    "    def display(self,ax,refsize=50.,**ka):\n",
    "        from matplotlib.patches import Circle\n",
    "        R = 1.05*self.R\n",
    "        ax.set_xlim(-R,R)\n",
    "        ax.set_ylim(-R,R)\n",
    "        ax.scatter((0.,),(0.,),c='k',marker='o',s=refsize)\n",
    "        ax.add_patch(Circle((0,0),self.R,edgecolor='k',facecolor='none'))\n",
    "        diag_s = ax.scatter((),(),s=refsize,marker='o',c='r')\n",
    "        tail_l, = ax.plot((),(),'gray')\n",
    "        tail_s = ax.scatter((),(),s=refsize,marker='o')\n",
    "        def disp(t,live,tail):\n",
    "            x,y = live[:2]\n",
    "            diag_s.set_offsets(((x,y),))\n",
    "            diag_s.set_color(live[2:])\n",
    "            tail_l.set_data(tail[:,0],tail[:,1])\n",
    "            tail_s.set_offsets(tail[:,0:2])\n",
    "            tail_s.set_color(tail[:,2:])\n",
    "        return super().display(ax,disp,**ka)\n",
    "\n",
    "    @staticmethod\n",
    "    def makestate(theta=0.,wtheta=0,phi=0.,wphi=0.):\n",
    "        s = sin(theta*pi/180)\n",
    "        return array((theta,wtheta,phi,wphi*square(s)),float)*pi/180.\n",
    "\n",
    "    Help += '''\n",
    "        makestate/theta [deg]: zenith\n",
    "        makestate/wtheta [deg.sec^-1]: angular speed (zenith)\n",
    "        makestate/phi [deg]: azimuth\n",
    "        makestate/wphi [deg.sec^-1]: angular speed (azimuth)\n",
    "        launch/refsize [pt^2]: size (area) of the blob for display\n",
    "    '''\n",
    "\n",
    "    launchdefaults = ChainMap(\n",
    "        dict(\n",
    "            taild=1,\n",
    "            hooks=(partial(logger_hook,logger=logger),),\n",
    "        ),\n",
    "        System.launchdefaults\n",
    "    )\n",
    "\n",
    "    Help += System.Help"
   ]
  },
  {
   "cell_type": "code",
   "execution_count": 3,
   "metadata": {
    "collapsed": false
   },
   "outputs": [
    {
     "data": {
      "text/plain": [
       "<matplotlib.animation.FuncAnimation at 0x115188fd0>"
      ]
     },
     "execution_count": 3,
     "metadata": {},
     "output_type": "execute_result"
    }
   ],
   "source": [
    "syst = SphereSlider(R=2.,G=9.81); ini = dict(theta=135,wtheta=0,wphi=30)\n",
    "syst.launch(ini=syst.makestate(**ini))"
   ]
  },
  {
   "cell_type": "code",
   "execution_count": null,
   "metadata": {
    "collapsed": true
   },
   "outputs": [],
   "source": []
  }
 ],
 "metadata": {
  "anaconda-cloud": {},
  "kernelspec": {
   "display_name": "Python [default]",
   "language": "python",
   "name": "python3"
  },
  "language_info": {
   "codemirror_mode": {
    "name": "ipython",
    "version": 3
   },
   "file_extension": ".py",
   "mimetype": "text/x-python",
   "name": "python",
   "nbconvert_exporter": "python",
   "pygments_lexer": "ipython3",
   "version": "3.5.2"
  }
 },
 "nbformat": 4,
 "nbformat_minor": 1
}
