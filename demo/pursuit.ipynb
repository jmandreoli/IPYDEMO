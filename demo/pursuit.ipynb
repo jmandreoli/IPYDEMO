{
 "cells": [
  {
   "cell_type": "markdown",
   "metadata": {},
   "source": [
    "# Pursuit curves\n",
    "Given a target curve and a positive scalar $q$, a $q$-pursuit curve is a curve $\\mathcal{C}$ together with a continuous mapping $\\pi$ (the tangeantial projection) from $\\mathcal{C}$ onto the target curve such that\n",
    "* for any point $P$ of $\\mathcal{C}$, the straight line $P,\\pi(P)$ is tangeant to $\\mathcal{C}$ at $P$;\n",
    "* for any points $P_1,P_2$ of $\\mathcal{C}$, the length on the target curve of the arc $\\pi(P_1),\\pi(P_2)$ is $q$ time the length on $\\mathcal{C}$ of the arc $P_1,P_2$.\n",
    "\n",
    "Given:\n",
    "* a pair $A,\\hat{A}$ of reference points\n",
    "* a scalar $q>0$ and a target curve containing $\\hat{A}$\n",
    "\n",
    "we seek to determine the (at most two) $q$-pursuit curves which contain $A$ and such that the tangeantial projection of $A$ onto the target be $\\hat{A}$."
   ]
  },
  {
   "cell_type": "code",
   "execution_count": 1,
   "metadata": {
    "collapsed": false
   },
   "outputs": [
    {
     "name": "stdout",
     "output_type": "stream",
     "text": [
      "Using matplotlib backend: MacOSX\n",
      "Populating the interactive namespace from numpy and matplotlib\n"
     ]
    }
   ],
   "source": [
    "%pylab\n",
    "import logging\n",
    "from functools import partial\n",
    "from ipyshow.odesimu.system import System\n",
    "from ipyshow.odesimu.util import logger_hook"
   ]
  },
  {
   "cell_type": "markdown",
   "metadata": {},
   "source": [
    "## Simulation\n",
    "We assume the target curve is given by an arbitrary parametrisation $(X(t),Y(t))$. Parameter $t$ is interpreted as time so that the target curve can be viewed as the trajectory of a point, called the leader. For more generality, we assume that $(X,Y)$ is not given directly but obtained as the solution of a given ODE (dynamics equation):\n",
    "\\begin{equation*}\n",
    "(\\dot{X}(t),\\dot{Y}(t)) = F(t,(X(t),Y(t)))\n",
    "\\end{equation*}\n",
    "Initially (at time $t=0$) we assume that the leader is in $\\hat{A}$ with coordinates $(X_o,Y_o)$, hence the initial condition of the ODE is $(X(0),Y(0))=(X_o,Y_o)$.\n",
    "\n",
    "A $q$-pursuit curve can then also be parametrised by the same time parameter, and be obtained as the trajectory of an other point called the pursuer with coordinates $(x,y)$, initially in $A$ with coordinates $(x_o,y_o)$. The equations of the whole system (leader and pursuer) are therefore:\n",
    "\\begin{equation*}\n",
    "(\\dot{X},\\dot{Y}) = F(t,(X,Y))\n",
    "\\hspace{2cm}\n",
    "q\\sqrt{\\dot{x}^2+\\dot{y}^2} = \\sqrt{\\dot{X}^2+\\dot{Y}^2}\n",
    "\\hspace{2cm}\n",
    "\\begin{array}{|cc|}x-X & \\dot{x}\\\\ y-Y & \\dot{y}\\end{array}=0\n",
    "\\end{equation*}\n",
    "with initial conditions\n",
    "\\begin{equation*}\n",
    "x(0),y(0)=x_o,y_o\n",
    "\\hspace{2cm}\n",
    "X(0),Y(0)=X_o,Y_o\n",
    "\\end{equation*}\n",
    "The program below uses a standard package to numerically solve this ODE. The state is taken to be the quadruple $x,y,X,Y$ (pursuer: first two components; leader: last two components). Observe that the equation is not in completely explicit form. Indeed, there are two ways to put it in explicit form, depending on the sign used in the following expression:\n",
    "\\begin{equation*}\n",
    "\\left(\\begin{array}{c}\\dot{x}\\\\\\dot{y}\\end{array}\\right) =\n",
    "\\pm\\frac{1}{q}\\sqrt{\\frac{\\dot{X}^2+\\dot{Y}^2}{(x-X)^2+(y-Y)^2}}\n",
    "\\left(\\begin{array}{c}x-X\\\\y-Y\\end{array}\\right) \n",
    "\\end{equation*}\n",
    "corresponding to two situations: the pursuer moves toward the leader (positive sign) or away from the leader (negative sign, the pursuer should be called an escaper in that case!). However, it is easy to show that both cases yield the same pursuit curve. Only, the trajectory of the pursuer along that curve in one case is reversed with respect to that in the other case.\n",
    "\n",
    "On the other hand, if the target curve is given by the ODE associated with $F$, then the ODE associated with $F^\\bot$ where $F^\\bot(t,(X,Y))\\triangleq-F(-t,(X,Y))$ describes the same target curve. The trajectory of the leader along that curve is simply reversed. However, the $q$-pursuit curve, given the same initial conditions, will be different. Indeed, there are two possible $q$-pursuit curves for a given pair $A,\\hat{A}$, and they correspond to the choice between $F$ and $F^\\bot$. Given one choice, the other can be recovered by flipping the sign of $q$ in the equations. The program below supports $q<0$ for that purpose."
   ]
  },
  {
   "cell_type": "code",
   "execution_count": 2,
   "metadata": {
    "collapsed": true
   },
   "outputs": [],
   "source": [
    "def norm(x): return sqrt(square(x[0])+square(x[1]))\n",
    "\n",
    "class Pursuit (System):\n",
    "\n",
    "    shadowshape = (4,)\n",
    "\n",
    "    def __init__(self,q,F,epsilon=1e-3):\n",
    "        \"\"\"Parameters q,F are those defining the ODE above\"\"\"\n",
    "        assert q\n",
    "        self.q = q\n",
    "        if q<0: F = (lambda t,pos,F=F: -F(-t,pos))\n",
    "        self.F = F\n",
    "        self.epsilon = epsilon\n",
    "        def main(t,state,q=abs(q)):\n",
    "            v = F(t,state[2:4])\n",
    "            p = state[2:4]-state[0:2]\n",
    "            d = norm(p)\n",
    "            if d<epsilon: return concatenate((v,v))\n",
    "            p /= q*d ; p *= norm(v)\n",
    "            return concatenate((p,v))\n",
    "        self.main = main\n",
    "        self.fordisplay = lambda state: (state, state)\n",
    "\n",
    "    def display(self,ax,**ka):\n",
    "        ax.set_aspect('equal')\n",
    "        s_pursuer = ax.scatter((),(),color='b',s=50,marker='^',label='pursuer')\n",
    "        s_leader = ax.scatter((),(),color='g',s=50,marker='v',label='leader')\n",
    "        p_tail = ax.plot((),(),'b',(),(),'g')\n",
    "        p_tan, = ax.plot((),(),c='k',ls=':')\n",
    "        ax.legend(fontsize='small',loc='lower right')\n",
    "        def disp(t,live,tail):\n",
    "            s_pursuer.set_offsets((live[0:2],))\n",
    "            s_leader.set_offsets((live[2:4],))\n",
    "            p_tail[0].set_data(tail[:,0],tail[:,1])\n",
    "            p_tail[1].set_data(tail[:,2],tail[:,3])\n",
    "            if norm(live[0:2]-live[2:4])<self.epsilon:\n",
    "                for a in s_pursuer, s_leader: a.set_color('r')\n",
    "            else: p_tan.set_data((live[0],live[2]),(live[1],live[3]))\n",
    "        return super().display(ax,disp,**ka)\n",
    "\n",
    "    launch_defaults = dict(maxtime=infty,srate=25.,taild=10,animate=dict(repeat=False))\n",
    "\n",
    "    def launch(self,xo,yo,**ka):\n",
    "        \"\"\"Just sets some default values and constructs the initial state\"\"\"\n",
    "        for k,v in self.launch_defaults.items(): ka.setdefault(k,v)\n",
    "        return super().launch(ini=self.makestate(xo,yo),**ka)"
   ]
  },
  {
   "cell_type": "markdown",
   "metadata": {},
   "source": [
    "### An example: parabolic target\n",
    "Consider the case where the leader moves with constant horizontal speed $v$ and constant vertical acceleration $g$ with no initial vertical speed. The target curve is therefore a parabola. The ODE of the leader is defined by\n",
    "\\begin{equation*}\n",
    "F(t,(X,Y)) = (v,g\\frac{X}{v})\n",
    "\\hspace{1cm}\\textrm{or alternatively}\\hspace{1cm}\n",
    "F(t,(X,Y)) = (v,gt)\n",
    "\\end{equation*}\n",
    "We assume that reference point $\\hat{A}$ (initial position of the leader) is taken as the origin of the reference frame (hence $X_o,Y_o=0$)."
   ]
  },
  {
   "cell_type": "code",
   "execution_count": 3,
   "metadata": {
    "collapsed": true
   },
   "outputs": [],
   "source": [
    "class ParabolaPursuit (Pursuit):\n",
    "    def __init__(self,v=1.,g=-1.,**ka):\n",
    "        super().__init__(F=(lambda t,pos,r=g/v: array((v,r*pos[0]))),**ka)\n",
    "        self.v, self.g = v,g\n",
    "    def display(self,ax,ini,h=1.,**ka):\n",
    "        x = linspace(-h*ini[0],h*ini[0],100)\n",
    "        ax.plot(x,self.g*square(x/self.v)/2.,c='g',ls='--')\n",
    "        return super().display(ax,ini=ini,**ka)\n",
    "    @staticmethod\n",
    "    def makestate(xo,yo): return array((xo,yo,0.,0.))"
   ]
  },
  {
   "cell_type": "markdown",
   "metadata": {},
   "source": [
    "Launchers:"
   ]
  },
  {
   "cell_type": "code",
   "execution_count": 4,
   "metadata": {
    "collapsed": false
   },
   "outputs": [
    {
     "data": {
      "text/plain": [
       "<matplotlib.animation.FuncAnimation at 0x10a0deef0>"
      ]
     },
     "execution_count": 4,
     "metadata": {},
     "output_type": "execute_result"
    }
   ],
   "source": [
    "ParabolaPursuit(q=.5,g=-.1).launch(xo=-20.,yo=-10.)"
   ]
  },
  {
   "cell_type": "markdown",
   "metadata": {},
   "source": [
    "## Analytic solutions\n",
    "We now assume that the target curve is also given by its natural parametrisation $\\hat{x}(s),\\hat{y}(s)$, where the parameter $s$ is the arc length (on the target curve) measured from reference point $\\hat{A}$. Hence, by construction $\\hat{A}$ has coordinates $\\hat{x}(0),\\hat{y}(0)$ and the equation $\\hat{x}'^2+\\hat{y}'^2=1$ holds.\n",
    "\n",
    "Let $x,y$ be some parametrisation of a $q$-pursuit curve, i.e. $x(u),y(u)$ are functions of some parameter $u$. Let $u_o$ be the parameter of the reference point $A$ and $\\ell(u)$ be the length on the pursuit curve of the arc between $A$ and the point of parameter $u$. The equations of a $q$-pursuit curve are given by\n",
    "\\begin{equation*}\n",
    "\\ell' = \\pm\\sqrt{x'^2+y'^2}\n",
    "\\hspace{2cm}\n",
    "\\begin{array}{|cc|}\n",
    "x-\\hat{x}(q\\ell) & x'\\\\\n",
    "y-\\hat{y}(q\\ell) & y'\n",
    "\\end{array} = 0\n",
    "\\end{equation*}\n",
    "with initial conditions\n",
    "\\begin{equation*}\n",
    "x(u_o) = x_o \\hspace{2cm} y(u_o) = y_o \\hspace{2cm} \\ell(u_o) = 0\n",
    "\\end{equation*}\n",
    "There are two equations for three unknowns $x,y,\\ell$, so the system is under-determined, which is not surprising since there is a degree of freedom in the choice of the parametrisation of the pursuit curve. That choice determines the system, but also the difficulty of its resolution. Note that the sign of $\\ell'$ can be chosen arbitrarily: it only determines the direction followed by the chosen parametrisation along the pursuit curve, not the curve itself."
   ]
  },
  {
   "cell_type": "markdown",
   "metadata": {},
   "source": [
    "### Analytic solution when the target is a straight line\n",
    "\n",
    "We assume the origin of the referential frame is taken to be $\\hat{A}$ and the vertical axis to be the target curve itself (straight line). The natural parametrisation of the target is hence given by\n",
    "\\begin{equation*}\n",
    "\\hat{x}(s) = 0 \\hspace{2cm} \\hat{y}(s) = s\n",
    "\\end{equation*}\n",
    "For the pursuit curve, we assume the parameter is the $x$-coordinate. Hence $x(u)=u$. Furthermore, without loss of generality, we can take $x_o>0$ and $\\ell'<0$. The solution is given by\n",
    "\\begin{eqnarray*}\n",
    "y & = & \\frac{1}{2}(\\frac{e^c}{1+q}u^{1+q}-\\frac{e^{-c}}{1-q}u^{1-q})+y_*\n",
    "\\hspace{1cm}\\textrm{if $q\\not=1$ else}\\hspace{1cm}\n",
    "\\frac{1}{2}(\\frac{e^c}{1+q}u^{1+q}-e^{-c}\\log(u))+y_*\\\\\n",
    "\\ell & = & -\\frac{1}{2}(\\frac{e^c}{1+q}u^{1+q}+\\frac{e^{-c}}{1-q}u^{1-q})+\\ell_*\n",
    "\\hspace{1cm}\\textrm{if $q\\not=1$ else}\\hspace{1cm}\n",
    "-\\frac{1}{2}(\\frac{e^c}{1+q}u^{1+q}+e^{-c}\\log(u))+\\ell_*\n",
    "\\end{eqnarray*}\n",
    "Constants $c,y_*,\\ell_*$ are given by\n",
    "\\begin{eqnarray*}\n",
    "e^c & = & x_o^{-q}r \\hspace{1cm}\\textrm{where}\\hspace{1cm} r \\triangleq \\frac{y_o}{x_o}+\\sqrt{1+(\\frac{y_o}{x_o})^2}\\\\\n",
    "y_* & = & y_o-\\frac{x_o}{2}\\left(\\frac{r}{1+q}-\\frac{1}{r(1-q)}\\right) \n",
    "\\hspace{1cm}\\textrm{if $q\\not=1$ else}\\hspace{1cm}\n",
    "y_o-\\frac{x_o}{2}\\left(\\frac{r}{2}-\\frac{\\log(x_o)}{r}\\right)\\\\\n",
    "\\ell_* & = & \\frac{x_o}{2}\\left(\\frac{r}{1+q}+\\frac{1}{r(1-q)}\\right)\n",
    "\\hspace{1cm}\\textrm{if $q\\not=1$ else}\\hspace{1cm}\n",
    "\\frac{x_o}{2}\\left(\\frac{r}{2}+\\frac{\\log(x_o)}{r}\\right)\n",
    "\\end{eqnarray*}\n",
    "When $q\\not=1$, we have $y_*=q\\ell_*$. Furthermore, the critical point of the pursuit curve is given by\n",
    "\\begin{equation*}\n",
    "x^* = x_or^{-\\frac{1}{q}}\n",
    "\\hspace{2cm}\n",
    "y^* = \\frac{x_oq}{2}(\\frac{r}{1+q}+\\frac{1}{r(1-q)}-\\frac{2r^{-\\frac{1}{q}}}{1-q^2})\n",
    "\\hspace{.5cm}\\textrm{if $q\\not=1$ else}\\hspace{.5cm}\n",
    "y_o+\\frac{x_o}{2}(\\frac{1}{2r}-\\frac{r}{2}+\\frac{\\log(r)}{r})\n",
    "\\end{equation*}\n",
    "The program below augments the basic simulation by drawing before the start of the simulation a segment of the predicted pursuit curve given by the equations above, together with its remarkable points (critical point, and, when $q<1$, contact point)."
   ]
  },
  {
   "cell_type": "code",
   "execution_count": 5,
   "metadata": {
    "collapsed": false
   },
   "outputs": [],
   "source": [
    "class StraightLinePursuit (Pursuit):\n",
    "\n",
    "    def __init__(self,v=1.0,**ka):\n",
    "        super().__init__(F=(lambda t,pos,v=v*array((0,1)):v),**ka)\n",
    "        def analytics(state,q=self.q):\n",
    "            xo,yo,xom,yom = state\n",
    "            assert xom==0 and yom==0\n",
    "            r = yo/xo+sqrt(1+square(yo/xo))\n",
    "            if q == 1.:\n",
    "                p1 = r/(4*xo)\n",
    "                p2 = xo/(2*r)\n",
    "                c_y = yo-r*xo/4+xo*log(xo)/(2*r)\n",
    "                c_ell = r*xo/4+xo*log(xo)/(2*r)\n",
    "                y = lambda x: (p1*square(x)-p2*log(x))+c_y\n",
    "                ell = lambda x: c_ell-(p1*square(x)+p2*log(x))\n",
    "                xstar = xo/r\n",
    "                ystar = yo+xo/4*(1/r-r+2*log(r)/r)\n",
    "            elif q == -1.:\n",
    "                p1 = 1/(4*xo*r)\n",
    "                p2 = xo*r/2\n",
    "                c_y = yo+xo/(4*r)-r*xo*log(xo)/2\n",
    "                c_ell = xo/(4*r)+r*xo*log(xo)/2\n",
    "                y = lambda x: p2*log(x)-p1*square(x)+c_y\n",
    "                ell = lambda x: c_ell-(p2*log(x)+p1*square(x))\n",
    "                xstar = r*xo\n",
    "                ystar = yo+xo/4*(1/r-r+2*r*log(r))\n",
    "            else:\n",
    "                p1 = r/(2*(1+q))\n",
    "                p2 = 1/(2*r*(1-q))\n",
    "                c_ell = xo*(p1+p2)\n",
    "                c_y = q*c_ell\n",
    "                y_ = lambda z: p1*z-p2/z\n",
    "                y = lambda x: x*y_((x/xo)**q)+c_y\n",
    "                ell_ = lambda z: p1*z+p2/z\n",
    "                ell = lambda x: c_ell-x*ell_((x/x_o)**q)\n",
    "                xstar = xo*r**(-1/q)\n",
    "                ystar = xo*q*(p1+p2-r**(-1/q)/(1-square(q)))\n",
    "            return y,c_y,ell,c_ell,xstar,ystar\n",
    "        self.analytics = analytics\n",
    "\n",
    "    def display(self,ax,ini=None,**ka):\n",
    "        y,c_y,ell,c_ell,xstar,ystar = self.analytics(ini)\n",
    "        x = linspace(0.001,max(ini[0],xstar),100)\n",
    "        ax.plot(x,y(x),c='b',ls='--',label='pursuit curve')\n",
    "        ax.axvline(0,c='g',ls='--',label='target curve')\n",
    "        ax.scatter((xstar,),(ystar,),color='r',marker='*',s=50)\n",
    "        if abs(self.q)<1: ax.scatter((0,),(c_y,),color='r',marker='*',s=50)\n",
    "        else: ax.set_ylim(ymax=max(c_y,ax.get_ylim()[1]))\n",
    "        ax.set_ylim(ymin=min(0,ax.get_ylim()[0]))\n",
    "        return super().display(ax,ini=ini,**ka)\n",
    "\n",
    "    @staticmethod\n",
    "    def makestate(xo,yo): return array((xo,yo,0.,0.))"
   ]
  },
  {
   "cell_type": "markdown",
   "metadata": {},
   "source": [
    "Launchers:"
   ]
  },
  {
   "cell_type": "code",
   "execution_count": 9,
   "metadata": {
    "collapsed": false,
    "scrolled": true
   },
   "outputs": [
    {
     "data": {
      "text/plain": [
       "<matplotlib.animation.FuncAnimation at 0x114d57780>"
      ]
     },
     "execution_count": 9,
     "metadata": {},
     "output_type": "execute_result"
    }
   ],
   "source": [
    "#StraightLinePursuit(q=.9,v=.2).launch(xo=1.,yo=2.)\n",
    "StraightLinePursuit(q=-.9,v=1.).launch(xo=1.,yo=2.) # dual of previous one\n",
    "#StraightLinePursuit(q=1.1,v=.2).launch(xo=1.,yo=2.)"
   ]
  },
  {
   "cell_type": "markdown",
   "metadata": {},
   "source": [
    "### Semi-analytic solution when the target is a circle\n",
    "\n",
    "We assume the origin of the referential frame is taken to be the centre of the target circle (of radius $\\hat{R}$), and the horizontal axis to be the diameter of the circle going through point $\\hat{A}$. The natural parametrisation of the target is hence given by\n",
    "\\begin{equation*}\n",
    "\\hat{x}(s) = \\hat{R}\\cos(\\frac{s}{\\hat{R}}) \\hspace{2cm} \\hat{y}(s) = \\hat{R}\\sin(\\frac{s}{\\hat{R}})\n",
    "\\end{equation*}\n",
    "There is no obvious analytic parametrisation of the pursuit curve, but the equations can be transformed into the following ODE with a single variable $\\phi$ and parameter $u$:\n",
    "\\begin{eqnarray*}\n",
    "\\phi' & = & \\frac{q}{\\frac{\\sin^2(u)}{\\sin(\\phi)}+(q-\\frac{\\sin^2(u)}{\\sin(\\phi)})\\frac{\\tan(u)}{\\tan(\\phi)}}\\\\\n",
    "\\phi(u_o) & = & \\theta_o+u_o \\hspace{.5cm}\\textrm{where}\\hspace{.5cm} u_o=\\arctan\\left(\\frac{\\sin(\\theta_o)}{\\frac{r_o}{\\hat{R}}-\\cos(\\theta_o)}\\right)\n",
    "\\end{eqnarray*}\n",
    "The other variables (in polar coordinates) are obtained by\n",
    "\\begin{equation*}\n",
    "r = \\hat{R}\\frac{\\sin(\\phi)}{\\sin(u)}\n",
    "\\hspace{2cm}\n",
    "\\theta' = \\frac{\\phi'-1}{1-q\\frac{\\sin(\\phi)}{\\sin^2(u)}}\n",
    "\\hspace{2cm}\n",
    "\\frac{q\\ell}{\\hat{R}} = \\theta+u-\\phi\n",
    "\\end{equation*}\n",
    "or alternatively\n",
    "\\begin{equation*}\n",
    "r = \\hat{R}\\frac{\\sin(\\phi)}{\\sin(u)}\n",
    "\\hspace{2cm}\n",
    "\\frac{q\\ell'}{\\hat{R}} = \\phi'(\\frac{\\tan(u)}{\\tan(\\phi)}-1)\n",
    "\\hspace{2cm}\n",
    "\\theta = \\frac{q\\ell}{\\hat{R}}-u+\\phi\n",
    "\\end{equation*}\n",
    "Cartesian coordinates can of course be recovered by\n",
    "\\begin{equation*}\n",
    "x = r\\cos(\\theta)\n",
    "\\hspace{2cm}\n",
    "y = r\\sin(\\theta)\n",
    "\\end{equation*}\n",
    "An empirical analysis indicates that, apart from singular cases:\n",
    "* when $q<1$ the pursuit curve touches the target circle at a point where they have a common tangeant\n",
    "* when $q>=1$ the pursuit curve asymptotically converges toward a circle with same centre as the target circle and of radius $\\frac{\\hat{R}}{q}$\n",
    "\n",
    "In both cases, the pursuit curve may also intersect the target circle, but at points where the tangeants are distinct.\n",
    "\n",
    "The program below augments the basic simulation by drawing, before the start of the simulation, a segment of the predicted pursuit curve, as well as its asymptotic circle when $q\\geq1$. Note however that since that prediction is itself obtained by a numerical method, it is not so different from the simulation."
   ]
  },
  {
   "cell_type": "code",
   "execution_count": 10,
   "metadata": {
    "collapsed": false
   },
   "outputs": [],
   "source": [
    "class CircularPursuit (Pursuit):\n",
    "\n",
    "    def __init__(self,omega=1.0,R=1.,variant='Kell',safe=False,du=.001,**ka):\n",
    "        super().__init__(F=(lambda t,pos,omega=omega: omega*array((-pos[1],pos[0]))),**ka)\n",
    "        self.R = R\n",
    "        def analytics(state,q=self.q,R=self.R):\n",
    "            from scipy.integrate import ode\n",
    "            def F(u,phi_s):\n",
    "                phi,s = phi_s\n",
    "                dphi = q*sin(phi)/(square(sin(u))+tan(u)*(q*cos(phi)-square(sin(u))/tan(phi)))\n",
    "                ds = varF(u,phi,dphi)\n",
    "                return array((dphi,ds))\n",
    "            def varFtheta(u,phi,dphi): return (dphi-1)/(1-q*sin(phi)/square(sin(u)))\n",
    "            def varFKell(u,phi,dphi): return dphi*(tan(u)/tan(phi)-1)\n",
    "            def run(direc):\n",
    "                r = ode(F).set_integrator('lsoda').set_initial_value((phio,so),uo)\n",
    "                dt = direc*du\n",
    "                while r.successful():\n",
    "                    yield r.t,r.y\n",
    "                    if safe and abs(r.t+dt)>pi/2: break\n",
    "                    r.integrate(r.t+dt)\n",
    "            xo,yo = state[0:2]\n",
    "            ro = norm((xo,yo))\n",
    "            thetao = arctan2(yo,xo)\n",
    "            xoo = xo-square(ro)/R\n",
    "            uo = -arctan(yo/xoo)\n",
    "            phio = thetao+uo\n",
    "            q *= sign(xoo)\n",
    "            varF,so = dict(theta=(varFtheta,thetao),Kell=(varFKell,0.))[variant]\n",
    "            L = list(run(-1.)); n = len(L); del L[0]\n",
    "            L.reverse(); L.extend(run(1.))\n",
    "            Lu,Lphi,Ls = array(list((u,phi,s) for u,(phi,s) in L)).T\n",
    "            Lr = R*sin(Lphi)/sin(Lu)\n",
    "            Ltheta,LKell = dict(theta=(Ls,Ls+Lu-Lphi),Kell=(Ls-Lu+Lphi,Ls))[variant]\n",
    "            if n == len(L): n -= 1\n",
    "            return n,Lu,Lphi,Lr,Ltheta,LKell\n",
    "        self.analytics = analytics\n",
    "\n",
    "    def display(self,ax,ini=None,**ka):\n",
    "        from matplotlib.patches import Circle\n",
    "        n,Lu,Lphi,Lr,Ltheta,LKell = self.analytics(ini)\n",
    "        Lx,Ly = Lr*cos(Ltheta),Lr*sin(Ltheta)\n",
    "        nstar = argmin(norm((Lx-self.R*cos(LKell),Ly-self.R*sin(LKell))))\n",
    "        ax.plot(Lx,Ly,c='b',ls='--',label='pursuit curve')\n",
    "        ax.scatter((Lx[nstar],),(Ly[nstar],),marker='*',color='r',s=50)\n",
    "        ax.add_patch(Circle((0.,0.),self.R,ec='g',fc='none',ls='--',label='target curve'))\n",
    "        if abs(self.q)>=1: ax.add_patch(Circle((0.,0.),self.R/abs(self.q),ec='b',fc='none',ls='--'))\n",
    "        for i in 0,-1: ax.annotate(r'${:.1f}\\frac{{\\pi}}{{2}}$'.format(Lu[i]*2/pi),(Lx[i],Ly[i]),fontsize='x-small',zorder=1)\n",
    "        ax.scatter((Lx[0],Lx[-1]),(Ly[0],Ly[-1]),marker='.',color='r')\n",
    "        return super().display(ax,ini=ini,**ka)\n",
    "\n",
    "    @staticmethod\n",
    "    def makestate(xo,yo): return array((xo,yo,1.,0.))"
   ]
  },
  {
   "cell_type": "markdown",
   "metadata": {},
   "source": [
    "Launchers:"
   ]
  },
  {
   "cell_type": "code",
   "execution_count": 20,
   "metadata": {
    "collapsed": false
   },
   "outputs": [
    {
     "name": "stderr",
     "output_type": "stream",
     "text": [
      "/Applications/anaconda/lib/python3.5/site-packages/scipy/integrate/_ode.py:1213: UserWarning: lsoda: Excess work done on this call (perhaps wrong Dfun type).\n",
      "  'Unexpected istate=%s' % istate))\n"
     ]
    },
    {
     "data": {
      "text/plain": [
       "<matplotlib.animation.FuncAnimation at 0x11a2ea5c0>"
      ]
     },
     "execution_count": 20,
     "metadata": {},
     "output_type": "execute_result"
    }
   ],
   "source": [
    "#CircularPursuit(q=.9,omega=.5).launch(xo=-.8,yo=-.2)\n",
    "#CircularPursuit(q=-.9,omega=.5).launch(xo=-.8,yo=-.2) # dual of previous\n",
    "#CircularPursuit(q=.5,omega=.1).launch(xo=.5,yo=-.1)\n",
    "CircularPursuit(q=.5,omega=.05).launch(xo=-.2,yo=.4)\n",
    "#CircularPursuit(q=-1.3,omega=.1).launch(xo=.3,yo=.5)\n",
    "#CircularPursuit(q=1.3,omega=1.).launch(xo=-3.,yo=-1.)"
   ]
  },
  {
   "cell_type": "code",
   "execution_count": null,
   "metadata": {
    "collapsed": true
   },
   "outputs": [],
   "source": []
  }
 ],
 "metadata": {
  "kernelspec": {
   "display_name": "Python 3",
   "language": "python",
   "name": "python3"
  },
  "language_info": {
   "codemirror_mode": {
    "name": "ipython",
    "version": 3
   },
   "file_extension": ".py",
   "mimetype": "text/x-python",
   "name": "python",
   "nbconvert_exporter": "python",
   "pygments_lexer": "ipython3",
   "version": "3.5.1"
  }
 },
 "nbformat": 4,
 "nbformat_minor": 0
}
