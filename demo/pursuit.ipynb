{
 "cells": [
  {
   "cell_type": "markdown",
   "metadata": {},
   "source": [
    "# Pursuit curves\n",
    "Given a target curve $\\hat{\\mathcal{C}}$ and a positive scalar $q$, a $q$-pursuit curve for $\\hat{\\mathcal{C}}$ is a curve $\\mathcal{C}$ together with a homeomorphism $\\pi:\\mathcal{C}\\mapsto\\hat{\\mathcal{C}}$ (called the tangential projection) such that\n",
    "* for any point $P$ of $\\mathcal{C}$, the tangent to $\\mathcal{C}$ at $P$ contains $\\pi(P)$;\n",
    "* for any points $P_1,P_2$ of $\\mathcal{C}$, the length on $\\hat{\\mathcal{C}}$ of the arc $\\pi(P_1),\\pi(P_2)$ is $q$ time the length on $\\mathcal{C}$ of the arc $P_1,P_2$.\n",
    "\n",
    "Given:\n",
    "* a pair $A,\\hat{A}$ of reference points\n",
    "* a scalar $q>0$ and a target curve $\\hat{\\mathcal{C}}$ containing $\\hat{A}$\n",
    "\n",
    "we seek to determine the $q$-pursuit curves for $\\hat{\\mathcal{C}}$ which contain $A$ and such that the tangential projection of $A$ onto $\\hat{\\mathcal{C}}$ be $\\hat{A}$."
   ]
  },
  {
   "cell_type": "code",
   "execution_count": 30,
   "metadata": {},
   "outputs": [],
   "source": [
    "import logging; logging.basicConfig(level=logging.WARNING); logging.captureWarnings(True)\n",
    "from numpy import sin,cos,tan,arcsin,arccos,arctan,arctan2,pi,square,sqrt,clip,array,linspace,concatenate,degrees,radians,sign,argmin,argmax\n",
    "from ipyshow.odesimu import System"
   ]
  },
  {
   "cell_type": "markdown",
   "metadata": {
    "jp-MarkdownHeadingCollapsed": true
   },
   "source": [
    "## General case (simulation)"
   ]
  },
  {
   "cell_type": "markdown",
   "metadata": {},
   "source": [
    "We assume the target curve is given by an arbitrary parametrisation $(X(t),Y(t))$. Parameter $t$ is interpreted as time so that the target curve can be viewed as the trajectory of a point, called the leader. For more generality, we assume that $(X,Y)$ is not given directly but obtained as the solution of a given ODE (dynamics equation):\n",
    "\\begin{equation*}\n",
    "(\\dot{X}(t),\\dot{Y}(t)) = F(t,(X(t),Y(t)))\n",
    "\\end{equation*}\n",
    "Initially (at time $t=0$) we assume that the leader is in $\\hat{A}$ with coordinates $(X_o,Y_o)$, hence the initial condition of the ODE is $(X(0),Y(0))=(X_o,Y_o)$.\n",
    "\n",
    "A $q$-pursuit curve can then also be parametrised by the same time parameter, and be obtained as the trajectory of an other point called the pursuer with coordinates $(x,y)$, initially in $A$ with coordinates $(x_o,y_o)$. The equations of the whole system (leader and pursuer) are therefore:\n",
    "\\begin{equation*}\n",
    "(\\dot{X},\\dot{Y}) = F(t,(X,Y))\n",
    "\\hspace{2cm}\n",
    "q\\sqrt{\\dot{x}^2+\\dot{y}^2} = \\sqrt{\\dot{X}^2+\\dot{Y}^2}\n",
    "\\hspace{2cm}\n",
    "\\begin{array}{|cc|}x-X & \\dot{x}\\\\ y-Y & \\dot{y}\\end{array}=0\n",
    "\\end{equation*}\n",
    "with initial conditions\n",
    "\\begin{equation*}\n",
    "x(0),y(0)=x_o,y_o\n",
    "\\hspace{2cm}\n",
    "X(0),Y(0)=X_o,Y_o\n",
    "\\end{equation*}\n",
    "If the target curve is given by the (leader) ODE associated with $F$, then the ODE associated with $F^\\bot$ where $F^\\bot(t,(X,Y))\\triangleq-F(-t,(X,Y))$ describes the same target curve: the trajectory of the leader along that curve is simply reversed. But the resulting pursuit curve, given the same initial conditions, will be different. Indeed, there are two possible $q$-pursuit curves for given $q$, target and pair $A,\\hat{A}$, and they correspond to the choice between $F$ and $F^\\bot$. These two curves are said to be *dual*.\n",
    "\n",
    "The program below uses a standard package to numerically solve the pursuer+leader ODE. The state is taken to be the quadruple $x,y,X,Y$ (pursuer: first two components; leader: last two components). Observe that the equation is not in completely explicit form. Indeed, there are two ways to put the pursuer part in explicit form, depending on the sign used in the following expression:\n",
    "\\begin{equation*}\n",
    "\\left(\\begin{array}{c}\\dot{x}\\\\\\dot{y}\\end{array}\\right) =\n",
    "\\pm\\frac{||F(t,(X,Y))||}{q\\sqrt{(x-X)^2+(y-Y)^2}}\n",
    "\\left(\\begin{array}{c}x-X\\\\y-Y\\end{array}\\right) \n",
    "\\end{equation*}\n",
    "corresponding to two situations: the pursuer moves toward the leader (positive sign) or away from the leader (negative sign, the pursuer should be called an escaper in that case!). The solution curve obtained in each case is the dual of that obtained in the other case, and the tangent vectors at $A$ are in the opposite direction."
   ]
  },
  {
   "cell_type": "code",
   "execution_count": 2,
   "metadata": {},
   "outputs": [],
   "source": [
    "def norm(x): return sqrt(square(x[0])+square(x[1]))\n",
    "\n",
    "class Pursuit (System):\n",
    "\n",
    "  def __init__(self,q,F,tol=1e-3):\n",
    "    r\"\"\"\n",
    "Args:\n",
    "  q (float): ratio of leader's speed to pursuer's speed (if q<0, the simulation operates with |q| but the pursuer ODE is dualised)\n",
    "  tol (float): threshold on the pursuer-leader distance, below which pursuit is stopped\n",
    "    \"\"\"\n",
    "    self.q = q\n",
    "    if q<0: F = (lambda t,pos,F=F: -F(-t,pos))\n",
    "    self.F = F\n",
    "    self.tol = tol\n",
    "    def fun(t,state,q=abs(q)):\n",
    "      v = F(t,state[2:4])\n",
    "      p = state[2:4]-state[0:2]\n",
    "      d = norm(p)\n",
    "      if d<tol: return concatenate((v,v))\n",
    "      p /= q*d ; p *= norm(v)\n",
    "      return concatenate((p,v))\n",
    "    self.fun = fun\n",
    "\n",
    "  def displayer(self,env,ax):\n",
    "    a_pursuer = ax.scatter((),(),color='b',s=50,marker='^',label='pursuer')\n",
    "    a_leader = ax.scatter((),(),color='g',s=50,marker='v',label='leader')\n",
    "    a_tail = ax.plot((),(),'b',(),(),'g')\n",
    "    a_tangeant, = ax.plot((),(),c='k',ls=':')\n",
    "    ax.legend(fontsize='x-small')\n",
    "    def disp():\n",
    "      state_p,state_l = env.state[0:2],env.state[2:4]\n",
    "      a_pursuer.set_offsets((state_p,))\n",
    "      a_leader.set_offsets((state_l,))\n",
    "      tail = env.cached_states\n",
    "      a_tail[0].set_data(tail[0:2])\n",
    "      a_tail[1].set_data(tail[2:4])\n",
    "      unif = norm(state_l-state_p)<self.tol\n",
    "      a_pursuer.set(color='r' if unif else 'b')\n",
    "      a_leader.set(color='r' if unif else 'g')\n",
    "      a_tangeant.set(visible=not unif)\n",
    "      if not unif:\n",
    "        a_tangeant.set_data((state_p[0],state_l[0]),(state_p[1],state_l[1]))\n",
    "        ax.relim(); ax.autoscale_view()\n",
    "    return disp"
   ]
  },
  {
   "cell_type": "markdown",
   "metadata": {},
   "source": [
    "### An example: parabolic target\n",
    "Consider the case where the leader moves with constant horizontal speed $v$ and constant vertical acceleration $g$ with no initial vertical speed. The target curve is therefore a parabola. The ODE of the leader is defined by\n",
    "\\begin{equation*}\n",
    "F(t,(X,Y)) = (v,g\\frac{X}{v})\n",
    "\\hspace{1cm}\\textrm{or alternatively}\\hspace{1cm}\n",
    "F(t,(X,Y)) = (v,gt)\n",
    "\\end{equation*}\n",
    "We assume that reference point $\\hat{A}$ (initial position of the leader) is taken as the origin of the reference frame (hence $X_o,Y_o=0$)."
   ]
  },
  {
   "cell_type": "code",
   "execution_count": 3,
   "metadata": {},
   "outputs": [],
   "source": [
    "class ParabolaPursuit (Pursuit):\n",
    "\n",
    "  def __init__(self,v=1.,g=-1.,**ka):\n",
    "    r\"\"\"\n",
    "Args:\n",
    "  v (float): leader's horizontal speed [m.sec^-1]\n",
    "  g (float): leader's vertical acceleration (negative) [m.sec^-2]\n",
    "    \"\"\"\n",
    "    super().__init__(F=(lambda t,pos,r=g/v: array((v,r*pos[0]))),**ka)\n",
    "    self.v, self.g = v,g\n",
    "\n",
    "  def displayer(self,env,ax,h=1.):\n",
    "    r\"\"\"\n",
    "Args:\n",
    "  h (float): displays the parabola on interval h times the x-coordinate of the initial position\n",
    "    \"\"\"\n",
    "    xm = h*env.init_y[0]\n",
    "    x = linspace(-xm,xm,100)\n",
    "    ax.plot(x,self.g*square(x/self.v)/2.,c='g',ls='--')\n",
    "    return super().displayer(env,ax)\n",
    "\n",
    "  @staticmethod\n",
    "  def makestate(x,y):\n",
    "    r\"\"\"\n",
    "Args:\n",
    "  x,y (float): position of the pursuer (leader is always in 0,0)\n",
    "    \"\"\"\n",
    "    return array((x,y,0.,0.))\n",
    "\n",
    "  launch_defaults = dict(period=10.,cache=(60,.1),max_step=.01)"
   ]
  },
  {
   "cell_type": "code",
   "execution_count": 4,
   "metadata": {},
   "outputs": [
    {
     "name": "stderr",
     "output_type": "stream",
     "text": [
      "qt.qpa.plugin: Could not find the Qt platform plugin \"wayland\" in \"\"\n"
     ]
    }
   ],
   "source": [
    "#%matplotlib widget\n",
    "%matplotlib qt6\n",
    "from myutil.simpy import SimpySimulation"
   ]
  },
  {
   "cell_type": "code",
   "execution_count": 6,
   "metadata": {},
   "outputs": [
    {
     "data": {
      "text/plain": [
       "<myutil.simpy.SimpySimulation at 0x7fa5ed900380>"
      ]
     },
     "execution_count": 6,
     "metadata": {},
     "output_type": "execute_result"
    }
   ],
   "source": [
    "syst = ParabolaPursuit(q=.5,g=-.05); ini = dict(x=-6.,y=-30.)\n",
    "#syst = ParabolaPursuit(q=-.5,g=-.8); ini = dict(x=-1.,y=-4.)\n",
    "\n",
    "SimpySimulation(\n",
    "  syst.launch(dict(h=6.),init_y=ini,jac=None),\n",
    "  play_kw=dict(frame_per_stu=25,track=60.),\n",
    ")"
   ]
  },
  {
   "cell_type": "markdown",
   "metadata": {},
   "source": [
    "### Analytic solutions"
   ]
  },
  {
   "cell_type": "markdown",
   "metadata": {},
   "source": [
    "We now assume that the target curve is also given by its natural parametrisation $\\hat{x}(s),\\hat{y}(s)$, where the parameter $s$ is the arc length (on the target curve) measured from reference point $\\hat{A}$. Hence, by construction $\\hat{A}$ has coordinates $\\hat{x}(0),\\hat{y}(0)$ and the equation $\\hat{x}'^2+\\hat{y}'^2=1$ holds.\n",
    "\n",
    "Let $x,y$ be some parametrisation of a $q$-pursuit curve, i.e. $x(u),y(u)$ are functions of some parameter $u$. Let $u_o$ be the parameter of the reference point $A$ and $\\ell(u)$ be the algebraic length on the pursuit curve of the arc between $A$ and the point of parameter $u$ (given some orientation of the curve). The equations of a $q$-pursuit curve are given by\n",
    "\\begin{equation*}\n",
    "\\ell' = \\pm\\sqrt{x'^2+y'^2}\n",
    "\\hspace{2cm}\n",
    "\\begin{array}{|cc|}\n",
    "x-\\hat{x}(q\\ell) & x'\\\\\n",
    "y-\\hat{y}(q\\ell) & y'\n",
    "\\end{array} = 0\n",
    "\\end{equation*}\n",
    "with initial conditions\n",
    "\\begin{equation*}\n",
    "x(u_o) = x_o \\hspace{2cm} y(u_o) = y_o \\hspace{2cm} \\ell(u_o) = 0\n",
    "\\end{equation*}\n",
    "There are two equations for three unknowns $x,y,\\ell$, so the system is under-determined, which is not surprising since there is a degree of freedom in the choice of the parametrisation of the pursuit curve. That choice determines the system, but also the difficulty of its resolution. Also, recall that for a given target curve and pair $A,\\hat{A}$ of reference points, there are two dual solution pursuit curves. They correspond to a choice of sign for $\\ell'$ in the equations above."
   ]
  },
  {
   "cell_type": "markdown",
   "metadata": {
    "jp-MarkdownHeadingCollapsed": true
   },
   "source": [
    "## Straight line target (analytic solution)"
   ]
  },
  {
   "cell_type": "markdown",
   "metadata": {
    "jp-MarkdownHeadingCollapsed": true
   },
   "source": [
    "We assume the origin of the referential frame is taken to be $\\hat{A}$ and the vertical axis to be the target curve itself (straight line). The natural parametrisation of the target is hence given by\n",
    "\\begin{equation*}\n",
    "\\hat{x}(s) = 0 \\hspace{2cm} \\hat{y}(s) = s\n",
    "\\end{equation*}\n",
    "For the pursuit curve, we assume the parameter is the $x$-coordinate. Hence $x(u)=u$. Furthermore, without loss of generality, we can take $x_o>0$ and $\\ell'<0$. The solution is given by\n",
    "\\begin{eqnarray*}\n",
    "y & = & \\frac{1}{2}(\\frac{e^c}{1+q}u^{1+q}-\\frac{e^{-c}}{1-q}u^{1-q})+y_*\n",
    "\\hspace{1cm}\\textrm{if $q\\not=1$ else}\\hspace{1cm}\n",
    "\\frac{1}{2}(\\frac{e^c}{1+q}u^{1+q}-e^{-c}\\log(u))+y_*\\\\\n",
    "\\ell & = & -\\frac{1}{2}(\\frac{e^c}{1+q}u^{1+q}+\\frac{e^{-c}}{1-q}u^{1-q})+\\ell_*\n",
    "\\hspace{1cm}\\textrm{if $q\\not=1$ else}\\hspace{1cm}\n",
    "-\\frac{1}{2}(\\frac{e^c}{1+q}u^{1+q}+e^{-c}\\log(u))+\\ell_*\n",
    "\\end{eqnarray*}\n",
    "Constants $c,y_*,\\ell_*$ are given by\n",
    "\\begin{eqnarray*}\n",
    "e^c & = & x_o^{-q}r \\hspace{1cm}\\textrm{where}\\hspace{1cm} r \\triangleq \\frac{y_o}{x_o}+\\sqrt{1+(\\frac{y_o}{x_o})^2}\\\\\n",
    "y_* & = & y_o-\\frac{x_o}{2}\\left(\\frac{r}{1+q}-\\frac{1}{r(1-q)}\\right) \n",
    "\\hspace{1cm}\\textrm{if $q\\not=1$ else}\\hspace{1cm}\n",
    "y_o-\\frac{x_o}{2}\\left(\\frac{r}{2}-\\frac{\\log(x_o)}{r}\\right)\\\\\n",
    "\\ell_* & = & \\frac{x_o}{2}\\left(\\frac{r}{1+q}+\\frac{1}{r(1-q)}\\right)\n",
    "\\hspace{1cm}\\textrm{if $q\\not=1$ else}\\hspace{1cm}\n",
    "\\frac{x_o}{2}\\left(\\frac{r}{2}+\\frac{\\log(x_o)}{r}\\right)\n",
    "\\end{eqnarray*}\n",
    "When $q\\not=1$, we have $y_*=q\\ell_*$. Furthermore, the critical point of the pursuit curve is given by\n",
    "\\begin{equation*}\n",
    "x^* = x_or^{-\\frac{1}{q}}\n",
    "\\hspace{2cm}\n",
    "y^* = \\frac{x_oq}{2}(\\frac{r}{1+q}+\\frac{1}{r(1-q)}-\\frac{2r^{-\\frac{1}{q}}}{1-q^2})\n",
    "\\hspace{.5cm}\\textrm{if $q\\not=1$ else}\\hspace{.5cm}\n",
    "y_o+\\frac{x_o}{2}(\\frac{1}{2r}-\\frac{r}{2}+\\frac{\\log(r)}{r})\n",
    "\\end{equation*}\n",
    "The program below augments the basic simulation by drawing before the start of the simulation a segment of the predicted pursuit curve given by the equations above, together with its remarkable points (critical point, and, when $q<1$, contact point)."
   ]
  },
  {
   "cell_type": "code",
   "execution_count": 12,
   "metadata": {},
   "outputs": [],
   "source": [
    "class StraightLinePursuit (Pursuit):\n",
    "\n",
    "  def __init__(self,v=1.0,**ka):\n",
    "    r\"\"\"\n",
    "Args:\n",
    "  v (float): leader's speed [m.sec^-1]\n",
    "    \"\"\"\n",
    "    super().__init__(F=(lambda t,pos,v=v*array((0,1)):v),**ka)\n",
    "\n",
    "  def displayer(self,env,ax):\n",
    "    y,c_y,ell,c_ell,xstar,ystar = self.analytics(env.init_y)\n",
    "    x = linspace(0.001,max(env.init_y[0],xstar),100)\n",
    "    ax.plot(x,y(x),c='b',ls='--',label='pursuit curve')\n",
    "    ax.axvline(0,c='g',ls='--',label='target curve')\n",
    "    ax.scatter((xstar,),(ystar,),color='r',marker='*',s=50)\n",
    "    if abs(self.q)<1: ax.scatter((0,),(c_y,),color='r',marker='*',s=50)\n",
    "    ax.set_ylim(ymax=1.1*max(c_y,ax.get_ylim()[1]))\n",
    "    ax.set_ylim(ymin=1.1*min(0,ax.get_ylim()[0]))\n",
    "    return super().displayer(env,ax)\n",
    "\n",
    "  def analytics(self,ini):\n",
    "    q = self.q\n",
    "    xo,yo,xom,yom = ini\n",
    "    assert xom==0. and yom==0.\n",
    "    r = yo/xo+sqrt(1+square(yo/xo))\n",
    "    if q == 1.:\n",
    "      p1 = r/(4.*xo)\n",
    "      p2 = xo/(2.*r)\n",
    "      c_y = yo-r*xo/4.+xo*log(xo)/(2.*r)\n",
    "      c_ell = r*xo/4.+xo*log(xo)/(2.*r)\n",
    "      y = lambda x: (p1*square(x)-p2*log(x))+c_y\n",
    "      ell = lambda x: c_ell-(p1*square(x)+p2*log(x))\n",
    "      xstar = xo/r\n",
    "      ystar = yo+xo/4.*(1./r-r+2.*log(r)/r)\n",
    "    elif q == -1.:\n",
    "      p1 = 1/(4*xo*r)\n",
    "      p2 = xo*r/2\n",
    "      c_y = yo+xo/(4.*r)-r*xo*log(xo)/2.\n",
    "      c_ell = xo/(4.*r)+r*xo*log(xo)/2.\n",
    "      y = lambda x: p2*log(x)-p1*square(x)+c_y\n",
    "      ell = lambda x: c_ell-(p2*log(x)+p1*square(x))\n",
    "      xstar = r*xo\n",
    "      ystar = yo+xo/4*(1./r-r+2.*r*log(r))\n",
    "    else:\n",
    "      p1 = r/(2.*(1.+q))\n",
    "      p2 = 1/(2.*r*(1.-q))\n",
    "      c_ell = xo*(p1+p2)\n",
    "      c_y = q*c_ell\n",
    "      y_ = lambda z: p1*z-p2/z\n",
    "      y = lambda x: x*y_((x/xo)**q)+c_y\n",
    "      ell_ = lambda z: p1*z+p2/z\n",
    "      ell = lambda x: c_ell-x*ell_((x/x_o)**q)\n",
    "      xstar = xo*r**(-1./q)\n",
    "      ystar = xo*q*(p1+p2-r**(-1./q)/(1.-square(q)))\n",
    "    return y,c_y,ell,c_ell,xstar,ystar\n",
    "\n",
    "  @staticmethod\n",
    "  def makestate(x,y):\n",
    "    r\"\"\"\n",
    "Args:\n",
    "  x,y (float): position of the pursuer (leader is always in 0,0)\n",
    "    \"\"\"\n",
    "    return array((x,y,0.,0.))\n",
    "\n",
    "  launch_defaults = dict(period=10.,cache=(100,.05),max_step=.01)"
   ]
  },
  {
   "cell_type": "code",
   "execution_count": 13,
   "metadata": {},
   "outputs": [],
   "source": [
    "#%matplotlib widget\n",
    "%matplotlib qt6\n",
    "from myutil.simpy import SimpySimulation"
   ]
  },
  {
   "cell_type": "code",
   "execution_count": 14,
   "metadata": {},
   "outputs": [
    {
     "data": {
      "text/plain": [
       "<myutil.simpy.SimpySimulation at 0x7fa5f0678980>"
      ]
     },
     "execution_count": 14,
     "metadata": {},
     "output_type": "execute_result"
    }
   ],
   "source": [
    "syst = StraightLinePursuit(q=.9,v=.2); ini = dict(x=1.,y=2.)\n",
    "#syst = StraightLinePursuit(q=-.9,v=1.); ini = dict(x=1.,y=2.) # dual of previous one\n",
    "#syst = StraightLinePursuit(q=1.1,v=.2); ini = dict(x=1.,y=2.)\n",
    "\n",
    "SimpySimulation(\n",
    "  syst.launch(init_y=ini,jac=None),\n",
    "  play_kw=dict(track=60.,frame_per_stu=25,),\n",
    ")"
   ]
  },
  {
   "cell_type": "markdown",
   "metadata": {
    "jp-MarkdownHeadingCollapsed": true
   },
   "source": [
    "## Circular target (semi analytic solution)"
   ]
  },
  {
   "cell_type": "markdown",
   "metadata": {},
   "source": [
    "We assume the origin of the referential frame is taken to be the centre of the target circle (of radius $\\hat{R}$), and the horizontal axis to be the diameter of the circle going through point $\\hat{A}$. The natural parametrisation of the target is hence given by\n",
    "\\begin{equation*}\n",
    "\\hat{x}(s) = \\hat{R}\\cos(\\frac{s}{\\hat{R}}) \\hspace{2cm} \\hat{y}(s) = \\hat{R}\\sin(\\frac{s}{\\hat{R}})\n",
    "\\end{equation*}\n",
    "There is no obvious analytic parametrisation of the pursuit curve, but the equations can be transformed into the following ODE with a single variable $\\phi$ and parameter $u$:\n",
    "\\begin{eqnarray*}\n",
    "\\phi' & = & \\frac{q}{\\frac{\\sin^2(u)}{\\sin(\\phi)}+(q-\\frac{\\sin^2(u)}{\\sin(\\phi)})\\frac{\\tan(u)}{\\tan(\\phi)}}\\\\\n",
    "\\phi(u_o) & = & \\theta_o+u_o \\hspace{.5cm}\\textrm{where}\\hspace{.5cm} u_o=\\arctan\\left(\\frac{\\sin(\\theta_o)}{\\frac{r_o}{\\hat{R}}-\\cos(\\theta_o)}\\right)\n",
    "\\end{eqnarray*}\n",
    "The other variables (in polar coordinates) are obtained by\n",
    "\\begin{equation*}\n",
    "r = \\hat{R}\\frac{\\sin(\\phi)}{\\sin(u)}\n",
    "\\hspace{2cm}\n",
    "\\theta' = \\frac{\\phi'-1}{1-q\\frac{\\sin(\\phi)}{\\sin^2(u)}}\n",
    "\\hspace{2cm}\n",
    "\\frac{q\\ell}{\\hat{R}} = \\theta+u-\\phi\n",
    "\\end{equation*}\n",
    "or alternatively\n",
    "\\begin{equation*}\n",
    "r = \\hat{R}\\frac{\\sin(\\phi)}{\\sin(u)}\n",
    "\\hspace{2cm}\n",
    "\\frac{q\\ell'}{\\hat{R}} = \\phi'(\\frac{\\tan(u)}{\\tan(\\phi)}-1)\n",
    "\\hspace{2cm}\n",
    "\\theta = \\frac{q\\ell}{\\hat{R}}-u+\\phi\n",
    "\\end{equation*}\n",
    "Cartesian coordinates can of course be recovered by\n",
    "\\begin{equation*}\n",
    "x = r\\cos(\\theta)\n",
    "\\hspace{2cm}\n",
    "y = r\\sin(\\theta)\n",
    "\\end{equation*}\n",
    "An empirical analysis indicates that, apart from singular cases:\n",
    "* when $q<1$ the pursuit curve touches the target circle at a point where they have a common tangeant\n",
    "* when $q\\geq1$ the pursuit curve asymptotically converges toward a circle with same centre as the target circle and of radius $\\frac{\\hat{R}}{q}$\n",
    "\n",
    "In both cases, the pursuit curve may also intersect the target circle, but at points where the tangeants are distinct.\n",
    "\n",
    "The program below augments the basic simulation by drawing, before the start of the simulation, a segment of the predicted pursuit curve, as well as its asymptotic circle when $q\\geq1$. Note however that since that prediction is itself obtained by a numerical method, it is not so different from the simulation."
   ]
  },
  {
   "cell_type": "code",
   "execution_count": 19,
   "metadata": {},
   "outputs": [],
   "source": [
    "class CircularPursuit (Pursuit):\n",
    "\n",
    "  def __init__(self,ω=1.,R=1.,variant='Kell',safe=False,du=.001,**ka):\n",
    "    r\"\"\"\n",
    "Args:\n",
    "  ω (float): angular speed of leader [rd.sec^-1]\n",
    "  R (float): radius of leader's circular trajectory [m]\n",
    "  variant (str): either 'theta' or 'Kell' specifying which variable is solved by integration in the primary ODE\n",
    "  safe (bool): whether to keep primary ODE within safe zone\n",
    "    \"\"\"\n",
    "    super().__init__(F=(lambda t,pos,ω=ω: ω*array((-pos[1],pos[0]))),**ka)\n",
    "    self.R = R; self.variant = variant; self.du = du; self.safe = safe\n",
    "\n",
    "  def displayer(self,env,ax):\n",
    "    from matplotlib.patches import Circle\n",
    "    n,Lu,Lφ,Lr,Lθ,Lkℓ = self.analytics(env.init_y)\n",
    "    Lx,Ly = Lr*cos(Lθ),Lr*sin(Lθ)\n",
    "    nstar = argmin(norm((Lx-self.R*cos(Lkℓ),Ly-self.R*sin(Lkℓ))))\n",
    "    ax.plot(Lx,Ly,c='b',ls='--',label='pursuit curve')\n",
    "    ax.scatter((Lx[nstar],),(Ly[nstar],),marker='*',color='r',s=50)\n",
    "    ax.add_patch(Circle((0.,0.),self.R,ec='g',fc='none',ls='--',label='target curve'))\n",
    "    if abs(self.q)>=1: ax.add_patch(Circle((0.,0.),self.R/abs(self.q),ec='b',fc='none',ls='--'))\n",
    "    for i in 0,-1: ax.annotate(r'${:.1f}\\frac{{\\pi}}{{2}}$'.format(Lu[i]*2/pi),(Lx[i],Ly[i]),fontsize='x-small',zorder=1)\n",
    "    ax.scatter((Lx[0],Lx[-1]),(Ly[0],Ly[-1]),marker='.',color='r')\n",
    "    return super().displayer(env,ax)\n",
    "\n",
    "  def analytics(self,state):\n",
    "    from scipy.integrate import solve_ivp\n",
    "    def F(u,φ_s):\n",
    "      φ,s = φ_s\n",
    "      dφ = q*sin(φ)/(square(sin(u))+tan(u)*(q*cos(φ)-square(sin(u))/tan(φ)))\n",
    "      ds = varF(u,φ,dφ)\n",
    "      return array((dφ,ds))\n",
    "    def varFtheta(u,φ,dφ): return (dφ-1)/(1-q*sin(φ)/square(sin(u)))\n",
    "    def varFKell(u,φ,dφ): return dφ*(tan(u)/tan(φ)-1)\n",
    "#     def run(direc,du=self.du):\n",
    "#       from scipy.integrate import solve_ivp\n",
    "#       while True:\n",
    "#         r = solve_ivp(fun=F,method='lsoda',t_span=t_span,y0=y0)\n",
    "    def run(direc,du=self.du): # du = .001\n",
    "      from scipy.integrate import ode\n",
    "      r = ode(F).set_integrator('lsoda').set_initial_value((φₒ,sₒ),uₒ)\n",
    "      dt = direc*du\n",
    "      while r.successful():\n",
    "        yield r.t,r.y\n",
    "        if self.safe and abs(r.t+dt)>pi/2: break\n",
    "        r.integrate(r.t+dt)\n",
    "    x,y = state[0:2]\n",
    "    r = norm((x,y))\n",
    "    θ = arctan2(y,x)\n",
    "    x_ = x-square(r)/self.R\n",
    "    uₒ = -arctan(y/x_)\n",
    "    φₒ = θ+uₒ\n",
    "    q = self.q*sign(x_)\n",
    "    varF,sₒ = dict(theta=(varFtheta,θ),Kell=(varFKell,0.))[self.variant]\n",
    "    L = list(run(-1.)); n = len(L); del L[0]\n",
    "    L.reverse(); L.extend(run(1.))\n",
    "    Lu,Lφ,Ls = array(list((u,φ,s) for u,(φ,s) in L)).T\n",
    "    Lr = self.R*sin(Lφ)/sin(Lu)\n",
    "    Lθ,Lkℓ = dict(theta=(Ls,Ls+Lu-Lφ),Kell=(Ls-Lu+Lφ,Ls))[self.variant]\n",
    "    if n == len(L): n -= 1\n",
    "    return n,Lu,Lφ,Lr,Lθ,Lkℓ\n",
    "\n",
    "  @staticmethod\n",
    "  def makestate(x,y):\n",
    "    r\"\"\"\n",
    "Args:\n",
    "  x,y (float): position of the pursuer (leader is in 1,0)\n",
    "    \"\"\"\n",
    "    return array((x,y,1.,0.))\n",
    "\n",
    "  launch_defaults = dict(period=10.,cache=(100,.05),max_step=.01)"
   ]
  },
  {
   "cell_type": "code",
   "execution_count": 20,
   "metadata": {},
   "outputs": [],
   "source": [
    "#%matplotlib widget\n",
    "%matplotlib qt6\n",
    "from myutil.simpy import SimpySimulation"
   ]
  },
  {
   "cell_type": "code",
   "execution_count": 36,
   "metadata": {},
   "outputs": [
    {
     "data": {
      "text/plain": [
       "<myutil.simpy.SimpySimulation at 0x7fa5c5c3b380>"
      ]
     },
     "execution_count": 36,
     "metadata": {},
     "output_type": "execute_result"
    }
   ],
   "source": [
    "#syst = CircularPursuit(q=.9,ω=.5); ini = dict(x=-.8,y=-.2)\n",
    "#syst = CircularPursuit(q=-.9,ω=.5); ini = dict(x=-.8,y=-.2) # dual of previous\n",
    "#syst = CircularPursuit(q=.5,ω=.1); ini = dict(x=.5,y=-.1)\n",
    "#syst = CircularPursuit(q=.5,ω=.05); ini = dict(x=-.2,y=.4)\n",
    "#syst = CircularPursuit(q=-1.3,ω=.1); ini = dict(x=.3,y=.5)\n",
    "syst = CircularPursuit(q=1.3,ω=1.); ini = dict(x=-3.,y=-1.)\n",
    "\n",
    "SimpySimulation(\n",
    "  syst.launch(init_y=ini),\n",
    "  play_kw=dict(track=60.,frame_per_stu=25,),\n",
    ")"
   ]
  },
  {
   "cell_type": "code",
   "execution_count": null,
   "metadata": {},
   "outputs": [],
   "source": []
  }
 ],
 "metadata": {
  "anaconda-cloud": {},
  "kernelspec": {
   "display_name": "Python 3 (ipykernel)",
   "language": "python",
   "name": "python3"
  },
  "language_info": {
   "codemirror_mode": {
    "name": "ipython",
    "version": 3
   },
   "file_extension": ".py",
   "mimetype": "text/x-python",
   "name": "python",
   "nbconvert_exporter": "python",
   "pygments_lexer": "ipython3",
   "version": "3.12.8"
  },
  "varInspector": {
   "cols": {
    "lenName": 16,
    "lenType": 16,
    "lenVar": 40
   },
   "kernels_config": {
    "python": {
     "delete_cmd_postfix": "",
     "delete_cmd_prefix": "del ",
     "library": "var_list.py",
     "varRefreshCmd": "print(var_dic_list())"
    },
    "r": {
     "delete_cmd_postfix": ") ",
     "delete_cmd_prefix": "rm(",
     "library": "var_list.r",
     "varRefreshCmd": "cat(var_dic_list()) "
    }
   },
   "types_to_exclude": [
    "module",
    "function",
    "builtin_function_or_method",
    "instance",
    "_Feature"
   ],
   "window_display": false
  }
 },
 "nbformat": 4,
 "nbformat_minor": 4
}
