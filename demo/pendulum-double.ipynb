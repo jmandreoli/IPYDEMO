{
 "cells": [
  {
   "cell_type": "markdown",
   "metadata": {
    "tags": []
   },
   "source": [
    "# Double Pendulum system\n",
    "\n",
    "<img align=\"right\" width=\"150\" src=\"pendulum-double.png\">\n",
    "\n",
    "Consider the system composed of two pendulums of length $l_1,l_2$, and mass $m_1,m_2$ concentrated at one end, respectively. The pivot of the first pendulum is attached to a fix point, that of the second pendulum is attached to the dangling bob of the first pendulum. The system is submitted to a uniform, constant gravitational acceleration field $g$ and evolves without friction.\n",
    "\n",
    "The generalised coordinates of the system are the angles $\\theta_1,\\theta_2$ of each pendulum with the vertical downward direction. The standard (Cartesian) coordinates are then given by\n",
    "\n",
    "\\begin{equation*}\n",
    "\\begin{array}{rcl}\n",
    "x_1 & = & l_1\\sin\\theta_1\\\\\n",
    "y_1 & = & -l_1\\cos\\theta_1\n",
    "\\end{array}\n",
    "\\hspace{2cm}\n",
    "\\begin{array}{rcl}\n",
    "x_2 & = & l_1\\sin\\theta_1+l_2\\sin\\theta_2\\\\\n",
    "y_2 & = & -l_1\\cos\\theta_1-l_2\\cos\\theta_2\n",
    "\\end{array}\n",
    "\\end{equation*}\n",
    "\n",
    "The only active forces are the weights of the form $-\\nabla V(x_i,y_i|m_i)$ with $V(x,y|m)=mgy$. Hence the Lagrangian\n",
    "\n",
    "\\begin{align*}\n",
    "\\mathcal{L} & =\\hspace{.2cm}\n",
    "\\underbrace{\n",
    "\\frac{1}{2}m_1l_1^2\\dot{\\theta}_1^2+\\frac{1}{2}m_2(l_1^2\\dot{\\theta}_1^2+l_2^2\\dot{\\theta}_2^2+\n",
    "2l_1l_2\\dot{\\theta}_1\\dot{\\theta}_2\\cos(\\theta_1-\\theta_2))\n",
    "}_{\\textrm{kinetic energy}}\n",
    "\\underbrace{\n",
    "+m_1gl_1\\cos\\theta_1+m_2g(l_1\\cos\\theta_1+l_2\\cos\\theta_2)\n",
    "}_{-\\textrm{potential energy}}\\\\\n",
    "& =\\hspace{.2cm}\n",
    "\\frac{1}{2}ml_1^2\\dot{\\theta}_1^2+\\frac{1}{2}m_2l_2^2\\dot{\\theta}_2^2+\n",
    "m_2l_1l_2\\dot{\\theta}_1\\dot{\\theta}_2\\cos\\Delta+\n",
    "mgl_1\\cos\\theta_1+m_2gl_2\\cos\\theta_2\n",
    "\\end{align*}\n",
    "\n",
    "where $m\\triangleq m_1+m_2$ and $\\Delta\\triangleq\\theta_1-\\theta_2$. After simplification, the equations of the dynamics are given by:\n",
    "\n",
    "\\begin{equation*}\n",
    "\\begin{array}{rrcl}\n",
    "\\left[\\frac{\\mathbf{d}}{\\mathbf{d}t}\\frac{\\partial\\mathcal{L}}{\\partial\\dot{\\theta}_1} = \\frac{\\partial\\mathcal{L}}{\\partial\\theta_1}\\right]\n",
    "\\hspace{1.5cm} &\n",
    "ml_1\\ddot{\\theta}_1+m_2l_2\\ddot{\\theta}_2\\cos\\Delta\n",
    "& = &\n",
    "-m_2l_2\\dot{\\theta}_2^2\\sin\\Delta-mg\\sin\\theta_1\n",
    "\\\\\n",
    "\\left[\\frac{\\mathbf{d}}{\\mathbf{d}t}\\frac{\\partial\\mathcal{L}}{\\partial\\dot{\\theta}_2} = \\frac{\\partial\\mathcal{L}}{\\partial\\theta_2}\\right]\n",
    "\\hspace{1.5cm} &\n",
    "m_2l_1\\ddot{\\theta}_1\\cos\\Delta+m_2l_2\\ddot{\\theta}_2\n",
    "& = &\n",
    "m_2l_1\\dot{\\theta}_1^2\\sin\\Delta-m_2g\\sin\\theta_2\n",
    "\\end{array}\n",
    "\\end{equation*}\n",
    "\n",
    "which rewrites as\n",
    "\n",
    "\\begin{equation*}\n",
    "\\left\\{\n",
    "\\begin{array}{rcl}\n",
    "ab\\ddot{\\theta}_1 + \\ddot{\\theta}_2\\cos\\Delta & = & u\n",
    "\\\\\n",
    "b\\ddot{\\theta}_1\\cos\\Delta + \\ddot{\\theta}_2 & = & v\n",
    "\\end{array}\n",
    "\\right.\n",
    "\\hspace{1cm}\\textrm{where}\\hspace{1cm}\n",
    "\\left|\n",
    "\\begin{array}{l}\n",
    "a \\triangleq \\frac{m}{m_2}=1+\\frac{m_1}{m_2}\n",
    "\\hspace{1cm}\n",
    "b \\triangleq \\frac{l_1}{l_2}\n",
    "\\hspace{1cm}\n",
    "c \\triangleq \\frac{g}{l_2}\n",
    "\\\\\n",
    "u \\triangleq -\\dot{\\theta}_2^2\\sin\\Delta-ac\\sin\\theta_1\n",
    "\\hspace{1cm}\n",
    "v \\triangleq b\\dot{\\theta}_1^2\\sin\\Delta-c\\sin\\theta_2\n",
    "\\end{array}\n",
    "\\right.\n",
    "\\end{equation*}\n",
    "\n",
    "The solution in $\\ddot{\\theta}_1,\\ddot{\\theta}_2$ is therefore\n",
    "\n",
    "\\begin{equation*}\n",
    "\\left\\{\n",
    "\\begin{array}{rcl}\n",
    "\\ddot{\\theta}_1 & = &\n",
    "\\frac{u-v\\cos\\Delta}{b(a-\\cos^2\\Delta)}\n",
    "\\\\\n",
    "\\ddot{\\theta}_2 & = &\n",
    "\\frac{av-u\\cos\\Delta}{a-\\cos^2\\Delta}\n",
    "\\end{array}\n",
    "\\right.\n",
    "\\end{equation*}"
   ]
  },
  {
   "cell_type": "code",
   "execution_count": 1,
   "metadata": {
    "jupyter": {
     "is_executing": true
    },
    "tags": []
   },
   "outputs": [],
   "source": [
    "import logging; logging.basicConfig(level=logging.WARNING); logging.captureWarnings(True)\n",
    "from numpy import sin,cos,pi,square,sqrt,clip,array,radians\n",
    "from ipyshow.odesimu import System"
   ]
  },
  {
   "cell_type": "markdown",
   "metadata": {},
   "source": [
    "## DoublePendulum class"
   ]
  },
  {
   "cell_type": "code",
   "execution_count": 2,
   "metadata": {},
   "outputs": [],
   "source": [
    "#----------------------------------------------------------------------------------------------------\n",
    "class DoublePendulum (System):\n",
    "#----------------------------------------------------------------------------------------------------\n",
    "\n",
    "  def __init__(self,L1,L2,M1,M2,G):\n",
    "    r\"\"\"\n",
    "Args:\n",
    "  G (float): intensity of the gravitation [m.sec^-2]\n",
    "  L1,L2 (float): lengths of the pendulums [m]\n",
    "  M1,M2 (float): masses of the pendulums [kg]\n",
    "    \"\"\"\n",
    "    self.L1, self.L2, self.M1, self.M2, self.G = L1, L2, M1, M2, G\n",
    "    def fun(t,state,a=1+M1/M2,b=L1/L2,c=G/L2):\n",
    "      θ1,θ1ʹ,θ2,θ2ʹ = state\n",
    "      Δ = θ1-θ2\n",
    "      cosΔ, sinΔ = cos(Δ), sin(Δ)\n",
    "      u = -square(θ2ʹ)*sinΔ-a*c*sin(θ1)\n",
    "      v = b*square(θ1ʹ)*sinΔ-c*sin(θ2)\n",
    "      D = a-square(cosΔ)\n",
    "      θ1ʺ = (u-v*cosΔ)/(D*b)\n",
    "      θ2ʺ = (a*v-u*cosΔ)/D\n",
    "      return array((θ1ʹ,θ1ʺ,θ2ʹ,θ2ʺ))\n",
    "    self.fun = fun\n",
    "    self.jac = None\n",
    "    def cartesian(state):\n",
    "      θ1,ω1,θ2,ω2 = state\n",
    "      z1 = L1*array((sin(θ1),-cos(θ1)))\n",
    "      z2 = z1+L2*array((sin(θ2),-cos(θ2)))\n",
    "      return z1,z2\n",
    "    self.cartesian = cartesian\n",
    "\n",
    "  def displayer(self,env,ax,refsize=80):\n",
    "    r\"\"\"\n",
    "Args:\n",
    "  refsize (int): reference dimension for the blobs [pt^2]\n",
    "    \"\"\"\n",
    "    ax.set_title(r'trajectory:cahotic',fontsize='x-small')\n",
    "    L = 1.05*(self.L1+self.L2)\n",
    "    ax.set(xlim=(-L,L),ylim=(-L,L))\n",
    "    ax.scatter((0.,),(0.,),c='k',marker='o',s=refsize)\n",
    "    m1,m2 = self.M1,self.M2\n",
    "    r = clip(sqrt(m1/m2),1./refsize,refsize)\n",
    "    sz = (refsize*r,refsize/r)\n",
    "    a_poles, = ax.plot((),(),'k')\n",
    "    a_bobs = ax.scatter((0,0),(0,0),s=sz,marker='o',c=['b','r'])\n",
    "    a_tail, = ax.plot((),(),'y')\n",
    "    def disp():\n",
    "      (x1,y1),(x2,y2) = self.cartesian(env.state)\n",
    "      a_poles.set_data((0,x1,x2),(0,y1,y2))\n",
    "      a_bobs.set_offsets(((x1,y1),(x2,y2)))\n",
    "      a_tail.set_data(*self.cartesian(env.cached_states)[1])\n",
    "    return disp\n",
    "\n",
    "  @staticmethod\n",
    "  def makestate(θ1,θ2,θ1ʹ=0.,θ2ʹ=0.):\n",
    "    r\"\"\"\n",
    "Args:\n",
    "  θ1,θ2 (float): angles of the pendulums with downward vertical [deg]\n",
    "  θ1ʹ,θ2ʹ (float): angular speeds [deg.sec^-1]\n",
    "    \"\"\"\n",
    "    return radians((θ1,θ1ʹ,θ2,θ2ʹ))\n",
    "\n",
    "  launch_defaults = {'period':10.,'cache_spec':(60,.025),'max_step':.05}"
   ]
  },
  {
   "cell_type": "code",
   "execution_count": 3,
   "metadata": {},
   "outputs": [],
   "source": [
    "#%matplotlib qt6\n",
    "%matplotlib widget\n",
    "from myutil.simpy import SimpySimulation"
   ]
  },
  {
   "cell_type": "code",
   "execution_count": 4,
   "metadata": {},
   "outputs": [
    {
     "data": {
      "application/vnd.jupyter.widget-view+json": {
       "model_id": "bcfb46dffc06403886c36e32f28ac233",
       "version_major": 2,
       "version_minor": 0
      },
      "text/plain": [
       "IPYControlledAnimation(children=(VBox(children=(HBox(children=(SimpleButton(icon='close', layout=Layout(paddin…"
      ]
     },
     "execution_count": 4,
     "metadata": {},
     "output_type": "execute_result"
    },
    {
     "data": {
      "application/vnd.jupyter.widget-view+json": {
       "model_id": "4b7e006d9d6a4c6aa89a8269c74cf378",
       "version_major": 2,
       "version_minor": 0
      },
      "image/png": "[encoded data removed]",
      "text/html": [
       "\n",
       "            <div style=\"display: inline-block;\">\n",
       "                <div class=\"jupyter-widgets widget-label\" style=\"text-align: center;\">\n",
       "                    Figure\n",
       "                </div>\n",
       "                <img src='data:image/png;base64,iVBORw0KGgoAAAANSUhEUgAAAoAAAAHgCAYAAAA10dzkAAAAOnRFWHRTb2Z0d2FyZQBNYXRwbG90bGliIHZlcnNpb24zLjEwLjUsIGh0dHBzOi8vbWF0cGxvdGxpYi5vcmcvWftoOwAAAAlwSFlzAAAPYQAAD2EBqD+naQAAJqhJREFUeJzt3Xt01PWd//HXJAxDYhMFZlGRQCK1ghsgmMSsXAqshsvqeuvS0gQQF6kpEUR6TtGllUAR3ILoikdubrOojVKPS2WLKOmPVVqRlQZtWZVwoKZwiAqhNhMJjkPy+f2RTTTNhYjJfGHez8c5njLf+Q55v4dz5jz7nWHwOeecAAAAYEac1wMAAAAgughAAAAAYwhAAAAAYwhAAAAAYwhAAAAAYwhAAAAAYwhAAAAAYwhAAAAAYwhAAAAAYwhAAAAAYwhAAAAAYwhAAAAAYwhAAAAAYwhAAAAAYwhAAAAAYwhAAAAAYwhAAAAAYwhAAAAAYwhAAAAAYwhAAAAAYwhAAAAAYwhAAAAAYwhAAAAAYwhAAAAAYwhAAAAAYwhAAAAAYwhAAAAAYwhAAAAAYwhAAAAAYwhAAAAAYwhAAAAAYwhAAAAAYwhAAAAAYwhAAAAAYwhAAAAAYwhAAAAAYwhAAAAAYwhAAAAAYwhAAAAAYwhAAAAAYwhAAFH3l7/8RU8++eSXesyWLVv02GOPfemf9eqrr+p3v/vdl35cZ/qP//gP3XfffR0+/+2339avf/3rptsPPPCAdu3a1RWjATCKAAQQdW0FYF1dXZuPuemmmzR37twv/bPOJgDbmyMa/joAlyxZohEjRng4EYBYQwACiLqFCxdq3759ysjI0EMPPaT8/HxNmjRJt99+uw4dOqRRo0bp6quv1ogRI7R//35Jza+iffTRR7r55puVlZWl0aNH68CBA5Kk/fv3a+zYsRo2bJhycnL0pz/9SWvXrtWDDz6ojIwMvfvuu9q7d6+uueYaDR06VNOnT9enn34qSUpNTdVPfvIT/d3f/Z2WL1+u6dOnN837b//2b1q6dGmzHSorK3XjjTdq2LBhyszM1JEjR9qcXZIqKip03XXXaeDAgfrZz34mSXLOad68eUpPT1dGRoZ+/etfq66uTg888ICKi4ubjs2YMUMvv/yyJGnXrl3KycnRsGHDNGnSpC76EwIQ8xwARNn777/vcnJynHPOFRcXuyuuuMKFQiHnnHMnT550n376qXPOuf/5n/9xt956a9N5CxYscM45993vfteVlZU555zbvXu3u+GGG5xzzmVlZbkdO3Y455z7y1/+4urq6tyiRYvcmjVrmn72kCFD3J49e5xzzn3/+993q1atcs45N2DAALd27VrnnHOnT5923/jGN9wnn3zinHMuOzvbvf/+++7HP/6xe/HFF51zzn3rW99yxcXFzjnnamtrXW1tbbuzp6enu9raWvfBBx+4/v37O+ece/75591NN93k6urq3Pvvv+/S0tLcqVOnmu3qnHO3336727Ztm/v000/dwIED3bvvvuucc+7EiRNf6c8BgF3dvA5QAJgwYYKSkpIkSeFwWIWFhfrDH/6g+Pj4pit0X7Rjxw69++67Tbfj4+MVCoVUU1OjcePGSZIuvPDCFo+rrq7W6dOnlZWVJUm6/fbb9dBDD+nee++VJP3TP/1T0+9366236j//8z+VnZ2txMREpaamasmSJU2/1xtvvKHnn39ekpSQkCBJ+vjjj9uc/frrr1dCQoISEhLknFMkEtFvf/tb5efnKy4uTqmpqbryyitVXl7e5vNUXl6ur3/96xo8eLAkqVevXmd6agGgVQQgAM9dcMEFTb9+5JFHdOWVV+rnP/+5qqqqlJ2d3eJ8n8+nvXv3Ki7u80+xhEIh+Xy+dn+Oc67V36u1OWbMmKG5c+dq//79mjZtWruP68jsgUCg6ddxcXFtfs7wTDsAQGfgM4AAoi4pKUmffPJJq/fV1NTokksukc/n08aNG1s9Z/To0U1/iaS+vl779u1TcnKykpOT9d///d+SGq721dfXN/tZF110kbp169b0l0I2btyo0aNHt/ozBg0apJMnT+rZZ5/V5MmTW9w/YsSIpvk+/fRTnTp1qkOzf9GoUaP085//XPX19aqoqND+/fv1jW98o83nZ9CgQTp06JDee+89SdKf//znM/4MAGgNAQgg6nr37q0hQ4bo6quv1vHjx5vdV1BQoMcff1wjRoxoEUGNV8dWr16tbdu2adiwYUpPT9fWrVslSU899ZQWLVqkYcOGacKECYpEIvrHf/xHPfPMM8rOztZ7772n4uJizZ49W0OGDNEnn3yi73//+23OOXnyZOXk5Cg5OVlSw9exbNmyRVLDXwz5xS9+oaFDh2rkyJE6ceJEu7O35rbbblNaWpqGDh2qW265RRs2bFCPHj00duxYvfnmm8rOztaOHTuazu/evbueeuopTZ8+XcOGDWv1yiQAdITPtfaeCACcYx5++GGdPn1aCxYsiNrPnDp1qqZPn67x48dH7WcCQDRwBRDAOe+pp57Sxo0bW30rtqsMGzZMNTU1ys3NjdrPBIBo4QogAACAMVwBBAAAMIYABAAAMIYABAAAMIYABAAAMIYABAAAMIZ/Cg5npb6+XpWVlUpKSuKfrgKA85BzTjU1Nerbt2+zf1YRNhCAOCuVlZVKSUnxegwAwFd05MgR9evXz+sxEGUEIM5KUlKSpIYXjsZ/JuuvRSIRbd++XePHj5ff74/meFFnZVcre0rsGous7Cl1bNdQKKSUlJSm13PYQgDirDS+7ZucnNxuACYmJio5OdnEi62FXa3sKbFrLLKyp/TlduVjPDbxpj8AAIAxBKBhR48e1dSpU9W7d28lJiYqIyNDZWVlXo8FAAC6GG8BG/Xxxx9r5MiRGjdunLZt26Y+ffro0KFDuuiii7weDQAAdDEC0Kh//dd/VUpKioqLi5uOpaamejcQAACIGgLQqC1btmjChAmaPHmyXnvtNV122WWaPXu2Zs2a1er54XBY4XC46XYoFJLU8EHjSCTS6mMaj7d1fyyxsquVPSV2jUVW9pQ6tquF5wFt8znnnNdDIPp69OghSZo/f74mT56sN998U/PmzdO6des0ffr0FucXFRVp8eLFLY6XlJQoMTGxy+cFAHSu2tpa5eXlqbq6us1vc0DsIgCN6t69u7KysrRr166mY3PnztWePXv0xhtvtDi/tSuAKSkpqqqqavdrYEpLS5Wbm2viKxcs7GplT4ldY5GVPaWO7RoKhRQMBglAo3gL2KhLL71UV111VbNjgwcP1gsvvNDq+YFAQIFAoMVxv99/xhfSjpwTK6zsamVPiV1jkZU9pfZ3tfIcoHV8DYxRI0eOVHl5ebNjBw4c0IABAzyaCAAARAsBaNS9996r3bt3a9myZTp48KBKSkq0fv16FRYWej0aAADoYgSgUdnZ2dq8ebOeffZZpaen6yc/+YkeffRR5efnez0aAADoYnwG0LAbb7xRN954o9djAACAKOMKIAAAgDEEIAAAgDEEIAAAgDEEIAAAgDEEIAAAgDEEIAAAgDEEIAAAgDEEIAAAgDEEIAAAgDEEIAAAgDEEIAAAgDEEIAAAgDEEIAAAgDEEIAAAgDEEIAAAgDEEIAAAgDEEIAAAgDEEIAAAgDEEIAAAgDEEIAAAgDEEIAAAgDEEIAAAgDEEIAAAgDEEIAAAgDEEIAAAgDEEIAAAgDEEIAAAgDEEIAAAgDEEIAAAgDEEIAAAgDEEIAAAgDEEIAAAgDEEIAAAgDEEIAAAgDEEIAAAgDEEIAAAgDEEIAAAgDEEIAAAgDEEIAAAgDEEIAAAgDEEIAAAgDEEIAAAgDEEIAAAgDEEIAAAgDEEIAAAgDEEIAAAgDEEIAAAgDEEIAAAgDEEILR8+XL5fD7NmzfP61EAAEAUEIDG7dmzR+vXr9fQoUO9HgUAAEQJAWjYJ598ovz8fG3YsEE9e/b0ehwAABAl3bweAN4pLCzUDTfcoOuvv15Lly5t99xwOKxwONx0OxQKSZIikYgikUirj2k83tb9scTKrlb2lNg1FlnZU+rYrhaeB7TN55xzXg+B6Hvuuef04IMPas+ePerRo4fGjh2rjIwMPfroo62eX1RUpMWLF7c4XlJSosTExC6eFgDQ2Wpra5WXl6fq6molJyd7PQ6ijAA06MiRI8rKytL27ds1bNgwSTpjALZ2BTAlJUVVVVVtvnBEIhGVlpYqNzdXfr+/0/c4l1jZ1cqeErvGIit7Sh3bNRQKKRgMEoBG8RawQWVlZTp27JgyMzObjtXV1Wnnzp16/PHHFQ6HFR8f3+wxgUBAgUCgxe/l9/vP+ELakXNihZVdrewpsWsssrKn1P6uVp4DtI4ANOi6667Tvn37mh274447NGjQIC1YsKBF/AEAgNhCABqUlJSk9PT0ZscuuOAC9e7du8VxAAAQe/gaGAAAAGO4AghJ0quvvur1CAAAIEq4AggAAGAMAQgAAGAMAQgAAGAMAQgAAGAMAQgAAGAMAQgAAGAMAQgAAGAMAQgAAGAMAQgAAGAMAQgAAGAMAQgAAGAMAQgAAGAMAQgAAGAMAQgAAGAMAQgAAGAMAQgAAGAMAQgAAGAMAQgAAGAMAQgAAGAMAQgAAGAMAQgAAGAMAQgAAGAMAQgAAGAMAQgAAGAMAQgAAGAMAQgAAGAMAQgAAGAMAQgAAGAMAQgAAGAMAQgAAGAMAQgAAGAMAQgAAGAMAQgAAGAMAQgAAGAMAQgAAGAMAQgAAGAMAQgAAGAMAQgAAGAMAQgAAGAMAQgAAGAMAQgAAGAMAQgAAGAMAQgAAGAMAQgAAGAMAQgAAGAMAQgAAGAMAQgAAGAMAWjU8uXLlZ2draSkJPXp00e33HKLysvLvR4LAABEAQFo1GuvvabCwkLt3r1bpaWlOn36tMaPH6+TJ096PRoAAOhi3bweAN54+eWXm90uLi5Wnz59VFZWpm9+85seTQUAAKKBK4CQJFVXV0uSevXq5fEkAACgq3EFEHLOaf78+Ro1apTS09NbPSccDiscDjfdDoVCkqRIJKJIJNLqYxqPt3V/LLGyq5U9JXaNRVb2lDq2q4XnAW3zOeec10PAW4WFhdq6dat++9vfql+/fq2eU1RUpMWLF7c4XlJSosTExK4eEQDQyWpra5WXl6fq6molJyd7PQ6ijAA0bs6cOfrlL3+pnTt3Ki0trc3zWrsCmJKSoqqqqjZfOCKRiEpLS5Wbmyu/39/ps59LrOxqZU+JXWORlT2lju0aCoUUDAYJQKN4C9go55zmzJmjzZs369VXX203/iQpEAgoEAi0OO73+8/4QtqRc2KFlV2t7CmxayyysqfU/q5WngO0jgA0qrCwUCUlJXrxxReVlJSkDz/8UJJ04YUXKiEhwePpAABAV+JvARu1Zs0aVVdXa+zYsbr00kub/tu0aZPXowEAgC7GFUCj+OgnAAB2cQUQAADAGAIQAADAGAIQAADAGAIQAADAGAIQAADAGAIQAADAGAIQAADAGAIQAADAGAIQAADAGAIQAADAGAIQAADAGAIQAADAGAIQAADAGAIQAADAGAIQAADAGAIQAADAGAIQAADAGAIQAADAGAIQAADAGAIQAADAGAIQAADAGAIQAADAGAIQAADAGAIQAADAGAIQAADAGAIQAADAGAIQAADAGAIQAADAGAIQAADAGAIQAADAGAIQAADAGAIQAADAGAIQAADAGAIQAADAGAIQAADAGAIQAADAGAIQAADAGAIQAADAGAIQAADAGAIQAADAGAIQAADAGAIQAADAGAIQAADAmG5eDwAA55Ljx6WXX5ZOnJDS0qTnnpMmTpT+5m+8ngwAOg9XAAFA0htvSPn5Ut++0vTp0o9+1HD8rrsajk2d2nAOAMQCAhCAafX10g9+II0YIf3iF9Lp058fb3T6tLRpU8M5P/hB8/sA4HzEW8AAzHJOKiiQNmxouN0Yf/93b7NzG+9btUqqqZHWrZN8vqiMCQCdjiuAAMxau/bz+JOkeJ3WVD2t3bpGJ9RbkvT/NE5T9bTi9XkdbtjQEIAAcL4iAA174oknlJaWph49eigzM1O/+c1vvB4JiJq6Omn58s9vd1dYW3STntZ0ZalM3VQnSRqut/W0putF3azuCv/f2U7LlvFWMIDzFwFo1KZNmzRv3jwtXLhQb731lkaPHq1Jkybp8OHDXo8GRMUrr0hHjnx++yHdpwl6RZIUr8/LrvHXE/WyHtJ9/3fUpyNHGn4PADgfEYBGrVq1SjNnztSdd96pwYMH69FHH1VKSorWrFnj9WhAVGzYIMXHN/w6WdUq0Npm4ffX4lWvAq1Vsqobbsc7rV8fjUkBoPPxl0AM+uyzz1RWVqb77ruv2fHx48dr165drT4mHA4rHA433Q6FQpKkSCSiSCTS6mMaj7d1fyyxsmss7VlRIXXv3vDrG/WyusmniBKa7o8kJDT7X6nhBfNGvazNuk2S9Kc/STHwVMTUn2t7rOwpdWxXC88D2uZzzrkzn4ZYUllZqcsuu0yvv/66RowY0XR82bJl2rhxo8rLy1s8pqioSIsXL25xvKSkRImJiV06LwCg89XW1iovL0/V1dVKTk72ehxEGVcADfP91XdYOOdaHGt0//33a/78+U23Q6GQUlJSNH78+DZfOCKRiEpLS5Wbmyu/3995g5+DrOwaS3uOGCG9807DrydqmzZpSrP7IwkJKv3Zz5T7z/8s/6lTTce/rU16RRMlSenp0uuvR23kLhNLf67tsbKn1LFdG9/JgU0EoEHBYFDx8fH68MMPmx0/duyYLr744lYfEwgEFAgEWhz3+/1nfCHtyDmxwsqusbDnkCHS2283fL/frzRR1UpUUCdanOc/daopAKvUW1s1QRH5FR/vNGSIT+f509BMLPy5doSVPaX2d7XyHKB1/CUQg7p3767MzEyVlpY2O15aWtrsLWEgls2e/fmXO0fUXUv0wBkfs0QPKKKGDw7W1fk0e3ZXTggAXYcrgEbNnz9f06ZNU1ZWlq699lqtX79ehw8fVkFBgdejAVGRlSUNHy79/vcN3+e3WnPUR8f0Iz2oyBdeGiPqJr+kpVqo1ZojSfL5nDIyfMrM9Gh4APiKCECjvvOd7+jEiRNasmSJPvjgA6Wnp+ull17SgAEDvB4NiJply6R/+IfGWz79WEtVojwVaK2u1ZuSpH/XTD2h72m/Bn/hkT4tWxbtaQGg8/AWsGGzZ89WRUWFwuGwysrK9M1vftPrkYComjhRWr26+bH3dJXu0WMao4Z/GWeBfvqF+Gv40oTHH294LACcrwhAAKYVFkrPPCP16CH5fA3//TWfz8nnk3r08OmZZ8Rn/wCc9whAAObl50uVldKqVVJqasv709J8euSRhnPy86M+HgB0Oj4DCACSevaU5s2T5s6Vysul48eljz+W3nxTuuoqKY7/uwwghvCSBgBfEBcnDR4sXXttw+0rryT+AMQeXtYAAACMIQABAACMIQABAACMIQABAACMIQABAACMIQABAACMIQABAACMIQABAACMIQABAACMIQABAACMIQABAACMIQABAACMIQABAACMIQABAACMIQABAACMIQABAACMIQABAACMIQABAACMIQABAACMIQABAACMIQABAACMIQABAACMIQABAACMIQABAACMIQABAACMIQABAACMIQABAACMIQABAACMIQABAACMIQABAACMIQABAACMIQABAACMIQABAACMIQABAACMIQABAACMIQABAACMIQABAACMIQABAACMIQABAACMIQABAACMIQABAACMIQABAACMIQABAACMIQABAACMIQCNqaio0MyZM5WWlqaEhAQNHDhQixYt0meffeb1aAAAIEq6eT0Aomv//v2qr6/XunXr9PWvf13/+7//q1mzZunkyZNauXKl1+MBAIAoIACNmThxoiZOnNh0+/LLL1d5ebnWrFlDAAIAYAQBCFVXV6tXr17tnhMOhxUOh5tuh0IhSVIkElEkEmn1MY3H27o/lljZ1cqeErvGIit7Sh3b1cLzgLb5nHPO6yHgnUOHDunqq6/Www8/rDvvvLPN84qKirR48eIWx0tKSpSYmNiVIwIAukBtba3y8vJUXV2t5ORkr8dBlBGAMaKtQPuiPXv2KCsrq+l2ZWWlxowZozFjxujJJ59s97GtXQFMSUlRVVVVmy8ckUhEpaWlys3Nld/v/xLbnH+s7GplT4ldY5GVPaWO7RoKhRQMBglAo3gLOEbcfffdmjJlSrvnpKamNv26srJS48aN07XXXqv169ef8fcPBAIKBAItjvv9/jO+kHbknFhhZVcre0rsGous7Cm1v6uV5wCtIwBjRDAYVDAY7NC5R48e1bhx45SZmani4mLFxfFtQAAAWEIAGlNZWamxY8eqf//+WrlypY4fP9503yWXXOLhZAAAIFoIQGO2b9+ugwcP6uDBg+rXr1+z+/g4KAAANvDenzEzZsyQc67V/wAAgA0EIAAAgDEEIAAAgDEEIAAAgDEEIAAAgDEEIAAAgDEEIAAAgDEEIAAAgDEEIAAAgDEEIAAAgDEEIAAAgDEEIAAAgDEEIAAAgDEEIAAAgDEEIAAAgDEEIAAAgDEEIAAAgDEEIAAAgDEEIAAAgDEEIAAAgDEEIAAAgDEEIAAAgDEEIAAAgDEEIAAAgDEEIAAAgDEEIAAAgDEEIAAAgDEEIAAAgDEEIAAAgDEEIAAAgDEEIAAAgDEEIAAAgDEEIAAAgDEEIAAAgDEEIAAAgDEEIAAAgDEEIAAAgDEEIAAAgDEEIAAAgDEEIAAAgDEEIAAAgDEEIAAAgDEEIAAAgDEEIAAAgDEEIAAAgDEEIAAAgDEEIAAAgDEEIAAAgDEEoGHhcFgZGRny+Xx6++23vR4HAABECQFo2A9/+EP17dvX6zEAAECUEYBGbdu2Tdu3b9fKlSu9HgUAAERZN68HQPR99NFHmjVrln75y18qMTHR63EAAECUEYDGOOc0Y8YMFRQUKCsrSxUVFR16XDgcVjgcbrodCoUkSZFIRJFIpNXHNB5v6/5YYmVXK3tK7BqLrOwpdWxXC88D2uZzzjmvh8BXV1RUpMWLF7d7zp49e7Rr1y5t2rRJO3fuVHx8vCoqKpSWlqa33npLGRkZX/r3Lykp4SoiAJyHamtrlZeXp+rqaiUnJ3s9DqKMAIwRVVVVqqqqavec1NRUTZkyRf/1X/8ln8/XdLyurk7x8fHKz8/Xxo0bW31sa1cAU1JSVFVV1eYLRyQSUWlpqXJzc+X3+89iq/OHlV2t7CmxayyysqfUsV1DoZCCwSABaBRvAceIYDCoYDB4xvMee+wxLV26tOl2ZWWlJkyYoE2bNiknJ6fNxwUCAQUCgRbH/X7/GV9IO3JOrLCyq5U9JXaNRVb2lNrf1cpzgNYRgMb079+/2e2vfe1rkqSBAweqX79+XowEAACijK+BAQAAMIYrgMalpqaKj4ECAGALVwABAACMIQABAACMIQABAACMIQABAACMIQABAACMIQABAACMIQABAACMIQABAACMIQABAACMIQABAACMIQABAACMIQABAACMIQABAACMIQABAACMIQABAACMIQABAACMIQABAACMIQABAACMIQABAACMIQABAACMIQABAACMIQABAACMIQABAACMIQABAACMIQABAACMIQABAACMIQABAACMIQABAACMIQABAACMIQABAACMIQABAACMIQABAACMIQABAACMIQABAACMIQABAACMIQABAACMIQABAACMIQABAACMIQABAACMIQABAACMIQABAACMIQABAACMIQABAACMIQABAACMIQABAACMIQABAACMIQABAACMIQABAACMIQCN2rp1q3JycpSQkKBgMKjbbrvN65EAAECUdPN6AETfCy+8oFmzZmnZsmX6+7//eznntG/fPq/HAgAAUUIAGnP69Gndc889WrFihWbOnNl0/Morr/RwKgAAEE0EoDF79+7V0aNHFRcXp+HDh+vDDz9URkaGVq5cqb/9279t83HhcFjhcLjpdigUkiRFIhFFIpFWH9N4vK37Y4mVXa3sKbFrLLKyp9SxXS08D2ibzznnvB4C0fPcc8/pu9/9rvr3769Vq1YpNTVVDz/8sLZv364DBw6oV69erT6uqKhIixcvbnG8pKREiYmJXT02AKCT1dbWKi8vT9XV1UpOTvZ6HEQZARgj2gq0L9qzZ48OHDig/Px8rVu3Tt/73vckNVzd69evn5YuXaq77rqr1ce2dgUwJSVFVVVVbb5wRCIRlZaWKjc3V36//yw3Oz9Y2dXKnhK7xiIre0od2zUUCikYDBKARvEWcIy4++67NWXKlHbPSU1NVU1NjSTpqquuajoeCAR0+eWX6/Dhw20+NhAIKBAItDju9/vP+ELakXNihZVdrewpsWsssrKn1P6uVp4DtI4AjBHBYFDBYPCM52VmZioQCKi8vFyjRo2S1PD/FCsqKjRgwICuHhMAAJwDCEBjkpOTVVBQoEWLFiklJUUDBgzQihUrJEmTJ0/2eDoAABANBKBBK1asULdu3TRt2jSdOnVKOTk52rFjh3r27On1aAAAIAoIQIP8fr9WrlyplStXej0KAADwAP8UHAAAgDFcAcRZafz2oMYvhG5NJBJRbW2tQqFQzP9tMyu7WtlTYtdYZGVPqWO7Nr5+821wNhGAOCuNXyeTkpLi8SQAgK+ipqZGF154oddjIMr4Imiclfr6elVWViopKUk+n6/Vcxq/LPrIkSMx/yWjVna1sqfErrHIyp5Sx3Z1zqmmpkZ9+/ZVXByfCLOGK4A4K3FxcerXr1+Hzk1OTo75F9tGVna1sqfErrHIyp7SmXflyp9dJD8AAIAxBCAAAIAxBCC6TCAQ0KJFi1r9N4RjjZVdrewpsWsssrKnZGtXnB3+EggAAIAxXAEEAAAwhgAEAAAwhgAEAAAwhgAEAAAwhgBE1GzdulU5OTlKSEhQMBjUbbfd5vVIXSocDisjI0M+n09vv/221+N0uoqKCs2cOVNpaWlKSEjQwIEDtWjRIn322Wdej/aVPfHEE0pLS1OPHj2UmZmp3/zmN16P1OmWL1+u7OxsJSUlqU+fPrrllltUXl7u9VhRsXz5cvl8Ps2bN8/rUbrE0aNHNXXqVPXu3VuJiYnKyMhQWVmZ12PhHEMAIipeeOEFTZs2TXfccYd+//vf6/XXX1deXp7XY3WpH/7wh+rbt6/XY3SZ/fv3q76+XuvWrdM777yjRx55RGvXrtW//Mu/eD3aV7Jp0ybNmzdPCxcu1FtvvaXRo0dr0qRJOnz4sNejdarXXntNhYWF2r17t0pLS3X69GmNHz9eJ0+e9Hq0LrVnzx6tX79eQ4cO9XqULvHxxx9r5MiR8vv92rZtm9599109/PDDuuiii7weDecaB3SxSCTiLrvsMvfkk096PUrUvPTSS27QoEHunXfecZLcW2+95fVIUfHTn/7UpaWleT3GV3LNNde4goKCZscGDRrk7rvvPo8mio5jx445Se61117zepQuU1NT46644gpXWlrqxowZ4+655x6vR+p0CxYscKNGjfJ6DJwHuAKILrd3714dPXpUcXFxGj58uC699FJNmjRJ77zzjtejdYmPPvpIs2bN0tNPP63ExESvx4mq6upq9erVy+sxztpnn32msrIyjR8/vtnx8ePHa9euXR5NFR3V1dWSdF7/+Z1JYWGhbrjhBl1//fVej9JltmzZoqysLE2ePFl9+vTR8OHDtWHDBq/HwjmIAESX++Mf/yhJKioq0o9+9CP96le/Us+ePTVmzBj9+c9/9ni6zuWc04wZM1RQUKCsrCyvx4mqQ4cOafXq1SooKPB6lLNWVVWluro6XXzxxc2OX3zxxfrwww89mqrrOec0f/58jRo1Sunp6V6P0yWee+457d27V8uXL/d6lC71xz/+UWvWrNEVV1yhV155RQUFBZo7d66eeuopr0fDOYYAxFkrKiqSz+dr97/f/e53qq+vlyQtXLhQ3/rWt5SZmani4mL5fD49//zzHm/RMR3ddfXq1QqFQrr//vu9HvmsdXTXL6qsrNTEiRM1efJk3XnnnR5N3nl8Pl+z2865Fsdiyd13360//OEPevbZZ70epUscOXJE99xzj5555hn16NHD63G6VH19va6++motW7ZMw4cP11133aVZs2ZpzZo1Xo+Gc0w3rwfA+evuu+/WlClT2j0nNTVVNTU1kqSrrrqq6XggENDll19+3nywvqO7Ll26VLt3727x729mZWUpPz9fGzdu7MoxO0VHd21UWVmpcePG6dprr9X69eu7eLquFQwGFR8f3+Jq37Fjx1pcFYwVc+bM0ZYtW7Rz507169fP63G6RFlZmY4dO6bMzMymY3V1ddq5c6cef/xxhcNhxcfHezhh57n00kubvdZK0uDBg/XCCy94NBHOVQQgzlowGFQwGDzjeZmZmQoEAiovL9eoUaMkSZFIRBUVFRowYEBXj9kpOrrrY489pqVLlzbdrqys1IQJE7Rp0ybl5OR05YidpqO7Sg1fNzFu3Limq7pxcef3mwrdu3dXZmamSktLdeuttzYdLy0t1c033+zhZJ3POac5c+Zo8+bNevXVV5WWlub1SF3muuuu0759+5odu+OOOzRo0CAtWLAgZuJPkkaOHNni63wOHDhw3rzWInoIQHS55ORkFRQUaNGiRUpJSdGAAQO0YsUKSdLkyZM9nq5z9e/fv9ntr33ta5KkgQMHxtzVlcrKSo0dO1b9+/fXypUrdfz48ab7LrnkEg8n+2rmz5+vadOmKSsrq+mq5uHDh8/rzza2prCwUCUlJXrxxReVlJTUdNXzwgsvVEJCgsfTda6kpKQWn2284IIL1Lt375j7zOO9996rESNGaNmyZfr2t7+tN998U+vXrz/vr86j8xGAiIoVK1aoW7dumjZtmk6dOqWcnBzt2LFDPXv29Ho0nKXt27fr4MGDOnjwYIu4dc55NNVX953vfEcnTpzQkiVL9MEHHyg9PV0vvfRSzF1BafxM2NixY5sdLy4u1owZM6I/EDpFdna2Nm/erPvvv19LlixRWlqaHn30UeXn53s9Gs4xPnc+v1IDAADgSzu/P7ADAACAL40ABAAAMIYABAAAMIYABAAAMIYABAAAMIYABAAAMIYABAAAMIYABAAAMIYABAAAMIYABAAAMIYABAAAMIYABAAAMIYABAAAMIYABAAAMIYABAAAMIYABAAAMIYABAAAMIYABAAAMIYABAAAMIYABAAAMIYABAAAMIYABAAAMIYABAAAMIYABAAAMIYABAAAMIYABAAAMIYABAAAMIYABAAAMIYABAAAMIYABAAAMIYABAAAMOb/AwD/1VBGf8VlAAAAAElFTkSuQmCC' width=640.0/>\n",
       "            </div>\n",
       "        "
      ],
      "text/plain": [
       "Canvas(toolbar=Toolbar(toolitems=[('Home', 'Reset original view', 'home', 'home'), ('Back', 'Back to previous …"
      ]
     },
     "metadata": {},
     "output_type": "display_data"
    }
   ],
   "source": [
    "G = 9.807 # on Earth\n",
    "#G = 1.622 # on the Moon...\n",
    "syst = DoublePendulum(M1=3.,L1=4.,M2=1.,L2=2.,G=G)\n",
    "#syst = DoublePendulum(M1=1.,L1=.5,M2=2.,L2=3.,G=G)\n",
    "ini = dict(θ1=180.,θ2=179.,θ1ʹ=45.,θ2ʹ=-45.)\n",
    "\n",
    "SimpySimulation(\n",
    "  syst.launch(init_y=ini,method='DOP853'),\n",
    "  frame_per_stu=25,track=60.\n",
    ")"
   ]
  },
  {
   "cell_type": "code",
   "execution_count": null,
   "metadata": {},
   "outputs": [],
   "source": []
  }
 ],
 "metadata": {
  "anaconda-cloud": {},
  "kernelspec": {
   "display_name": "Python 3 (ipykernel)",
   "language": "python",
   "name": "python3"
  },
  "language_info": {
   "codemirror_mode": {
    "name": "ipython",
    "version": 3
   },
   "file_extension": ".py",
   "mimetype": "text/x-python",
   "name": "python",
   "nbconvert_exporter": "python",
   "pygments_lexer": "ipython3",
   "version": "3.12.8"
  },
  "varInspector": {
   "cols": {
    "lenName": 16,
    "lenType": 16,
    "lenVar": 40
   },
   "kernels_config": {
    "python": {
     "delete_cmd_postfix": "",
     "delete_cmd_prefix": "del ",
     "library": "var_list.py",
     "varRefreshCmd": "print(var_dic_list())"
    },
    "r": {
     "delete_cmd_postfix": ") ",
     "delete_cmd_prefix": "rm(",
     "library": "var_list.r",
     "varRefreshCmd": "cat(var_dic_list()) "
    }
   },
   "types_to_exclude": [
    "module",
    "function",
    "builtin_function_or_method",
    "instance",
    "_Feature"
   ],
   "window_display": false
  }
 },
 "nbformat": 4,
 "nbformat_minor": 4
}
