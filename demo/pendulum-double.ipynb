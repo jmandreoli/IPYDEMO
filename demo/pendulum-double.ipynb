{
 "cells": [
  {
   "cell_type": "markdown",
   "metadata": {
    "tags": []
   },
   "source": [
    "# Double Pendulum system\n",
    "\n",
    "<img align=\"right\" width=\"150\" src=\"pendulum-double.png\">\n",
    "\n",
    "Consider the system composed of two pendulums of length $l_1,l_2$, and mass $m_1,m_2$ concentrated at one end, respectively. The pivot of the first pendulum is attached to a fix point, that of the second pendulum is attached to the dangling bob of the first pendulum. The system is submitted to a uniform, constant gravitational acceleration field $g$ and evolves without friction.\n",
    "\n",
    "The generalised coordinates of the system are the angles $\\theta_1,\\theta_2$ of each pendulum with the vertical downward direction. The standard (Cartesian) coordinates are then given by\n",
    "\n",
    "\\begin{equation*}\n",
    "\\begin{array}{rcl}\n",
    "x_1 & = & l_1\\sin\\theta_1\\\\\n",
    "y_1 & = & -l_1\\cos\\theta_1\n",
    "\\end{array}\n",
    "\\hspace{2cm}\n",
    "\\begin{array}{rcl}\n",
    "x_2 & = & l_1\\sin\\theta_1+l_2\\sin\\theta_2\\\\\n",
    "y_2 & = & -l_1\\cos\\theta_1-l_2\\cos\\theta_2\n",
    "\\end{array}\n",
    "\\end{equation*}\n",
    "\n",
    "The only active forces are the weights of the form $-\\nabla V(x_i,y_i|m_i)$ with $V(x,y|m)=mgy$. Hence the Lagrangian\n",
    "\n",
    "\\begin{align*}\n",
    "\\mathcal{L} & =\\hspace{.2cm}\n",
    "\\underbrace{\n",
    "\\frac{1}{2}m_1l_1^2\\dot{\\theta}_1^2+\\frac{1}{2}m_2(l_1^2\\dot{\\theta}_1^2+l_2^2\\dot{\\theta}_2^2+\n",
    "2l_1l_2\\dot{\\theta}_1\\dot{\\theta}_2\\cos(\\theta_1-\\theta_2))\n",
    "}_{\\textrm{kinetic energy}}\n",
    "\\underbrace{\n",
    "+m_1gl_1\\cos\\theta_1+m_2g(l_1\\cos\\theta_1+l_2\\cos\\theta_2)\n",
    "}_{-\\textrm{potential energy}}\\\\\n",
    "& =\\hspace{.2cm}\n",
    "\\frac{1}{2}ml_1^2\\dot{\\theta}_1^2+\\frac{1}{2}m_2l_2^2\\dot{\\theta}_2^2+\n",
    "m_2l_1l_2\\dot{\\theta}_1\\dot{\\theta}_2\\cos\\Delta+\n",
    "mgl_1\\cos\\theta_1+m_2gl_2\\cos\\theta_2\n",
    "\\end{align*}\n",
    "\n",
    "where $m\\triangleq m_1+m_2$ and $\\Delta\\triangleq\\theta_1-\\theta_2$. After simplification, the equations of the dynamics are given by:\n",
    "\n",
    "\\begin{equation*}\n",
    "\\begin{array}{rrcl}\n",
    "\\left[\\frac{\\mathbf{d}}{\\mathbf{d}t}\\frac{\\partial\\mathcal{L}}{\\partial\\dot{\\theta}_1} = \\frac{\\partial\\mathcal{L}}{\\partial\\theta_1}\\right]\n",
    "\\hspace{1.5cm} &\n",
    "ml_1\\ddot{\\theta}_1+m_2l_2\\ddot{\\theta}_2\\cos\\Delta\n",
    "& = &\n",
    "-m_2l_2\\dot{\\theta}_2^2\\sin\\Delta-mg\\sin\\theta_1\n",
    "\\\\\n",
    "\\left[\\frac{\\mathbf{d}}{\\mathbf{d}t}\\frac{\\partial\\mathcal{L}}{\\partial\\dot{\\theta}_2} = \\frac{\\partial\\mathcal{L}}{\\partial\\theta_2}\\right]\n",
    "\\hspace{1.5cm} &\n",
    "m_2l_1\\ddot{\\theta}_1\\cos\\Delta+m_2l_2\\ddot{\\theta}_2\n",
    "& = &\n",
    "m_2l_1\\dot{\\theta}_1^2\\sin\\Delta-m_2g\\sin\\theta_2\n",
    "\\end{array}\n",
    "\\end{equation*}\n",
    "\n",
    "which rewrites as\n",
    "\n",
    "\\begin{equation*}\n",
    "\\left\\{\n",
    "\\begin{array}{rcl}\n",
    "ab\\ddot{\\theta}_1 + \\ddot{\\theta}_2\\cos\\Delta & = & u\n",
    "\\\\\n",
    "b\\ddot{\\theta}_1\\cos\\Delta + \\ddot{\\theta}_2 & = & v\n",
    "\\end{array}\n",
    "\\right.\n",
    "\\hspace{1cm}\\textrm{where}\\hspace{1cm}\n",
    "\\left|\n",
    "\\begin{array}{l}\n",
    "a \\triangleq \\frac{m}{m_2}=1+\\frac{m_1}{m_2}\n",
    "\\hspace{1cm}\n",
    "b \\triangleq \\frac{l_1}{l_2}\n",
    "\\hspace{1cm}\n",
    "c \\triangleq \\frac{g}{l_2}\n",
    "\\\\\n",
    "u \\triangleq -\\dot{\\theta}_2^2\\sin\\Delta-ac\\sin\\theta_1\n",
    "\\hspace{1cm}\n",
    "v \\triangleq b\\dot{\\theta}_1^2\\sin\\Delta-c\\sin\\theta_2\n",
    "\\end{array}\n",
    "\\right.\n",
    "\\end{equation*}\n",
    "\n",
    "The solution in $\\ddot{\\theta}_1,\\ddot{\\theta}_2$ is therefore\n",
    "\n",
    "\\begin{equation*}\n",
    "\\left\\{\n",
    "\\begin{array}{rcl}\n",
    "\\ddot{\\theta}_1 & = &\n",
    "\\frac{u-v\\cos\\Delta}{b(a-\\cos^2\\Delta)}\n",
    "\\\\\n",
    "\\ddot{\\theta}_2 & = &\n",
    "\\frac{av-u\\cos\\Delta}{a-\\cos^2\\Delta}\n",
    "\\end{array}\n",
    "\\right.\n",
    "\\end{equation*}"
   ]
  },
  {
   "cell_type": "code",
   "execution_count": 1,
   "metadata": {
    "tags": []
   },
   "outputs": [],
   "source": [
    "import logging; logging.basicConfig(level=logging.WARNING); logging.captureWarnings(True)\n",
    "from numpy import sin,cos,pi,square,sqrt,clip,array,radians\n",
    "from ipyshow.odesimu import System"
   ]
  },
  {
   "cell_type": "markdown",
   "metadata": {},
   "source": [
    "## DoublePendulum class"
   ]
  },
  {
   "cell_type": "code",
   "execution_count": 2,
   "metadata": {},
   "outputs": [],
   "source": [
    "#----------------------------------------------------------------------------------------------------\n",
    "class DoublePendulum (System):\n",
    "#----------------------------------------------------------------------------------------------------\n",
    "\n",
    "  def __init__(self,L1,L2,M1,M2,G):\n",
    "    r\"\"\"\n",
    "Args:\n",
    "  G (float): intensity of the gravitation [m.sec^-2]\n",
    "  L1,L2 (float): lengths of the pendulums [m]\n",
    "  M1,M2 (float): masses of the pendulums [kg]\n",
    "    \"\"\"\n",
    "    self.L1, self.L2, self.M1, self.M2, self.G = L1, L2, M1, M2, G\n",
    "    def fun(t,state,a=1+M1/M2,b=L1/L2,c=G/L2):\n",
    "      θ1,θ1ʹ,θ2,θ2ʹ = state\n",
    "      Δ = θ1-θ2\n",
    "      cosΔ, sinΔ = cos(Δ), sin(Δ)\n",
    "      u = -square(θ2ʹ)*sinΔ-a*c*sin(θ1)\n",
    "      v = b*square(θ1ʹ)*sinΔ-c*sin(θ2)\n",
    "      D = a-square(cosΔ)\n",
    "      θ1ʺ = (u-v*cosΔ)/(D*b)\n",
    "      θ2ʺ = (a*v-u*cosΔ)/D\n",
    "      return array((θ1ʹ,θ1ʺ,θ2ʹ,θ2ʺ))\n",
    "    self.fun = fun\n",
    "    self.jac = None\n",
    "    def cartesian(state):\n",
    "      θ1,ω1,θ2,ω2 = state\n",
    "      z1 = L1*array((sin(θ1),-cos(θ1)))\n",
    "      z2 = z1+L2*array((sin(θ2),-cos(θ2)))\n",
    "      return z1,z2\n",
    "    self.cartesian = cartesian\n",
    "\n",
    "  def displayer(self,env,ax,refsize=80):\n",
    "    r\"\"\"\n",
    "Args:\n",
    "  refsize (int): reference dimension for the blobs [pt^2]\n",
    "    \"\"\"\n",
    "    ax.set_title(r'trajectory:cahotic',fontsize='x-small')\n",
    "    L = 1.05*(self.L1+self.L2)\n",
    "    ax.set(xlim=(-L,L),ylim=(-L,L))\n",
    "    ax.scatter((0.,),(0.,),c='k',marker='o',s=refsize)\n",
    "    m1,m2 = self.M1,self.M2\n",
    "    r = clip(sqrt(m1/m2),1./refsize,refsize)\n",
    "    sz = (refsize*r,refsize/r)\n",
    "    a_poles, = ax.plot((),(),'k')\n",
    "    a_bobs = ax.scatter((0,0),(0,0),s=sz,marker='o',c=['b','r'])\n",
    "    a_tail, = ax.plot((),(),'y')\n",
    "    def disp():\n",
    "      (x1,y1),(x2,y2) = self.cartesian(env.state)\n",
    "      a_poles.set_data((0,x1,x2),(0,y1,y2))\n",
    "      a_bobs.set_offsets(((x1,y1),(x2,y2)))\n",
    "      a_tail.set_data(*self.cartesian(env.cached_states)[1])\n",
    "    return disp\n",
    "\n",
    "  @staticmethod\n",
    "  def makestate(θ1,θ2,θ1ʹ=0.,θ2ʹ=0.):\n",
    "    r\"\"\"\n",
    "Args:\n",
    "  θ1,θ2 (float): angles of the pendulums with downward vertical [deg]\n",
    "  θ1ʹ,θ2ʹ (float): angular speeds [deg.sec^-1]\n",
    "    \"\"\"\n",
    "    return radians((θ1,θ1ʹ,θ2,θ2ʹ))\n",
    "\n",
    "  launch_defaults = dict(period=10.,cache=(60,.025),max_step=.05)"
   ]
  },
  {
   "cell_type": "code",
   "execution_count": 3,
   "metadata": {},
   "outputs": [],
   "source": [
    "#%matplotlib qt5\n",
    "%matplotlib widget\n",
    "from myutil.simpy import SimpySimulation"
   ]
  },
  {
   "cell_type": "code",
   "execution_count": 4,
   "metadata": {},
   "outputs": [
    {
     "data": {
      "application/vnd.jupyter.widget-view+json": {
       "model_id": "",
       "version_major": 2,
       "version_minor": 0
      },
      "text/plain": [
       "VBox(children=(HBox(children=(SimpleButton(icon='close', layout=Layout(padding='0 .1cm 0 .1cm', width='auto'),…"
      ]
     },
     "execution_count": 4,
     "metadata": {},
     "output_type": "execute_result"
    },
    {
     "data": {
      "application/vnd.jupyter.widget-view+json": {
       "model_id": "ff2127d165cf493e9d3d9daf3dec4040",
       "version_major": 2,
       "version_minor": 0
      },
      "image/png": "[encoded data removed]",
      "text/html": [
       "\n",
       "            <div style=\"display: inline-block;\">\n",
       "                <div class=\"jupyter-widgets widget-label\" style=\"text-align: center;\">\n",
       "                    Figure\n",
       "                </div>\n",
       "                <img src='data:image/png;base64,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' width=640.0/>\n",
       "            </div>\n",
       "        "
      ],
      "text/plain": [
       "Canvas(toolbar=Toolbar(toolitems=[('Home', 'Reset original view', 'home', 'home'), ('Back', 'Back to previous …"
      ]
     },
     "metadata": {},
     "output_type": "display_data"
    }
   ],
   "source": [
    "G = 9.807 # on Earth\n",
    "#G = 1.622 # on the Moon...\n",
    "syst = DoublePendulum(M1=3.,L1=4.,M2=1.,L2=2.,G=G)\n",
    "#syst = DoublePendulum(M1=1.,L1=.5,M2=2.,L2=3.,G=G)\n",
    "ini = dict(θ1=180.,θ2=179.,θ1ʹ=45.,θ2ʹ=-45.)\n",
    "\n",
    "SimpySimulation(\n",
    "  syst.launch(init_y=ini,method='DOP853'),\n",
    "  play_kw=dict(frame_per_stu=25,track=60.),\n",
    ")"
   ]
  },
  {
   "cell_type": "code",
   "execution_count": null,
   "metadata": {},
   "outputs": [],
   "source": []
  }
 ],
 "metadata": {
  "anaconda-cloud": {},
  "kernelspec": {
   "display_name": "Python 3 (ipykernel)",
   "language": "python",
   "name": "python3"
  },
  "language_info": {
   "codemirror_mode": {
    "name": "ipython",
    "version": 3
   },
   "file_extension": ".py",
   "mimetype": "text/x-python",
   "name": "python",
   "nbconvert_exporter": "python",
   "pygments_lexer": "ipython3",
   "version": "3.11.6"
  },
  "varInspector": {
   "cols": {
    "lenName": 16,
    "lenType": 16,
    "lenVar": 40
   },
   "kernels_config": {
    "python": {
     "delete_cmd_postfix": "",
     "delete_cmd_prefix": "del ",
     "library": "var_list.py",
     "varRefreshCmd": "print(var_dic_list())"
    },
    "r": {
     "delete_cmd_postfix": ") ",
     "delete_cmd_prefix": "rm(",
     "library": "var_list.r",
     "varRefreshCmd": "cat(var_dic_list()) "
    }
   },
   "types_to_exclude": [
    "module",
    "function",
    "builtin_function_or_method",
    "instance",
    "_Feature"
   ],
   "window_display": false
  }
 },
 "nbformat": 4,
 "nbformat_minor": 4
}
