{
 "cells": [
  {
   "cell_type": "markdown",
   "metadata": {
    "tags": []
   },
   "source": [
    "# Double Pendulum system\n",
    "\n",
    "<img align=\"right\" width=\"150\" src=\"pendulum-double.png\">\n",
    "\n",
    "Consider the system composed of two pendulums of length $l_1,l_2$, and mass $m_1,m_2$ concentrated at one end, respectively. The pivot of the first pendulum is attached to a fix point, that of the second pendulum is attached to the dangling bob of the first pendulum. The system is submitted to a uniform, constant gravitational acceleration field $g$ and evolves without friction.\n",
    "\n",
    "The generalised coordinates of the system are the angles $\\theta_1,\\theta_2$ of each pendulum with the vertical downward direction. The standard (Cartesian) coordinates are then given by\n",
    "\n",
    "\\begin{equation*}\n",
    "\\begin{array}{rcl}\n",
    "x_1 & = & l_1\\sin\\theta_1\\\\\n",
    "y_1 & = & -l_1\\cos\\theta_1\n",
    "\\end{array}\n",
    "\\hspace{2cm}\n",
    "\\begin{array}{rcl}\n",
    "x_2 & = & l_1\\sin\\theta_1+l_2\\sin\\theta_2\\\\\n",
    "y_2 & = & -l_1\\cos\\theta_1-l_2\\cos\\theta_2\n",
    "\\end{array}\n",
    "\\end{equation*}\n",
    "\n",
    "The only active forces are the weights of the form $-\\nabla V(x_i,y_i|m_i)$ with $V(x,y|m)=mgy$. Hence the Lagrangian\n",
    "\n",
    "\\begin{align*}\n",
    "\\mathcal{L} & =\\hspace{.2cm}\n",
    "\\underbrace{\n",
    "\\frac{1}{2}m_1l_1^2\\dot{\\theta}_1^2+\\frac{1}{2}m_2(l_1^2\\dot{\\theta}_1^2+l_2^2\\dot{\\theta}_2^2+\n",
    "2l_1l_2\\dot{\\theta}_1\\dot{\\theta}_2\\cos(\\theta_1-\\theta_2))\n",
    "}_{\\textrm{kinetic energy}}\n",
    "\\underbrace{\n",
    "+m_1gl_1\\cos\\theta_1+m_2g(l_1\\cos\\theta_1+l_2\\cos\\theta_2)\n",
    "}_{-\\textrm{potential energy}}\\\\\n",
    "& =\\hspace{.2cm}\n",
    "\\frac{1}{2}ml_1^2\\dot{\\theta}_1^2+\\frac{1}{2}m_2l_2^2\\dot{\\theta}_2^2+\n",
    "m_2l_1l_2\\dot{\\theta}_1\\dot{\\theta}_2\\cos\\Delta+\n",
    "mgl_1\\cos\\theta_1+m_2gl_2\\cos\\theta_2\n",
    "\\end{align*}\n",
    "\n",
    "where $m\\triangleq m_1+m_2$ and $\\Delta\\triangleq\\theta_1-\\theta_2$. After simplification, the equations of the dynamics are given by:\n",
    "\n",
    "\\begin{equation*}\n",
    "\\begin{array}{rrcl}\n",
    "\\left[\\frac{\\mathbf{d}}{\\mathbf{d}t}\\frac{\\partial\\mathcal{L}}{\\partial\\dot{\\theta}_1} = \\frac{\\partial\\mathcal{L}}{\\partial\\theta_1}\\right]\n",
    "\\hspace{1.5cm} &\n",
    "ml_1\\ddot{\\theta}_1+m_2l_2\\ddot{\\theta}_2\\cos\\Delta\n",
    "& = &\n",
    "-m_2l_2\\dot{\\theta}_2^2\\sin\\Delta-mg\\sin\\theta_1\n",
    "\\\\\n",
    "\\left[\\frac{\\mathbf{d}}{\\mathbf{d}t}\\frac{\\partial\\mathcal{L}}{\\partial\\dot{\\theta}_2} = \\frac{\\partial\\mathcal{L}}{\\partial\\theta_2}\\right]\n",
    "\\hspace{1.5cm} &\n",
    "m_2l_1\\ddot{\\theta}_1\\cos\\Delta+m_2l_2\\ddot{\\theta}_2\n",
    "& = &\n",
    "m_2l_1\\dot{\\theta}_1^2\\sin\\Delta-m_2g\\sin\\theta_2\n",
    "\\end{array}\n",
    "\\end{equation*}\n",
    "\n",
    "which rewrites as\n",
    "\n",
    "\\begin{equation*}\n",
    "\\left\\{\n",
    "\\begin{array}{rcl}\n",
    "ab\\ddot{\\theta}_1 + \\ddot{\\theta}_2\\cos\\Delta & = & u\n",
    "\\\\\n",
    "b\\ddot{\\theta}_1\\cos\\Delta + \\ddot{\\theta}_2 & = & v\n",
    "\\end{array}\n",
    "\\right.\n",
    "\\hspace{1cm}\\textrm{where}\\hspace{1cm}\n",
    "\\left|\n",
    "\\begin{array}{l}\n",
    "a \\triangleq \\frac{m}{m_2}=1+\\frac{m_1}{m_2}\n",
    "\\hspace{1cm}\n",
    "b \\triangleq \\frac{l_1}{l_2}\n",
    "\\hspace{1cm}\n",
    "c \\triangleq \\frac{g}{l_2}\n",
    "\\\\\n",
    "u \\triangleq -\\dot{\\theta}_2^2\\sin\\Delta-ac\\sin\\theta_1\n",
    "\\hspace{1cm}\n",
    "v \\triangleq b\\dot{\\theta}_1^2\\sin\\Delta-c\\sin\\theta_2\n",
    "\\end{array}\n",
    "\\right.\n",
    "\\end{equation*}\n",
    "\n",
    "The solution in $\\ddot{\\theta}_1,\\ddot{\\theta}_2$ is therefore\n",
    "\n",
    "\\begin{equation*}\n",
    "\\left\\{\n",
    "\\begin{array}{rcl}\n",
    "\\ddot{\\theta}_1 & = &\n",
    "\\frac{u-v\\cos\\Delta}{b(a-\\cos^2\\Delta)}\n",
    "\\\\\n",
    "\\ddot{\\theta}_2 & = &\n",
    "\\frac{av-u\\cos\\Delta}{a-\\cos^2\\Delta}\n",
    "\\end{array}\n",
    "\\right.\n",
    "\\end{equation*}"
   ]
  },
  {
   "cell_type": "code",
   "execution_count": 1,
   "metadata": {
    "jupyter": {
     "is_executing": true
    },
    "tags": []
   },
   "outputs": [],
   "source": [
    "import logging; logging.basicConfig(level=logging.WARNING); logging.captureWarnings(True)\n",
    "from numpy import sin,cos,pi,square,sqrt,clip,array,radians\n",
    "from ipyshow.odesimu import ODESystem"
   ]
  },
  {
   "cell_type": "markdown",
   "metadata": {},
   "source": [
    "## DoublePendulum class"
   ]
  },
  {
   "cell_type": "code",
   "execution_count": 2,
   "metadata": {},
   "outputs": [],
   "source": [
    "#----------------------------------------------------------------------------------------------------\n",
    "class DoublePendulum (ODESystem):\n",
    "#----------------------------------------------------------------------------------------------------\n",
    "\n",
    "  def __init__(self,L1,L2,M1,M2,G):\n",
    "    r\"\"\"\n",
    "Args:\n",
    "  G (float): intensity of the gravitation [m.sec^-2]\n",
    "  L1,L2 (float): lengths of the pendulums [m]\n",
    "  M1,M2 (float): masses of the pendulums [kg]\n",
    "    \"\"\"\n",
    "    self.L1, self.L2, self.M1, self.M2, self.G = L1, L2, M1, M2, G\n",
    "    def fun(t,state,a=1+M1/M2,b=L1/L2,c=G/L2):\n",
    "      θ1,θ1ʹ,θ2,θ2ʹ = state\n",
    "      Δ = θ1-θ2\n",
    "      cosΔ, sinΔ = cos(Δ), sin(Δ)\n",
    "      u = -square(θ2ʹ)*sinΔ-a*c*sin(θ1)\n",
    "      v = b*square(θ1ʹ)*sinΔ-c*sin(θ2)\n",
    "      D = a-square(cosΔ)\n",
    "      θ1ʺ = (u-v*cosΔ)/(D*b)\n",
    "      θ2ʺ = (a*v-u*cosΔ)/D\n",
    "      return array((θ1ʹ,θ1ʺ,θ2ʹ,θ2ʺ))\n",
    "    self.fun = fun\n",
    "    self.jac = None\n",
    "    def cartesian(state):\n",
    "      θ1,ω1,θ2,ω2 = state\n",
    "      z1 = L1*array((sin(θ1),-cos(θ1)))\n",
    "      z2 = z1+L2*array((sin(θ2),-cos(θ2)))\n",
    "      return z1,z2\n",
    "    self.cartesian = cartesian\n",
    "    super().__init__()\n",
    "\n",
    "  def displayer(self,trajectory,ax,refsize=80):\n",
    "    r\"\"\"\n",
    "Args:\n",
    "  refsize (int): reference dimension for the blobs [pt^2]\n",
    "    \"\"\"\n",
    "    ax.set_title(r'cahotic',fontsize='x-small')\n",
    "    L = 1.05*(self.L1+self.L2)\n",
    "    ax.set(xlim=(-L,L),ylim=(-L,L))\n",
    "    ax.scatter((0.,),(0.,),c='k',marker='o',s=refsize)\n",
    "    m1,m2 = self.M1,self.M2\n",
    "    r = clip(sqrt(m1/m2),1./refsize,refsize)\n",
    "    sz = (refsize*r,refsize/r)\n",
    "    a_poles, = ax.plot((),(),'k')\n",
    "    a_bobs = ax.scatter((0,0),(0,0),s=sz,marker='o',c=['b','r'])\n",
    "    a_tail, = ax.plot((),(),'y')\n",
    "    def disp(t):\n",
    "      (x1,y1),(x2,y2) = self.cartesian(trajectory.state(t))\n",
    "      a_poles.set_data((0,x1,x2),(0,y1,y2))\n",
    "      a_bobs.set_offsets(((x1,y1),(x2,y2)))\n",
    "      a_tail.set_data(*self.cartesian(trajectory.cached(t))[1])\n",
    "    return disp\n",
    "\n",
    "  @staticmethod\n",
    "  def makestate(θ1,θ2,θ1ʹ=0.,θ2ʹ=0.):\n",
    "    r\"\"\"\n",
    "Args:\n",
    "  θ1,θ2 (float): angles of the pendulums with downward vertical [deg]\n",
    "  θ1ʹ,θ2ʹ (float): angular speeds [deg.sec^-1]\n",
    "    \"\"\"\n",
    "    return radians((θ1,θ1ʹ,θ2,θ2ʹ))\n",
    "\n",
    "  trajectory_defaults = {'period':10.,'cache_spec':(60,.025),'max_step':.05}"
   ]
  },
  {
   "cell_type": "code",
   "execution_count": 3,
   "metadata": {},
   "outputs": [
    {
     "data": {
      "application/vnd.jupyter.widget-view+json": {
       "model_id": "a749c57f3d394fe7ab2965e07513f3b9",
       "version_major": 2,
       "version_minor": 0
      },
      "text/plain": [
       "IPYControlledAnimation(children=(VBox(children=(HBox(children=(SimpleButton(icon='close', layout=Layout(paddin…"
      ]
     },
     "execution_count": 3,
     "metadata": {},
     "output_type": "execute_result"
    },
    {
     "data": {
      "application/vnd.jupyter.widget-view+json": {
       "model_id": "9e9321fbf16d487f952ad10d092ac4d7",
       "version_major": 2,
       "version_minor": 0
      },
      "image/png": "[encoded data removed]",
      "text/html": [
       "\n",
       "            <div style=\"display: inline-block;\">\n",
       "                <div class=\"jupyter-widgets widget-label\" style=\"text-align: center;\">\n",
       "                    Figure\n",
       "                </div>\n",
       "                <img src='data:image/png;base64,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' width=640.0/>\n",
       "            </div>\n",
       "        "
      ],
      "text/plain": [
       "Canvas(toolbar=Toolbar(toolitems=[('Home', 'Reset original view', 'home', 'home'), ('Back', 'Back to previous …"
      ]
     },
     "metadata": {},
     "output_type": "display_data"
    }
   ],
   "source": [
    "#%matplotlib qt6\n",
    "%matplotlib widget\n",
    "\n",
    "G = 9.807 # on Earth\n",
    "#G = 1.622 # on the Moon...\n",
    "syst = DoublePendulum(M1=3.,L1=4.,M2=1.,L2=2.,G=G)\n",
    "#syst = DoublePendulum(M1=1.,L1=.5,M2=2.,L2=3.,G=G)\n",
    "ini = dict(θ1=180.,θ2=179.,θ1ʹ=45.,θ2ʹ=-45.)\n",
    "\n",
    "R = syst.simulation(init_y=ini,method='DOP853',jac=True)\n",
    "R.play(frame_per_stu=25,track_spec=60.)"
   ]
  },
  {
   "cell_type": "code",
   "execution_count": null,
   "metadata": {},
   "outputs": [],
   "source": []
  }
 ],
 "metadata": {
  "anaconda-cloud": {},
  "kernelspec": {
   "display_name": "Python 3 (ipykernel)",
   "language": "python",
   "name": "python3"
  },
  "language_info": {
   "codemirror_mode": {
    "name": "ipython",
    "version": 3
   },
   "file_extension": ".py",
   "mimetype": "text/x-python",
   "name": "python",
   "nbconvert_exporter": "python",
   "pygments_lexer": "ipython3",
   "version": "3.12.8"
  },
  "varInspector": {
   "cols": {
    "lenName": 16,
    "lenType": 16,
    "lenVar": 40
   },
   "kernels_config": {
    "python": {
     "delete_cmd_postfix": "",
     "delete_cmd_prefix": "del ",
     "library": "var_list.py",
     "varRefreshCmd": "print(var_dic_list())"
    },
    "r": {
     "delete_cmd_postfix": ") ",
     "delete_cmd_prefix": "rm(",
     "library": "var_list.r",
     "varRefreshCmd": "cat(var_dic_list()) "
    }
   },
   "types_to_exclude": [
    "module",
    "function",
    "builtin_function_or_method",
    "instance",
    "_Feature"
   ],
   "window_display": false
  }
 },
 "nbformat": 4,
 "nbformat_minor": 4
}
