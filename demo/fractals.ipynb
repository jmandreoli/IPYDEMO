{
 "cells": [
  {
   "cell_type": "markdown",
   "metadata": {},
   "source": [
    "# Fractal visualisation\n",
    "\n",
    "Let $u:\\mathbb{C}\\mapsto\\mathbb{C}$ and $v:\\mathbb{C}\\times\\mathbb{C}\\mapsto\\mathbb{C}$. We consider the set of complex numbers $c$ such that the sequence inductively defined by\n",
    "\\begin{equation}\n",
    "z_0(c)\\triangleq u(c) \\hspace{1cm} z_{n+1}(c) \\triangleq v(z_n(c),c)\n",
    "\\end{equation}\n",
    "remains bounded. The problem is to give a visual representation of that set.\n",
    "\n",
    "The proposed representation is obtained iteratively, where each iteration increases the precision level. A point $c$ is coloured at iteration $n$ by the real value $\\frac{m}{n}$ where $m$ is the smallest $m<n$ such that $|z_m(c)|>q$ where $q$ is an escape radius of the sequence (or $m=n$ if there is no such value).\n",
    "\n",
    "Documentation: [here](../doc/_build/html/fractals.html)\n",
    "\n",
    "Examples:\n",
    "\n",
    "* The Julia set for $f:\\mathbb{C}\\mapsto\\mathbb{C}$ is characterised by $u(c)=c$ and $v(z,c)=f(z)$ independent of $c$.\n",
    "* The Mandelbrot set is characterised by $u(c)=0$ and $v(z,c)=z^2+c$"
   ]
  },
  {
   "cell_type": "code",
   "execution_count": 1,
   "metadata": {},
   "outputs": [
    {
     "name": "stdout",
     "output_type": "stream",
     "text": [
      "Using matplotlib backend: Qt5Agg\n",
      "Populating the interactive namespace from numpy and matplotlib\n"
     ]
    }
   ],
   "source": [
    "%pylab\n",
    "# for inline animation (but slower and more resource consuming):\n",
    "#%pylab nbagg\n",
    "\n",
    "import logging\n",
    "\n",
    "from functools import partial\n",
    "from ipyshow.util import Setup\n",
    "from ipyshow.fractals import Fractal\n",
    "\n",
    "def julia(f,eradius=2.,ibounds=((-1.5,1.5),(-1.5,1.5))):\n",
    "    def main(c,f=f):\n",
    "        z = c\n",
    "        while True:\n",
    "            yield z\n",
    "            z[...] = f(z)\n",
    "    return Fractal(main,eradius,ibounds)\n",
    "\n",
    "@partial(Fractal,ibounds=((-2.5,1.),(-1.,1.)),eradius=2.)\n",
    "def mandelbrot(c):\n",
    "    z = c.copy()\n",
    "    while True:\n",
    "        yield z\n",
    "        square(z,z)\n",
    "        z += c"
   ]
  },
  {
   "cell_type": "code",
   "execution_count": 2,
   "metadata": {},
   "outputs": [
    {
     "data": {
      "text/html": [
       "<TABLE><TBODY><TR><TD colspan=\"4\" style=\"background-color: gray; color: white; font-weight: bold;\">Fractal.__init__(self, main, eradius=None, ibounds=None)</TD></TR><TR><TH>main</TH><TD style=\"max-width:2cm; white-space: nowrap; overflow: hidden\" title=\"\"></TD><TD>generator of fractal views at increasing precision</TD><TD/></TR><TR><TH>eradius</TH><TD style=\"max-width:2cm; white-space: nowrap; overflow: hidden\" title=\"\"></TD><TD>escape radius of the fractal</TD><TD/></TR><TR><TH>ibounds</TH><TD style=\"max-width:2cm; white-space: nowrap; overflow: hidden\" title=\"\"></TD><TD>area of interest of the fractal</TD><TD/></TR><TR><TD colspan=\"4\" style=\"background-color: gray; color: white; font-weight: bold;\">Fractal.launch(self, fig={'figsize': (8, 8)}, **ka)</TD></TR><TR><TH>maxiter</TH><TD style=\"max-width:2cm; white-space: nowrap; overflow: hidden\" title=\"1000\">1000</TD><TD>max number of iterations</TD><TD/></TR><TR><TH>resolution</TH><TD style=\"max-width:2cm; white-space: nowrap; overflow: hidden\" title=\"160000\">160000</TD><TD>number of pixels to display</TD><TD/></TR><TR><TH>interval</TH><TD style=\"max-width:2cm; white-space: nowrap; overflow: hidden\" title=\"100\">100</TD><TD>inter-frame time</TD><TD> <SPAN>msec</SPAN></TD></TR></TBODY></TABLE>"
      ],
      "text/plain": [
       "**** Fractal.__init__(self, main, eradius=None, ibounds=None) ****\n",
       "    main      : generator of fractal views at increasing precision []\n",
       "    eradius   : escape radius of the fractal []\n",
       "    ibounds   : area of interest of the fractal []\n",
       "**** Fractal.launch(self, fig={'figsize': (8, 8)}, **ka) ****\n",
       "    maxiter   (1000      ): max number of iterations []\n",
       "    resolution(160000    ): number of pixels to display []\n",
       "    interval  (100       ): inter-frame time [msec]"
      ]
     },
     "execution_count": 2,
     "metadata": {},
     "output_type": "execute_result"
    }
   ],
   "source": [
    "Setup.display(Fractal)"
   ]
  },
  {
   "cell_type": "markdown",
   "metadata": {},
   "source": [
    "Control of the interface:\n",
    "* Open a new zoom level by selecting a rectangle with the mouse (button click on one corner, keep pressed, and release on opposite corner).\n",
    "* Navigate through the different zoom levels using the arrow keys on the keyboard (up or right = forward, down or left = backward)\n",
    "* The zoom level is indicated in the top right corner. The precision is indicated in the top left corner. At deeper zoom levels, details start to appear at higher precision levels."
   ]
  },
  {
   "cell_type": "code",
   "execution_count": 6,
   "metadata": {},
   "outputs": [
    {
     "data": {
      "text/plain": [
       "<matplotlib.animation.FuncAnimation at 0x7f79cc69a438>"
      ]
     },
     "execution_count": 6,
     "metadata": {},
     "output_type": "execute_result"
    }
   ],
   "source": [
    "logging.basicConfig(level='INFO')\n",
    "\n",
    "#syst = mandelbrot\n",
    "#syst = julia(lambda z: square(z)-.4+.6j)\n",
    "syst = julia(lambda z: square(z)-.8+.156j)\n",
    "#syst = julia(lambda z: square(z)+.285+.01j)\n",
    "#syst = julia(lambda z: z*square(z)+.4)\n",
    "#syst = julia(lambda z: z**7+.626)\n",
    "#syst = julia(lambda z: exp(z*square(z))-.59)\n",
    "#syst = julia(lambda z: exp(z*square(z))+-.621)\n",
    "#syst = julia(lambda z: z-(z-1./square(z))/3.)\n",
    "\n",
    "syst.launch()"
   ]
  },
  {
   "cell_type": "code",
   "execution_count": null,
   "metadata": {
    "collapsed": true
   },
   "outputs": [],
   "source": []
  }
 ],
 "metadata": {
  "anaconda-cloud": {},
  "kernelspec": {
   "display_name": "Python 3",
   "language": "python",
   "name": "python3"
  },
  "language_info": {
   "codemirror_mode": {
    "name": "ipython",
    "version": 3
   },
   "file_extension": ".py",
   "mimetype": "text/x-python",
   "name": "python",
   "nbconvert_exporter": "python",
   "pygments_lexer": "ipython3",
   "version": "3.6.1"
  }
 },
 "nbformat": 4,
 "nbformat_minor": 1
}
