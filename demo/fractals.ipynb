{
 "cells": [
  {
   "cell_type": "markdown",
   "metadata": {},
   "source": [
    "# Fractal visualisation\n",
    "\n",
    "Let $u:\\mathbb{C}\\mapsto\\mathbb{C}$ and $v:\\mathbb{C}\\times\\mathbb{C}\\mapsto\\mathbb{C}$. We consider the set of complex numbers $c$ such that the sequence\n",
    "\\begin{equation}\n",
    "z_0=u(c) \\hspace{1cm} z_{n+1}=v(z_n,c)\n",
    "\\end{equation}\n",
    "remains bounded. In practice, a point $c$ is coloured at iteration $n$ by the real value $\\frac{m}{n}$ where $m$ is the smallest $m<n$ such that $|z_m|>q$ where $q$ is an escape radius of the sequence (or $m=n$ if there is no such value).\n",
    "\n",
    "Documentation: [here](../doc/_build/html/fractals.html)\n",
    "\n",
    "Examples:\n",
    "\n",
    "* The Julia set for $f:\\mathbb{C}\\mapsto\\mathbb{C}$ is characterised by $u(c)=c$ and $v(z,c)=f(z)$ independent of $c$.\n",
    "* The Mandelbrot set is characterised by $u(c)=0$ and $v(z,c)=z^2+c$"
   ]
  },
  {
   "cell_type": "code",
   "execution_count": null,
   "metadata": {
    "collapsed": false
   },
   "outputs": [],
   "source": [
    "%autoreload 2\n",
    "%pylab\n",
    "\n",
    "import logging\n",
    "logger = logging.getLogger()\n",
    "\n",
    "from ipyshow.fractals.fractal import FractalAnimation\n",
    "from itertools import islice\n",
    "from functools import partial"
   ]
  },
  {
   "cell_type": "code",
   "execution_count": null,
   "metadata": {
    "collapsed": false
   },
   "outputs": [],
   "source": [
    "def iterfractal(gen,eradius,N,bounds):\n",
    "    xb, yb = bounds\n",
    "    r = (xb[1]-xb[0])/(yb[1]-yb[0])\n",
    "    Nx = int(sqrt(N/r)); Ny = int(N/Nx)\n",
    "    tmd,tmap = zeros((2,Nx,Ny),float)\n",
    "    undecided = ones((Nx,Ny),bool)\n",
    "    sel = zeros((Nx,Ny),bool)\n",
    "    n = 0\n",
    "    seterr(invalid='ignore')\n",
    "    for z in gen((Nx,Ny),bounds):\n",
    "        sel[...] = abs(z)>=eradius\n",
    "        z[sel] = nan\n",
    "        undecided[sel] = False\n",
    "        n += 1\n",
    "        tmd[...] = -tmap\n",
    "        tmd[undecided] += 1\n",
    "        tmap += tmd/n\n",
    "        yield tmap\n",
    "\n",
    "def IterfractalAnimation(ax,gen,bounds,eradius,N=250000,itermax=100):\n",
    "    img = ax.imshow(zeros((1,1),float),vmin=0.,vmax=1.,origin='lower',extent=bounds[0]+bounds[1])\n",
    "    def frames(bounds):\n",
    "        return islice(((tmap,bounds) for tmap in iterfractal(gen,eradius,N,bounds)),itermax)\n",
    "    def func(frm,interrupt=False):\n",
    "        tmap,bounds = frm\n",
    "        if interrupt:\n",
    "            img.set_array(tmap)\n",
    "            img.set_extent(bounds[0]+bounds[1])\n",
    "        img.changed()\n",
    "        return img,\n",
    "    return FractalAnimation(ax,func=func,frames=frames,init_func=(lambda: None),interval=100,repeat=False)"
   ]
  },
  {
   "cell_type": "markdown",
   "metadata": {},
   "source": [
    "## Examples"
   ]
  },
  {
   "cell_type": "code",
   "execution_count": null,
   "metadata": {
    "collapsed": true
   },
   "outputs": [],
   "source": [
    "def julia(f):\n",
    "    def gen(N,bounds,f=f):\n",
    "        xb,yb = bounds\n",
    "        Nx,Ny = N\n",
    "        z = array(linspace(xb[0],xb[1],Ny),dtype=complex)[newaxis,:]+1.j*array(linspace(yb[0],yb[1],Nx),dtype=complex)[:,newaxis]\n",
    "        while True:\n",
    "            yield z\n",
    "            z[...] = f(z)\n",
    "    gen.setting = dict(bounds=((-1.5,1.5),(-1.5,1.5)),eradius=2.)\n",
    "    return gen\n",
    "\n",
    "def mandelbrot(N,bounds):\n",
    "    xb,yb = bounds\n",
    "    Nx,Ny = N\n",
    "    c = array(linspace(xb[0],xb[1],Ny),dtype=complex)[newaxis,:]+1.j*array(linspace(yb[0],yb[1],Nx),dtype=complex)[:,newaxis]\n",
    "    z = c.copy()\n",
    "    while True:\n",
    "        yield z\n",
    "        square(z,z)\n",
    "        z += c\n",
    "mandelbrot.setting = dict(bounds=((-2.5,1.),(-1.,1.)),eradius=2.)"
   ]
  },
  {
   "cell_type": "markdown",
   "metadata": {},
   "source": [
    "Launcher\n",
    "--------\n",
    "\n",
    "* Open a new zoom level by selecting a rectangle with the mouse (button click on one corner, keep pressed, and release on opposite corner).\n",
    "\n",
    "* Navigate through the different zoom levels using the arrow keys on the keyboard (up or right = forward, down or left = backward)\n",
    "\n",
    "* The zoom level is indicated in the top right corner. The precision is indicated in the top left corner. At deeper zoom levels, details start to appear at higher precision levels."
   ]
  },
  {
   "cell_type": "code",
   "execution_count": null,
   "metadata": {
    "collapsed": false
   },
   "outputs": [],
   "source": [
    "logger.setLevel(logging.INFO)\n",
    "\n",
    "def test(gen,**ka):\n",
    "    from matplotlib.pyplot import figure\n",
    "    fig = figure(figsize=(8,8))\n",
    "    ax = fig.add_axes((0,0,1,1),xticks=(),yticks=())\n",
    "    for k,v in gen.setting.items(): ka.setdefault(k,v)\n",
    "    return IterfractalAnimation(ax,gen,**ka)\n",
    "\n",
    "gen = mandelbrot\n",
    "#gen = julia(lambda z: square(z)-.4+.6j)\n",
    "#gen = julia(lambda z: square(z)-.8+.156j)\n",
    "#gen = julia(lambda z: square(z)+.285+.01j)\n",
    "#gen = julia(lambda z: z*square(z)+.4)\n",
    "#gen = julia(lambda z: z**7+.626)\n",
    "#gen = julia(lambda z: exp(z*square(z))-.59)\n",
    "#gen = julia(lambda z: exp(z*square(z))+-.621)\n",
    "#gen = julia(lambda z: z-(z-1./square(z))/3.)\n",
    "\n",
    "test(gen,N=160000,itermax=1000)"
   ]
  },
  {
   "cell_type": "code",
   "execution_count": null,
   "metadata": {
    "collapsed": true
   },
   "outputs": [],
   "source": []
  }
 ],
 "metadata": {
  "kernelspec": {
   "display_name": "Python 3",
   "language": "python",
   "name": "python3"
  },
  "language_info": {
   "codemirror_mode": {
    "name": "ipython",
    "version": 3
   },
   "file_extension": ".py",
   "mimetype": "text/x-python",
   "name": "python",
   "nbconvert_exporter": "python",
   "pygments_lexer": "ipython3",
   "version": "3.5.1"
  }
 },
 "nbformat": 4,
 "nbformat_minor": 0
}
