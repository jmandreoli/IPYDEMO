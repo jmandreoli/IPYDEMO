{
 "cells": [
  {
   "cell_type": "markdown",
   "metadata": {},
   "source": [
    "# Fractal visualisation\n",
    "\n",
    "Let $u:\\mathbb{C}\\times\\mathbb{C}\\mapsto\\mathbb{C}$. We consider the set of complex numbers $c$ such that the sequence inductively defined by\n",
    "\\begin{equation}\n",
    "z_0(c)\\triangleq c \\hspace{1cm} z_{n+1}(c) \\triangleq u(z_n(c),c)\n",
    "\\end{equation}\n",
    "remains bounded. The problem is to give a visual representation of that set.\n",
    "\n",
    "The proposed representation is obtained iteratively, where each iteration increases the precision level. A point $c$ is coloured at iteration $n$ by the real value $\\frac{m}{n}$ where $m$ is the smallest $m<n$ such that $q(z_m(c))$ where $q$ is an escape oracle of the sequence (or $m=n$ if there is no such value).\n",
    "\n",
    "Examples:\n",
    "\n",
    "* The Julia set for $f:\\mathbb{C}\\mapsto\\mathbb{C}$ is characterised by $u(z,c)=f(z)$ independent of $c$.\n",
    "* The Mandelbrot set is characterised by $u(z,c)=z^2+c$"
   ]
  },
  {
   "cell_type": "code",
   "execution_count": 1,
   "metadata": {},
   "outputs": [
    {
     "name": "stdout",
     "output_type": "stream",
     "text": [
      "Populating the interactive namespace from numpy and matplotlib\n"
     ]
    }
   ],
   "source": [
    "%pylab widget\n",
    "# for external animation (less resource consuming), use appropriate backend, e.g. qt5\n",
    "\n",
    "import logging\n",
    "\n",
    "from ipyshow import Setup\n",
    "from ipyshow.fractals import Fractal\n",
    "\n",
    "def julia(f,eoracle=2.,ibounds=((-1.5,1.5),(-1.5,1.5))): return Fractal((lambda z,c: f(z)),eoracle,ibounds)\n",
    "mandelbrot = Fractal((lambda z,c: square(z)+c),ibounds=((-2.5,1.),(-1.,1.)),eoracle=2.)"
   ]
  },
  {
   "cell_type": "code",
   "execution_count": 2,
   "metadata": {},
   "outputs": [
    {
     "data": {
      "text/html": [
       "<TABLE><TBODY><TR><TD colspan=\"4\" style=\"background-color: gray; color: white; font-weight: bold;\">Fractal.__init__(self, main, eoracle=None, ibounds=None)</TD></TR><TR><TH>main</TH><TD style=\"max-width:2cm; white-space: nowrap; overflow: hidden\" title=\"\"></TD><TD>generator of fractal views at increasing precision</TD><TD/></TR><TR><TH>eoracle</TH><TD style=\"max-width:2cm; white-space: nowrap; overflow: hidden\" title=\"\"></TD><TD>escape oracle of the fractal</TD><TD/></TR><TR><TH>ibounds</TH><TD style=\"max-width:2cm; white-space: nowrap; overflow: hidden\" title=\"\"></TD><TD>area of interest of the fractal</TD><TD/></TR><TR><TD colspan=\"4\" style=\"background-color: gray; color: white; font-weight: bold;\">Fractal.launch(self, fig={'figsize': (8, 8)}, **ka)</TD></TR><TR><TH>maxiter</TH><TD style=\"max-width:2cm; white-space: nowrap; overflow: hidden\" title=\"1000\">1000</TD><TD>max number of iterations</TD><TD/></TR><TR><TH>resolution</TH><TD style=\"max-width:2cm; white-space: nowrap; overflow: hidden\" title=\"160000\">160000</TD><TD>number of pixels to display</TD><TD/></TR><TR><TH>interval</TH><TD style=\"max-width:2cm; white-space: nowrap; overflow: hidden\" title=\"100\">100</TD><TD>inter-frame time</TD><TD> <SPAN>msec</SPAN></TD></TR></TBODY></TABLE>"
      ],
      "text/plain": [
       "**** Fractal.__init__(self, main, eoracle=None, ibounds=None) ****\n",
       "    main      : generator of fractal views at increasing precision []\n",
       "    eoracle   : escape oracle of the fractal []\n",
       "    ibounds   : area of interest of the fractal []\n",
       "**** Fractal.launch(self, fig={'figsize': (8, 8)}, **ka) ****\n",
       "    maxiter   (1000      ): max number of iterations []\n",
       "    resolution(160000    ): number of pixels to display []\n",
       "    interval  (100       ): inter-frame time [msec]"
      ]
     },
     "execution_count": 2,
     "metadata": {},
     "output_type": "execute_result"
    }
   ],
   "source": [
    "Setup.display(Fractal)"
   ]
  },
  {
   "cell_type": "markdown",
   "metadata": {},
   "source": [
    "Control of the interface:\n",
    "* Open a new zoom level by selecting a rectangle with the mouse (button click on one corner, keep pressed, and release on opposite corner).\n",
    "* Navigate through the different zoom levels using the arrow keys on the keyboard (up or right = forward, down or left = backward). The current zoom level is indicated in the upper right corner.\n",
    "* Freeze/unfreeze iterations at a given zoom level by clicking on the precision counter (upper left corner)\n",
    "* The zoom level is indicated in the top right corner. The precision is indicated in the top left corner. At deeper zoom levels, details start to appear at higher precision levels."
   ]
  },
  {
   "cell_type": "code",
   "execution_count": 3,
   "metadata": {},
   "outputs": [
    {
     "data": {
      "text/plain": [
       "<matplotlib.animation.FuncAnimation at 0x7f2fd45afa00>"
      ]
     },
     "execution_count": 3,
     "metadata": {},
     "output_type": "execute_result"
    }
   ],
   "source": [
    "logging.basicConfig(level='INFO')\n",
    "\n",
    "syst = mandelbrot\n",
    "#syst = julia(lambda z: square(z)-.4+.6j)\n",
    "#syst = julia(lambda z: square(z)-.8+.156j)\n",
    "#syst = julia(lambda z: square(z)+.285+.01j)\n",
    "#syst = julia(lambda z: z*square(z)+.4)\n",
    "#syst = julia(lambda z: z**7+.626)\n",
    "#syst = julia(lambda z: exp(z*square(z))-.59)\n",
    "#syst = julia(lambda z: exp(z*square(z))+-.621)\n",
    "#syst = julia(lambda z: z-(z-1./square(z))/3.)\n",
    "#syst = julia((lambda z: .25*(1+4*z-(1+2*z)*cos(pi*z))),eoracle=4)\n",
    "\n",
    "syst.launch()"
   ]
  },
  {
   "cell_type": "code",
   "execution_count": null,
   "metadata": {},
   "outputs": [],
   "source": []
  }
 ],
 "metadata": {
  "anaconda-cloud": {},
  "kernelspec": {
   "display_name": "Python 3",
   "language": "python",
   "name": "python3"
  },
  "language_info": {
   "codemirror_mode": {
    "name": "ipython",
    "version": 3
   },
   "file_extension": ".py",
   "mimetype": "text/x-python",
   "name": "python",
   "nbconvert_exporter": "python",
   "pygments_lexer": "ipython3",
   "version": "3.8.6"
  },
  "varInspector": {
   "cols": {
    "lenName": 16,
    "lenType": 16,
    "lenVar": 40
   },
   "kernels_config": {
    "python": {
     "delete_cmd_postfix": "",
     "delete_cmd_prefix": "del ",
     "library": "var_list.py",
     "varRefreshCmd": "print(var_dic_list())"
    },
    "r": {
     "delete_cmd_postfix": ") ",
     "delete_cmd_prefix": "rm(",
     "library": "var_list.r",
     "varRefreshCmd": "cat(var_dic_list()) "
    }
   },
   "types_to_exclude": [
    "module",
    "function",
    "builtin_function_or_method",
    "instance",
    "_Feature"
   ],
   "window_display": false
  }
 },
 "nbformat": 4,
 "nbformat_minor": 4
}
