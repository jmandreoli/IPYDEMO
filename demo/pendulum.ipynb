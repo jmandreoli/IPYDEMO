{
 "cells": [
  {
   "cell_type": "markdown",
   "metadata": {},
   "source": [
    "# Simple pendulum system\n",
    "\n",
    "Consider a simple pendulum of length $l$ and mass $m$ concentrated at its bob. The pivot of the pendulum is attached to a fix point. The system is submitted to a uniform, constant gravitational acceleration field $g$ and moves without friction.\n",
    "\n",
    "The generalised coordinate of the system is the angle $\\theta$ of the pendulum with the downward vertical direction. The standard (Cartesian) coordinates of the bob are then given by\n",
    "\n",
    "\\begin{equation*}\n",
    "x = l\\sin\\theta\n",
    "\\hspace{2cm}\n",
    "y = -l\\cos\\theta\n",
    "\\end{equation*}\n",
    "\n",
    "The only active force is weight with coordinates $(0,-mg)$, hence of the form $-\\nabla V$ with $V=mgy=-mgl\\cos\\theta$. Hence the Lagrangian\n",
    "\n",
    "\\begin{eqnarray*}\n",
    "\\mathcal{L} & = & ml(\\frac{1}{2}l\\dot{\\theta}^2+g\\cos\\theta)\n",
    "\\end{eqnarray*}\n",
    "\n",
    "The equations of the dynamics are given by:\n",
    "\n",
    "\\begin{equation*}\n",
    "\\begin{array}{rrcl}\n",
    "\\left[\\frac{\\mathbf{d}}{\\mathbf{d}t}\\frac{\\partial\\mathcal{L}}{\\partial\\dot{\\theta}} = \\frac{\\partial\\mathcal{L}}{\\partial\\theta}\\right]\n",
    "\\hspace{1cm} &\n",
    "l\\ddot{\\theta} & = & -g\\sin\\theta\n",
    "\\end{array}\n",
    "\\end{equation*}\n",
    "\n",
    "Documentation: [here](../doc/_build/html/odesimu.html)"
   ]
  },
  {
   "cell_type": "code",
   "execution_count": 1,
   "metadata": {},
   "outputs": [
    {
     "name": "stdout",
     "output_type": "stream",
     "text": [
      "Using matplotlib backend: Qt5Agg\n",
      "Populating the interactive namespace from numpy and matplotlib\n"
     ]
    }
   ],
   "source": [
    "%pylab\n",
    "# for inline animation (but slower and more resource consuming):\n",
    "#%pylab nbagg\n",
    "\n",
    "import logging\n",
    "from functools import partial\n",
    "from scipy.integrate import quad\n",
    "from ipyshow.util import Setup\n",
    "from ipyshow.odesimu import System\n",
    "from ipyshow.odesimu.util import logger_hook"
   ]
  },
  {
   "cell_type": "markdown",
   "metadata": {},
   "source": [
    "## Pendulum class"
   ]
  },
  {
   "cell_type": "code",
   "execution_count": 2,
   "metadata": {},
   "outputs": [],
   "source": [
    "#----------------------------------------------------------------------------------------------------\n",
    "class Pendulum (System):\n",
    "#----------------------------------------------------------------------------------------------------\n",
    "\n",
    "    shadowshape = (2,)\n",
    "\n",
    "    @Setup(\n",
    "        'L: length of the pendulum [m]',\n",
    "        'G: intensity of the gravitation [m.sec^-2]',\n",
    "    )\n",
    "    def __init__(self,L,G):\n",
    "        self.L, self.G = L, G\n",
    "        def main(t,state,a=-G/L):\n",
    "            θ,θʹ = state\n",
    "            θʺ = a*sin(θ)\n",
    "            return array((θʹ,θʺ))\n",
    "        self.main = main\n",
    "        def jac(t,state,a=-G/L):\n",
    "            θ,θʹ = state\n",
    "            return array(((0,1),(a*cos(θ),0)))\n",
    "        self.jacobian = jac\n",
    "        def fordisplay(state):\n",
    "            θ,θʹ = state\n",
    "            live = L*array((sin(θ),-cos(θ)))\n",
    "            return live, live\n",
    "        self.fordisplay = fordisplay\n",
    "\n",
    "    def display(self,ax,ini=None,refsize=None,**ka):\n",
    "        L = 1.05*self.L\n",
    "        ax.set_xlim(-L,L)\n",
    "        ax.set_ylim(-L,L)\n",
    "        ax.scatter((0.,),(0.,),c='k',marker='o',s=refsize)\n",
    "        diag_l, = ax.plot((),(),'k')\n",
    "        diag_s = ax.scatter((),(),s=refsize,marker='o',c='r')\n",
    "        tail_l, = ax.plot((),(),'y')\n",
    "        a = -self.G/self.L\n",
    "        E = self.analytics(ini)\n",
    "        c = .5*E/a\n",
    "        if c<-1: k = 1; α = pi\n",
    "        elif c==-1: k = nan; α = pi\n",
    "        else: k = 2; α = arccos(c)\n",
    "        if α<.1: T = pi/sqrt(2)\n",
    "        else: T, err = quad((lambda θ,c=c: 1/sqrt(cos(θ)-c)),0,α)\n",
    "        T *= k*sqrt(-2/a)\n",
    "        ax.set_title(r'trajectory:CircularSegment($R$={:.2f},$\\alpha$={:.2f}) period:{:.2f}'.format(self.L,degrees(α),T))\n",
    "        def disp(t,live,tail):\n",
    "            x,y = live\n",
    "            diag_l.set_data((0,x),(0,y))\n",
    "            diag_s.set_offsets(((x,y),))\n",
    "            tail_l.set_data(tail[:,0],tail[:,1])\n",
    "        return super().display(ax,disp,ini=ini,**ka)\n",
    "\n",
    "    def analytics(self,ini):\n",
    "        θ,θʹ = ini\n",
    "        return square(θʹ)-2*self.G/self.L*cos(θ)\n",
    "\n",
    "    @staticmethod\n",
    "    @Setup(\n",
    "        'θ: angle [deg]',\n",
    "        'θʹ: angular speed [deg.sec^-1]',\n",
    "        θʹ=0.\n",
    "    )\n",
    "    def makestate(θ,θʹ): return radians((θ,θʹ))\n",
    "\n",
    "    @Setup(\n",
    "        'refsize: average size (area) of the bob for display [pt^2]',\n",
    "        taild=1.,refsize=50.,hooks=(partial(logger_hook,logger=logging.getLogger()),)\n",
    "    )\n",
    "    def launch(self,*a,**ka): return super().launch(*a,**ka)"
   ]
  },
  {
   "cell_type": "code",
   "execution_count": 3,
   "metadata": {},
   "outputs": [
    {
     "data": {
      "text/html": [
       "<TABLE><TBODY><TR><TD colspan=\"4\" style=\"background-color: gray; color: white; font-weight: bold;\">Pendulum.__init__(self, L, G)</TD></TR><TR><TH>L</TH><TD style=\"max-width:2cm; white-space: nowrap; overflow: hidden\" title=\"\"></TD><TD>length of the pendulum</TD><TD> <SPAN>m</SPAN></TD></TR><TR><TH>G</TH><TD style=\"max-width:2cm; white-space: nowrap; overflow: hidden\" title=\"\"></TD><TD>intensity of the gravitation</TD><TD> <SPAN>m</SPAN> <SPAN>sec</SPAN><SUP>-2</SUP></TD></TR><TR><TD colspan=\"4\" style=\"background-color: gray; color: white; font-weight: bold;\">Pendulum.launch(self, *a, **ka)</TD></TR><TR><TH>maxtime</TH><TD style=\"max-width:2cm; white-space: nowrap; overflow: hidden\" title=\"inf\">inf</TD><TD>total simulation time length</TD><TD> <SPAN>sec</SPAN></TD></TR><TR><TH>srate</TH><TD style=\"max-width:2cm; white-space: nowrap; overflow: hidden\" title=\"25.0\">25.0</TD><TD>sampling rate</TD><TD> <SPAN>sec</SPAN><SUP>-1</SUP></TD></TR><TR><TH>taild</TH><TD style=\"max-width:2cm; white-space: nowrap; overflow: hidden\" title=\"1.0\">1.0</TD><TD>shadow duration</TD><TD> <SPAN>sec</SPAN></TD></TR><TR><TH>hooks</TH><TD style=\"max-width:2cm; white-space: nowrap; overflow: hidden\" title=\"(functools.partial(&lt;function logger_hook at 0x7f238baa8510&gt;, logger=&lt;RootLogger root (WARNING)&gt;),)\">(functools.partial(&lt;function logger_hook at 0x7f238baa8510&gt;, logger=&lt;RootLogger root (WARNING)&gt;),)</TD><TD>tuple of display hooks</TD><TD/></TR><TR><TH>ini</TH><TD style=\"max-width:2cm; white-space: nowrap; overflow: hidden\" title=\"\"></TD><TD>initial state</TD><TD/></TR><TR><TH>refsize</TH><TD style=\"max-width:2cm; white-space: nowrap; overflow: hidden\" title=\"50.0\">50.0</TD><TD>average size (area) of the bob for display</TD><TD> <SPAN>pt</SPAN><SUP>2</SUP></TD></TR><TR><TD colspan=\"4\" style=\"background-color: gray; color: white; font-weight: bold;\">Pendulum.makestate(θ, θʹ)</TD></TR><TR><TH>θ</TH><TD style=\"max-width:2cm; white-space: nowrap; overflow: hidden\" title=\"\"></TD><TD>angle</TD><TD> <SPAN>deg</SPAN></TD></TR><TR><TH>θʹ</TH><TD style=\"max-width:2cm; white-space: nowrap; overflow: hidden\" title=\"0.0\">0.0</TD><TD>angular speed</TD><TD> <SPAN>deg</SPAN> <SPAN>sec</SPAN><SUP>-1</SUP></TD></TR></TBODY></TABLE>"
      ],
      "text/plain": [
       "**** Pendulum.__init__(self, L, G) ****\n",
       "    L         : length of the pendulum [m]\n",
       "    G         : intensity of the gravitation [m.sec^-2]\n",
       "**** Pendulum.launch(self, *a, **ka) ****\n",
       "    maxtime   (inf       ): total simulation time length [sec]\n",
       "    srate     (25.0      ): sampling rate [sec^-1]\n",
       "    taild     (1.0       ): shadow duration [sec]\n",
       "    hooks     ((functools): tuple of display hooks []\n",
       "    ini       : initial state []\n",
       "    refsize   (50.0      ): average size (area) of the bob for display [pt^2]\n",
       "**** Pendulum.makestate(θ, θʹ) ****\n",
       "    θ         : angle [deg]\n",
       "    θʹ        (0.0       ): angular speed [deg.sec^-1]"
      ]
     },
     "execution_count": 3,
     "metadata": {},
     "output_type": "execute_result"
    }
   ],
   "source": [
    "Setup.display(Pendulum)"
   ]
  },
  {
   "cell_type": "code",
   "execution_count": 4,
   "metadata": {},
   "outputs": [
    {
     "data": {
      "text/plain": [
       "<matplotlib.animation.FuncAnimation at 0x7f23735b1f60>"
      ]
     },
     "execution_count": 4,
     "metadata": {},
     "output_type": "execute_result"
    }
   ],
   "source": [
    "logging.basicConfig(level='WARN') # can be changed dynamically by logger_hook\n",
    "syst = Pendulum(L=2.,G=9.81,)\n",
    "ini = dict(θ=179.)\n",
    "syst.launch(ini=syst.makestate(**ini))"
   ]
  },
  {
   "cell_type": "markdown",
   "metadata": {},
   "source": [
    "Trajectory\n",
    "----------\n",
    "\n",
    "The law of conservation of energy yields $\\dot{\\theta}^2=\\frac{2g}{l}(\\cos\\theta-c)$ for some constant $c$, computed from the total energy $E=-\\frac{2mgc}{l}$. The initial condition defines the value of $c$. By construction, it is impossible that $c\\gt1$.\n",
    "\n",
    "* If $c\\lt-1$ then the trajectory is the whole circle ($\\alpha=\\pi$) and the motion is periodic;\n",
    "\n",
    "* if $c=-1$ the trajectory is a circle segment ending at the top-most point of the circle, toward which the bob converges (but which it never reaches);\n",
    "\n",
    "* if $-1\\lt c\\lt1$ the trajectory is a circle segment limited by the angles $-\\alpha$ and $\\alpha$ where $\\cos\\alpha=c$ and the motion is periodic;\n",
    "\n",
    "* if $c=1$, the trajectory is the bottom-most point of the circle and the motion is null;\n",
    "\n",
    "Periodicity\n",
    "-----------\n",
    "\n",
    "When $|c|\\not=1$, the motion is periodic and the period is given by\n",
    "\n",
    "\\begin{equation*}\n",
    "T = k\\sqrt{\\frac{2l}{g}}\\int_0^\\alpha\\frac{\\mathbf{d}\\theta}{\\sqrt{\\cos\\theta-c}}\n",
    "\\textrm{ where } k=1 \\textrm{ if } c\\lt-1 \\textrm{ and } k=2 \\textrm{ if } -1\\lt c\\lt 1\n",
    "\\end{equation*}\n",
    "\n",
    "Now, when $-1<c<1$, we have $k=2$ and $c=\\cos\\alpha$ with $0<\\alpha<\\pi$. Using the change of variable $t=\\frac{\\theta}{\\alpha}$ we get\n",
    "\n",
    "\\begin{equation*}\n",
    "T=2\\sqrt{\\frac{2l}{g}}I(\\alpha)\n",
    "\\hspace{1cm}\\textrm{where}\\hspace{1cm}\n",
    "I(\\alpha)\\triangleq\\int_0^\\alpha\\frac{\\mathbf{d}\\theta}{\\sqrt{\\cos\\theta-\\cos\\alpha}}=\n",
    "\\int_0^1\\frac{\\alpha\\mathbf{d}t}{\\sqrt{\\cos t\\alpha-\\cos\\alpha}}\n",
    "\\end{equation*}\n",
    "\n",
    "When $t\\downarrow1$, we have $\\cos t\\alpha-\\cos\\alpha\\sim(1-t)\\alpha\\sin\\alpha$ and since $\\int_0^1\\frac{\\mathbf{d}t}{\\sqrt{1-t}}$ is finite, so is $I(\\alpha)$. Furthermore, the integrand is monotone increasing in $\\alpha$, hence so is $I(\\alpha)$.\n",
    "\n",
    "* When $\\alpha$ tends to $0$, the integrand converges pointwise to $\\sqrt{\\frac{2}{1-t^2}}$. By the [dominated convergence theorem](http://en.wikipedia.org/wiki/Dominated_convergence_theorem), and using the change of variable $t=\\sin u$, we have\n",
    "\\begin{equation*}\n",
    "\\lim_{\\alpha\\downarrow0}I(\\alpha) = \\int_0^1\\frac{\\sqrt{2}\\mathbf{d}t}{\\sqrt{1-t^2}} =\n",
    "\\int_0^{\\frac{\\pi}{2}}\\frac{\\sqrt{2}\\cos u\\mathbf{d}u}{\\sqrt{1-\\sin^2u}} = \\frac{\\pi}{\\sqrt{2}}\n",
    "\\hspace{1cm}\\textrm{hence}\\hspace{1cm}\n",
    "\\lim_{c\\downarrow1}T = 2\\pi\\sqrt{\\frac{l}{g}}\n",
    "\\end{equation*}\n",
    "\n",
    "* When $\\alpha$ tends to $\\pi$, the integrand converges pointwise to $\\frac{\\pi}{\\sqrt{2}\\cos(\\frac{\\pi}{2}t)}$. By the [monotone convergence theorem](http://en.wikipedia.org/wiki/Monotone_convergence_theorem), and using the change of variable $t=1-\\frac{2u}{\\pi}$, we have\n",
    "\\begin{equation*}\n",
    "\\lim_{\\alpha\\downarrow\\pi}I(\\alpha) = \\int_0^1\\frac{\\pi\\mathbf{d}t}{\\sqrt{2}\\cos(\\frac{\\pi}{2}t)} =\n",
    "\\sqrt{2}\\int_0^{\\frac{\\pi}{2}}\\frac{\\mathbf{d}u}{\\sin u} = \\infty\n",
    "\\hspace{1cm}\\textrm{hence}\\hspace{1cm}\n",
    "\\lim_{c\\downarrow-1}T = \\infty\n",
    "\\end{equation*}"
   ]
  },
  {
   "cell_type": "code",
   "execution_count": null,
   "metadata": {
    "collapsed": true
   },
   "outputs": [],
   "source": []
  }
 ],
 "metadata": {
  "anaconda-cloud": {},
  "kernelspec": {
   "display_name": "Python 3",
   "language": "python",
   "name": "python3"
  },
  "language_info": {
   "codemirror_mode": {
    "name": "ipython",
    "version": 3
   },
   "file_extension": ".py",
   "mimetype": "text/x-python",
   "name": "python",
   "nbconvert_exporter": "python",
   "pygments_lexer": "ipython3",
   "version": "3.6.1"
  }
 },
 "nbformat": 4,
 "nbformat_minor": 1
}
