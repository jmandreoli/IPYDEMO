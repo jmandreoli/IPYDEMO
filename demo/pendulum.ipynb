{
 "cells": [
  {
   "cell_type": "markdown",
   "metadata": {},
   "source": [
    "# Simple pendulum system\n",
    "\n",
    "Here, the system is a simple pendulum of length $l$ and mass $m$ concentrated at its bob. The pivot of the pendulum is attached to a fix point. The system is submitted to a uniform, constant gravitational acceleration field $g$ and moves without friction.\n",
    "\n",
    "The generalised coordinate of the system is the angle $\\theta$ of the pendulum with the downward vertical direction. The coordinates of the bob are then given by\n",
    "\n",
    "\\begin{eqnarray*}\n",
    "x & = & l\\sin\\theta\\\\\n",
    "y & = & -l\\cos\\theta\n",
    "\\end{eqnarray*}\n",
    "\n",
    "The only active force is weight with coordinates $(0,-mg)$, hence of the form $-\\nabla V$ with $V=mgy=-mgl\\cos\\theta$. Hence the Lagrangian\n",
    "\n",
    "\\begin{eqnarray*}\n",
    "\\mathcal{L} & = & ml(\\frac{1}{2}l\\dot{\\theta}^2+g\\cos\\theta)\n",
    "\\end{eqnarray*}\n",
    "\n",
    "The equations of the dynamics are given by:\n",
    "\n",
    "\\begin{equation*}\n",
    "\\begin{array}{rrcl}\n",
    "\\left[\\frac{\\mathbf{d}}{\\mathbf{d}t}\\frac{\\partial\\mathcal{L}}{\\partial\\dot{\\theta}} = \\frac{\\partial\\mathcal{L}}{\\partial\\theta}\\right]\n",
    "\\hspace{1cm} &\n",
    "l\\ddot{\\theta} & = & -g\\sin\\theta\n",
    "\\end{array}\n",
    "\\end{equation*}\n",
    "\n",
    "Documentation: [here](../doc/_build/html/odesimu.html)"
   ]
  },
  {
   "cell_type": "code",
   "execution_count": 1,
   "metadata": {
    "collapsed": false
   },
   "outputs": [
    {
     "name": "stdout",
     "output_type": "stream",
     "text": [
      "Using matplotlib backend: Qt4Agg\n",
      "Populating the interactive namespace from numpy and matplotlib\n"
     ]
    }
   ],
   "source": [
    "%autoreload 2\n",
    "%pylab\n",
    "\n",
    "import logging\n",
    "logger = logging.getLogger()\n",
    "\n",
    "from functools import partial\n",
    "from scipy.integrate import quad\n",
    "from ipyshow.odesimu.system import System\n",
    "from ipyshow.odesimu.util import logger_hook"
   ]
  },
  {
   "cell_type": "markdown",
   "metadata": {},
   "source": [
    "## Pendulum class"
   ]
  },
  {
   "cell_type": "code",
   "execution_count": 2,
   "metadata": {
    "collapsed": false
   },
   "outputs": [],
   "source": [
    "#----------------------------------------------------------------------------------------------------\n",
    "class Pendulum (System):\n",
    "#----------------------------------------------------------------------------------------------------\n",
    "\n",
    "    def __init__(self,L,G):\n",
    "        \"\"\"\n",
    ":param G: gravitational acceleration, in m/s^2\n",
    ":param L: length of pendulum in m\n",
    "        \"\"\"\n",
    "        self.L, self.G = L, G\n",
    "        def main(t,state,a=-G/L):\n",
    "            theta,dtheta = state\n",
    "            ddtheta = a*sin(theta)\n",
    "            return array((dtheta, ddtheta))\n",
    "        self.main = main\n",
    "        def jac(t,state,a=-G/L):\n",
    "            theta,dtheta = state\n",
    "            return array(((0,1),(a*cos(theta),0)))\n",
    "        self.jacobian = jac\n",
    "        def analytics(state,a=-G/L):\n",
    "            theta,dtheta = state\n",
    "            K = square(dtheta)+2*a*cos(theta)\n",
    "            return K\n",
    "        self.analytics = analytics\n",
    "        def fordisplay(state):\n",
    "            theta,w = state\n",
    "            live = L*sin(theta), -L*cos(theta)\n",
    "            return live, live\n",
    "        self.fordisplay = fordisplay\n",
    "\n",
    "    def display(self,ax,ini=None,refsize=50.,**ka):\n",
    "        \"\"\"\n",
    ":param refsize: size in points^2 of the pendulum (and rotation axe)\n",
    "        \"\"\"\n",
    "        L = 1.05*self.L\n",
    "        ax.set_xlim(-L,L)\n",
    "        ax.set_ylim(-L,L)\n",
    "        ax.scatter((0.,),(0.,),c='k',marker='o',s=refsize)\n",
    "        diag_l, = ax.plot((),(),'k')\n",
    "        diag_s = ax.scatter((),(),s=refsize,marker='o',c='r')\n",
    "        tail_l, = ax.plot((),(),'y')\n",
    "        a = -self.G/self.L\n",
    "        K = self.analytics(ini)\n",
    "        c = .5*K/a\n",
    "        if c<-1: q = 1; alpha = pi\n",
    "        elif c==-1: q = nan; alpha = pi\n",
    "        else: q = 2; alpha = arccos(c)\n",
    "        if alpha<.1: T = pi/sqrt(2)\n",
    "        else: T, err = quad((lambda t,c=c: 1/sqrt(cos(t)-c)),0,alpha)\n",
    "        T *= q*sqrt(-2/a)\n",
    "        ax.set_title(r'trajectory:CircularSegment($R$={:.2f},$\\alpha$={:.2f}) period:{:.2f}'.format(self.L,alpha*180/pi,T))\n",
    "        def disp(t,live,tail):\n",
    "            x,y = live\n",
    "            diag_l.set_data((0,x),(0,y))\n",
    "            diag_s.set_offsets(((x,y),))\n",
    "            tail_l.set_data(tail[:,0],tail[:,1])\n",
    "        return super(Pendulum,self).display(ax,disp,ini=ini,**ka)\n",
    "\n",
    "    @staticmethod\n",
    "    def makestate(theta=0.,w=0.): return array((theta,w),float)*pi/180."
   ]
  },
  {
   "cell_type": "markdown",
   "metadata": {},
   "source": [
    "Launcher\n",
    "--------\n",
    "\n",
    "System parameters:\n",
    "\n",
    "* `L`: length of pendulum (in m)\n",
    "* `G`: gravitational acceleration (in m.sec$^{-2}$)\n",
    "\n",
    "Launch parameters:\n",
    "\n",
    "* `ini/theta`: initial angle of pendulum with downward vertical (in deg)\n",
    "* `ini/w`: initial angular speed (in deg.sec$^{-1}$)\n",
    "* `srate`: simulation rate (in frames.sec$^{-1}$)\n",
    "* `taild`: duration of shadow, ie. trace of previous states (in sec)\n",
    "* `hooks`: list of display hooks (see doc)"
   ]
  },
  {
   "cell_type": "code",
   "execution_count": 3,
   "metadata": {
    "collapsed": false
   },
   "outputs": [
    {
     "data": {
      "text/plain": [
       "<matplotlib.animation.FuncAnimation at 0x7f04081bbd68>"
      ]
     },
     "execution_count": 3,
     "metadata": {},
     "output_type": "execute_result"
    }
   ],
   "source": [
    "logger.setLevel(logging.WARN) # can be changed dynamically by logger_hook\n",
    "syst = Pendulum(L=2.,G=9.81,)\n",
    "syst.launch(\n",
    "    ini=syst.makestate(\n",
    "        theta=179.,\n",
    "        w=0.,\n",
    "        ),\n",
    "    maxtime=infty,\n",
    "    srate=25.,\n",
    "    taild=1,\n",
    "    hooks=(partial(logger_hook,logger=logger),),\n",
    "    animate=dict(\n",
    "        repeat=False,\n",
    "        ),\n",
    "    )"
   ]
  },
  {
   "cell_type": "markdown",
   "metadata": {},
   "source": [
    "Trajectory\n",
    "----------\n",
    "\n",
    "The law of conservation of energy yields $\\dot{\\theta}^2=K+\\frac{2g}{l}\\cos\\theta$ for some constant $K$ (total energy). Let $c=-\\frac{Kl}{2g}$.\n",
    "\n",
    "* If $c\\lt-1$ then the trajectory is the whole circle ($\\alpha=\\pi$) and the motion is periodic;\n",
    "\n",
    "* if $c=-1$ the trajectory is a circle segment ending at the top-most point of the circle, where the motion stops;\n",
    "\n",
    "* if $-1\\lt c\\lt1$ the trajectory is a circle segment limited by the angles $-\\alpha$ and $\\alpha$ where $\\cos\\alpha=c$ and the motion is periodic;\n",
    "\n",
    "* if $c=1$, the trajectory is the bottom-most point of the circle and the motion is null;\n",
    "\n",
    "* by construction, it is impossible that $c\\gt1$.\n",
    "\n",
    "The initial condition defines the value of $K$.\n",
    "\n",
    "Periodicity\n",
    "-----------\n",
    "\n",
    "When $|c|\\not=1$, the motion is periodic and the period is given by\n",
    "\n",
    "\\begin{equation*}\n",
    "T = k\\sqrt{\\frac{2l}{g}}\\int_0^\\alpha\\frac{\\mathbf{d}\\theta}{\\sqrt{\\cos\\theta-c}}\n",
    "\\textrm{ where } k=1 \\textrm{ if } c\\lt-1 \\textrm{ and } k=2 \\textrm{ if } -1\\lt c\\lt 1\n",
    "\\end{equation*}\n",
    "\n",
    "Now, when $c\\geq0$, we have $c=\\cos\\alpha$ and $k=2$. Using the change of variable $t=\\frac{\\theta}{\\alpha}$ we get\n",
    "\n",
    "\\begin{equation*}\n",
    "T=2\\sqrt{\\frac{2l}{g}}I(\\alpha)\n",
    "\\hspace{1cm}\\textrm{where}\\hspace{1cm}\n",
    "I(\\alpha)=\\int_0^\\alpha\\frac{\\mathbf{d}\\theta}{\\sqrt{\\cos\\theta-\\cos\\alpha}}=\n",
    "\\int_0^1\\frac{\\alpha\\mathbf{d}t}{\\sqrt{\\cos t\\alpha-\\cos\\alpha}}\n",
    "\\end{equation*}\n",
    "\n",
    "When $c$ tends to $1$, then $\\alpha$ tends to $0$ and the integrand monotonously converges pointwise to $f(t)=\\sqrt{\\frac{2}{1-t^2}}$. Hence, by the [monotone convergence theorem](http://en.wikipedia.org/wiki/Monotone_convergence_theorem), and using the change of variable $t=\\sin u$ we get\n",
    "\n",
    "\\begin{equation*}\n",
    "\\lim_{\\alpha\\downarrow0}I(\\alpha) = \\int_0^1\\frac{\\sqrt{2}\\mathbf{d}t}{\\sqrt{1-t^2}} =\n",
    "\\int_0^{\\frac{\\pi}{2}}\\frac{\\sqrt{2}\\cos u\\mathbf{d}u}{\\sqrt{1-\\sin^2u}} = \\frac{\\pi}{\\sqrt{2}}\n",
    "\\hspace{1cm}\\textrm{hence}\\hspace{1cm}\n",
    "\\lim_{c\\downarrow1}T = 2\\pi\\sqrt{\\frac{l}{g}}\n",
    "\\end{equation*}"
   ]
  }
 ],
 "metadata": {
  "kernelspec": {
   "display_name": "Python 3",
   "language": "python",
   "name": "python3"
  },
  "language_info": {
   "codemirror_mode": {
    "name": "ipython",
    "version": 3
   },
   "file_extension": ".py",
   "mimetype": "text/x-python",
   "name": "python",
   "nbconvert_exporter": "python",
   "pygments_lexer": "ipython3",
   "version": "3.5.1"
  }
 },
 "nbformat": 4,
 "nbformat_minor": 0
}
