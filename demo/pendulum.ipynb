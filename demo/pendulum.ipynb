{
 "cells": [
  {
   "cell_type": "markdown",
   "metadata": {},
   "source": [
    "# Simple pendulum system\n",
    "\n",
    "Consider a simple pendulum of length $l$ and mass $m$ concentrated at its bob. The pivot of the pendulum is attached to a fix point. The system is submitted to a uniform, constant gravitational acceleration field $g$ and moves without friction.\n",
    "\n",
    "The generalised coordinate of the system is the angle $\\theta$ of the pendulum with the downward vertical direction. The standard (Cartesian) coordinates of the bob are then given by\n",
    "\n",
    "\\begin{equation*}\n",
    "x = l\\sin\\theta\n",
    "\\hspace{2cm}\n",
    "y = -l\\cos\\theta\n",
    "\\end{equation*}\n",
    "\n",
    "The only active force is weight with coordinates $(0,-mg)$, hence of the form $-\\nabla V$ with $V=mgy=-mgl\\cos\\theta$. Hence the Lagrangian\n",
    "\n",
    "\\begin{eqnarray*}\n",
    "\\mathcal{L} & = & ml(\\frac{1}{2}l\\dot{\\theta}^2+g\\cos\\theta)\n",
    "\\end{eqnarray*}\n",
    "\n",
    "The equations of the dynamics are given by:\n",
    "\n",
    "\\begin{equation*}\n",
    "\\begin{array}{rrcl}\n",
    "\\left[\\frac{\\mathbf{d}}{\\mathbf{d}t}\\frac{\\partial\\mathcal{L}}{\\partial\\dot{\\theta}} = \\frac{\\partial\\mathcal{L}}{\\partial\\theta}\\right]\n",
    "\\hspace{1cm} &\n",
    "l\\ddot{\\theta} & = & -g\\sin\\theta\n",
    "\\end{array}\n",
    "\\end{equation*}\n",
    "\n",
    "Documentation: [here](../doc/_build/html/odesimu.html)"
   ]
  },
  {
   "cell_type": "code",
   "execution_count": 1,
   "metadata": {
    "collapsed": false
   },
   "outputs": [
    {
     "name": "stdout",
     "output_type": "stream",
     "text": [
      "Using matplotlib backend: Qt5Agg\n",
      "Populating the interactive namespace from numpy and matplotlib\n"
     ]
    }
   ],
   "source": [
    "#%pylab nbagg\n",
    "%pylab\n",
    "# for better display performance\n",
    "\n",
    "import logging\n",
    "logger = logging.getLogger()\n",
    "\n",
    "from functools import partial\n",
    "from collections import ChainMap\n",
    "from scipy.integrate import quad\n",
    "from ipyshow.odesimu.system import System\n",
    "from ipyshow.odesimu.util import logger_hook"
   ]
  },
  {
   "cell_type": "markdown",
   "metadata": {},
   "source": [
    "## Pendulum class"
   ]
  },
  {
   "cell_type": "code",
   "execution_count": 2,
   "metadata": {
    "collapsed": false
   },
   "outputs": [],
   "source": [
    "#----------------------------------------------------------------------------------------------------\n",
    "class Pendulum (System):\n",
    "#----------------------------------------------------------------------------------------------------\n",
    "\n",
    "    shadowshape = (2,)\n",
    "\n",
    "    def __init__(self,L,G):\n",
    "        self.L, self.G = L, G\n",
    "        def main(t,state,a=-G/L):\n",
    "            theta,dtheta = state\n",
    "            ddtheta = a*sin(theta)\n",
    "            return array((dtheta, ddtheta))\n",
    "        self.main = main\n",
    "        def jac(t,state,a=-G/L):\n",
    "            theta,dtheta = state\n",
    "            return array(((0,1),(a*cos(theta),0)))\n",
    "        self.jacobian = jac\n",
    "        def analytics(state,a=-G/L):\n",
    "            theta,dtheta = state\n",
    "            return square(dtheta)+2*a*cos(theta)\n",
    "        self.analytics = analytics\n",
    "        def fordisplay(state):\n",
    "            theta,w = state\n",
    "            live = L*sin(theta), -L*cos(theta)\n",
    "            return live, live\n",
    "        self.fordisplay = fordisplay\n",
    "\n",
    "    Help = '''\n",
    "        /G [m.sec^-2]: gravitational acceleration\n",
    "        /L [m]: length of pendulum\n",
    "    '''\n",
    "\n",
    "    def display(self,ax,ini=None,refsize=50.,**ka):\n",
    "        L = 1.05*self.L\n",
    "        ax.set_xlim(-L,L)\n",
    "        ax.set_ylim(-L,L)\n",
    "        ax.scatter((0.,),(0.,),c='k',marker='o',s=refsize)\n",
    "        diag_l, = ax.plot((),(),'k')\n",
    "        diag_s = ax.scatter((),(),s=refsize,marker='o',c='r')\n",
    "        tail_l, = ax.plot((),(),'y')\n",
    "        a = -self.G/self.L\n",
    "        E = self.analytics(ini)\n",
    "        c = .5*E/a\n",
    "        if c<-1: q = 1; alpha = pi\n",
    "        elif c==-1: q = nan; alpha = pi\n",
    "        else: q = 2; alpha = arccos(c)\n",
    "        if alpha<.1: T = pi/sqrt(2)\n",
    "        else: T, err = quad((lambda t,c=c: 1/sqrt(cos(t)-c)),0,alpha)\n",
    "        T *= q*sqrt(-2/a)\n",
    "        ax.set_title(r'trajectory:CircularSegment($R$={:.2f},$\\alpha$={:.2f}) period:{:.2f}'.format(self.L,alpha*180/pi,T))\n",
    "        def disp(t,live,tail):\n",
    "            x,y = live\n",
    "            diag_l.set_data((0,x),(0,y))\n",
    "            diag_s.set_offsets(((x,y),))\n",
    "            tail_l.set_data(tail[:,0],tail[:,1])\n",
    "        return super().display(ax,disp,ini=ini,**ka)\n",
    "\n",
    "    @staticmethod\n",
    "    def makestate(theta=0.,w=0.): return array((theta,w),float)*pi/180.\n",
    "\n",
    "    Help += '''\n",
    "        makestate/theta [deg]: angle of pendulum with downward vertical\n",
    "        makestate/w [deg.sec^-1]: angular speed\n",
    "        launch/refsize [pt^2]: size (area) of the blob for display\n",
    "    '''\n",
    "\n",
    "    launchdefaults = ChainMap(\n",
    "        dict(\n",
    "            taild=1,\n",
    "            hooks=(partial(logger_hook,logger=logger),),\n",
    "        ),\n",
    "        System.launchdefaults\n",
    "    )\n",
    "\n",
    "    Help += System.Help"
   ]
  },
  {
   "cell_type": "code",
   "execution_count": 3,
   "metadata": {
    "collapsed": false
   },
   "outputs": [
    {
     "data": {
      "text/html": [
       "<table style=\"background-color: white; color: black;\"><tbody><tr style=\"background-color: gray; color: white;\"><th colspan=\"3\">__main__.Pendulum</th></tr><tr><th>G</th><td>m.sec<sup>-2</sup></td><td>gravitational acceleration</td></tr><tr><th>L</th><td>m</td><td>length of pendulum</td></tr><tr style=\"background-color: gray; color: white;\"><th colspan=\"3\">__main__.Pendulum:makestate</th></tr><tr><th>theta</th><td>deg</td><td>angle of pendulum with downward vertical</td></tr><tr><th>w</th><td>deg.sec<sup>-1</sup></td><td>angular speed</td></tr><tr style=\"background-color: gray; color: white;\"><th colspan=\"3\">__main__.Pendulum:launch</th></tr><tr><th>refsize</th><td>pt<sup>2</sup></td><td>size (area) of the blob for display</td></tr><tr><th>ini</th><td></td><td>initial state</td></tr><tr><th>taild</th><td>sec</td><td>shadow duration</td></tr><tr><th>srate</th><td>sec<sup>-1</sup></td><td>sampling rate</td></tr><tr><th>hooks</th><td></td><td>list of display hooks,</td></tr><tr><th>maxtime</th><td>sec</td><td>simulation time</td></tr></tbody></table>"
      ],
      "text/latex": [
       "\\begin{itemize}\n",
       "\\item \\_\\_main\\_\\_.Pendulum\n",
       "\\begin{itemize}\n",
       "\\item G (m.sec$^-2$): gravitational acceleration\n",
       "\\item L (m): length of pendulum\n",
       "\\end{itemize}\n",
       "\\item \\_\\_main\\_\\_.Pendulum:makestate\n",
       "\\begin{itemize}\n",
       "\\item theta (deg): angle of pendulum with downward vertical\n",
       "\\item w (deg.sec$^-1$): angular speed\n",
       "\\end{itemize}\n",
       "\\item \\_\\_main\\_\\_.Pendulum:launch\n",
       "\\begin{itemize}\n",
       "\\item refsize (pt$^2$): size (area) of the blob for display\n",
       "\\item ini: initial state\n",
       "\\item taild (sec): shadow duration\n",
       "\\item srate (sec$^-1$): sampling rate\n",
       "\\item hooks: list of display hooks,\n",
       "\\item maxtime (sec): simulation time\n",
       "\\end{itemize}\n",
       "\\end{itemize}"
      ],
      "text/plain": [
       "<ipyshow.util.multidisp at 0x7f524afe6a20>"
      ]
     },
     "execution_count": 3,
     "metadata": {},
     "output_type": "execute_result"
    }
   ],
   "source": [
    "Pendulum.helper()"
   ]
  },
  {
   "cell_type": "code",
   "execution_count": 4,
   "metadata": {
    "collapsed": false
   },
   "outputs": [
    {
     "data": {
      "text/plain": [
       "<matplotlib.animation.FuncAnimation at 0x7f52140cdb00>"
      ]
     },
     "execution_count": 4,
     "metadata": {},
     "output_type": "execute_result"
    }
   ],
   "source": [
    "logger.setLevel(logging.WARN) # can be changed dynamically by logger_hook\n",
    "syst = Pendulum(L=2.,G=9.81,); ini = dict(theta=179.,w=0.)\n",
    "syst.launch(ini=syst.makestate(**ini))"
   ]
  },
  {
   "cell_type": "markdown",
   "metadata": {},
   "source": [
    "Trajectory\n",
    "----------\n",
    "\n",
    "The law of conservation of energy yields $\\dot{\\theta}^2=\\frac{2g}{l}(\\cos\\theta-c)$ for some constant $c$, where the total energy is $-\\frac{2mgc}{l}$. The initial condition defines the value of $c$. By construction, it is impossible that $c\\gt1$.\n",
    "\n",
    "* If $c\\lt-1$ then the trajectory is the whole circle ($\\alpha=\\pi$) and the motion is periodic;\n",
    "\n",
    "* if $c=-1$ the trajectory is a circle segment ending at the top-most point of the circle, where the motion stops;\n",
    "\n",
    "* if $-1\\lt c\\lt1$ the trajectory is a circle segment limited by the angles $-\\alpha$ and $\\alpha$ where $\\cos\\alpha=c$ and the motion is periodic;\n",
    "\n",
    "* if $c=1$, the trajectory is the bottom-most point of the circle and the motion is null;\n",
    "\n",
    "Periodicity\n",
    "-----------\n",
    "\n",
    "When $|c|\\not=1$, the motion is periodic and the period is given by\n",
    "\n",
    "\\begin{equation*}\n",
    "T = k\\sqrt{\\frac{2l}{g}}\\int_0^\\alpha\\frac{\\mathbf{d}\\theta}{\\sqrt{\\cos\\theta-c}}\n",
    "\\textrm{ where } k=1 \\textrm{ if } c\\lt-1 \\textrm{ and } k=2 \\textrm{ if } -1\\lt c\\lt 1\n",
    "\\end{equation*}\n",
    "\n",
    "Now, when $-1<c<1$, we have $k=2$ and $c=\\cos\\alpha$ with $0<\\alpha<\\pi$. Using the change of variable $t=\\frac{\\theta}{\\alpha}$ we get\n",
    "\n",
    "\\begin{equation*}\n",
    "T=2\\sqrt{\\frac{2l}{g}}I(\\alpha)\n",
    "\\hspace{1cm}\\textrm{where}\\hspace{1cm}\n",
    "I(\\alpha)\\triangleq\\int_0^\\alpha\\frac{\\mathbf{d}\\theta}{\\sqrt{\\cos\\theta-\\cos\\alpha}}=\n",
    "\\int_0^1\\frac{\\alpha\\mathbf{d}t}{\\sqrt{\\cos t\\alpha-\\cos\\alpha}}\n",
    "\\end{equation*}\n",
    "\n",
    "When $t\\downarrow1$, we have $\\cos t\\alpha-\\cos\\alpha\\sim(1-t)\\alpha\\sin\\alpha$ and since $\\int_0^1\\frac{\\mathbf{d}t}{\\sqrt{1-t}}$ is finite, so is $I(\\alpha)$. Furthermore, the integrand is monotone increasing in $\\alpha$, hence so is $I(\\alpha)$.\n",
    "\n",
    "* When $\\alpha$ tends to $0$, the integrand converges pointwise to $\\sqrt{\\frac{2}{1-t^2}}$. By the [dominated convergence theorem](http://en.wikipedia.org/wiki/Dominated_convergence_theorem), and using the change of variable $t=\\sin u$, we have\n",
    "\\begin{equation*}\n",
    "\\lim_{\\alpha\\downarrow0}I(\\alpha) = \\int_0^1\\frac{\\sqrt{2}\\mathbf{d}t}{\\sqrt{1-t^2}} =\n",
    "\\int_0^{\\frac{\\pi}{2}}\\frac{\\sqrt{2}\\cos u\\mathbf{d}u}{\\sqrt{1-\\sin^2u}} = \\frac{\\pi}{\\sqrt{2}}\n",
    "\\hspace{1cm}\\textrm{hence}\\hspace{1cm}\n",
    "\\lim_{c\\downarrow1}T = 2\\pi\\sqrt{\\frac{l}{g}}\n",
    "\\end{equation*}\n",
    "\n",
    "* When $\\alpha$ tends to $\\pi$, the integrand converges pointwise to $\\frac{\\pi}{\\sqrt{2}\\cos(\\frac{\\pi}{2}t)}$. By the [monotone convergence theorem](http://en.wikipedia.org/wiki/Monotone_convergence_theorem), and using the change of variable $t=1-\\frac{2u}{\\pi}$, we have\n",
    "\\begin{equation*}\n",
    "\\lim_{\\alpha\\downarrow\\pi}I(\\alpha) = \\int_0^1\\frac{\\pi\\mathbf{d}t}{\\sqrt{2}\\cos(\\frac{\\pi}{2}t)} =\n",
    "\\sqrt{2}\\int_0^{\\frac{\\pi}{2}}\\frac{\\mathbf{d}u}{\\sin u} = \\infty\n",
    "\\hspace{1cm}\\textrm{hence}\\hspace{1cm}\n",
    "\\lim_{c\\downarrow-1}T = \\infty\n",
    "\\end{equation*}"
   ]
  },
  {
   "cell_type": "code",
   "execution_count": null,
   "metadata": {
    "collapsed": true
   },
   "outputs": [],
   "source": []
  }
 ],
 "metadata": {
  "anaconda-cloud": {},
  "kernelspec": {
   "display_name": "Python [default]",
   "language": "python",
   "name": "python3"
  },
  "language_info": {
   "codemirror_mode": {
    "name": "ipython",
    "version": 3
   },
   "file_extension": ".py",
   "mimetype": "text/x-python",
   "name": "python",
   "nbconvert_exporter": "python",
   "pygments_lexer": "ipython3",
   "version": "3.5.2"
  }
 },
 "nbformat": 4,
 "nbformat_minor": 0
}
