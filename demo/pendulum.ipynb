{
 "cells": [
  {
   "cell_type": "markdown",
   "metadata": {},
   "source": [
    "# Simple pendulum system\n",
    "\n",
    "<img align=\"right\" width=\"150\" src=\"pendulum.png\">\n",
    "\n",
    "Consider a simple pendulum of length $l$ and mass $m$ concentrated at its bob. The pivot of the pendulum is attached to a fix point. The system is submitted to a uniform, constant gravitational acceleration field $g$ and moves without friction.\n",
    "\n",
    "The generalised coordinate of the system is the angle $\\theta$ of the pendulum with the downward vertical direction. The standard (Cartesian) coordinates of the bob are then given by\n",
    "\n",
    "\\begin{equation*}\n",
    "x = l\\sin\\theta\n",
    "\\hspace{2cm}\n",
    "y = -l\\cos\\theta\n",
    "\\end{equation*}\n",
    "\n",
    "The only active force is weight with coordinates $(0,-mg)$, hence of the form $-\\nabla V$ with $V=mgy=-mgl\\cos\\theta$. Hence the Lagrangian\n",
    "\n",
    "\\begin{equation*}\n",
    "\\mathcal{L} = ml^2(\\frac{1}{2}\\dot{\\theta}^2+\\frac{g}{l}\\cos\\theta)\n",
    "\\end{equation*}\n",
    "\n",
    "The equations of the dynamics are given by:\n",
    "\n",
    "\\begin{align*}\n",
    "\\left[\\frac{\\mathbf{d}}{\\mathbf{d}t}\\frac{\\partial\\mathcal{L}}{\\partial\\dot{\\theta}} = \\frac{\\partial\\mathcal{L}}{\\partial\\theta}\\right]\n",
    "\\hspace{1.5cm} &\n",
    "\\ddot{\\theta} = -\\frac{g}{l}\\sin\\theta\n",
    "\\end{align*}\n",
    "\n",
    "Multiplying that equation by $\\dot{\\theta}$ and integrating yields $\\dot{E}=0$ where $E$ is the total energy (constant) defined by\n",
    "\n",
    "\\begin{equation*}\n",
    "E\\triangleq\\frac{1}{2}\\dot{\\theta}^2-\\frac{g}{l}\\cos\\theta\n",
    "\\hspace{2cm}\n",
    "\\dot{E}=0\n",
    "\\end{equation*}\n",
    "\n",
    "The time domain $\\mathcal{D}^{(t)}$ is necessarily $\\mathbb{R}$.\n"
   ]
  },
  {
   "cell_type": "code",
   "execution_count": 1,
   "metadata": {
    "tags": []
   },
   "outputs": [],
   "source": [
    "import logging; logging.basicConfig(level=logging.WARNING); logging.captureWarnings(True)\n",
    "from numpy import sin,cos,pi,arccos,degrees,radians,sqrt,array,square,isclose\n",
    "from ipyshow.odesimu import System\n",
    "from functools import namedtuple\n",
    "from enum import Enum\n",
    "Trajectory = namedtuple('Trajectory','periodicity α T name displayer')\n",
    "Periodicity = Enum('Periodicity','Aperiodic Periodic IncrementalPeriodic')"
   ]
  },
  {
   "cell_type": "markdown",
   "metadata": {},
   "source": [
    "## Pendulum class"
   ]
  },
  {
   "cell_type": "code",
   "execution_count": 2,
   "metadata": {},
   "outputs": [],
   "source": [
    "#----------------------------------------------------------------------------------------------------\n",
    "class Pendulum (System):\n",
    "#----------------------------------------------------------------------------------------------------\n",
    "\n",
    "  def __init__(self,L,G):\n",
    "    r\"\"\"\n",
    "Args:\n",
    "  L (float): length of the pendulum [m]\n",
    "  G (float): intensity of the gravitation [m.sec^-2]\n",
    "    \"\"\"\n",
    "    self.L, self.G = L, G\n",
    "    self.a = a = G/L\n",
    "    def fun(t,state):\n",
    "      θ,θʹ = state\n",
    "      θʺ = -a*sin(θ)\n",
    "      return array((θʹ,θʺ))\n",
    "    self.fun = fun\n",
    "    def jac(t,state):\n",
    "      θ,θʹ = state\n",
    "      return array(((0,1),(-a*cos(θ),0)))\n",
    "    self.jac = jac\n",
    "    def cartesian(state):\n",
    "      θ,θʹ = state\n",
    "      return L*array((sin(θ),-cos(θ)))\n",
    "    self.cartesian = cartesian\n",
    "\n",
    "  def displayer(self,env,ax,refsize=80):\n",
    "    r\"\"\"\n",
    "Args:\n",
    "  refsize (int): reference dimension for the blobs [pt^2]\n",
    "    \"\"\"\n",
    "    L = 1.05*self.L\n",
    "    ax.set(xlim=(-L,L),ylim=(-L,L))\n",
    "    ax.scatter((),(),c='k',marker='o',s=refsize)\n",
    "    self.trajectory(env.init_y).displayer(ax)\n",
    "    a_pole, = ax.plot((),(),'k')\n",
    "    a_bob = ax.scatter((),(),c='r',marker='o',s=refsize)\n",
    "    a_tail, = ax.plot((),(),'y')\n",
    "    def disp():\n",
    "      x,y = self.cartesian(env.state)\n",
    "      a_pole.set_data((0,x),(0,y))\n",
    "      a_bob.set_offsets(((x,y),))\n",
    "      a_tail.set_data(*self.cartesian(env.cached_states))\n",
    "    return disp\n",
    "\n",
    "  @staticmethod\n",
    "  def makestate(θ,θʹ=0.):\n",
    "    r\"\"\"\n",
    "Args:\n",
    "  θ (float): angle [deg]\n",
    "  θʹ (float): angular speed [deg.sec^-1]\n",
    "    \"\"\"\n",
    "    return radians((θ,θʹ))\n",
    "\n",
    "  def analytics(self,init_y):\n",
    "    θ,θʹ = init_y\n",
    "    return .5*square(θʹ)-self.a*cos(θ)\n",
    "\n",
    "  def trajectory(self,init_y):\n",
    "    from scipy.integrate import quad\n",
    "    E = self.analytics(init_y)\n",
    "    c = -E/self.a\n",
    "    if isclose(c,-1):\n",
    "      periodicity = Periodicity.Aperiodic; name = 'aperiodic'; T = None; α = pi\n",
    "    else:\n",
    "      if c<-1: periodicity = Periodicity.IncrementalPeriodic; name = 'incremental period'; α = pi\n",
    "      else: periodicity = Periodicity.Periodic; name = 'half-period'; α = arccos(c)\n",
    "      T = pi/sqrt(2) if isclose(α,0.) else quad((lambda θ,c=c: 1/sqrt(cos(θ)-c)),0,α)[0]\n",
    "      T *= sqrt(2/self.a)\n",
    "      name = f'{name}: {T:.2f}'\n",
    "    name = f'CircularArc($R={self.L:.2f},\\\\alpha={degrees(α):.2f}$) {name}'\n",
    "    def displayer(ax):\n",
    "      from matplotlib.patches import Arc\n",
    "      ax.set_title(f'Trajectory:{name}',fontsize='x-small')\n",
    "      ax.scatter(*zip(*map(self.cartesian,((-α,0),(α,0)))),marker='+',c='k')\n",
    "      ax.add_patch(Arc((0,0),2*self.L,2*self.L,angle=-90,theta1=-degrees(α),theta2=degrees(α),color='k',ls='dashed'))\n",
    "    return Trajectory(periodicity,α,T,name,displayer)\n",
    "\n",
    "  launch_defaults = {'period':10.,'cache_spec':(10,.05),'max_step':.05}"
   ]
  },
  {
   "cell_type": "code",
   "execution_count": 6,
   "metadata": {},
   "outputs": [],
   "source": [
    "%matplotlib widget\n",
    "#%matplotlib qt6\n",
    "from myutil.simpy import SimpySimulation"
   ]
  },
  {
   "cell_type": "code",
   "execution_count": 7,
   "metadata": {},
   "outputs": [
    {
     "data": {
      "application/vnd.jupyter.widget-view+json": {
       "model_id": "56fdb6137a0c4a8aa2df039f43732fe7",
       "version_major": 2,
       "version_minor": 0
      },
      "text/plain": [
       "IPYControlledAnimation(children=(VBox(children=(HBox(children=(SimpleButton(icon='close', layout=Layout(paddin…"
      ]
     },
     "execution_count": 7,
     "metadata": {},
     "output_type": "execute_result"
    },
    {
     "data": {
      "application/vnd.jupyter.widget-view+json": {
       "model_id": "622dc3882a1b4fc18d4011b3b2695eb7",
       "version_major": 2,
       "version_minor": 0
      },
      "image/png": "[encoded data removed]",
      "text/html": [
       "\n",
       "            <div style=\"display: inline-block;\">\n",
       "                <div class=\"jupyter-widgets widget-label\" style=\"text-align: center;\">\n",
       "                    Figure\n",
       "                </div>\n",
       "                <img src='data:image/png;base64,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' width=640.0/>\n",
       "            </div>\n",
       "        "
      ],
      "text/plain": [
       "Canvas(toolbar=Toolbar(toolitems=[('Home', 'Reset original view', 'home', 'home'), ('Back', 'Back to previous …"
      ]
     },
     "metadata": {},
     "output_type": "display_data"
    }
   ],
   "source": [
    "syst = Pendulum(L=2.,G=9.81,)\n",
    "ini = dict(θ=90.,θʹ=120.)\n",
    "#ini = dict(θ=90.,jumpθʹ=181)\n",
    "#ini = dict(θ=179.)\n",
    "#ini = dict(θ=90.jump,θʹ=degrees(sqrt(syst.G))) # should be aperiodic, but appears periodic due to numerical errors\n",
    "\n",
    "SimpySimulation(\n",
    "  syst.launch(init_y=ini),\n",
    "  frame_per_stu=25,track_spec=60.\n",
    ")"
   ]
  },
  {
   "cell_type": "markdown",
   "metadata": {},
   "source": [
    "## Trajectory\n",
    "\n",
    "The trajectory is a circle arc (or full circle).The equation of the total energy is given by $\\dot{\\theta}^2=\\frac{2g}{l}(\\cos\\theta-c)$ where $c=-\\frac{El}{g}$. Note that by construction $c\\leq1$.\n",
    "\n",
    "### Properties of the solution\n",
    "\n",
    "For any instant $\\tau$, we have\n",
    "\n",
    "\\begin{equation*}\n",
    "\\textrm{If}\\hspace{1cm}\n",
    "\\theta(\\tau)\\equiv{0}\\mod{\\pi}\n",
    "\\hspace{1cm}\\textrm{then}\\hspace{1cm}\n",
    "\\theta(2\\tau-t) = 2\\theta(\\tau)-\\theta(t)\n",
    "\\end{equation*}\n",
    "\n",
    "Hence, under the given condition, the graph of $\\theta(t)$ is symmetric around $(\\tau,\\theta(\\tau))$. Indeed\n",
    "\n",
    "* Consider $\\tilde{\\theta}(t)=2\\theta(\\tau)-\\theta(2\\tau-t)$. In particular, $\\tilde{\\theta}(\\tau)=\\theta(\\tau)$ and $\\dot{\\tilde{\\theta}}(\\tau)=\\dot{\\theta}(\\tau)$.\n",
    "* By design, if $\\theta(\\tau)\\equiv{0}\\mod{\\pi}$, then $\\tilde{\\theta}$ satisfies the same Lagrangian differential equation as $\\theta$.\n",
    "* Since they coincide as well as their derivatives at $\\tau$, they are equal. Hence $\\theta(2\\tau-t) = 2\\theta(\\tau)-\\theta(t)$.\n",
    "\n",
    "Similarly, we can show, using the constant function $\\tilde{\\theta}(t)=\\theta(\\tau)$:\n",
    "\n",
    "\\begin{equation*}\n",
    "\\textrm{If}\\hspace{1cm}\n",
    "\\theta(\\tau)\\equiv{0}\\mod{\\pi}\n",
    "\\hspace{1cm}\\textrm{and}\\hspace{1cm}\n",
    "\\cos(\\theta(\\tau))=c\n",
    "\\hspace{1cm}\\textrm{then}\\hspace{1cm}\n",
    "\\theta(t) = \\theta(\\tau)\n",
    "\\end{equation*}\n",
    "\n",
    "Since $\\mathcal{D}^{(\\theta)}$ is an interval, there are 3 cases.\n",
    "\n",
    "* If $\\mathcal{D}^{(\\theta)}$ is the singleton $\\{\\theta_o\\}$, we must have $\\dot{\\theta}_o=0$ hence $\\cos\\theta_o=c$ and $\\ddot{\\theta}_o=0$ hence $\\sin\\theta_o=0$. Hence $\\theta_o\\equiv{0}\\mod{\\pi}$ and $c=\\pm1$. The trajectory is reduced to either the top or bottom point of the circle.\n",
    "\n",
    "* If $\\mathcal{D}^{(\\theta)}$ is unbounded on at least one side\n",
    "  * it must contain some $\\theta(\\tau)=k\\pi$ for some $k\\in\\mathbb{Z}$ sufficiently large (positive or negative).\n",
    "  * Hence $\\mathcal{D}^{(\\theta)}$ is symmetric around $\\tau$, hence it must be unbounded on both sides, i.e. $\\mathcal{D}^{(\\theta)}=\\mathbb{R}$.\n",
    "  * Hence, the trajectory is the whole circle, and for some $t^*,T$ we have $\\theta(t^*)=0$ and $\\theta(t^*+T)=\\pi$.\n",
    "  * Hence $-1-c=\\cos\\theta(t^*+T)-c=\\frac{l}{2g}\\dot{\\theta}(t^*+T)^2\\geq0$ hence $c\\leq-1$.\n",
    "  * In fact, $c=-1$ is impossible, because in that case $\\cos\\theta(t^*+T)=c$ and $\\theta$ would be constant, hence $c<-1$.\n",
    "  * Hence $\\dot{\\theta}\\not=0$ and $\\theta$ is monotonous in $t$, i.e. for some $\\epsilon\\in\\{-1,1\\}$ we have $\\dot{\\theta}=\\epsilon\\sqrt{\\frac{2g}{l}}\\sqrt{\\cos\\theta-c}$.\n",
    "  * By symmetry at $t^*+T$ we get $\\theta(t^*+2T)=2\\pi$.\n",
    "  * Considering $\\tilde{\\theta}(t)=\\theta(t+2T)-2\\pi$, it is easy to show that $\\tilde{\\theta}$ and $\\theta$, as well as their derivatives, coincide at $t^*$.\n",
    "  * They satisfy the same differential equation, hence they are equal.\n",
    "  * Hence $\\theta$ is incremental periodic of half-period $T$.\n",
    "\n",
    "* If $\\mathcal{D}^{(\\theta)}$ is bounded on both side, let $\\theta_{\\textrm{min}},\\theta_{\\textrm{max}}$ be its lower and upper bound, respectively.\n",
    "  * If $\\theta_{\\textrm{min}}=\\theta(\\tau)$ for some $\\tau$, then $\\theta$ is minimal at $\\tau$ hence $\\dot{\\theta}(\\tau)=0$ hence $\\cos(\\theta_{\\textrm{min}})=c$.\n",
    "  * Otherwise, $\\theta_{\\textrm{min}}$ must be a limit point, i.e. $\\theta_{\\textrm{min}}=\\lim_{t\\rightarrow\\tau}\\theta(t)$ for $\\tau=\\pm\\infty$. Hence $\\delta\\triangleq\\lim_{t\\rightarrow\\tau}\\dot{\\theta}(t)=\\frac{2g}{l}(\\cos\\theta_{\\textrm{min}}-c)$. By L'Hôpital rule, we get $\\delta=\\lim_{t\\rightarrow\\tau}\\frac{\\theta(t)}{t}=\\lim_{t\\rightarrow\\tau}\\frac{\\theta_{\\textrm{min}}}{t}=0$.\n",
    "  * Hence, in all cases, and reasoning similarly with $\\theta_{\\textrm{max}}$, we get $\\cos(\\theta_{\\textrm{min}})=\\cos(\\theta_{\\textrm{max}})=c$, and $\\cos\\theta\\geq c$ for all $\\theta\\in[\\theta_{\\textrm{min}},\\theta_{\\textrm{max}}]$.\n",
    "  * Hence $-1\\leq c<1$.\n",
    "\n",
    "### Periodicity when $-1<c<1$\n",
    "\n",
    "When $|c|<1$, the motion is periodic and, since $c=\\cos\\alpha$, using the change of variable $\\theta=t\\alpha$, the **half-period** is given by\n",
    "\n",
    "\\begin{equation*}\n",
    "T=\\sqrt{\\frac{2l}{g}}I(\\alpha)\n",
    "\\hspace{1cm}\\textrm{where}\\hspace{1cm}\n",
    "I(\\alpha)\\triangleq\\int_0^\\alpha\\frac{\\mathbf{d}\\theta}{\\sqrt{\\cos\\theta-\\cos\\alpha}}=\n",
    "\\int_0^1\\frac{\\alpha\\mathbf{d}t}{\\sqrt{\\cos t\\alpha-\\cos\\alpha}} =\n",
    "\\int_0^1\\frac{\\alpha\\mathbf{d}t}{\\sqrt{2\\sin\\frac{1+t}{2}\\alpha\\sin\\frac{1-t}{2}\\alpha}}\n",
    "\\end{equation*}\n",
    "\n",
    "When $t\\rightarrow1$, we have $2\\sin\\frac{1+t}{2}\\alpha\\sin\\frac{1-t}{2}\\alpha\\sim(1-t)\\alpha\\sin\\alpha$ and since $\\int_0^1\\frac{\\mathbf{d}t}{\\sqrt{1-t}}=2$ is finite, so is $I(\\alpha)$. Furthermore, the integrand is monotone increasing in $\\alpha$, hence so is $I(\\alpha)$.\n",
    "\n",
    "* When $\\alpha\\rightarrow0^+$, the integrand converges pointwise to $\\sqrt{\\frac{2}{1-t^2}}$ and is dominated by $\\frac{\\pi}{2}\\sqrt{\\frac{2}{1-t^2}}$. This is shown, when $\\alpha\\leq\\frac{\\pi}{2}$, using the inequality $\\sin(x)\\geq\\frac{2}{\\pi}x$ for any $0\\leq x\\leq\\frac{\\pi}{2}$. By the [dominated convergence theorem](https://en.wikipedia.org/wiki/Dominated_convergence_theorem), using the change of variable $t=\\sin u$, we have\n",
    "\\begin{equation*}\n",
    "\\lim_{\\alpha\\rightarrow0^+}I(\\alpha) = \\int_0^1\\frac{\\sqrt{2}\\mathbf{d}t}{\\sqrt{1-t^2}} =\n",
    "\\int_0^{\\frac{\\pi}{2}}\\frac{\\sqrt{2}\\cos u\\mathbf{d}u}{\\sqrt{1-\\sin^2u}} = \\frac{\\pi}{\\sqrt{2}}\n",
    "\\hspace{1cm}\\textrm{hence}\\hspace{1cm}\n",
    "\\lim_{c\\rightarrow1^-}T = \\pi\\sqrt{\\frac{l}{g}}\n",
    "\\end{equation*}\n",
    "\n",
    "* When $\\alpha\\rightarrow\\pi^-$, the integrand converges pointwise increasingly to $\\frac{\\pi}{\\sqrt{2}\\cos(\\frac{\\pi}{2}t)}$. By the [monotone convergence theorem](http://en.wikipedia.org/wiki/Monotone_convergence_theorem), using the change of variable $t=1-\\frac{2u}{\\pi}$, we have\n",
    "\\begin{equation*}\n",
    "\\lim_{\\alpha\\rightarrow\\pi^-}I(\\alpha) = \\int_0^1\\frac{\\pi\\mathbf{d}t}{\\sqrt{2}\\cos(\\frac{\\pi}{2}t)} =\n",
    "\\sqrt{2}\\int_0^{\\frac{\\pi}{2}}\\frac{\\mathbf{d}u}{\\sin u} = \\infty\n",
    "\\hspace{1cm}\\textrm{hence}\\hspace{1cm}\n",
    "\\lim_{c\\rightarrow-1^+}T = \\infty\n",
    "\\end{equation*}\n",
    "\n",
    "### Incremental periodicity when $c<-1$\n",
    "\n",
    "When $c<-1$, the motion is incremental periodic and the **incremental period** is given by\n",
    "\n",
    "\\begin{equation*}\n",
    "T = \\sqrt{\\frac{2l}{g}}\\int_0^\\pi\\frac{\\mathbf{d}\\theta}{\\sqrt{\\cos\\theta-c}}\n",
    "\\end{equation*}\n",
    "\n",
    "When $c\\rightarrow-1^-$, the integrand converges pointwise increasingly to $\\frac{1}{\\sqrt{1+\\cos\\theta}}$. By the monotone convergence theorem, and using the change of variable $\\theta=\\pi-2u$, we have\n",
    "\\begin{equation*}\n",
    "\\lim_{c\\rightarrow-1^-}T = \\sqrt{\\frac{2l}{g}}\\int_0^\\pi\\frac{\\mathbf{d}\\theta}{\\sqrt{1+\\cos\\theta}} =\n",
    "2\\sqrt{\\frac{l}{g}}\\int_0^{\\frac{\\pi}{2}}\\frac{\\mathbf{d}u}{\\sin u} = \\infty\n",
    "\\end{equation*}"
   ]
  },
  {
   "cell_type": "code",
   "execution_count": null,
   "metadata": {},
   "outputs": [],
   "source": []
  }
 ],
 "metadata": {
  "anaconda-cloud": {},
  "kernelspec": {
   "display_name": "Python 3 (ipykernel)",
   "language": "python",
   "name": "python3"
  },
  "language_info": {
   "codemirror_mode": {
    "name": "ipython",
    "version": 3
   },
   "file_extension": ".py",
   "mimetype": "text/x-python",
   "name": "python",
   "nbconvert_exporter": "python",
   "pygments_lexer": "ipython3",
   "version": "3.12.8"
  },
  "varInspector": {
   "cols": {
    "lenName": 16,
    "lenType": 16,
    "lenVar": 40
   },
   "kernels_config": {
    "python": {
     "delete_cmd_postfix": "",
     "delete_cmd_prefix": "del ",
     "library": "var_list.py",
     "varRefreshCmd": "print(var_dic_list())"
    },
    "r": {
     "delete_cmd_postfix": ") ",
     "delete_cmd_prefix": "rm(",
     "library": "var_list.r",
     "varRefreshCmd": "cat(var_dic_list()) "
    }
   },
   "types_to_exclude": [
    "module",
    "function",
    "builtin_function_or_method",
    "instance",
    "_Feature"
   ],
   "window_display": false
  }
 },
 "nbformat": 4,
 "nbformat_minor": 4
}
