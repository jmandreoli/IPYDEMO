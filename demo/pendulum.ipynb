{
 "cells": [
  {
   "cell_type": "markdown",
   "metadata": {},
   "source": [
    "# Simple pendulum system\n",
    "\n",
    "Consider a simple pendulum of length $l$ and mass $m$ concentrated at its bob. The pivot of the pendulum is attached to a fix point. The system is submitted to a uniform, constant gravitational acceleration field $g$ and moves without friction.\n",
    "\n",
    "The generalised coordinate of the system is the angle $\\theta$ of the pendulum with the downward vertical direction. The standard (Cartesian) coordinates of the bob are then given by\n",
    "\n",
    "\\begin{equation*}\n",
    "x = l\\sin\\theta\n",
    "\\hspace{2cm}\n",
    "y = -l\\cos\\theta\n",
    "\\end{equation*}\n",
    "\n",
    "The only active force is weight with coordinates $(0,-mg)$, hence of the form $-\\nabla V$ with $V=mgy=-mgl\\cos\\theta$. Hence the Lagrangian\n",
    "\n",
    "\\begin{equation*}\n",
    "\\mathcal{L} = ml^2(\\frac{1}{2}\\dot{\\theta}^2+\\frac{g}{l}\\cos\\theta)\n",
    "\\end{equation*}\n",
    "\n",
    "The equations of the dynamics are given by:\n",
    "\n",
    "\\begin{align*}\n",
    "\\left[\\frac{\\mathbf{d}}{\\mathbf{d}t}\\frac{\\partial\\mathcal{L}}{\\partial\\dot{\\theta}} = \\frac{\\partial\\mathcal{L}}{\\partial\\theta}\\right]\n",
    "\\hspace{1.5cm} &\n",
    "\\ddot{\\theta} = -\\frac{g}{l}\\sin\\theta\n",
    "\\end{align*}\n",
    "\n",
    "Multiplying that equation by $\\dot{\\theta}$ and integrating yields $\\dot{E}=0$ where $E$ is the total energy (constant) defined by\n",
    "\n",
    "\\begin{equation*}\n",
    "E\\triangleq\\frac{1}{2}\\dot{\\theta}^2-\\frac{g}{l}\\cos\\theta\n",
    "\\hspace{2cm}\n",
    "\\dot{E}=0\n",
    "\\end{equation*}\n",
    "\n",
    "The time domain $\\mathcal{D}^{(t)}$ is necessarily $\\mathbb{R}$."
   ]
  },
  {
   "cell_type": "code",
   "execution_count": 1,
   "metadata": {},
   "outputs": [
    {
     "name": "stdout",
     "output_type": "stream",
     "text": [
      "Populating the interactive namespace from numpy and matplotlib\n"
     ]
    }
   ],
   "source": [
    "%pylab widget\n",
    "# for external animation (less resource consuming), use appropriate backend, e.g. qt5\n",
    "\n",
    "import logging\n",
    "from functools import partial\n",
    "from ipyshow import Setup\n",
    "from ipyshow.odesimu import System\n",
    "from ipyshow.odesimu.util import logger_hook"
   ]
  },
  {
   "cell_type": "markdown",
   "metadata": {},
   "source": [
    "## Pendulum class"
   ]
  },
  {
   "cell_type": "code",
   "execution_count": 2,
   "metadata": {},
   "outputs": [],
   "source": [
    "#----------------------------------------------------------------------------------------------------\n",
    "class Pendulum (System):\n",
    "#----------------------------------------------------------------------------------------------------\n",
    "\n",
    "  shadowshape = (2,)\n",
    "\n",
    "  @Setup(\n",
    "    'L: length of the pendulum [m]',\n",
    "    'G: intensity of the gravitation [m.sec^-2]',\n",
    "  )\n",
    "  def __init__(self,L,G):\n",
    "    self.L, self.G = L, G\n",
    "    self.a = a = G/L\n",
    "    def main(t,state):\n",
    "      θ,θʹ = state\n",
    "      θʺ = -a*sin(θ)\n",
    "      return array((θʹ,θʺ))\n",
    "    self.main = main\n",
    "    def jac(t,state):\n",
    "      θ,θʹ = state\n",
    "      return array(((0,1),(-a*cos(θ),0)))\n",
    "    self.jacobian = jac\n",
    "    def fordisplay(state):\n",
    "      θ,θʹ = state\n",
    "      live = L*array((sin(θ),-cos(θ)))\n",
    "      return live, live\n",
    "    self.fordisplay = fordisplay\n",
    "\n",
    "  def display(self,ax,ini=None,refsize=None,**ka):\n",
    "    L = 1.05*self.L\n",
    "    ax.set(xlim=(-L,L),ylim=(-L,L))\n",
    "    ax.scatter((0.,),(0.,),c='k',marker='o',s=refsize)\n",
    "    diag_l, = ax.plot((),(),'k')\n",
    "    diag_s = ax.scatter((),(),s=refsize,marker='o',c='r')\n",
    "    tail_l, = ax.plot((),(),'y')\n",
    "    self.trajectory(ax,ini)\n",
    "    def disp(t,live,tail):\n",
    "      x,y = live\n",
    "      diag_l.set_data((0,x),(0,y))\n",
    "      diag_s.set_offsets(((x,y),))\n",
    "      tail_l.set_data(tail[:,0],tail[:,1])\n",
    "    return super().display(ax,disp,ini=ini,**ka)\n",
    "\n",
    "  def analytics(self,ini):\n",
    "    θ,θʹ = ini\n",
    "    return .5*square(θʹ)-self.a*cos(θ)\n",
    "\n",
    "  def trajectory(self,ax,ini):\n",
    "    from scipy.integrate import quad\n",
    "    from matplotlib.patches import Arc\n",
    "    E = self.analytics(ini)\n",
    "    c = -E/self.a\n",
    "    if isclose(c,-1): periodicity = 'aperiodic'; α = pi\n",
    "    else:\n",
    "      if c<-1: periodicity = 'incremental period'; α = pi\n",
    "      else: periodicity = 'half-period'; α = arccos(c)\n",
    "      T = pi/sqrt(2) if isclose(α,0.) else quad((lambda θ,c=c: 1/sqrt(cos(θ)-c)),0,α)[0]\n",
    "      T *= sqrt(2/self.a)\n",
    "      periodicity += f':{T:.2f}'\n",
    "    ax.add_patch(Arc((0,0),2*self.L,2*self.L,-90,-degrees(α),degrees(α),color='k',ls='dashed'))\n",
    "    ax.set_title(f'trajectory:CircularSegment($R$={self.L:.2f},$\\\\alpha$={degrees(α):.2f}) {periodicity}')\n",
    "\n",
    "  @staticmethod\n",
    "  @Setup(\n",
    "    'θ: angle [deg]',\n",
    "    'θʹ: angular speed [deg.sec^-1]',\n",
    "    θʹ=0.\n",
    "  )\n",
    "  def makestate(θ,θʹ): return radians((θ,θʹ))\n",
    "\n",
    "  @Setup(\n",
    "    System.launch,\n",
    "    'refsize: average size (area) of the bob for display [pt^2]',\n",
    "    taild=1.,refsize=50.,hooks=(partial(logger_hook,logger=logging.getLogger()),)\n",
    "  )\n",
    "  def launch(self,*a,**ka): return super().launch(*a,**ka)"
   ]
  },
  {
   "cell_type": "code",
   "execution_count": 3,
   "metadata": {},
   "outputs": [
    {
     "data": {
      "text/html": [
       "<TABLE><TBODY><TR><TD colspan=\"4\" style=\"background-color: gray; color: white; font-weight: bold;\">Pendulum.__init__(self, L, G)</TD></TR><TR><TH>L</TH><TD style=\"max-width:2cm; white-space: nowrap; overflow: hidden\" title=\"\"></TD><TD>length of the pendulum</TD><TD> <SPAN>m</SPAN></TD></TR><TR><TH>G</TH><TD style=\"max-width:2cm; white-space: nowrap; overflow: hidden\" title=\"\"></TD><TD>intensity of the gravitation</TD><TD> <SPAN>m</SPAN> <SPAN>sec</SPAN><SUP>-2</SUP></TD></TR><TR><TD colspan=\"4\" style=\"background-color: gray; color: white; font-weight: bold;\">Pendulum.launch(self, *a, **ka)</TD></TR><TR><TH>ini</TH><TD style=\"max-width:2cm; white-space: nowrap; overflow: hidden\" title=\"\"></TD><TD>initial state</TD><TD/></TR><TR><TH>srate</TH><TD style=\"max-width:2cm; white-space: nowrap; overflow: hidden\" title=\"25.0\">25.0</TD><TD>sampling rate</TD><TD> <SPAN>sec</SPAN><SUP>-1</SUP></TD></TR><TR><TH>maxtime</TH><TD style=\"max-width:2cm; white-space: nowrap; overflow: hidden\" title=\"inf\">inf</TD><TD>total simulation time length</TD><TD> <SPAN>sec</SPAN></TD></TR><TR><TH>taild</TH><TD style=\"max-width:2cm; white-space: nowrap; overflow: hidden\" title=\"1.0\">1.0</TD><TD>shadow duration</TD><TD> <SPAN>sec</SPAN></TD></TR><TR><TH>listeners</TH><TD style=\"max-width:2cm; white-space: nowrap; overflow: hidden\" title=\"\"></TD><TD>listener binding (events: start,stop,step,error)</TD><TD/></TR><TR><TH>hooks</TH><TD style=\"max-width:2cm; white-space: nowrap; overflow: hidden\" title=\"(functools.partial(&lt;function logger_hook at 0x7fce71eb5700&gt;, logger=&lt;RootLogger root (WARNING)&gt;),)\">(functools.partial(&lt;function logger_hook at 0x7fce71eb5700&gt;, logger=&lt;RootLogger root (WARNING)&gt;),)</TD><TD>list of display hooks</TD><TD/></TR><TR><TH>refsize</TH><TD style=\"max-width:2cm; white-space: nowrap; overflow: hidden\" title=\"50.0\">50.0</TD><TD>average size (area) of the bob for display</TD><TD> <SPAN>pt</SPAN><SUP>2</SUP></TD></TR><TR><TD colspan=\"4\" style=\"background-color: gray; color: white; font-weight: bold;\">Pendulum.makestate(θ, θʹ)</TD></TR><TR><TH>θ</TH><TD style=\"max-width:2cm; white-space: nowrap; overflow: hidden\" title=\"\"></TD><TD>angle</TD><TD> <SPAN>deg</SPAN></TD></TR><TR><TH>θʹ</TH><TD style=\"max-width:2cm; white-space: nowrap; overflow: hidden\" title=\"0.0\">0.0</TD><TD>angular speed</TD><TD> <SPAN>deg</SPAN> <SPAN>sec</SPAN><SUP>-1</SUP></TD></TR></TBODY></TABLE>"
      ],
      "text/plain": [
       "**** Pendulum.__init__(self, L, G) ****\n",
       "    L         : length of the pendulum [m]\n",
       "    G         : intensity of the gravitation [m.sec^-2]\n",
       "**** Pendulum.launch(self, *a, **ka) ****\n",
       "    ini       : initial state []\n",
       "    srate     (25.0      ): sampling rate [sec^-1]\n",
       "    maxtime   (inf       ): total simulation time length [sec]\n",
       "    taild     (1.0       ): shadow duration [sec]\n",
       "    listeners : listener binding (events: start,stop,step,error) []\n",
       "    hooks     ((functools): list of display hooks []\n",
       "    refsize   (50.0      ): average size (area) of the bob for display [pt^2]\n",
       "**** Pendulum.makestate(θ, θʹ) ****\n",
       "    θ         : angle [deg]\n",
       "    θʹ        (0.0       ): angular speed [deg.sec^-1]"
      ]
     },
     "execution_count": 3,
     "metadata": {},
     "output_type": "execute_result"
    }
   ],
   "source": [
    "Setup.display(Pendulum)"
   ]
  },
  {
   "cell_type": "code",
   "execution_count": 4,
   "metadata": {},
   "outputs": [
    {
     "data": {
      "application/vnd.jupyter.widget-view+json": {
       "model_id": "59e85eba371d456fae56ebe3efcbedab",
       "version_major": 2,
       "version_minor": 0
      },
      "text/plain": [
       "Canvas(toolbar=Toolbar(toolitems=[('Home', 'Reset original view', 'home', 'home'), ('Back', 'Back to previous …"
      ]
     },
     "metadata": {},
     "output_type": "display_data"
    },
    {
     "data": {
      "text/plain": [
       "<matplotlib.animation.FuncAnimation at 0x7fce6f6e7820>"
      ]
     },
     "execution_count": 4,
     "metadata": {},
     "output_type": "execute_result"
    }
   ],
   "source": [
    "logging.basicConfig(level='WARN') # can be changed dynamically by logger_hook\n",
    "syst = Pendulum(L=2.,G=9.81,)\n",
    "ini = dict(θ=90.,θʹ=120.)\n",
    "#ini = dict(θ=90.,θʹ=179)\n",
    "#ini = dict(θ=90.,θʹ=181)\n",
    "#ini = dict(θ=179.)\n",
    "#ini = dict(θ=90.,θʹ=degrees(sqrt(9.81))) # should be aperiodic, but appears periodic due to numerical errors\n",
    "syst.launch(ini=syst.makestate(**ini))"
   ]
  },
  {
   "cell_type": "markdown",
   "metadata": {},
   "source": [
    "## Trajectory\n",
    "\n",
    "The trajectory is a circle arc (or full circle).The equation of the total energy is given by $\\dot{\\theta}^2=\\frac{2g}{l}(\\cos\\theta-c)$ where $c=-\\frac{El}{g}$. Note that by construction $c\\leq1$.\n",
    "\n",
    "### Properties of the solution\n",
    "\n",
    "For any instant $\\tau$, we have\n",
    "\n",
    "\\begin{equation*}\n",
    "\\textrm{If}\\hspace{1cm}\n",
    "\\theta(\\tau)\\equiv{0}\\mod{\\pi}\n",
    "\\hspace{1cm}\\textrm{then}\\hspace{1cm}\n",
    "\\theta(2\\tau-t) = 2\\theta(\\tau)-\\theta(t)\n",
    "\\end{equation*}\n",
    "\n",
    "Hence, under the given condition, the graph of $\\theta(t)$ is symmetric around $(\\tau,\\theta(\\tau))$. Indeed\n",
    "\n",
    "* Consider $\\tilde{\\theta}(t)=2\\theta(\\tau)-\\theta(2\\tau-t)$. In particular, $\\tilde{\\theta}(\\tau)=\\theta(\\tau)$ and $\\dot{\\tilde{\\theta}}(\\tau)=\\dot{\\theta}(\\tau)$.\n",
    "* By design, if $\\theta(\\tau)\\equiv{0}\\mod{\\pi}$, then $\\tilde{\\theta}$ satisfies the same Lagrangian differential equation as $\\theta$.\n",
    "* Since they coincide as well as their derivatives at $\\tau$, they are equal. Hence $\\theta(2\\tau-t) = 2\\theta(\\tau)-\\theta(t)$.\n",
    "\n",
    "Similarly, we can show, using the constant function $\\tilde{\\theta}(t)=\\theta(\\tau)$:\n",
    "\n",
    "\\begin{equation*}\n",
    "\\textrm{If}\\hspace{1cm}\n",
    "\\theta(\\tau)\\equiv{0}\\mod{\\pi}\n",
    "\\hspace{1cm}\\textrm{and}\\hspace{1cm}\n",
    "\\cos(\\theta(\\tau))=c\n",
    "\\hspace{1cm}\\textrm{then}\\hspace{1cm}\n",
    "\\theta(t) = \\theta(\\tau)\n",
    "\\end{equation*}\n",
    "\n",
    "Since $\\mathcal{D}^{(\\theta)}$ is an interval, there are 3 cases.\n",
    "\n",
    "* If $\\mathcal{D}^{(\\theta)}$ is the singleton $\\{\\theta_o\\}$, we must have $\\dot{\\theta}_o=0$ hence $\\cos\\theta_o=c$ and $\\ddot{\\theta}_o=0$ hence $\\sin\\theta_o=0$. Hence $\\theta_o\\equiv{0}\\mod{\\pi}$ and $c=\\pm1$. The trajectory is reduced to either the top or bottom point of the circle.\n",
    "\n",
    "* If $\\mathcal{D}^{(\\theta)}$ is unbounded on at least one side\n",
    "  * it must contain some $\\theta(\\tau)=k\\pi$ for some $k\\in\\mathbb{Z}$ sufficiently large (positive or negative).\n",
    "  * Hence $\\mathcal{D}^{(\\theta)}$ is symmetric around $\\tau$, hence it must be unbounded on both sides, i.e. $\\mathcal{D}^{(\\theta)}=\\mathbb{R}$.\n",
    "  * Hence, the trajectory is the whole circle, and for some $t^*,T$ we have $\\theta(t^*)=0$ and $\\theta(t^*+T)=\\pi$.\n",
    "  * Hence $-1-c=\\cos\\theta(t^*+T)-c=\\frac{l}{2g}\\dot{\\theta}(t^*+T)^2\\geq0$ hence $c\\leq-1$.\n",
    "  * In fact, $c=-1$ is impossible, because in that case $\\cos\\theta(t^*+T)=c$ and $\\theta$ would be constant, hence $c<-1$.\n",
    "  * Hence $\\dot{\\theta}\\not=0$ and $\\theta$ is monotonous in $t$, i.e. for some $\\epsilon\\in\\{-1,1\\}$ we have $\\dot{\\theta}=\\epsilon\\sqrt{\\frac{2g}{l}}\\sqrt{\\cos\\theta-c}$.\n",
    "  * By symmetry at $t^*+T$ we get $\\theta(t^*+2T)=2\\pi$.\n",
    "  * Considering $\\tilde{\\theta}(t)=\\theta(t+2T)-2\\pi$, it is easy to show that $\\tilde{\\theta}$ and $\\theta$, as well as their derivatives, coincide at $t^*$.\n",
    "  * They satisfy the same differential equation, hence they are equal.\n",
    "  * Hence $\\theta$ is incremental periodic of half-period $T$.\n",
    "\n",
    "* If $\\mathcal{D}^{(\\theta)}$ is bounded on both side, let $\\theta_{\\textrm{min}},\\theta_{\\textrm{max}}$ be its lower and upper bound, respectively.\n",
    "  * If $\\theta_{\\textrm{min}}=\\theta(\\tau)$ for some $\\tau$, then $\\theta$ is minimal at $\\tau$ hence $\\dot{\\theta}(\\tau)=0$ hence $\\cos(\\theta_{\\textrm{min}})=c$.\n",
    "  * Otherwise, $\\theta_{\\textrm{min}}$ must be a limit point, i.e. $\\theta_{\\textrm{min}}=\\lim_{t\\rightarrow\\tau}\\theta(t)$ for $\\tau=\\pm\\infty$. Hence $\\delta\\triangleq\\lim_{t\\rightarrow\\tau}\\dot{\\theta}(t)=\\frac{2g}{l}(\\cos\\theta_{\\textrm{min}}-c)$. By L'Hôpital rule, we get $\\delta=\\lim_{t\\rightarrow\\tau}\\frac{\\theta(t)}{t}=\\lim_{t\\rightarrow\\tau}\\frac{\\theta_{\\textrm{min}}}{t}=0$.\n",
    "  * Hence, in all cases, and reasoning similarly with $\\theta_{\\textrm{max}}$, we get $\\cos(\\theta_{\\textrm{min}})=\\cos(\\theta_{\\textrm{max}})=c$, and $\\cos\\theta\\geq c$ for all $\\theta\\in[\\theta_{\\textrm{min}},\\theta_{\\textrm{max}}]$.\n",
    "  * Hence $-1\\leq c<1$.\n",
    "\n",
    "### Periodicity when $-1<c<1$\n",
    "\n",
    "When $|c|<1$, the motion is periodic and, since $c=\\cos\\alpha$, using the change of variable $\\theta=t\\alpha$, the **half-period** is given by\n",
    "\n",
    "\\begin{equation*}\n",
    "T=\\sqrt{\\frac{2l}{g}}I(\\alpha)\n",
    "\\hspace{1cm}\\textrm{where}\\hspace{1cm}\n",
    "I(\\alpha)\\triangleq\\int_0^\\alpha\\frac{\\mathbf{d}\\theta}{\\sqrt{\\cos\\theta-\\cos\\alpha}}=\n",
    "\\int_0^1\\frac{\\alpha\\mathbf{d}t}{\\sqrt{\\cos t\\alpha-\\cos\\alpha}} =\n",
    "\\int_0^1\\frac{\\alpha\\mathbf{d}t}{\\sqrt{2\\sin\\frac{1+t}{2}\\alpha\\sin\\frac{1-t}{2}\\alpha}}\n",
    "\\end{equation*}\n",
    "\n",
    "When $t\\rightarrow1$, we have $2\\sin\\frac{1+t}{2}\\alpha\\sin\\frac{1-t}{2}\\alpha\\sim(1-t)\\alpha\\sin\\alpha$ and since $\\int_0^1\\frac{\\mathbf{d}t}{\\sqrt{1-t}}=2$ is finite, so is $I(\\alpha)$. Furthermore, the integrand is monotone increasing in $\\alpha$, hence so is $I(\\alpha)$.\n",
    "\n",
    "* When $\\alpha\\rightarrow0^+$, the integrand converges pointwise to $\\sqrt{\\frac{2}{1-t^2}}$ and is dominated by $\\frac{\\pi}{2}\\sqrt{\\frac{2}{1-t^2}}$. This is shown, when $\\alpha\\leq\\frac{\\pi}{2}$, using the inequality $\\sin(x)\\geq\\frac{2}{\\pi}x$ for any $0\\leq x\\leq\\frac{\\pi}{2}$. By the [dominated convergence theorem](https://en.wikipedia.org/wiki/Dominated_convergence_theorem), using the change of variable $t=\\sin u$, we have\n",
    "\\begin{equation*}\n",
    "\\lim_{\\alpha\\rightarrow0^+}I(\\alpha) = \\int_0^1\\frac{\\sqrt{2}\\mathbf{d}t}{\\sqrt{1-t^2}} =\n",
    "\\int_0^{\\frac{\\pi}{2}}\\frac{\\sqrt{2}\\cos u\\mathbf{d}u}{\\sqrt{1-\\sin^2u}} = \\frac{\\pi}{\\sqrt{2}}\n",
    "\\hspace{1cm}\\textrm{hence}\\hspace{1cm}\n",
    "\\lim_{c\\rightarrow1^-}T = \\pi\\sqrt{\\frac{l}{g}}\n",
    "\\end{equation*}\n",
    "\n",
    "* When $\\alpha\\rightarrow\\pi^-$, the integrand converges pointwise increasingly to $\\frac{\\pi}{\\sqrt{2}\\cos(\\frac{\\pi}{2}t)}$. By the [monotone convergence theorem](http://en.wikipedia.org/wiki/Monotone_convergence_theorem), using the change of variable $t=1-\\frac{2u}{\\pi}$, we have\n",
    "\\begin{equation*}\n",
    "\\lim_{\\alpha\\rightarrow\\pi^-}I(\\alpha) = \\int_0^1\\frac{\\pi\\mathbf{d}t}{\\sqrt{2}\\cos(\\frac{\\pi}{2}t)} =\n",
    "\\sqrt{2}\\int_0^{\\frac{\\pi}{2}}\\frac{\\mathbf{d}u}{\\sin u} = \\infty\n",
    "\\hspace{1cm}\\textrm{hence}\\hspace{1cm}\n",
    "\\lim_{c\\rightarrow-1^+}T = \\infty\n",
    "\\end{equation*}\n",
    "\n",
    "### Incremental periodicity when $c<-1$\n",
    "\n",
    "When $c<-1$, the motion is incremental periodic and the **incremental period** is given by\n",
    "\n",
    "\\begin{equation*}\n",
    "T = \\sqrt{\\frac{2l}{g}}\\int_0^\\pi\\frac{\\mathbf{d}\\theta}{\\sqrt{\\cos\\theta-c}}\n",
    "\\end{equation*}\n",
    "\n",
    "When $c\\rightarrow-1^-$, the integrand converges pointwise increasingly to $\\frac{1}{\\sqrt{1+\\cos\\theta}}$. By the monotone convergence theorem, and using the change of variable $\\theta=\\pi-2u$, we have\n",
    "\\begin{equation*}\n",
    "\\lim_{c\\rightarrow-1^-}T = \\sqrt{\\frac{2l}{g}}\\int_0^\\pi\\frac{\\mathbf{d}\\theta}{\\sqrt{1+\\cos\\theta}} =\n",
    "2\\sqrt{\\frac{l}{g}}\\int_0^{\\frac{\\pi}{2}}\\frac{\\mathbf{d}u}{\\sin u} = \\infty\n",
    "\\end{equation*}"
   ]
  },
  {
   "cell_type": "code",
   "execution_count": null,
   "metadata": {},
   "outputs": [],
   "source": []
  }
 ],
 "metadata": {
  "anaconda-cloud": {},
  "kernelspec": {
   "display_name": "Python 3",
   "language": "python",
   "name": "python3"
  },
  "language_info": {
   "codemirror_mode": {
    "name": "ipython",
    "version": 3
   },
   "file_extension": ".py",
   "mimetype": "text/x-python",
   "name": "python",
   "nbconvert_exporter": "python",
   "pygments_lexer": "ipython3",
   "version": "3.8.6"
  },
  "varInspector": {
   "cols": {
    "lenName": 16,
    "lenType": 16,
    "lenVar": 40
   },
   "kernels_config": {
    "python": {
     "delete_cmd_postfix": "",
     "delete_cmd_prefix": "del ",
     "library": "var_list.py",
     "varRefreshCmd": "print(var_dic_list())"
    },
    "r": {
     "delete_cmd_postfix": ") ",
     "delete_cmd_prefix": "rm(",
     "library": "var_list.r",
     "varRefreshCmd": "cat(var_dic_list()) "
    }
   },
   "types_to_exclude": [
    "module",
    "function",
    "builtin_function_or_method",
    "instance",
    "_Feature"
   ],
   "window_display": false
  }
 },
 "nbformat": 4,
 "nbformat_minor": 4
}
