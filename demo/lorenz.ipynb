{
 "cells": [
  {
   "cell_type": "markdown",
   "metadata": {},
   "source": [
    "# Lorenz attractor\n",
    "\n",
    "Consider the Lorenz attractor, a 3-D system defined by the equations\n",
    "\n",
    "\\begin{eqnarray*}\n",
    "\\dot{x} & = & \\sigma(y-x)\\\\\n",
    "\\dot{y} & = & x(\\rho-z)-y\\\\\n",
    "\\dot{z} & = & xy-\\beta z\n",
    "\\end{eqnarray*}\n",
    "\n",
    "See the [Wikipedia page](http://en.wikipedia.org/wiki/Lorenz_system) for a discussion. Here, all right-hand sides are multiplied by a factor $\\omega$ to adjust the speed. For visualisation, the system is orthogonally projected onto the plane containing the $z$-axis and the axis making an angle $\\theta$ with the $x$-axis in the $xy$-plane, where $\\theta$ is a parameter which can be modified during the simulation.\n",
    "\n",
    "Documentation: [here](../doc/_build/html/odesimu.html)"
   ]
  },
  {
   "cell_type": "code",
   "execution_count": 1,
   "metadata": {
    "collapsed": false
   },
   "outputs": [
    {
     "name": "stdout",
     "output_type": "stream",
     "text": [
      "Using matplotlib backend: Qt5Agg\n",
      "Populating the interactive namespace from numpy and matplotlib\n"
     ]
    }
   ],
   "source": [
    "%pylab\n",
    "# for inline animation (but slower and more resource consuming):\n",
    "#%pylab nbagg\n",
    "\n",
    "import logging\n",
    "from functools import partial\n",
    "from ipyshow.util import Setup\n",
    "from ipyshow.odesimu.system import System\n",
    "from ipyshow.odesimu.util import logger_hook"
   ]
  },
  {
   "cell_type": "markdown",
   "metadata": {},
   "source": [
    "## LorenzAttractor class"
   ]
  },
  {
   "cell_type": "code",
   "execution_count": 2,
   "metadata": {
    "collapsed": false
   },
   "outputs": [],
   "source": [
    "#----------------------------------------------------------------------------------------------------\n",
    "class LorenzAttractor (System):\n",
    "#----------------------------------------------------------------------------------------------------\n",
    "\n",
    "    shadowshape = (3,)\n",
    "\n",
    "    @Setup(\n",
    "        'sigma,rho,beta: parameters of the Lorenz attractor',\n",
    "        'omega: speed control [sec^-1]',\n",
    "    )\n",
    "    def __init__(self,sigma,rho,beta,omega):\n",
    "        def main(t,state):\n",
    "            x,y,z = state\n",
    "            return omega*array((sigma*(y-x),x*(rho-z)-y,x*y-beta*z))\n",
    "        self.main = main\n",
    "        def jac(t,state):\n",
    "            x,y,z = state\n",
    "            return omega*array(((-sigma,sigma,0),(rho-z,-1,-x),(y,x,-beta)))\n",
    "        self.jacobian = jac\n",
    "        def fordisplay(state): return state,state\n",
    "        self.fordisplay = fordisplay\n",
    "\n",
    "    def display(self,ax,ini=None,**ka):\n",
    "        from matplotlib.patches import Ellipse, Arrow\n",
    "        from matplotlib.transforms import Affine2D\n",
    "        ax.set_title(r'trajectory:?')\n",
    "        diag_s = ax.scatter((),(),marker='o',c='b')\n",
    "        tail_l, = ax.plot((),(),c='y')\n",
    "        rmov = None\n",
    "        def rotate_on(ev,delta=pi/100):\n",
    "            nonlocal rmov\n",
    "            if ev.key == 'right': rmov = delta\n",
    "            elif ev.key == 'left': rmov = -delta\n",
    "            else: return\n",
    "        def rotate_off(ev):\n",
    "            nonlocal rmov\n",
    "            if ev.key=='right' or ev.key=='left': rmov = None\n",
    "        ax.figure.canvas.mpl_connect('key_press_event',rotate_on)\n",
    "        ax.figure.canvas.mpl_connect('key_release_event',rotate_off)\n",
    "        # naive projection, no perspective\n",
    "        theta,rcos,rsin = 0.,1.,0.\n",
    "        rot = lambda x,y: x*rcos+y*rsin\n",
    "        def slant(theta=0): return Affine2D().rotate(theta).scale(sx=1.,sy=.6).translate(.95,.05)+ax.transAxes\n",
    "        ax.add_patch(Ellipse(xy=(.95,.05),width=.06,height=.04,fill=False,ec='k',alpha=.4,transform=ax.transAxes))\n",
    "        arrow = ax.add_patch(Arrow(0.,0.,.03,0,lw=1,width=.01,ec='k',alpha=.4,transform=slant()))\n",
    "        ax.add_patch(Arrow(.95,.05,0,.05,lw=1,width=.01,ec='k',transform=ax.transAxes))\n",
    "        def disp(t,live,tail):\n",
    "            nonlocal theta, rcos, rsin\n",
    "            if rmov is not None: theta += rmov; rcos,rsin = cos(theta),sin(theta); arrow.set_transform(slant(theta))\n",
    "            x,y,z = live\n",
    "            diag_s.set_offsets(((rot(x,y),z),))\n",
    "            tail_l.set_data(rot(tail[:,0],tail[:,1]),tail[:,2])\n",
    "            ax.relim()\n",
    "            ax.autoscale_view()\n",
    "        return super(LorenzAttractor,self).display(ax,disp,ini=ini,**ka)\n",
    "\n",
    "    @staticmethod\n",
    "    @Setup(\n",
    "        'x: initial x-position of the system',\n",
    "        'y: initial y-position of the system',\n",
    "        'z: initial z-position of the system',\n",
    "        x=0.,y=0.,z=0.\n",
    "    )\n",
    "    def makestate(x,y,z): return array((x,y,z))\n",
    "\n",
    "    @Setup(\n",
    "        taild=60.,hooks=(partial(logger_hook,logger=logging.getLogger()),)\n",
    "    )\n",
    "    def launch(self,*a,**ka): return super().launch(*a,**ka)"
   ]
  },
  {
   "cell_type": "code",
   "execution_count": 3,
   "metadata": {
    "collapsed": false
   },
   "outputs": [
    {
     "data": {
      "text/html": [
       "<TABLE><TBODY><TR><TD style=\"background-color: gray; color: white; font-weight: bold;\" colspan=\"4\">LorenzAttractor.launch(self, *a, **ka)</TD></TR><TR><TH>maxtime</TH><TD style=\"max-width:2cm; white-space: nowrap; overflow: hidden\">inf</TD><TD>total simulation time length</TD><TD><SPAN>sec</SPAN></TD></TR><TR><TH>srate</TH><TD style=\"max-width:2cm; white-space: nowrap; overflow: hidden\">25.0</TD><TD>sampling rate</TD><TD><SPAN>sec</SPAN><SUP>-1</SUP></TD></TR><TR><TH>taild</TH><TD style=\"max-width:2cm; white-space: nowrap; overflow: hidden\">60.0</TD><TD>shadow duration</TD><TD><SPAN>sec</SPAN></TD></TR><TR><TH>hooks</TH><TD style=\"max-width:2cm; white-space: nowrap; overflow: hidden\">(functools.partial(&lt;function logger_hook at 0x7f10637df1e0&gt;, logger=&lt;logging.RootLogger object at 0x7f10684ecbe0&gt;),)</TD><TD>tuple of display hooks</TD></TR><TR><TH>ini</TH><TD style=\"max-width:2cm; white-space: nowrap; overflow: hidden\"></TD><TD>initial state</TD></TR><TR><TD style=\"background-color: gray; color: white; font-weight: bold;\" colspan=\"4\">LorenzAttractor.makestate(x, y, z)</TD></TR><TR><TH>x</TH><TD style=\"max-width:2cm; white-space: nowrap; overflow: hidden\">0.0</TD><TD>initial x-position of the system</TD></TR><TR><TH>y</TH><TD style=\"max-width:2cm; white-space: nowrap; overflow: hidden\">0.0</TD><TD>initial y-position of the system</TD></TR><TR><TH>z</TH><TD style=\"max-width:2cm; white-space: nowrap; overflow: hidden\">0.0</TD><TD>initial z-position of the system</TD></TR><TR><TD style=\"background-color: gray; color: white; font-weight: bold;\" colspan=\"4\">LorenzAttractor.__init__(self, sigma, rho, beta, omega)</TD></TR><TR><TH>sigma,rho,beta</TH><TD style=\"max-width:2cm; white-space: nowrap; overflow: hidden\"></TD><TD>parameters of the Lorenz attractor</TD></TR><TR><TH>omega</TH><TD style=\"max-width:2cm; white-space: nowrap; overflow: hidden\"></TD><TD>speed control</TD><TD><SPAN>sec</SPAN><SUP>-1</SUP></TD></TR><TR><TD style=\"background-color: gray; color: white; font-weight: bold;\" colspan=\"4\">PIDController.__init__(self, gP, gI, gD, observe, target, **ka)</TD></TR><TR><TH>gP</TH><TD style=\"max-width:2cm; white-space: nowrap; overflow: hidden\">0.0</TD><TD>control gain (proportional)</TD></TR><TR><TH>gI</TH><TD style=\"max-width:2cm; white-space: nowrap; overflow: hidden\">0.0</TD><TD>control gain (integral)</TD></TR><TR><TH>gD</TH><TD style=\"max-width:2cm; white-space: nowrap; overflow: hidden\">0.0</TD><TD>control gain (derivative)</TD></TR><TR><TH>observe</TH><TD style=\"max-width:2cm; white-space: nowrap; overflow: hidden\"></TD><TD>observation function</TD></TR><TR><TH>target</TH><TD style=\"max-width:2cm; white-space: nowrap; overflow: hidden\"></TD><TD>target function</TD></TR><TR><TH>N</TH><TD style=\"max-width:2cm; white-space: nowrap; overflow: hidden\"></TD><TD>size of the buffer of change points</TD></TR></TBODY></TABLE>"
      ],
      "text/plain": [
       "**** LorenzAttractor.launch(self, *a, **ka) ****\n",
       "    maxtime   (inf       ): total simulation time length [sec]\n",
       "    srate     (25.0      ): sampling rate [sec^-1]\n",
       "    taild     (60.0      ): shadow duration [sec]\n",
       "    hooks     ((functools): tuple of display hooks\n",
       "    ini       : initial state\n",
       "**** LorenzAttractor.makestate(x, y, z) ****\n",
       "    x         (0.0       ): initial x-position of the system\n",
       "    y         (0.0       ): initial y-position of the system\n",
       "    z         (0.0       ): initial z-position of the system\n",
       "**** LorenzAttractor.__init__(self, sigma, rho, beta, omega) ****\n",
       "    sigma,rho,beta: parameters of the Lorenz attractor\n",
       "    omega     : speed control [sec^-1]\n",
       "**** PIDController.__init__(self, gP, gI, gD, observe, target, **ka) ****\n",
       "    gP        (0.0       ): control gain (proportional)\n",
       "    gI        (0.0       ): control gain (integral)\n",
       "    gD        (0.0       ): control gain (derivative)\n",
       "    observe   : observation function\n",
       "    target    : target function\n",
       "    N         : size of the buffer of change points"
      ]
     },
     "execution_count": 3,
     "metadata": {},
     "output_type": "execute_result"
    }
   ],
   "source": [
    "Setup"
   ]
  },
  {
   "cell_type": "markdown",
   "metadata": {},
   "source": [
    "The rotation angle $\\theta$ for the visualisation is reflected in an ellipse at the bottom right corner of the figure, and can be modified using the arrow keys of the keyboard: \"right\" to increase $\\theta$ (turns the projection plane anti-clockwise) and \"left\" to decrease $\\theta$ (turns the projection plane clockwise). Maybe it is the other way round :-)"
   ]
  },
  {
   "cell_type": "code",
   "execution_count": 4,
   "metadata": {
    "collapsed": false
   },
   "outputs": [
    {
     "data": {
      "text/plain": [
       "<matplotlib.animation.FuncAnimation at 0x7f102c067f98>"
      ]
     },
     "execution_count": 4,
     "metadata": {},
     "output_type": "execute_result"
    }
   ],
   "source": [
    "logging.basicConfig(level='WARN') # can be changed dynamically by logger_hook\n",
    "syst = LorenzAttractor(sigma=10,rho=28,beta=8/3,omega=.2); ini=dict(x=-1,y=2,z=12)\n",
    "syst.launch(ini=syst.makestate(**ini))"
   ]
  },
  {
   "cell_type": "code",
   "execution_count": null,
   "metadata": {
    "collapsed": true
   },
   "outputs": [],
   "source": []
  }
 ],
 "metadata": {
  "anaconda-cloud": {},
  "kernelspec": {
   "display_name": "Python [default]",
   "language": "python",
   "name": "python3"
  },
  "language_info": {
   "codemirror_mode": {
    "name": "ipython",
    "version": 3
   },
   "file_extension": ".py",
   "mimetype": "text/x-python",
   "name": "python",
   "nbconvert_exporter": "python",
   "pygments_lexer": "ipython3",
   "version": "3.5.2"
  }
 },
 "nbformat": 4,
 "nbformat_minor": 0
}
