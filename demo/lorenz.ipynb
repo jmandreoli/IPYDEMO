{
 "cells": [
  {
   "cell_type": "markdown",
   "metadata": {},
   "source": [
    "# Lorenz attractor\n",
    "\n",
    "Consider the Lorenz attractor, a 3-D system defined by the equations\n",
    "\n",
    "\\begin{eqnarray*}\n",
    "\\dot{x} & = & \\sigma(y-x)\\\\\n",
    "\\dot{y} & = & x(\\rho-z)-y\\\\\n",
    "\\dot{z} & = & xy-\\beta z\n",
    "\\end{eqnarray*}\n",
    "\n",
    "See the [Wikipedia page](http://en.wikipedia.org/wiki/Lorenz_system) for a discussion. Here, all right-hand sides are multiplied by a factor $\\omega$ to adjust the speed. For visualisation, the system is orthogonally projected onto the plane containing the $z$-axis and the axis making an angle $\\theta$ with the $x$-axis in the $xy$-plane, where $\\theta$ is a parameter which can be modified during the simulation.\n",
    "\n",
    "Documentation: [here](../doc/_build/html/odesimu.html)"
   ]
  },
  {
   "cell_type": "code",
   "execution_count": 1,
   "metadata": {},
   "outputs": [
    {
     "name": "stdout",
     "output_type": "stream",
     "text": [
      "Populating the interactive namespace from numpy and matplotlib\n"
     ]
    }
   ],
   "source": [
    "%pylab\n",
    "# for inline animation (but slower and more resource consuming):\n",
    "#%pylab notebook\n",
    "\n",
    "import logging\n",
    "from functools import partial\n",
    "from ipyshow.util import Setup\n",
    "from ipyshow.odesimu import System\n",
    "from ipyshow.odesimu.util import logger_hook"
   ]
  },
  {
   "cell_type": "markdown",
   "metadata": {},
   "source": [
    "## LorenzAttractor class"
   ]
  },
  {
   "cell_type": "code",
   "execution_count": 2,
   "metadata": {},
   "outputs": [],
   "source": [
    "#----------------------------------------------------------------------------------------------------\n",
    "class LorenzAttractor (System):\n",
    "#----------------------------------------------------------------------------------------------------\n",
    "\n",
    "  shadowshape = (3,)\n",
    "\n",
    "  @Setup(\n",
    "    'σ,ρ,β: parameters of the Lorenz attractor',\n",
    "    'ω: speed control [sec^-1]',\n",
    "  )\n",
    "  def __init__(self,σ,ρ,β,ω):\n",
    "    def main(t,state):\n",
    "      x,y,z = state\n",
    "      return ω*array((σ*(y-x),x*(ρ-z)-y,x*y-β*z))\n",
    "    self.main = main\n",
    "    def jac(t,state):\n",
    "      x,y,z = state\n",
    "      return ω*array(((-σ,σ,0),(ρ-z,-1,-x),(y,x,-β)))\n",
    "    self.jacobian = jac\n",
    "    def fordisplay(state): return state,state\n",
    "    self.fordisplay = fordisplay\n",
    "\n",
    "  def display(self,ax,ini=None,**ka):\n",
    "    from matplotlib.patches import Ellipse, Arrow\n",
    "    from matplotlib.transforms import Affine2D\n",
    "    ax.set_title(r'trajectory:?')\n",
    "    diag_s = ax.scatter((),(),marker='o',c='b')\n",
    "    tail_l, = ax.plot((),(),c='y')\n",
    "    rmov = None\n",
    "    def rotate_on(ev,delta=pi/100):\n",
    "      nonlocal rmov\n",
    "      if ev.key == 'right': rmov = delta\n",
    "      elif ev.key == 'left': rmov = -delta\n",
    "      else: return\n",
    "    def rotate_off(ev):\n",
    "      nonlocal rmov\n",
    "      if ev.key=='right' or ev.key=='left': rmov = None\n",
    "    ax.figure.canvas.mpl_connect('key_press_event',rotate_on)\n",
    "    ax.figure.canvas.mpl_connect('key_release_event',rotate_off)\n",
    "    # naive projection, no perspective\n",
    "    θ,rcos,rsin = 0.,1.,0.\n",
    "    rot = lambda x,y: x*rcos+y*rsin\n",
    "    def slant(θ=0): return Affine2D().rotate(θ).scale(sx=1.,sy=.6).translate(.95,.05)+ax.transAxes\n",
    "    ax.add_patch(Ellipse(xy=(.95,.05),width=.06,height=.04,fill=False,ec='k',alpha=.4,transform=ax.transAxes))\n",
    "    arrow = ax.add_patch(Arrow(0.,0.,.03,0,lw=1,width=.01,ec='k',alpha=.4,transform=slant()))\n",
    "    ax.add_patch(Arrow(.95,.05,0,.05,lw=1,width=.01,ec='k',transform=ax.transAxes))\n",
    "    def disp(t,live,tail):\n",
    "      nonlocal θ, rcos, rsin\n",
    "      if rmov is not None: θ += rmov; rcos,rsin = cos(θ),sin(θ); arrow.set_transform(slant(θ))\n",
    "      x,y,z = live\n",
    "      diag_s.set_offsets(((rot(x,y),z),))\n",
    "      tail_l.set_data(rot(tail[:,0],tail[:,1]),tail[:,2])\n",
    "      ax.relim(); ax.autoscale_view()\n",
    "    return super().display(ax,disp,ini=ini,**ka)\n",
    "\n",
    "  @staticmethod\n",
    "  @Setup(\n",
    "    'x,y,z: position of the system',\n",
    "  )\n",
    "  def makestate(x,y,z): return array((x,y,z))\n",
    "\n",
    "  @Setup(\n",
    "    taild=60.,hooks=(partial(logger_hook,logger=logging.getLogger()),)\n",
    "  )\n",
    "  def launch(self,*a,**ka): return super().launch(*a,**ka)"
   ]
  },
  {
   "cell_type": "code",
   "execution_count": 3,
   "metadata": {},
   "outputs": [
    {
     "data": {
      "text/html": [
       "<TABLE><TBODY><TR><TD colspan=\"4\" style=\"background-color: gray; color: white; font-weight: bold;\">LorenzAttractor.__init__(self, σ, ρ, β, ω)</TD></TR><TR><TH>σ,ρ,β</TH><TD style=\"max-width:2cm; white-space: nowrap; overflow: hidden\" title=\"\"></TD><TD>parameters of the Lorenz attractor</TD><TD/></TR><TR><TH>ω</TH><TD style=\"max-width:2cm; white-space: nowrap; overflow: hidden\" title=\"\"></TD><TD>speed control</TD><TD> <SPAN>sec</SPAN><SUP>-1</SUP></TD></TR><TR><TD colspan=\"4\" style=\"background-color: gray; color: white; font-weight: bold;\">LorenzAttractor.launch(self, *a, **ka)</TD></TR><TR><TH>maxtime</TH><TD style=\"max-width:2cm; white-space: nowrap; overflow: hidden\" title=\"inf\">inf</TD><TD>total simulation time length</TD><TD> <SPAN>sec</SPAN></TD></TR><TR><TH>srate</TH><TD style=\"max-width:2cm; white-space: nowrap; overflow: hidden\" title=\"25.0\">25.0</TD><TD>sampling rate</TD><TD> <SPAN>sec</SPAN><SUP>-1</SUP></TD></TR><TR><TH>taild</TH><TD style=\"max-width:2cm; white-space: nowrap; overflow: hidden\" title=\"60.0\">60.0</TD><TD>shadow duration</TD><TD> <SPAN>sec</SPAN></TD></TR><TR><TH>hooks</TH><TD style=\"max-width:2cm; white-space: nowrap; overflow: hidden\" title=\"(functools.partial(&lt;function logger_hook at 0x118062488&gt;, logger=&lt;RootLogger root (WARNING)&gt;),)\">(functools.partial(&lt;function logger_hook at 0x118062488&gt;, logger=&lt;RootLogger root (WARNING)&gt;),)</TD><TD>tuple of display hooks</TD><TD/></TR><TR><TH>ini</TH><TD style=\"max-width:2cm; white-space: nowrap; overflow: hidden\" title=\"\"></TD><TD>initial state</TD><TD/></TR><TR><TD colspan=\"4\" style=\"background-color: gray; color: white; font-weight: bold;\">LorenzAttractor.makestate(x, y, z)</TD></TR><TR><TH>x,y,z</TH><TD style=\"max-width:2cm; white-space: nowrap; overflow: hidden\" title=\"\"></TD><TD>position of the system</TD><TD/></TR></TBODY></TABLE>"
      ],
      "text/plain": [
       "**** LorenzAttractor.__init__(self, σ, ρ, β, ω) ****\n",
       "    σ,ρ,β     : parameters of the Lorenz attractor []\n",
       "    ω         : speed control [sec^-1]\n",
       "**** LorenzAttractor.launch(self, *a, **ka) ****\n",
       "    maxtime   (inf       ): total simulation time length [sec]\n",
       "    srate     (25.0      ): sampling rate [sec^-1]\n",
       "    taild     (60.0      ): shadow duration [sec]\n",
       "    hooks     ((functools): tuple of display hooks []\n",
       "    ini       : initial state []\n",
       "**** LorenzAttractor.makestate(x, y, z) ****\n",
       "    x,y,z     : position of the system []"
      ]
     },
     "execution_count": 3,
     "metadata": {},
     "output_type": "execute_result"
    }
   ],
   "source": [
    "Setup.display(LorenzAttractor)"
   ]
  },
  {
   "cell_type": "markdown",
   "metadata": {},
   "source": [
    "The rotation angle $\\theta$ for the visualisation is reflected in an ellipse at the bottom right corner of the figure, and can be modified using the arrow keys of the keyboard: \"right\" to increase $\\theta$ (turns the projection plane anti-clockwise) and \"left\" to decrease $\\theta$ (turns the projection plane clockwise). Maybe it is the other way round :-)"
   ]
  },
  {
   "cell_type": "code",
   "execution_count": 4,
   "metadata": {},
   "outputs": [
    {
     "data": {
      "text/plain": [
       "<matplotlib.animation.FuncAnimation at 0x125654978>"
      ]
     },
     "execution_count": 4,
     "metadata": {},
     "output_type": "execute_result"
    }
   ],
   "source": [
    "logging.basicConfig(level='WARN') # can be changed dynamically by logger_hook\n",
    "syst = LorenzAttractor(σ=10,ρ=28,β=8/3,ω=.2)\n",
    "ini=dict(x=-1,y=2,z=12)\n",
    "syst.launch(ini=syst.makestate(**ini))"
   ]
  },
  {
   "cell_type": "code",
   "execution_count": null,
   "metadata": {
    "collapsed": true
   },
   "outputs": [],
   "source": []
  }
 ],
 "metadata": {
  "anaconda-cloud": {},
  "kernelspec": {
   "display_name": "Python 3",
   "language": "python",
   "name": "python3"
  },
  "language_info": {
   "codemirror_mode": {
    "name": "ipython",
    "version": 3
   },
   "file_extension": ".py",
   "mimetype": "text/x-python",
   "name": "python",
   "nbconvert_exporter": "python",
   "pygments_lexer": "ipython3",
   "version": "3.6.6"
  }
 },
 "nbformat": 4,
 "nbformat_minor": 1
}
