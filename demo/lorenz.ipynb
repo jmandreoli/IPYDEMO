{
 "cells": [
  {
   "cell_type": "markdown",
   "metadata": {},
   "source": [
    "# Lorenz attractor\n",
    "\n",
    "Consider the Lorenz attractor, a 3-D system defined by the equations\n",
    "\n",
    "\\begin{eqnarray*}\n",
    "\\dot{x} & = & \\sigma(y-x)\\\\\n",
    "\\dot{y} & = & x(\\rho-z)-y\\\\\n",
    "\\dot{z} & = & xy-\\beta z\n",
    "\\end{eqnarray*}\n",
    "\n",
    "See the [Wikipedia page](http://en.wikipedia.org/wiki/Lorenz_system) for a discussion. Here, all right-hand sides are multiplied by a factor $\\omega$ to adjust the speed."
   ]
  },
  {
   "cell_type": "code",
   "execution_count": 1,
   "metadata": {},
   "outputs": [],
   "source": [
    "import logging\n",
    "from myutil.simpy import SimpySimulation\n",
    "from ipyshow.odesimu import System\n",
    "\n",
    "# relim3d does not exist in matplotlib\n",
    "def relim3d(ax,x,y,z,bnd=(lambda a,srtd=(lambda v: v[0]<v[1]): b if srtd(b:=(amin(a),amax(a))) else ())):\n",
    "  ax.set_xlim(*bnd(x));ax.set_ylim(*bnd(y));ax.set_zlim(*bnd(z))"
   ]
  },
  {
   "cell_type": "markdown",
   "metadata": {},
   "source": [
    "## LorenzAttractor class"
   ]
  },
  {
   "cell_type": "code",
   "execution_count": 2,
   "metadata": {},
   "outputs": [],
   "source": [
    "#----------------------------------------------------------------------------------------------------\n",
    "class LorenzAttractor (System):\n",
    "#----------------------------------------------------------------------------------------------------\n",
    "\n",
    "  def __init__(self,σ,ρ,β,ω):\n",
    "    r\"\"\"\n",
    "Args:\n",
    "  σ,ρ,β (float): parameters of the Lorenz attractor\n",
    "  ω (float): speed control [sec^-1]\n",
    "    \"\"\"\n",
    "    def fun(t,state):\n",
    "      x,y,z = state\n",
    "      return ω*array((σ*(y-x),x*(ρ-z)-y,x*y-β*z))\n",
    "    self.fun = fun\n",
    "    def jac(t,state):\n",
    "      x,y,z = state\n",
    "      return ω*array(((-σ,σ,0),(ρ-z,-1,-x),(y,x,-β)))\n",
    "    self.jac = jac\n",
    "\n",
    "  def displayer(self,env,ax):\n",
    "    ax.set_title(r'trajectory:?',fontsize='x-small')\n",
    "    a_position = ax.scatter((),(),(),marker='o',c='b')\n",
    "    a_tail, = ax.plot((),(),(),c='y')\n",
    "    def disp():\n",
    "      x,y,z = env.state[:,None]\n",
    "      a_position._offsets3d = x,y,z\n",
    "      x,y,z = env.cached_states\n",
    "      a_tail.set_data_3d(x,y,z)\n",
    "      relim3d(ax,x,y,z)\n",
    "      ax.autoscale_view()\n",
    "    return disp\n",
    "\n",
    "  @staticmethod\n",
    "  def makestate(x,y,z):\n",
    "    r\"\"\"\n",
    "Args:\n",
    "  x,y,z (float): position of the system\n",
    "    \"\"\"\n",
    "    return array((x,y,z),dtype=float)\n",
    "\n",
    "  launch_defaults = dict(period=10.,cache=(500,.05),max_step=.1)"
   ]
  },
  {
   "cell_type": "code",
   "execution_count": 3,
   "metadata": {},
   "outputs": [
    {
     "name": "stdout",
     "output_type": "stream",
     "text": [
      "Populating the interactive namespace from numpy and matplotlib\n"
     ]
    }
   ],
   "source": [
    "#%pylab widget\n",
    "%pylab qt5"
   ]
  },
  {
   "cell_type": "code",
   "execution_count": 4,
   "metadata": {},
   "outputs": [
    {
     "name": "stderr",
     "output_type": "stream",
     "text": [
      "Warning: Ignoring XDG_SESSION_TYPE=wayland on Gnome. Use QT_QPA_PLATFORM=wayland to run on Wayland anyway.\n",
      "/local/tools/anaconda/202106/lib/python3.9/site-packages/scipy/integrate/_ivp/common.py:39: UserWarning: The following arguments have no effect for a chosen solver: `jac`.\n",
      "  warn(\"The following arguments have no effect for a chosen solver: {}.\"\n"
     ]
    }
   ],
   "source": [
    "logging.basicConfig(level='WARN')\n",
    "syst = LorenzAttractor(σ=10,ρ=28,β=8/3,ω=.2)\n",
    "ini=dict(x=-1,y=2,z=12)\n",
    "\n",
    "SimpySimulation(\n",
    "  syst.launch(init_y=ini,method='DOP853'),\n",
    "  play_kw=dict(frame_per_stu=25,track=60.),\n",
    "  projection='3d',\n",
    "  aspect='auto', # required because default ('equal') is not supported by 3d\n",
    ")"
   ]
  },
  {
   "cell_type": "code",
   "execution_count": null,
   "metadata": {},
   "outputs": [],
   "source": []
  }
 ],
 "metadata": {
  "anaconda-cloud": {},
  "kernelspec": {
   "display_name": "Python 3 (ipykernel)",
   "language": "python",
   "name": "python3"
  },
  "language_info": {
   "codemirror_mode": {
    "name": "ipython",
    "version": 3
   },
   "file_extension": ".py",
   "mimetype": "text/x-python",
   "name": "python",
   "nbconvert_exporter": "python",
   "pygments_lexer": "ipython3",
   "version": "3.9.4"
  },
  "varInspector": {
   "cols": {
    "lenName": 16,
    "lenType": 16,
    "lenVar": 40
   },
   "kernels_config": {
    "python": {
     "delete_cmd_postfix": "",
     "delete_cmd_prefix": "del ",
     "library": "var_list.py",
     "varRefreshCmd": "print(var_dic_list())"
    },
    "r": {
     "delete_cmd_postfix": ") ",
     "delete_cmd_prefix": "rm(",
     "library": "var_list.r",
     "varRefreshCmd": "cat(var_dic_list()) "
    }
   },
   "types_to_exclude": [
    "module",
    "function",
    "builtin_function_or_method",
    "instance",
    "_Feature"
   ],
   "window_display": false
  }
 },
 "nbformat": 4,
 "nbformat_minor": 4
}
