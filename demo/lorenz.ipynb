{
 "cells": [
  {
   "cell_type": "markdown",
   "metadata": {},
   "source": [
    "# Lorenz attractor\n",
    "\n",
    "Consider the Lorenz attractor, a 3-D system defined by the equations\n",
    "\n",
    "\\begin{eqnarray*}\n",
    "\\dot{x} & = & \\sigma(y-x)\\\\\n",
    "\\dot{y} & = & x(\\rho-z)-y\\\\\n",
    "\\dot{z} & = & xy-\\beta z\n",
    "\\end{eqnarray*}\n",
    "\n",
    "See the [Wikipedia page](http://en.wikipedia.org/wiki/Lorenz_system) for a discussion. Here, all right-hand sides are multiplied by a factor $\\omega$ to adjust the speed. For visualisation, the system is orthogonally projected onto the plane containing the $z$-axis and the axis making an angle $\\theta$ with the $x$-axis in the $xy$-plane, where $\\theta$ is a parameter which can be modified during the simulation.\n",
    "\n",
    "Documentation: [here](../doc/_build/html/odesimu.html)"
   ]
  },
  {
   "cell_type": "code",
   "execution_count": 1,
   "metadata": {
    "collapsed": false
   },
   "outputs": [
    {
     "name": "stdout",
     "output_type": "stream",
     "text": [
      "Using matplotlib backend: MacOSX\n",
      "Populating the interactive namespace from numpy and matplotlib\n"
     ]
    }
   ],
   "source": [
    "%pylab\n",
    "# for inline animation (but slower and more resource consuming):\n",
    "#%pylab nbagg\n",
    "\n",
    "import logging\n",
    "from functools import partial\n",
    "from collections import ChainMap\n",
    "from ipyshow.odesimu.system import System\n",
    "from ipyshow.odesimu.util import logger_hook\n",
    "from ipyshow.util import set_defaults, set_helper, Helper"
   ]
  },
  {
   "cell_type": "markdown",
   "metadata": {},
   "source": [
    "## LorenzAttractor class"
   ]
  },
  {
   "cell_type": "code",
   "execution_count": 8,
   "metadata": {
    "collapsed": false
   },
   "outputs": [],
   "source": [
    "#----------------------------------------------------------------------------------------------------\n",
    "@set_helper(\n",
    "    'sigma,rho,beta: parameters of the Lorenz attractor',\n",
    "    'omega: speed control [sec^-1]',\n",
    ")\n",
    "class LorenzAttractor (System):\n",
    "#----------------------------------------------------------------------------------------------------\n",
    "\n",
    "    shadowshape = (3,)\n",
    "\n",
    "    def __init__(self,sigma,rho,beta,omega):\n",
    "        def main(t,state):\n",
    "            x,y,z = state\n",
    "            return omega*array((sigma*(y-x),x*(rho-z)-y,x*y-beta*z))\n",
    "        self.main = main\n",
    "        def jac(t,state):\n",
    "            x,y,z = state\n",
    "            return omega*array(((-sigma,sigma,0),(rho-z,-1,-x),(y,x,-beta)))\n",
    "        self.jacobian = jac\n",
    "        def fordisplay(state): return state,state\n",
    "        self.fordisplay = fordisplay\n",
    "\n",
    "    def display(self,ax,ini=None,**ka):\n",
    "        from matplotlib.patches import Ellipse, Arrow\n",
    "        from matplotlib.transforms import Affine2D\n",
    "        ax.set_title(r'trajectory:?')\n",
    "        diag_s = ax.scatter((),(),marker='o',c='b')\n",
    "        tail_l, = ax.plot((),(),c='y')\n",
    "        rmov = None\n",
    "        def rotate_on(ev,delta=pi/100):\n",
    "            nonlocal rmov\n",
    "            if ev.key == 'right': rmov = delta\n",
    "            elif ev.key == 'left': rmov = -delta\n",
    "            else: return\n",
    "        def rotate_off(ev):\n",
    "            nonlocal rmov\n",
    "            if ev.key=='right' or ev.key=='left': rmov = None\n",
    "        ax.figure.canvas.mpl_connect('key_press_event',rotate_on)\n",
    "        ax.figure.canvas.mpl_connect('key_release_event',rotate_off)\n",
    "        # naive projection, no perspective\n",
    "        theta,rcos,rsin = 0.,1.,0.\n",
    "        rot = lambda x,y: x*rcos+y*rsin\n",
    "        def slant(theta=0): return Affine2D().rotate(theta).scale(sx=1.,sy=.6).translate(.95,.05)+ax.transAxes\n",
    "        ax.add_patch(Ellipse(xy=(.95,.05),width=.06,height=.04,fill=False,ec='k',alpha=.4,transform=ax.transAxes))\n",
    "        arrow = ax.add_patch(Arrow(0.,0.,.03,0,lw=1,width=.01,ec='k',alpha=.4,transform=slant()))\n",
    "        ax.add_patch(Arrow(.95,.05,0,.05,lw=1,width=.01,ec='k',transform=ax.transAxes))\n",
    "        def disp(t,live,tail):\n",
    "            nonlocal theta, rcos, rsin\n",
    "            if rmov is not None: theta += rmov; rcos,rsin = cos(theta),sin(theta); arrow.set_transform(slant(theta))\n",
    "            x,y,z = live\n",
    "            diag_s.set_offsets(((rot(x,y),z),))\n",
    "            tail_l.set_data(rot(tail[:,0],tail[:,1]),tail[:,2])\n",
    "            ax.relim()\n",
    "            ax.autoscale_view()\n",
    "        return super(LorenzAttractor,self).display(ax,disp,ini=ini,**ka)\n",
    "\n",
    "    @staticmethod\n",
    "    @set_helper(\n",
    "        'x,y,z: initial state of the system'\n",
    "        )\n",
    "    @set_defaults(x=0.,y=0.,z=0.)\n",
    "    def makestate(x,y,z): return array((x,y,z))\n",
    "\n",
    "    @set_helper(*System.launch.helper)\n",
    "    @set_defaults(taild=60.,hooks=(partial(logger_hook,logger=logging.getLogger()),),**System.launch.defaults)\n",
    "    def launch(self,*a,**ka): return super().launch(*a,**ka)"
   ]
  },
  {
   "cell_type": "code",
   "execution_count": 9,
   "metadata": {
    "collapsed": false
   },
   "outputs": [
    {
     "data": {
      "text/plain": [
       "**** <class '__main__.LorenzAttractor'> ****\n",
       "    sigma,rho,beta:  parameters of the Lorenz attractor\n",
       "    omega     :  speed control [sec^-1]\n",
       "**** <function LorenzAttractor.launch at 0x112546840> ****\n",
       "    maxtime   (inf       ):  total simulation time length [sec]\n",
       "    srate     (25.0      ):  sampling rate [sec^-1]\n",
       "    taild     (60.0      ):  shadow duration [sec]\n",
       "    hooks     (...       ):  tuple of display hooks\n",
       "**** <function LorenzAttractor.makestate at 0x112533510> ****\n",
       "    x,y,z     :  initial state of the system"
      ]
     },
     "execution_count": 9,
     "metadata": {},
     "output_type": "execute_result"
    }
   ],
   "source": [
    "Helper(LorenzAttractor,LorenzAttractor.launch,LorenzAttractor.makestate)"
   ]
  },
  {
   "cell_type": "markdown",
   "metadata": {},
   "source": [
    "The rotation angle $\\theta$ for the visualisation is reflected in an ellipse at the bottom right corner of the figure, and can be modified using the arrow keys of the keyboard: \"right\" to increase $\\theta$ (turns the projection plane anti-clockwise) and \"left\" to decrease $\\theta$ (turns the projection plane clockwise). Maybe it is the other way round :-)"
   ]
  },
  {
   "cell_type": "code",
   "execution_count": 10,
   "metadata": {
    "collapsed": false
   },
   "outputs": [
    {
     "data": {
      "text/plain": [
       "<matplotlib.animation.FuncAnimation at 0x115902fd0>"
      ]
     },
     "execution_count": 10,
     "metadata": {},
     "output_type": "execute_result"
    }
   ],
   "source": [
    "logging.basicConfig(level='WARN') # can be changed dynamically by logger_hook\n",
    "syst = LorenzAttractor(sigma=10,rho=28,beta=8/3,omega=.2); ini=dict(x=-1,y=2,z=12)\n",
    "syst.launch(ini=syst.makestate(**ini))"
   ]
  },
  {
   "cell_type": "code",
   "execution_count": null,
   "metadata": {
    "collapsed": true
   },
   "outputs": [],
   "source": []
  }
 ],
 "metadata": {
  "anaconda-cloud": {},
  "kernelspec": {
   "display_name": "Python [default]",
   "language": "python",
   "name": "python3"
  },
  "language_info": {
   "codemirror_mode": {
    "name": "ipython",
    "version": 3
   },
   "file_extension": ".py",
   "mimetype": "text/x-python",
   "name": "python",
   "nbconvert_exporter": "python",
   "pygments_lexer": "ipython3",
   "version": "3.5.2"
  }
 },
 "nbformat": 4,
 "nbformat_minor": 0
}
