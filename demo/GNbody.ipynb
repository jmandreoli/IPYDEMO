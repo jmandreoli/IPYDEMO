{
 "cells": [
  {
   "cell_type": "markdown",
   "metadata": {},
   "source": [
    "# N-body system\n",
    "\n",
    "Consider a system of $N$ bodies under gravitational attraction. The masses are $(m_i)_{i\\in I}$ and the gravitational constant is $\\mathcal{G}$. The problem is to study and represent the motion of this system.\n",
    "\n",
    "We use standard (Euclidian) coordinates $(x_{id})_{i\\in I,d\\in D}$ in some arbitrary inertial frame of reference.\n",
    "\n",
    "The equations of the dynamics are given by:\n",
    "\n",
    "\\begin{equation*}\n",
    "\\ddot{x}_i = \\sum_{j\\not=i} \\mathcal{G}m_j\\|x_j-x_i\\|^{-3}(x_j-x_i)\n",
    "\\end{equation*}"
   ]
  },
  {
   "cell_type": "code",
   "execution_count": 1,
   "metadata": {},
   "outputs": [
    {
     "name": "stdout",
     "output_type": "stream",
     "text": [
      "Populating the interactive namespace from numpy and matplotlib\n"
     ]
    }
   ],
   "source": [
    "%pylab widget\n",
    "# for external animation (less resource consuming), use appropriate backend, e.g. qt5\n",
    "\n",
    "import logging\n",
    "from functools import partial\n",
    "from ipyshow import Setup\n",
    "from ipyshow.odesimu import System\n",
    "from ipyshow.odesimu.util import logger_hook"
   ]
  },
  {
   "cell_type": "code",
   "execution_count": 2,
   "metadata": {},
   "outputs": [],
   "source": [
    "#----------------------------------------------------------------------------------------------------\n",
    "class GNbody (System):\n",
    "#----------------------------------------------------------------------------------------------------\n",
    "\n",
    "  @Setup(\n",
    "    'ML: list of masses of the bodies [kg]',\n",
    "    'G: gravitational constant [m^3.kg^-1.sec^-2]',\n",
    "    'D: dimension of the Euclidian space',\n",
    "    D=2,G=1,\n",
    "  )\n",
    "  def __init__(self,*ML,G=None,D=None):\n",
    "    self.ML,self.G,self.D = ML,G,D\n",
    "    self.N = N = len(ML); self.size = size = 2*N*D\n",
    "    MG = G*array(ML)[None,:,None]\n",
    "    def main(t,state,ID=eye(N)[...,None]): # ID used only to avoid error on diagonal when raising to power -1.5\n",
    "      X,Xʹ = state.reshape((2,N,D))\n",
    "      Δ = X[None,:,:]-X[:,None,:]\n",
    "      Xʺ = sum((MG*(ID+sum(square(Δ),axis=-1,keepdims=True))**-1.5)*Δ,axis=1)\n",
    "      return stack((Xʹ,Xʺ),axis=0).reshape(size)\n",
    "    self.main = main\n",
    "    def fordisplay(state):\n",
    "      X = state.reshape((2,N,D))[0,:,:2]\n",
    "      return X,X\n",
    "    self.fordisplay = fordisplay\n",
    "    self.shadowshape = (N,2)\n",
    "\n",
    "  def display(self,ax,refsize=50.,**ka):\n",
    "    diag_s = ax.scatter((),(),s=refsize,marker='o',c='b')\n",
    "    tails_l = ax.plot(*(self.N*((),(),'y')))\n",
    "    ax.set_title('trajectory:?')\n",
    "    def disp(t,live,tail):\n",
    "      diag_s.set_offsets(live)\n",
    "      for t_l,xy in zip(tails_l,swapaxes(tail,0,1)): t_l.set_data(xy.T)\n",
    "      ax.relim()\n",
    "      ax.autoscale_view()\n",
    "    return super().display(ax,disp,**ka)\n",
    "\n",
    "  @Setup(\n",
    "      'xdxL: list of tuples of length 2D with position and speed',\n",
    "  )\n",
    "  def makestate(self,*xdxL):\n",
    "    return swapaxes(array([(xdx[:self.D],xdx[self.D:]) for xdx in xdxL]),0,1).reshape(self.size)\n",
    "\n",
    "  @Setup(\n",
    "    System.launch,\n",
    "    'refsize: average size (area) of the bodies for display [pt^2]',\n",
    "    taild=10,hooks=(partial(logger_hook,logger=logging.getLogger()),)\n",
    "  )\n",
    "  def launch(self,*a,**ka): return super().launch(*a,**ka)"
   ]
  },
  {
   "cell_type": "code",
   "execution_count": 3,
   "metadata": {},
   "outputs": [
    {
     "data": {
      "text/html": [
       "<TABLE><TBODY><TR><TD colspan=\"4\" style=\"background-color: gray; color: white; font-weight: bold;\">GNbody.__init__(self, *ML, G=None, D=None)</TD></TR><TR><TH>ML</TH><TD style=\"max-width:2cm; white-space: nowrap; overflow: hidden\" title=\"\"></TD><TD>list of masses of the bodies</TD><TD> <SPAN>kg</SPAN></TD></TR><TR><TH>G</TH><TD style=\"max-width:2cm; white-space: nowrap; overflow: hidden\" title=\"1\">1</TD><TD>gravitational constant</TD><TD> <SPAN>m</SPAN><SUP>3</SUP> <SPAN>kg</SPAN><SUP>-1</SUP> <SPAN>sec</SPAN><SUP>-2</SUP></TD></TR><TR><TH>D</TH><TD style=\"max-width:2cm; white-space: nowrap; overflow: hidden\" title=\"2\">2</TD><TD>dimension of the Euclidian space</TD><TD/></TR><TR><TD colspan=\"4\" style=\"background-color: gray; color: white; font-weight: bold;\">GNbody.launch(self, *a, **ka)</TD></TR><TR><TH>ini</TH><TD style=\"max-width:2cm; white-space: nowrap; overflow: hidden\" title=\"\"></TD><TD>initial state</TD><TD/></TR><TR><TH>srate</TH><TD style=\"max-width:2cm; white-space: nowrap; overflow: hidden\" title=\"25.0\">25.0</TD><TD>sampling rate</TD><TD> <SPAN>sec</SPAN><SUP>-1</SUP></TD></TR><TR><TH>maxtime</TH><TD style=\"max-width:2cm; white-space: nowrap; overflow: hidden\" title=\"inf\">inf</TD><TD>total simulation time length</TD><TD> <SPAN>sec</SPAN></TD></TR><TR><TH>taild</TH><TD style=\"max-width:2cm; white-space: nowrap; overflow: hidden\" title=\"10\">10</TD><TD>shadow duration</TD><TD> <SPAN>sec</SPAN></TD></TR><TR><TH>listeners</TH><TD style=\"max-width:2cm; white-space: nowrap; overflow: hidden\" title=\"\"></TD><TD>listener binding (events: start,stop,step,error)</TD><TD/></TR><TR><TH>hooks</TH><TD style=\"max-width:2cm; white-space: nowrap; overflow: hidden\" title=\"(functools.partial(&lt;function logger_hook at 0x7f9eb5ca60d0&gt;, logger=&lt;RootLogger root (WARNING)&gt;),)\">(functools.partial(&lt;function logger_hook at 0x7f9eb5ca60d0&gt;, logger=&lt;RootLogger root (WARNING)&gt;),)</TD><TD>list of display hooks</TD><TD/></TR><TR><TH>refsize</TH><TD style=\"max-width:2cm; white-space: nowrap; overflow: hidden\" title=\"\"></TD><TD>average size (area) of the bodies for display</TD><TD> <SPAN>pt</SPAN><SUP>2</SUP></TD></TR><TR><TD colspan=\"4\" style=\"background-color: gray; color: white; font-weight: bold;\">GNbody.makestate(self, *xdxL)</TD></TR><TR><TH>xdxL</TH><TD style=\"max-width:2cm; white-space: nowrap; overflow: hidden\" title=\"\"></TD><TD>list of tuples of length 2D with position and speed</TD><TD/></TR></TBODY></TABLE>"
      ],
      "text/plain": [
       "**** GNbody.__init__(self, *ML, G=None, D=None) ****\n",
       "    ML        : list of masses of the bodies [kg]\n",
       "    G         (1         ): gravitational constant [m^3.kg^-1.sec^-2]\n",
       "    D         (2         ): dimension of the Euclidian space []\n",
       "**** GNbody.launch(self, *a, **ka) ****\n",
       "    ini       : initial state []\n",
       "    srate     (25.0      ): sampling rate [sec^-1]\n",
       "    maxtime   (inf       ): total simulation time length [sec]\n",
       "    taild     (10        ): shadow duration [sec]\n",
       "    listeners : listener binding (events: start,stop,step,error) []\n",
       "    hooks     ((functools): list of display hooks []\n",
       "    refsize   : average size (area) of the bodies for display [pt^2]\n",
       "**** GNbody.makestate(self, *xdxL) ****\n",
       "    xdxL      : list of tuples of length 2D with position and speed []"
      ]
     },
     "execution_count": 3,
     "metadata": {},
     "output_type": "execute_result"
    }
   ],
   "source": [
    "Setup.display(GNbody)"
   ]
  },
  {
   "cell_type": "code",
   "execution_count": 4,
   "metadata": {},
   "outputs": [
    {
     "data": {
      "application/vnd.jupyter.widget-view+json": {
       "model_id": "a3bfe376504e455cacc6a7e323753e95",
       "version_major": 2,
       "version_minor": 0
      },
      "text/plain": [
       "Canvas(toolbar=Toolbar(toolitems=[('Home', 'Reset original view', 'home', 'home'), ('Back', 'Back to previous …"
      ]
     },
     "metadata": {},
     "output_type": "display_data"
    },
    {
     "data": {
      "text/plain": [
       "<matplotlib.animation.FuncAnimation at 0x7f9eb35fcf70>"
      ]
     },
     "execution_count": 4,
     "metadata": {},
     "output_type": "execute_result"
    }
   ],
   "source": [
    "logging.basicConfig(level='WARN') # can be changed dynamically by logger_hook\n",
    "syst = GNbody(10,10,10,10)\n",
    "v = 1; u = 4; a = -pi/12; d = 0.\n",
    "#v = 1; u = 4; a = pi/4; d = 0. # collision!\n",
    "#v = 1; u = 4; a = -pi/12; d = .005\n",
    "ini = (\n",
    "  (-u,-u,v*cos(a),v*sin(a)),\n",
    "  (u,-u,-v*sin(a),v*cos(a)),\n",
    "  (u,u,-v*cos(a),-v*sin(a)),\n",
    "  (-u,u,v*sin(a),d-v*cos(a)),\n",
    ")\n",
    "syst.launch(ini=syst.makestate(*ini))"
   ]
  },
  {
   "cell_type": "code",
   "execution_count": null,
   "metadata": {},
   "outputs": [],
   "source": []
  }
 ],
 "metadata": {
  "anaconda-cloud": {},
  "kernelspec": {
   "display_name": "Python 3",
   "language": "python",
   "name": "python3"
  },
  "language_info": {
   "codemirror_mode": {
    "name": "ipython",
    "version": 3
   },
   "file_extension": ".py",
   "mimetype": "text/x-python",
   "name": "python",
   "nbconvert_exporter": "python",
   "pygments_lexer": "ipython3",
   "version": "3.8.6"
  },
  "varInspector": {
   "cols": {
    "lenName": 16,
    "lenType": 16,
    "lenVar": 40
   },
   "kernels_config": {
    "python": {
     "delete_cmd_postfix": "",
     "delete_cmd_prefix": "del ",
     "library": "var_list.py",
     "varRefreshCmd": "print(var_dic_list())"
    },
    "r": {
     "delete_cmd_postfix": ") ",
     "delete_cmd_prefix": "rm(",
     "library": "var_list.r",
     "varRefreshCmd": "cat(var_dic_list()) "
    }
   },
   "types_to_exclude": [
    "module",
    "function",
    "builtin_function_or_method",
    "instance",
    "_Feature"
   ],
   "window_display": false
  }
 },
 "nbformat": 4,
 "nbformat_minor": 4
}
