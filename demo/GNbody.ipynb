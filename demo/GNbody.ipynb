{
 "cells": [
  {
   "cell_type": "markdown",
   "metadata": {},
   "source": [
    "# N-body system\n",
    "\n",
    "Consider a system of $N$ bodies under gravitational attraction. The masses are $(m_i)_{i\\in I}$ and the gravitational constant is $\\mathcal{G}$. The problem is to study and represent the motion of this system.\n",
    "\n",
    "We use standard (Euclidian) coordinates $(x_{id})_{i\\in I,d\\in D}$ in some arbitrary inertial frame of reference.\n",
    "\n",
    "The equations of the dynamics are given by:\n",
    "\n",
    "\\begin{equation*}\n",
    "\\ddot{x}_i = \\sum_{j\\not=i} \\mathcal{G}m_j\\|x_j-x_i\\|^{-3}(x_j-x_i)\n",
    "\\end{equation*}"
   ]
  },
  {
   "cell_type": "code",
   "execution_count": 1,
   "metadata": {},
   "outputs": [],
   "source": [
    "import logging; logging.basicConfig(level=logging.WARNING); logging.captureWarnings(True)\n",
    "from numpy import sin,cos,pi,square,sqrt,swapaxes,array,stack,eye,sum,radians\n",
    "from ipyshow.odesimu import ODESystem"
   ]
  },
  {
   "cell_type": "code",
   "execution_count": 2,
   "metadata": {},
   "outputs": [],
   "source": [
    "#----------------------------------------------------------------------------------------------------\n",
    "class GNbody (ODESystem):\n",
    "#----------------------------------------------------------------------------------------------------\n",
    "\n",
    "  def __init__(self,*ML,G=1.,D=2):\n",
    "    r\"\"\"\n",
    "Args:\n",
    "  ML (float): list of masses of the bodies [kg]\n",
    "  G (float): gravitational constant [m^3.kg^-1.sec^-2]\n",
    "  D (float): dimension of the Euclidian space\n",
    "    \"\"\"\n",
    "    self.ML,self.G,self.D = ML,G,D\n",
    "    self.N = N = len(ML); self.size = size = 2*N*D\n",
    "    MG = G*array(ML)[None,:,None]\n",
    "    def fun(t,state,_ID=eye(N)[...,None]): # _ID used only to avoid error on diagonal when raising to power -1.5\n",
    "      X,Xʹ = state.reshape((2,N,D))\n",
    "      Δ = X[None,:,:]-X[:,None,:]\n",
    "      Xʺ = sum((MG*(_ID+sum(square(Δ),axis=-1,keepdims=True))**-1.5)*Δ,axis=1)\n",
    "      return stack((Xʹ,Xʺ),axis=0).reshape(size)\n",
    "    self.fun = fun\n",
    "    def cartesian(state):\n",
    "      return state.reshape((2,N,D,*state.shape[1:]))[0,:,:2]\n",
    "    self.cartesian = cartesian\n",
    "    super().__init__()\n",
    "\n",
    "  def displayer(self,trajectory,ax,refsize=50.,**ka):\n",
    "    r\"\"\"\n",
    "Args:\n",
    "  refsize (int): reference dimension for the masses [pt^2]\n",
    "    \"\"\"\n",
    "    a_masses = ax.scatter((),(),s=refsize,marker='o',c='b')\n",
    "    a_tails = ax.plot(*(self.N*((),(),'y')))\n",
    "    def disp(t):\n",
    "      a_masses.set_offsets(self.cartesian(trajectory.state(t)))\n",
    "      for t_l,xy in zip(a_tails,self.cartesian(trajectory.cached(t))): t_l.set_data(xy)\n",
    "      ax.relim()\n",
    "      ax.autoscale_view()\n",
    "    return disp\n",
    "\n",
    "  def makestate(self,*xdxL:tuple[float,...]):\n",
    "    r\"\"\"\n",
    "Args:\n",
    "  xdxL (Sequence[Tuple[float,...]]): list of tuples of length 2D with position and speed\n",
    "    \"\"\"\n",
    "    return swapaxes(array([(xdx[:self.D],xdx[self.D:]) for xdx in xdxL]),0,1).reshape(self.size)\n",
    "\n",
    "  trajectory_defaults = {'period':10.,'cache_spec':(50,.05),'max_step':.05}"
   ]
  },
  {
   "cell_type": "code",
   "execution_count": 3,
   "metadata": {},
   "outputs": [
    {
     "data": {
      "application/vnd.jupyter.widget-view+json": {
       "model_id": "9a03e0693ad9428387dca484c8f0648e",
       "version_major": 2,
       "version_minor": 0
      },
      "text/plain": [
       "IPYControlledAnimation(children=(VBox(children=(HBox(children=(SimpleButton(icon='close', layout=Layout(paddin…"
      ]
     },
     "execution_count": 3,
     "metadata": {},
     "output_type": "execute_result"
    },
    {
     "data": {
      "application/vnd.jupyter.widget-view+json": {
       "model_id": "81543504da2643b9b4cef1223163d67e",
       "version_major": 2,
       "version_minor": 0
      },
      "image/png": "[encoded data removed]",
      "text/html": [
       "\n",
       "            <div style=\"display: inline-block;\">\n",
       "                <div class=\"jupyter-widgets widget-label\" style=\"text-align: center;\">\n",
       "                    Figure\n",
       "                </div>\n",
       "                <img src='data:image/png;base64,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' width=640.0/>\n",
       "            </div>\n",
       "        "
      ],
      "text/plain": [
       "Canvas(toolbar=Toolbar(toolitems=[('Home', 'Reset original view', 'home', 'home'), ('Back', 'Back to previous …"
      ]
     },
     "metadata": {},
     "output_type": "display_data"
    }
   ],
   "source": [
    "%matplotlib widget\n",
    "#%matplotlib qt6\n",
    "\n",
    "syst = GNbody(10,10,10,10)\n",
    "v = 1; u = 4; a = -pi/12; d = lambda v:v \n",
    "#v = 1; u = 4; a = pi/4; d = lambda v:v # collision!\n",
    "#v = 1; u = 4; a = -pi/12; d = lambda v:v+.005\n",
    "ini = (\n",
    "  (-u,-u,v*cos(a),v*sin(a)),\n",
    "  (u,-u,-v*sin(a),v*cos(a)),\n",
    "  (u,u,-v*cos(a),-v*sin(a)),\n",
    "  (-u,u,v*sin(a),d(-v*cos(a))),\n",
    ")\n",
    "\n",
    "R = syst.simulation(init_y=ini)\n",
    "R.play(frame_per_stu=25,track_spec=60.)"
   ]
  },
  {
   "cell_type": "code",
   "execution_count": null,
   "metadata": {},
   "outputs": [],
   "source": []
  }
 ],
 "metadata": {
  "anaconda-cloud": {},
  "kernelspec": {
   "display_name": "Python 3 (ipykernel)",
   "language": "python",
   "name": "python3"
  },
  "language_info": {
   "codemirror_mode": {
    "name": "ipython",
    "version": 3
   },
   "file_extension": ".py",
   "mimetype": "text/x-python",
   "name": "python",
   "nbconvert_exporter": "python",
   "pygments_lexer": "ipython3",
   "version": "3.12.8"
  },
  "varInspector": {
   "cols": {
    "lenName": 16,
    "lenType": 16,
    "lenVar": 40
   },
   "kernels_config": {
    "python": {
     "delete_cmd_postfix": "",
     "delete_cmd_prefix": "del ",
     "library": "var_list.py",
     "varRefreshCmd": "print(var_dic_list())"
    },
    "r": {
     "delete_cmd_postfix": ") ",
     "delete_cmd_prefix": "rm(",
     "library": "var_list.r",
     "varRefreshCmd": "cat(var_dic_list()) "
    }
   },
   "types_to_exclude": [
    "module",
    "function",
    "builtin_function_or_method",
    "instance",
    "_Feature"
   ],
   "window_display": false
  }
 },
 "nbformat": 4,
 "nbformat_minor": 4
}
