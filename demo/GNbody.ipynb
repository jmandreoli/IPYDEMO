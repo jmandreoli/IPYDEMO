{
 "cells": [
  {
   "cell_type": "markdown",
   "metadata": {},
   "source": [
    "# N-body system\n",
    "\n",
    "Consider a system of $N$ bodies under gravitational attraction. The masses are $(m_i)_{i\\in I}$ and the gravitational constant is ${\\mathcal G}$. The problem is to study and represent the motion of this system.\n",
    "\n",
    "We use standard (Euclidian) coordinates $(x_i,y_i)_{i\\in I}$ in some arbitrary inertial frame of reference.\n",
    "\n",
    "The equations of the dynamics are given by:\n",
    "\n",
    "\\begin{equation*}\n",
    "\\left\\{\n",
    "\\begin{array}{rcl}\n",
    "\\ddot{x_i} & = &\n",
    "\\sum_{j\\not=i}{\\mathcal G}m_j((x_j-x_i)^2+(y_j-y_i)^2)^{-\\frac{3}{2}}(x_j-x_i)\n",
    "\\\\\n",
    "\\ddot{y_i} & = &\n",
    "\\sum_{j\\not=i}{\\mathcal G}m_j((x_j-x_i)^2+(y_j-y_i)^2)^{-\\frac{3}{2}}(y_j-y_i)\n",
    "\\end{array}\n",
    "\\right.\n",
    "\\end{equation*}\n",
    "\n",
    "Documentation: [here](../doc/_build/html/odesimu.html)"
   ]
  },
  {
   "cell_type": "code",
   "execution_count": 1,
   "metadata": {
    "collapsed": false
   },
   "outputs": [
    {
     "name": "stdout",
     "output_type": "stream",
     "text": [
      "Using matplotlib backend: Qt5Agg\n",
      "Populating the interactive namespace from numpy and matplotlib\n"
     ]
    }
   ],
   "source": [
    "%pylab\n",
    "# for inline animation (but slower and more resource consuming):\n",
    "#%pylab nbagg\n",
    "\n",
    "import logging\n",
    "from functools import partial\n",
    "from ipyshow.util import Setup\n",
    "from ipyshow.odesimu.system import System\n",
    "from ipyshow.odesimu.util import logger_hook"
   ]
  },
  {
   "cell_type": "code",
   "execution_count": 2,
   "metadata": {
    "collapsed": false
   },
   "outputs": [],
   "source": [
    "#----------------------------------------------------------------------------------------------------\n",
    "class GNbody (System):\n",
    "#----------------------------------------------------------------------------------------------------\n",
    "\n",
    "    @Setup(\n",
    "        'ML: list of masses of the bodies [kg]',\n",
    "        'G: gravitational constant [m^3.kg^-1.sec^-2]',\n",
    "    )\n",
    "    def __init__(self,*ML,G=None):\n",
    "        self.ML,self.G = ML,G\n",
    "        N = len(ML)\n",
    "        MM = array(ML)*G\n",
    "        ID = eye(N,dtype=bool)\n",
    "        slices = slice(None,N),slice(N,2*N)\n",
    "        slicesd = slice(2*N,3*N),slice(3*N,None)\n",
    "        self.shadowshape = (N,2)\n",
    "        def main(t,state,a=zeros((2,N,N),dtype=float),b=zeros((1,N,N),dtype=float)):\n",
    "            r = state.copy()\n",
    "            for s,v,sd in zip(slices,a,slicesd):\n",
    "                z = state[s]\n",
    "                v[...] = z[newaxis,:]-z[:,newaxis]\n",
    "                r[s] = state[sd]\n",
    "            b[0,...] = sum(square(a),axis=0,keepdims=True)\n",
    "            b *= sqrt(b)\n",
    "            b[0][ID] = 1.\n",
    "            a /= b\n",
    "            for s,v in zip(slicesd,a): dot(v,MM,r[s])\n",
    "            return r\n",
    "        self.main = main\n",
    "        def fordisplay(state):\n",
    "            x,y = (state[s] for s in slices)\n",
    "            live = tuple(zip(x,y))\n",
    "            return live, live\n",
    "        self.fordisplay = fordisplay\n",
    "\n",
    "    def display(self,ax,refsize=50.,**ka):\n",
    "        diag_s = ax.scatter((),(),s=refsize,marker='o',c='b')\n",
    "        tails_l = tuple(ax.plot((),(),'y')[0] for m in self.ML)\n",
    "        ax.set_title('trajectory:?')\n",
    "        def disp(t,live,tail):\n",
    "            diag_s.set_offsets(live)\n",
    "            for t_l,xy in zip(tails_l,swapaxes(tail,0,1)): t_l.set_data(xy[:,0],xy[:,1])\n",
    "            ax.relim()\n",
    "            ax.autoscale_view()\n",
    "        return super().display(ax,disp,**ka)\n",
    "\n",
    "    @Setup(\n",
    "        'xydxdyL: list of quadruple with xy-position and speed',\n",
    "    )\n",
    "    def makestate(self,*xydxdyL):\n",
    "        assert len(xydxdyL)==len(self.ML)\n",
    "        for u in xydxdyL: assert len(u)==4\n",
    "        return concatenate(list(zip(*xydxdyL)))\n",
    "\n",
    "    @Setup(\n",
    "        'refsize: average size (area) of the bodies for display [pt^2]',\n",
    "        taild=10,hooks=(partial(logger_hook,logger=logging.getLogger()),)\n",
    "    )\n",
    "    def launch(self,*a,**ka): return super().launch(*a,**ka)"
   ]
  },
  {
   "cell_type": "code",
   "execution_count": 3,
   "metadata": {
    "collapsed": false
   },
   "outputs": [
    {
     "data": {
      "text/html": [
       "<TABLE><TBODY><TR><TD style=\"background-color: gray; color: white; font-weight: bold;\" colspan=\"4\">GNbody.__init__(self, *ML, G=None)</TD></TR><TR><TH>ML</TH><TD style=\"max-width:2cm; white-space: nowrap; overflow: hidden\" title=\"\"></TD><TD>list of masses of the bodies</TD><TD> <SPAN>kg</SPAN></TD></TR><TR><TH>G</TH><TD style=\"max-width:2cm; white-space: nowrap; overflow: hidden\" title=\"\"></TD><TD>gravitational constant</TD><TD> <SPAN>m</SPAN><SUP>3</SUP> <SPAN>kg</SPAN><SUP>-1</SUP> <SPAN>sec</SPAN><SUP>-2</SUP></TD></TR><TR><TD style=\"background-color: gray; color: white; font-weight: bold;\" colspan=\"4\">GNbody.launch(self, *a, **ka)</TD></TR><TR><TH>maxtime</TH><TD style=\"max-width:2cm; white-space: nowrap; overflow: hidden\" title=\"inf\">inf</TD><TD>total simulation time length</TD><TD> <SPAN>sec</SPAN></TD></TR><TR><TH>srate</TH><TD style=\"max-width:2cm; white-space: nowrap; overflow: hidden\" title=\"25.0\">25.0</TD><TD>sampling rate</TD><TD> <SPAN>sec</SPAN><SUP>-1</SUP></TD></TR><TR><TH>taild</TH><TD style=\"max-width:2cm; white-space: nowrap; overflow: hidden\" title=\"10\">10</TD><TD>shadow duration</TD><TD> <SPAN>sec</SPAN></TD></TR><TR><TH>hooks</TH><TD style=\"max-width:2cm; white-space: nowrap; overflow: hidden\" title=\"(functools.partial(&lt;function logger_hook at 0x7f56387f6488&gt;, logger=&lt;logging.RootLogger object at 0x7f563ed0eda0&gt;),)\">(functools.partial(&lt;function logger_hook at 0x7f56387f6488&gt;, logger=&lt;logging.RootLogger object at 0x7f563ed0eda0&gt;),)</TD><TD>tuple of display hooks</TD><TD/></TR><TR><TH>ini</TH><TD style=\"max-width:2cm; white-space: nowrap; overflow: hidden\" title=\"\"></TD><TD>initial state</TD><TD/></TR><TR><TH>refsize</TH><TD style=\"max-width:2cm; white-space: nowrap; overflow: hidden\" title=\"\"></TD><TD>average size (area) of the bodies for display</TD><TD> <SPAN>pt</SPAN><SUP>2</SUP></TD></TR><TR><TD style=\"background-color: gray; color: white; font-weight: bold;\" colspan=\"4\">GNbody.makestate(self, *xydxdyL)</TD></TR><TR><TH>xydxdyL</TH><TD style=\"max-width:2cm; white-space: nowrap; overflow: hidden\" title=\"\"></TD><TD>list of quadruple with xy-position and speed</TD><TD/></TR></TBODY></TABLE>"
      ],
      "text/plain": [
       "**** GNbody.__init__(self, *ML, G=None) ****\n",
       "    ML        (          ): list of masses of the bodies [kg]\n",
       "    G         (          ): gravitational constant [m^3.kg^-1.sec^-2]\n",
       "**** GNbody.launch(self, *a, **ka) ****\n",
       "    maxtime   (inf       ): total simulation time length [sec]\n",
       "    srate     (25.0      ): sampling rate [sec^-1]\n",
       "    taild     (10        ): shadow duration [sec]\n",
       "    hooks     ((functools): tuple of display hooks []\n",
       "    ini       (          ): initial state []\n",
       "    refsize   (          ): average size (area) of the bodies for display [pt^2]\n",
       "**** GNbody.makestate(self, *xydxdyL) ****\n",
       "    xydxdyL   (          ): list of quadruple with xy-position and speed []"
      ]
     },
     "execution_count": 3,
     "metadata": {},
     "output_type": "execute_result"
    }
   ],
   "source": [
    "Setup.display(GNbody)"
   ]
  },
  {
   "cell_type": "code",
   "execution_count": 4,
   "metadata": {
    "collapsed": false
   },
   "outputs": [
    {
     "data": {
      "text/plain": [
       "<matplotlib.animation.FuncAnimation at 0x7f56000a0978>"
      ]
     },
     "execution_count": 4,
     "metadata": {},
     "output_type": "execute_result"
    }
   ],
   "source": [
    "logging.basicConfig(level='WARN') # can be changed dynamically by logger_hook\n",
    "syst = GNbody(10,10,10,10,G=1)\n",
    "v = 1; u = 4; a = -pi/12; d = 0.\n",
    "#v = 1; u = 4; a = -pi/12; d = .005\n",
    "ini = (\n",
    "    (-u,-u,v*cos(a),v*sin(a)),\n",
    "    (u,-u,-v*sin(a),v*cos(a)),\n",
    "    (u,u,-v*cos(a),-v*sin(a)),\n",
    "    (-u,u,v*sin(a),d-v*cos(a)),\n",
    ")\n",
    "syst.launch(ini=syst.makestate(*ini))"
   ]
  },
  {
   "cell_type": "code",
   "execution_count": null,
   "metadata": {
    "collapsed": true
   },
   "outputs": [],
   "source": []
  }
 ],
 "metadata": {
  "anaconda-cloud": {},
  "kernelspec": {
   "display_name": "Python [default]",
   "language": "python",
   "name": "python3"
  },
  "language_info": {
   "codemirror_mode": {
    "name": "ipython",
    "version": 3
   },
   "file_extension": ".py",
   "mimetype": "text/x-python",
   "name": "python",
   "nbconvert_exporter": "python",
   "pygments_lexer": "ipython3",
   "version": "3.5.2"
  }
 },
 "nbformat": 4,
 "nbformat_minor": 0
}
