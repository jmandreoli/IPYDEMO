{
 "cells": [
  {
   "cell_type": "markdown",
   "metadata": {},
   "source": [
    "# N-body system\n",
    "\n",
    "Consider a system of $N$ bodies under gravitational attraction. The masses are $(m_i)_{i\\in I}$ and the gravitational constant is $\\mathcal{G}$. The problem is to study and represent the motion of this system.\n",
    "\n",
    "We use standard (Euclidian) coordinates $(x_{id})_{i\\in I,d\\in D}$ in some arbitrary inertial frame of reference.\n",
    "\n",
    "The equations of the dynamics are given by:\n",
    "\n",
    "\\begin{equation*}\n",
    "\\ddot{x}_i = \\sum_{j\\not=i} \\mathcal{G}m_j\\|x_j-x_i\\|^{-3}(x_j-x_i)\n",
    "\\end{equation*}"
   ]
  },
  {
   "cell_type": "code",
   "execution_count": 1,
   "metadata": {},
   "outputs": [],
   "source": [
    "import logging\n",
    "from myutil.simpy import SimpySimulation\n",
    "from ipyshow.odesimu import System"
   ]
  },
  {
   "cell_type": "code",
   "execution_count": 2,
   "metadata": {},
   "outputs": [],
   "source": [
    "#----------------------------------------------------------------------------------------------------\n",
    "class GNbody (System):\n",
    "#----------------------------------------------------------------------------------------------------\n",
    "\n",
    "  def __init__(self,*ML,G=1.,D=2):\n",
    "    r\"\"\"\n",
    "Args:\n",
    "  ML (float): list of masses of the bodies [kg]\n",
    "  G (float): gravitational constant [m^3.kg^-1.sec^-2]\n",
    "  D (float): dimension of the Euclidian space\n",
    "    \"\"\"\n",
    "    self.ML,self.G,self.D = ML,G,D\n",
    "    self.N = N = len(ML); self.size = size = 2*N*D\n",
    "    MG = G*array(ML)[None,:,None]\n",
    "    def fun(t,state,_ID=eye(N)[...,None]): # _ID used only to avoid error on diagonal when raising to power -1.5\n",
    "      X,Xʹ = state.reshape((2,N,D))\n",
    "      Δ = X[None,:,:]-X[:,None,:]\n",
    "      Xʺ = sum((MG*(_ID+sum(square(Δ),axis=-1,keepdims=True))**-1.5)*Δ,axis=1)\n",
    "      return stack((Xʹ,Xʺ),axis=0).reshape(size)\n",
    "    self.fun = fun\n",
    "    def cartesian(state):\n",
    "      return state.reshape((2,N,D,*state.shape[1:]))[0,:,:2]\n",
    "    self.cartesian = cartesian\n",
    "\n",
    "  def displayer(self,env,ax,refsize=50.,**ka):\n",
    "    r\"\"\"\n",
    "Args:\n",
    "  refsize (int): reference dimension for the masses [pt^2]\n",
    "    \"\"\"\n",
    "    a_masses = ax.scatter((),(),s=refsize,marker='o',c='b')\n",
    "    a_tails = ax.plot(*(self.N*((),(),'y')))\n",
    "    ax.set_title('trajectory:?',fontsize='x-small')\n",
    "    def disp():\n",
    "      a_masses.set_offsets(self.cartesian(env.state))\n",
    "      for t_l,xy in zip(a_tails,self.cartesian(env.cached_states)): t_l.set_data(xy)\n",
    "      ax.relim()\n",
    "      ax.autoscale_view()\n",
    "    return disp\n",
    "\n",
    "  def makestate(self,*xdxL):\n",
    "    r\"\"\"\n",
    "Args:\n",
    "  xdxL (Sequence[Tuple[float,...]]): list of tuples of length 2D with position and speed\n",
    "    \"\"\"\n",
    "    return swapaxes(array([(xdx[:self.D],xdx[self.D:]) for xdx in xdxL]),0,1).reshape(self.size)\n",
    "\n",
    "  launch_defaults = dict(period=10.,cache=(50,.05),max_step=.05)"
   ]
  },
  {
   "cell_type": "code",
   "execution_count": 3,
   "metadata": {},
   "outputs": [
    {
     "name": "stdout",
     "output_type": "stream",
     "text": [
      "Populating the interactive namespace from numpy and matplotlib\n"
     ]
    }
   ],
   "source": [
    "#%pylab widget\n",
    "%pylab qt5"
   ]
  },
  {
   "cell_type": "code",
   "execution_count": 4,
   "metadata": {},
   "outputs": [
    {
     "name": "stderr",
     "output_type": "stream",
     "text": [
      "/local/tools/anaconda/202011/lib/python3.8/site-packages/scipy/integrate/_ivp/common.py:39: UserWarning: The following arguments have no effect for a chosen solver: `jac`.\n",
      "  warn(\"The following arguments have no effect for a chosen solver: {}.\"\n"
     ]
    }
   ],
   "source": [
    "syst = GNbody(10,10,10,10)\n",
    "v = 1; u = 4; a = -pi/12; d = 0.\n",
    "#v = 1; u = 4; a = pi/4; d = 0. # collision!\n",
    "#v = 1; u = 4; a = -pi/12; d = .005\n",
    "ini = (\n",
    "  (-u,-u,v*cos(a),v*sin(a)),\n",
    "  (u,-u,-v*sin(a),v*cos(a)),\n",
    "  (u,u,-v*cos(a),-v*sin(a)),\n",
    "  (-u,u,v*sin(a),d-v*cos(a)),\n",
    ")\n",
    "\n",
    "SimpySimulation(\n",
    "  syst.launch(init_y=ini),\n",
    "  play_kw=dict(frame_per_stu=25,track=60.),\n",
    ")"
   ]
  },
  {
   "cell_type": "code",
   "execution_count": null,
   "metadata": {},
   "outputs": [],
   "source": []
  }
 ],
 "metadata": {
  "anaconda-cloud": {},
  "kernelspec": {
   "display_name": "Python 3",
   "language": "python",
   "name": "python3"
  },
  "language_info": {
   "codemirror_mode": {
    "name": "ipython",
    "version": 3
   },
   "file_extension": ".py",
   "mimetype": "text/x-python",
   "name": "python",
   "nbconvert_exporter": "python",
   "pygments_lexer": "ipython3",
   "version": "3.9.4"
  },
  "varInspector": {
   "cols": {
    "lenName": 16,
    "lenType": 16,
    "lenVar": 40
   },
   "kernels_config": {
    "python": {
     "delete_cmd_postfix": "",
     "delete_cmd_prefix": "del ",
     "library": "var_list.py",
     "varRefreshCmd": "print(var_dic_list())"
    },
    "r": {
     "delete_cmd_postfix": ") ",
     "delete_cmd_prefix": "rm(",
     "library": "var_list.r",
     "varRefreshCmd": "cat(var_dic_list()) "
    }
   },
   "types_to_exclude": [
    "module",
    "function",
    "builtin_function_or_method",
    "instance",
    "_Feature"
   ],
   "window_display": false
  }
 },
 "nbformat": 4,
 "nbformat_minor": 4
}
