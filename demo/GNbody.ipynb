{
 "cells": [
  {
   "cell_type": "markdown",
   "metadata": {},
   "source": [
    "# N-body system\n",
    "\n",
    "Consider a system of $N$ bodies under gravitational attraction. The masses are $(m_i)_{i\\in I}$ and the gravitational constant is ${\\mathcal G}$. The problem is to study and represent the motion of this system.\n",
    "\n",
    "We use standard (Euclidian) coordinates $(x_i,y_i)_{i\\in I}$ in some arbitrary inertial frame of reference.\n",
    "\n",
    "The equations of the dynamics are given by:\n",
    "\n",
    "\\begin{equation*}\n",
    "\\left\\{\n",
    "\\begin{array}{rcl}\n",
    "\\ddot{x_i} & = &\n",
    "\\sum_{j\\not=i}{\\mathcal G}m_j((x_j-x_i)^2+(y_j-y_i)^2)^{-\\frac{3}{2}}(x_j-x_i)\n",
    "\\\\\n",
    "\\ddot{y_i} & = &\n",
    "\\sum_{j\\not=i}{\\mathcal G}m_j((x_j-x_i)^2+(y_j-y_i)^2)^{-\\frac{3}{2}}(y_j-y_i)\n",
    "\\end{array}\n",
    "\\right.\n",
    "\\end{equation*}\n",
    "\n",
    "Documentation: [here](../doc/_build/html/odesimu.html)"
   ]
  },
  {
   "cell_type": "code",
   "execution_count": 6,
   "metadata": {
    "collapsed": false
   },
   "outputs": [
    {
     "name": "stdout",
     "output_type": "stream",
     "text": [
      "Using matplotlib backend: MacOSX\n",
      "Populating the interactive namespace from numpy and matplotlib\n"
     ]
    }
   ],
   "source": [
    "%pylab \n",
    "\n",
    "import logging\n",
    "logger = logging.getLogger()\n",
    "\n",
    "from functools import partial\n",
    "from ipyshow.odesimu.system import System\n",
    "from ipyshow.odesimu.util import logger_hook"
   ]
  },
  {
   "cell_type": "code",
   "execution_count": 7,
   "metadata": {
    "collapsed": false
   },
   "outputs": [],
   "source": [
    "#----------------------------------------------------------------------------------------------------\n",
    "class GNbody (System):\n",
    "#----------------------------------------------------------------------------------------------------\n",
    "\n",
    "    def __init__(self,*ML,G=None):\n",
    "        \"\"\"\n",
    ":param G: gravitational constant in m^3.kg^-1.s^-2\n",
    ":param ML: list of mass of the bodies in kg\n",
    "        \"\"\"\n",
    "        self.ML,self.G = ML,G\n",
    "        N = len(ML)\n",
    "        MM = array(ML)*G\n",
    "        ID = eye(N,dtype=bool)\n",
    "        slices = slice(None,N),slice(N,2*N)\n",
    "        slicesd = slice(2*N,3*N),slice(3*N,None)\n",
    "        self.shadowshape = (N,2)\n",
    "        def main(t,state,a=zeros((2,N,N),dtype=float),b=zeros((1,N,N),dtype=float)):\n",
    "            r = state.copy()\n",
    "            for s,v,sd in zip(slices,a,slicesd):\n",
    "                z = state[s]\n",
    "                v[...] = z[newaxis,:]-z[:,newaxis]\n",
    "                r[s] = state[sd]\n",
    "            b = sum(square(a),axis=0,keepdims=True)\n",
    "            b *= sqrt(b)\n",
    "            b[0][ID] = 1.\n",
    "            a /= b\n",
    "            for s,v in zip(slicesd,a): dot(v,MM,r[s])\n",
    "            return r\n",
    "        self.main = main\n",
    "        def fordisplay(state):\n",
    "            x,y = (state[s] for s in slices)\n",
    "            live = tuple(zip(x,y))\n",
    "            return live, live\n",
    "        self.fordisplay = fordisplay\n",
    "\n",
    "    def display(self,ax,refsize=50.,**ka):\n",
    "        \"\"\"\n",
    ":param refsize: average size in points^2 of the masses\n",
    "        \"\"\"\n",
    "        diag_s = ax.scatter((),(),s=refsize,marker='o',c='b')\n",
    "        tails_l = tuple(ax.plot((),(),'y')[0] for m in self.ML)\n",
    "        ax.set_title('trajectory:?')\n",
    "        def disp(t,live,tail):\n",
    "            diag_s.set_offsets(live)\n",
    "            for t_l,xy in zip(tails_l,swapaxes(tail,0,1)): t_l.set_data(xy[:,0],xy[:,1])\n",
    "            ax.relim()\n",
    "            ax.autoscale_view()\n",
    "        return super(GNbody,self).display(ax,disp,**ka)\n",
    "\n",
    "    def makestate(self,*xydxdys):\n",
    "        assert len(xydxdys)==len(self.ML)\n",
    "        for u in xydxdys: assert len(u)==4\n",
    "        return array([u[i] for i in range(4) for u in xydxdys])\n",
    "\n",
    "    launchdefaults = dict(\n",
    "        maxtime=infty,\n",
    "        srate=25.,\n",
    "        taild=10,\n",
    "        hooks=(partial(logger_hook,logger=logger),),\n",
    "        animate=dict(repeat=False,),\n",
    "    )"
   ]
  },
  {
   "cell_type": "markdown",
   "metadata": {},
   "source": [
    "Launcher\n",
    "--------\n",
    "\n",
    "System parameters:\n",
    "\n",
    "* `*` (arg list): masses of the bodies (in kg)\n",
    "* `G`: gravitational constant (in m$^3$.kg$^{-1}$.sec$^{-2}$)\n",
    "\n",
    "Launch parameters:\n",
    "\n",
    "* `ini/*` (arg list): initial list of quadruples ($x$-position, $y$-pos, $x$-speed, $y$-speed), one for each body (in m, m, m.sec$^{-1}$, m.sec$^{-1}$)\n",
    "* `srate`: simulation rate (in frames.sec$^{-1}$)\n",
    "* `taild`: duration of shadow, ie. trace of previous states (in sec)\n",
    "* `hooks`: list of display hooks (see doc)"
   ]
  },
  {
   "cell_type": "code",
   "execution_count": 8,
   "metadata": {
    "collapsed": false
   },
   "outputs": [
    {
     "data": {
      "text/plain": [
       "<matplotlib.animation.FuncAnimation at 0x116fc29e8>"
      ]
     },
     "execution_count": 8,
     "metadata": {},
     "output_type": "execute_result"
    }
   ],
   "source": [
    "logger.setLevel(logging.WARN) # can be changed dynamically by logger_hook\n",
    "syst = GNbody(10,10,10,10,G=1)\n",
    "#v = 1; u = 4; a = -pi/12; d = 0.\n",
    "v = 1; u = 4; a = -pi/12; d = .005\n",
    "syst.launch(ini=syst.makestate(\n",
    "    (-u,-u,v*cos(a),v*sin(a)),\n",
    "    (u,-u,-v*sin(a),v*cos(a)),\n",
    "    (u,u,-v*cos(a),-v*sin(a)),\n",
    "    (-u,u,v*sin(a),d-v*cos(a)),\n",
    "    )\n",
    ")"
   ]
  },
  {
   "cell_type": "code",
   "execution_count": null,
   "metadata": {
    "collapsed": true
   },
   "outputs": [],
   "source": []
  }
 ],
 "metadata": {
  "kernelspec": {
   "display_name": "Python 3",
   "language": "python",
   "name": "python3"
  },
  "language_info": {
   "codemirror_mode": {
    "name": "ipython",
    "version": 3
   },
   "file_extension": ".py",
   "mimetype": "text/x-python",
   "name": "python",
   "nbconvert_exporter": "python",
   "pygments_lexer": "ipython3",
   "version": "3.5.1"
  }
 },
 "nbformat": 4,
 "nbformat_minor": 0
}
