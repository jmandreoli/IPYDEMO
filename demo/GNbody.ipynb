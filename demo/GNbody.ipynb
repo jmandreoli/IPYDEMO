{
 "cells": [
  {
   "cell_type": "markdown",
   "metadata": {},
   "source": [
    "# N-body system\n",
    "\n",
    "Consider a system of $N$ bodies under gravitational attraction. The masses are $(m_i)_{i\\in I}$ and the gravitational constant is ${\\mathcal G}$. The problem is to study and represent the motion of this system.\n",
    "\n",
    "We use standard (Euclidian) coordinates $(x_i,y_i)_{i\\in I}$ in some arbitrary inertial frame of reference.\n",
    "\n",
    "The equations of the dynamics are given by:\n",
    "\n",
    "\\begin{equation*}\n",
    "\\left\\{\n",
    "\\begin{array}{rcl}\n",
    "\\ddot{x_i} & = &\n",
    "\\sum_{j\\not=i}{\\mathcal G}m_j((x_j-x_i)^2+(y_j-y_i)^2)^{-\\frac{3}{2}}(x_j-x_i)\n",
    "\\\\\n",
    "\\ddot{y_i} & = &\n",
    "\\sum_{j\\not=i}{\\mathcal G}m_j((x_j-x_i)^2+(y_j-y_i)^2)^{-\\frac{3}{2}}(y_j-y_i)\n",
    "\\end{array}\n",
    "\\right.\n",
    "\\end{equation*}\n",
    "\n",
    "Documentation: [here](../doc/_build/html/odesimu.html)"
   ]
  },
  {
   "cell_type": "code",
   "execution_count": 1,
   "metadata": {
    "collapsed": false
   },
   "outputs": [
    {
     "name": "stdout",
     "output_type": "stream",
     "text": [
      "Using matplotlib backend: Qt4Agg\n",
      "Populating the interactive namespace from numpy and matplotlib\n"
     ]
    }
   ],
   "source": [
    "%pylab \n",
    "\n",
    "import logging\n",
    "logger = logging.getLogger()\n",
    "\n",
    "from functools import partial\n",
    "from ipyshow.odesimu.system import System\n",
    "from ipyshow.odesimu.util import logger_hook"
   ]
  },
  {
   "cell_type": "code",
   "execution_count": 2,
   "metadata": {
    "collapsed": false
   },
   "outputs": [],
   "source": [
    "#----------------------------------------------------------------------------------------------------\n",
    "class GNbody (System):\n",
    "#----------------------------------------------------------------------------------------------------\n",
    "\n",
    "    def __init__(self,*ML,G=None):\n",
    "        self.ML,self.G = ML,G\n",
    "        N = len(ML)\n",
    "        MM = array(ML)*G\n",
    "        ID = eye(N,dtype=bool)\n",
    "        slices = slice(None,N),slice(N,2*N)\n",
    "        slicesd = slice(2*N,3*N),slice(3*N,None)\n",
    "        self.shadowshape = (N,2)\n",
    "        def main(t,state,a=zeros((2,N,N),dtype=float),b=zeros((1,N,N),dtype=float)):\n",
    "            r = state.copy()\n",
    "            for s,v,sd in zip(slices,a,slicesd):\n",
    "                z = state[s]\n",
    "                v[...] = z[newaxis,:]-z[:,newaxis]\n",
    "                r[s] = state[sd]\n",
    "            b = sum(square(a),axis=0,keepdims=True)\n",
    "            b *= sqrt(b)\n",
    "            b[0][ID] = 1.\n",
    "            a /= b\n",
    "            for s,v in zip(slicesd,a): dot(v,MM,r[s])\n",
    "            return r\n",
    "        self.main = main\n",
    "        def fordisplay(state):\n",
    "            x,y = (state[s] for s in slices)\n",
    "            live = tuple(zip(x,y))\n",
    "            return live, live\n",
    "        self.fordisplay = fordisplay\n",
    "\n",
    "    Help = '''\n",
    "        /G [m^3.kg^-1.sec^-2]: gravitational constant\n",
    "        /*ML [kg]: list of mass of the bodies\n",
    "    '''\n",
    "\n",
    "    def display(self,ax,refsize=50.,**ka):\n",
    "        diag_s = ax.scatter((),(),s=refsize,marker='o',c='b')\n",
    "        tails_l = tuple(ax.plot((),(),'y')[0] for m in self.ML)\n",
    "        ax.set_title('trajectory:?')\n",
    "        def disp(t,live,tail):\n",
    "            diag_s.set_offsets(live)\n",
    "            for t_l,xy in zip(tails_l,swapaxes(tail,0,1)): t_l.set_data(xy[:,0],xy[:,1])\n",
    "            ax.relim()\n",
    "            ax.autoscale_view()\n",
    "        return super().display(ax,disp,**ka)\n",
    "\n",
    "    def makestate(self,*xydxdyL):\n",
    "        assert len(xydxdyL)==len(self.ML)\n",
    "        for u in xydxdyL: assert len(u)==4\n",
    "        return concatenate(list(zip(*xydxdyL)))\n",
    "\n",
    "    Help += '''\n",
    "        makestate/*xydxdyL: list of quadruples, one for each body, setting position and speed\n",
    "        launch/refsize [pt^2]: average size (area) of the bodies, for display\n",
    "    '''\n",
    "\n",
    "    launchdefaults = System.launchdefaults.copy()\n",
    "    launchdefaults.update(\n",
    "        taild=10,\n",
    "        hooks=(partial(logger_hook,logger=logger),),\n",
    "    )\n",
    "    \n",
    "    Help += System.Help"
   ]
  },
  {
   "cell_type": "code",
   "execution_count": 3,
   "metadata": {
    "collapsed": false
   },
   "outputs": [
    {
     "data": {
      "text/html": [
       "<table style=\"background-color: white; color: black;\"><tbody><tr style=\"background-color: gray; color: white;\"><th colspan=\"3\">__main__.GNbody</th></tr><tr><th>G</th><td>m<sup>3</sup>.kg<sup>-1</sup>.sec<sup>-2</sup></td><td>gravitational constant</td></tr><tr><th>*ML</th><td>kg</td><td>list of mass of the bodies</td></tr><tr style=\"background-color: gray; color: white;\"><th colspan=\"3\">__main__.GNbody:makestate</th></tr><tr><th>*xydxdyL</th><td></td><td>list of quadruples, one for each body, setting position and speed</td></tr><tr style=\"background-color: gray; color: white;\"><th colspan=\"3\">__main__.GNbody:launch</th></tr><tr><th>refsize</th><td>pt<sup>2</sup></td><td>average size (area) of the bodies, for display</td></tr><tr><th>ini</th><td></td><td>initial state</td></tr><tr><th>taild</th><td>sec</td><td>shadow duration</td></tr><tr><th>srate</th><td>sec<sup>-1</sup></td><td>sampling rate</td></tr><tr><th>hooks</th><td></td><td>list of display hooks,</td></tr><tr><th>maxtime</th><td>sec</td><td>simulation time</td></tr></tbody></table>"
      ],
      "text/latex": [
       "\\begin{itemize}\n",
       "\\item \\_\\_main\\_\\_.GNbody\n",
       "\\begin{itemize}\n",
       "\\item G (m$^3$.kg$^-1$.sec$^-2$): gravitational constant\n",
       "\\item *ML (kg): list of mass of the bodies\n",
       "\\end{itemize}\n",
       "\\item \\_\\_main\\_\\_.GNbody:makestate\n",
       "\\begin{itemize}\n",
       "\\item *xydxdyL: list of quadruples, one for each body, setting position and speed\n",
       "\\end{itemize}\n",
       "\\item \\_\\_main\\_\\_.GNbody:launch\n",
       "\\begin{itemize}\n",
       "\\item refsize (pt$^2$): average size (area) of the bodies, for display\n",
       "\\item ini: initial state\n",
       "\\item taild (sec): shadow duration\n",
       "\\item srate (sec$^-1$): sampling rate\n",
       "\\item hooks: list of display hooks,\n",
       "\\item maxtime (sec): simulation time\n",
       "\\end{itemize}\n",
       "\\end{itemize}"
      ],
      "text/plain": [
       "<ipyshow.util.multidisp at 0x7f95432b4d68>"
      ]
     },
     "execution_count": 3,
     "metadata": {},
     "output_type": "execute_result"
    }
   ],
   "source": [
    "GNbody.helper()"
   ]
  },
  {
   "cell_type": "code",
   "execution_count": 4,
   "metadata": {
    "collapsed": false
   },
   "outputs": [
    {
     "data": {
      "text/plain": [
       "<matplotlib.animation.FuncAnimation at 0x7f953fbc26a0>"
      ]
     },
     "execution_count": 4,
     "metadata": {},
     "output_type": "execute_result"
    }
   ],
   "source": [
    "logger.setLevel(logging.WARN) # can be changed dynamically by logger_hook\n",
    "syst = GNbody(10,10,10,10,G=1)\n",
    "#v = 1; u = 4; a = -pi/12; d = 0.\n",
    "v = 1; u = 4; a = -pi/12; d = .005\n",
    "syst.launch(ini=syst.makestate(\n",
    "    (-u,-u,v*cos(a),v*sin(a)),\n",
    "    (u,-u,-v*sin(a),v*cos(a)),\n",
    "    (u,u,-v*cos(a),-v*sin(a)),\n",
    "    (-u,u,v*sin(a),d-v*cos(a)),\n",
    "    )\n",
    ")"
   ]
  },
  {
   "cell_type": "code",
   "execution_count": null,
   "metadata": {
    "collapsed": true
   },
   "outputs": [],
   "source": []
  }
 ],
 "metadata": {
  "anaconda-cloud": {},
  "kernelspec": {
   "display_name": "Python [default]",
   "language": "python",
   "name": "python3"
  },
  "language_info": {
   "codemirror_mode": {
    "name": "ipython",
    "version": 3
   },
   "file_extension": ".py",
   "mimetype": "text/x-python",
   "name": "python",
   "nbconvert_exporter": "python",
   "pygments_lexer": "ipython3",
   "version": "3.5.2"
  }
 },
 "nbformat": 4,
 "nbformat_minor": 0
}
