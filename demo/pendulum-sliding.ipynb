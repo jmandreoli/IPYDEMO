{
 "cells": [
  {
   "cell_type": "markdown",
   "metadata": {},
   "source": [
    "# Sliding pendulum system, with control\n",
    "\n",
    "<img align=\"right\" width=\"150\" src=\"pendulum-sliding.png\">\n",
    "\n",
    "Consider the system composed of a simple pendulum of length $l$ and mass $m$ concentrated at its bob. The pivot of the pendulum is attached to a chariot of mass $m_o$ concentrated at its centre, sliding along a horizontal rail and submitted to a uniform lateral control force field $\\zeta$, possibly depending on time. The system is submitted to a uniform, constant gravitational acceleration field $g$ and moves without friction.\n",
    "\n",
    "The generalised coordinate of the system is the position $x$ of the pivot on the rail and angle $\\theta$ of the pendulum with the downward vertical direction. The standard (Cartesian) coordinates of the bob are given by\n",
    "$$\n",
    "x_b = x+l\\sin\\theta\n",
    "\\hspace{2cm}\n",
    "y_b = -l\\cos\\theta\n",
    "$$\n",
    "\n",
    "The active forces are weight on the bob ($V_{(b)}=mgy$) and control on the pivot ($V_{(p)}=-\\zeta x$). Hence the Lagrangian\n",
    "$$\n",
    "\\begin{align*}\n",
    "\\mathcal{L} & = & \\frac{1}{2}(m_o\\dot{x}^2+m(\\dot{x}^2+l^2\\dot{\\theta}^2+2l\\dot{x}\\dot{\\theta}\\cos\\theta))+\\zeta x+mgl\\cos\\theta\\\\\n",
    "& = & \\frac{1}{2}(m_o+m)\\dot{x}^2+\\frac{1}{2}m l^2\\dot{\\theta}^2+ml\\dot{x}\\dot{\\theta}\\cos\\theta+\\zeta x+mgl\\cos\\theta\n",
    "\\end{align*}\n",
    "$$\n",
    "\n",
    "The equations of the dynamics are given by:\n",
    "$$\n",
    "\\begin{array}{rrcl}\n",
    "\\left[\\frac{\\mathbf{d}}{\\mathbf{d}t}\\frac{\\partial\\mathcal{L}}{\\partial\\dot{x}} = \\frac{\\partial\\mathcal{L}}{\\partial x}\\right]\n",
    "\\hspace{1cm} &\n",
    "(m_o+m)\\ddot{x}+ml\\ddot{\\theta}\\cos\\theta & = & \\zeta+ml\\dot{\\theta}^2\\sin\\theta\n",
    "\\\\\n",
    "\\left[\\frac{\\mathbf{d}}{\\mathbf{d}t}\\frac{\\partial\\mathcal{L}}{\\partial\\dot{\\theta}} = \\frac{\\partial\\mathcal{L}}{\\partial\\theta}\\right]\n",
    "\\hspace{1cm} &\n",
    "\\ddot{x}\\cos\\theta+l\\ddot{\\theta} & = & -g\\sin\\theta\n",
    "\\end{array}\n",
    "$$\n",
    "which can be rewritten as\n",
    "$$\n",
    "\\left\\{\n",
    "\\begin{array}{rcl}\n",
    "a\\ddot{x}+l\\ddot{\\theta}\\cos\\theta & = & u\n",
    "\\\\\n",
    "\\ddot{x}\\cos\\theta+l\\ddot{\\theta} & = & v\n",
    "\\end{array}\n",
    "\\right.\n",
    "\\hspace{1cm}\\textrm{where}\\hspace{1cm}\n",
    "\\left|\n",
    "\\begin{array}{l}\n",
    "a \\triangleq 1+\\frac{m_o}{m}\n",
    "\\\\\n",
    "u \\triangleq \\frac{\\zeta}{m}+l\\dot{\\theta}^2\\sin\\theta\n",
    "\\hspace{1cm}\n",
    "v \\triangleq -g\\sin\\theta\n",
    "\\end{array}\n",
    "\\right.\n",
    "$$\n",
    "\n",
    "The solution in $\\ddot{x},\\ddot{\\theta}$ is therefore\n",
    "$$\n",
    "\\left\\{\n",
    "\\begin{array}{rcl}\n",
    "\\ddot{x} & = &\n",
    "\\frac{u-v\\cos\\theta}{a-\\cos^2\\theta}\n",
    "\\\\\n",
    "\\ddot{\\theta} & = &\n",
    "\\frac{av-u\\cos\\theta}{l(a-\\cos^2\\theta)}\n",
    "\\end{array}\n",
    "\\right.\n",
    "$$"
   ]
  },
  {
   "cell_type": "code",
   "execution_count": 1,
   "metadata": {},
   "outputs": [],
   "source": [
    "import logging; logging.basicConfig(level=logging.WARNING); logging.captureWarnings(True)\n",
    "from numpy import sin,cos,pi,square,sqrt,clip,array,radians,degrees\n",
    "from ipyshow.odesimu import ODESystem\n",
    "from ipyshow.odesimu.util import PIDControlledMixin"
   ]
  },
  {
   "cell_type": "markdown",
   "metadata": {},
   "source": [
    "## ControlledPendulum class"
   ]
  },
  {
   "cell_type": "code",
   "execution_count": 2,
   "metadata": {},
   "outputs": [],
   "source": [
    "#----------------------------------------------------------------------------------------------------\n",
    "class ControlledPendulum (ODESystem):\n",
    "#----------------------------------------------------------------------------------------------------\n",
    "\n",
    "  def __init__(self,control,Mo,M,L,G):\n",
    "    r\"\"\"\n",
    "Args:\n",
    "  Mo,M (float): mass of the chariot and the bob [kg]\n",
    "  L (float): length of pendulum [m]\n",
    "  G (float): intensity of the gravity [m.sec^-2]\n",
    "  control (Callable[[float],float]): (lateral) control force field (instance of Controller class)\n",
    "    \"\"\"\n",
    "    self.Mo, self.M, self.L, self.G = Mo, M, L, G\n",
    "    self.control = control\n",
    "    def fun(t,state,a=1+Mo/M):\n",
    "      x,θ,xʹ,θʹ = state\n",
    "      sinθ, cosθ = sin(θ), cos(θ)\n",
    "      u = control(t)[0]/M+L*square(θʹ)*sinθ\n",
    "      v = -G*sinθ\n",
    "      D = a-square(cosθ)\n",
    "      xʺ = (u-v*cosθ)/D\n",
    "      θʺ = (a*v-u*cosθ)/(L*D)\n",
    "      return array((xʹ,θʹ,xʺ,θʺ))\n",
    "    self.fun = fun\n",
    "    def cartesian(state,a=1+Mo/M):\n",
    "      x,θ,xʹ,θʹ = state\n",
    "      return array((x,x+L*sin(θ),-L*cos(θ)))\n",
    "    self.cartesian = cartesian\n",
    "    super().__init__()\n",
    "\n",
    "  def displayer(self,trajectory,ax,refsize=80):\n",
    "    r\"\"\"\n",
    "Args:\n",
    "  refsize (int): reference dimension for the blobs [pt^2]\n",
    "    \"\"\"\n",
    "    Lx,Ly = 6*self.L,1.25*self.L\n",
    "    ax.set(xlim=(-Lx,Lx),ylim=(-Ly,Ly))\n",
    "    ax.set_title(r'cahotic',fontsize='x-small')\n",
    "    ax.axhline(0,c='k')\n",
    "    mo,m = self.Mo,self.M\n",
    "    r = clip(sqrt(mo/m),1./refsize,refsize)\n",
    "    sz = (refsize*r,refsize/r)\n",
    "    a_pole, = ax.plot((),(),'k')\n",
    "    a_masses = ax.scatter((0,0),(0,0),s=sz,marker='o',c=('b','r'))\n",
    "    a_tail, = ax.plot((),(),'y')\n",
    "    def disp(t,Lx2=2*Lx):\n",
    "      x,xb,yb = self.cartesian(trajectory.state(t))\n",
    "      a_pole.set_data((x,xb),(0,yb))\n",
    "      a_masses.set_offsets(((x,0),(xb,yb),))\n",
    "      a_tail.set_data(*self.cartesian(trajectory.cached(t))[1:])\n",
    "      xr = ((x-Lx)//Lx2)*Lx2+Lx2\n",
    "      ax.set(xlim=(xr-Lx,xr+Lx))\n",
    "    return disp\n",
    "\n",
    "  @staticmethod\n",
    "  def makestate(x=0.,θ=0.,xʹ=0.,θʹ=0.):\n",
    "    r\"\"\"\n",
    "Args:\n",
    "  x (float): position of the pivot [m]\n",
    "  xʹ (float): speed of the pivot [m.sec^-1]\n",
    "  θ (float): angle of the pendulum with downward vertical [deg]\n",
    "  θʹ (float): angular speed of pendulum [deg.sec^-1]\n",
    "    \"\"\"\n",
    "    return array((x,radians(θ),xʹ,radians(θʹ)))\n",
    "\n",
    "  trajectory_defaults = {'period':10.,'cache_spec':(140,.05),'max_step':.05}\n",
    "\n",
    "class PIDControlledPendulum (PIDControlledMixin,ControlledPendulum):\n",
    "  trajectory_defaults = ControlledPendulum.trajectory_defaults|{'period':.1,'method':'DOP853'}\n",
    "  @staticmethod\n",
    "  def pos(x): return x[0],0\n",
    "  @staticmethod\n",
    "  def gap(o,state): return o-state[0]"
   ]
  },
  {
   "cell_type": "code",
   "execution_count": 3,
   "metadata": {},
   "outputs": [
    {
     "data": {
      "application/vnd.jupyter.widget-view+json": {
       "model_id": "367e5ea88d604cc5a13334c8a384f0a0",
       "version_major": 2,
       "version_minor": 0
      },
      "text/plain": [
       "IPYControlledAnimation(children=(VBox(children=(HBox(children=(SimpleButton(icon='close', layout=Layout(paddin…"
      ]
     },
     "execution_count": 3,
     "metadata": {},
     "output_type": "execute_result"
    },
    {
     "data": {
      "application/vnd.jupyter.widget-view+json": {
       "model_id": "0fc0eaa2d5324dc3b88a420f89166ea0",
       "version_major": 2,
       "version_minor": 0
      },
      "image/png": "[encoded data removed]",
      "text/html": [
       "\n",
       "            <div style=\"display: inline-block;\">\n",
       "                <div class=\"jupyter-widgets widget-label\" style=\"text-align: center;\">\n",
       "                    Figure\n",
       "                </div>\n",
       "                <img src='data:image/png;base64,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' width=900.0/>\n",
       "            </div>\n",
       "        "
      ],
      "text/plain": [
       "Canvas(toolbar=Toolbar(toolitems=[('Home', 'Reset original view', 'home', 'home'), ('Back', 'Back to previous …"
      ]
     },
     "metadata": {},
     "output_type": "display_data"
    }
   ],
   "source": [
    "%matplotlib widget\n",
    "#%matplotlib qt6\n",
    "\n",
    "from ipyshow.odesimu.util import buffered\n",
    "from functools import partial\n",
    "class Target:\n",
    "  period = 4\n",
    "  @staticmethod\n",
    "  def sinf(t,R=1.,D=0.,omega=2*pi/period):\n",
    "    p = omega*t\n",
    "    return R*sin(p)+D*t\n",
    "  @staticmethod\n",
    "  def sinsinf(t,R=1.,k=3.,D=0.,omega=2*pi/period):\n",
    "    p = omega*t\n",
    "    return R*sin(p)*sin(p/k)+D*t\n",
    "  @staticmethod\n",
    "  def fixed(t): return 0.,\n",
    "  @staticmethod\n",
    "  def buffered(f,_B=buffered(T=period,N=int(100*period)),*a,**ka): return _B(partial(f,*a,**ka))\n",
    "  control = dict(\n",
    "    N=2,\n",
    "    gP=30.,\n",
    "    #gP=.5,\n",
    "    gI=10.,\n",
    "    gD=20.,\n",
    "    #gD=7.,\n",
    "    #blur=.05,\n",
    "  )\n",
    "\n",
    "direct_control = (lambda t,A=5.,ω=.5,s=array((1.,0.)): A*(s if ω*t%2<.5 else -s))\n",
    "\n",
    "#target = Target.buffered(Target.sinf,R=4.)\n",
    "#target = Target.buffered(Target.sinsinf,R=4.,k=5.5)\n",
    "target = Target.buffered(Target.sinsinf,R=4.,D=.5)\n",
    "#target = Target.fixed\n",
    "\n",
    "ini = dict(θ=179.)\n",
    "#ini = dict(θ=-90.,θʹ=0.)\n",
    "#ini = dict(θ=90.,θʹ=181)\n",
    "#ini = dict(θ=179.)\n",
    "#ini = dict(θ=90.,θʹ=degrees(sqrt(9.81))) # should be aperiodic, but appears periodic due to numerical errors\n",
    "\n",
    "syst = PIDControlledPendulum(Target.control,target,Mo=2,M=1,L=2,G=9.81)\n",
    "#syst = ControlledPendulum(direct_control,Mo=2,M=1,L=2,G=9.81)\n",
    "\n",
    "R = syst.simulation(init_y=ini)\n",
    "R.play(frame_per_stu=25,track_spec=60.,fig_kw={'figsize':(9,3)})"
   ]
  },
  {
   "cell_type": "code",
   "execution_count": null,
   "metadata": {},
   "outputs": [],
   "source": []
  }
 ],
 "metadata": {
  "anaconda-cloud": {},
  "kernelspec": {
   "display_name": "Python 3 (ipykernel)",
   "language": "python",
   "name": "python3"
  },
  "language_info": {
   "codemirror_mode": {
    "name": "ipython",
    "version": 3
   },
   "file_extension": ".py",
   "mimetype": "text/x-python",
   "name": "python",
   "nbconvert_exporter": "python",
   "pygments_lexer": "ipython3",
   "version": "3.12.8"
  },
  "varInspector": {
   "cols": {
    "lenName": 16,
    "lenType": 16,
    "lenVar": 40
   },
   "kernels_config": {
    "python": {
     "delete_cmd_postfix": "",
     "delete_cmd_prefix": "del ",
     "library": "var_list.py",
     "varRefreshCmd": "print(var_dic_list())"
    },
    "r": {
     "delete_cmd_postfix": ") ",
     "delete_cmd_prefix": "rm(",
     "library": "var_list.r",
     "varRefreshCmd": "cat(var_dic_list()) "
    }
   },
   "types_to_exclude": [
    "module",
    "function",
    "builtin_function_or_method",
    "instance",
    "_Feature"
   ],
   "window_display": false
  }
 },
 "nbformat": 4,
 "nbformat_minor": 4
}
