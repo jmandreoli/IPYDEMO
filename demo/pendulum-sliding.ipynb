{
 "cells": [
  {
   "cell_type": "markdown",
   "metadata": {},
   "source": [
    "# Sliding pendulum system, with control\n",
    "\n",
    "<img align=\"right\" width=\"150\" src=\"pendulum-sliding.png\">\n",
    "\n",
    "Consider the system composed of a simple pendulum of length $l$ and mass $m$ concentrated at its bob. The pivot of the pendulum is attached to a chariot of mass $m_o$ concentrated at its centre, sliding along a horizontal rail and submitted to a uniform lateral control force field $\\zeta$, possibly depending on time. The system is submitted to a uniform, constant gravitational acceleration field $g$ and moves without friction.\n",
    "\n",
    "The generalised coordinate of the system is the position $x$ of the pivot on the rail and angle $\\theta$ of the pendulum with the downward vertical direction. The standard (Cartesian) coordinates of the bob are given by\n",
    "$$\n",
    "x_b = x+l\\sin\\theta\n",
    "\\hspace{2cm}\n",
    "y_b = -l\\cos\\theta\n",
    "$$\n",
    "\n",
    "The active forces are weight on the bob ($V_{(b)}=mgy$) and control on the pivot ($V_{(p)}=-\\zeta x$). Hence the Lagrangian\n",
    "$$\n",
    "\\begin{align*}\n",
    "\\mathcal{L} & = & \\frac{1}{2}(m_o\\dot{x}^2+m(\\dot{x}^2+l^2\\dot{\\theta}^2+2l\\dot{x}\\dot{\\theta}\\cos\\theta))+\\zeta x+mgl\\cos\\theta\\\\\n",
    "& = & \\frac{1}{2}(m_o+m)\\dot{x}^2+\\frac{1}{2}m l^2\\dot{\\theta}^2+ml\\dot{x}\\dot{\\theta}\\cos\\theta+\\zeta x+mgl\\cos\\theta\n",
    "\\end{align*}\n",
    "$$\n",
    "\n",
    "The equations of the dynamics are given by:\n",
    "$$\n",
    "\\begin{array}{rrcl}\n",
    "\\left[\\frac{\\mathbf{d}}{\\mathbf{d}t}\\frac{\\partial\\mathcal{L}}{\\partial\\dot{x}} = \\frac{\\partial\\mathcal{L}}{\\partial x}\\right]\n",
    "\\hspace{1cm} &\n",
    "(m_o+m)\\ddot{x}+ml\\ddot{\\theta}\\cos\\theta & = & \\zeta+ml\\dot{\\theta}^2\\sin\\theta\n",
    "\\\\\n",
    "\\left[\\frac{\\mathbf{d}}{\\mathbf{d}t}\\frac{\\partial\\mathcal{L}}{\\partial\\dot{\\theta}} = \\frac{\\partial\\mathcal{L}}{\\partial\\theta}\\right]\n",
    "\\hspace{1cm} &\n",
    "\\ddot{x}\\cos\\theta+l\\ddot{\\theta} & = & -g\\sin\\theta\n",
    "\\end{array}\n",
    "$$\n",
    "which can be rewritten as\n",
    "$$\n",
    "\\left\\{\n",
    "\\begin{array}{rcl}\n",
    "a\\ddot{x}+l\\ddot{\\theta}\\cos\\theta & = & u\n",
    "\\\\\n",
    "\\ddot{x}\\cos\\theta+l\\ddot{\\theta} & = & v\n",
    "\\end{array}\n",
    "\\right.\n",
    "\\hspace{1cm}\\textrm{where}\\hspace{1cm}\n",
    "\\left|\n",
    "\\begin{array}{l}\n",
    "a \\triangleq 1+\\frac{m_o}{m}\n",
    "\\\\\n",
    "u \\triangleq \\frac{\\zeta}{m}+l\\dot{\\theta}^2\\sin\\theta\n",
    "\\hspace{1cm}\n",
    "v \\triangleq -g\\sin\\theta\n",
    "\\end{array}\n",
    "\\right.\n",
    "$$\n",
    "\n",
    "The solution in $\\ddot{x},\\ddot{\\theta}$ is therefore\n",
    "$$\n",
    "\\left\\{\n",
    "\\begin{array}{rcl}\n",
    "\\ddot{x} & = &\n",
    "\\frac{u-v\\cos\\theta}{a-\\cos^2\\theta}\n",
    "\\\\\n",
    "\\ddot{\\theta} & = &\n",
    "\\frac{av-u\\cos\\theta}{l(a-\\cos^2\\theta)}\n",
    "\\end{array}\n",
    "\\right.\n",
    "$$"
   ]
  },
  {
   "cell_type": "code",
   "execution_count": 1,
   "metadata": {},
   "outputs": [],
   "source": [
    "import logging; logging.basicConfig(level=logging.WARNING); logging.captureWarnings(True)\n",
    "from numpy import sin,cos,pi,square,sqrt,clip,array,radians,degrees\n",
    "from ipyshow.odesimu import System\n",
    "from ipyshow.odesimu.util import PIDControlledMixin"
   ]
  },
  {
   "cell_type": "markdown",
   "metadata": {},
   "source": [
    "## ControlledPendulum class"
   ]
  },
  {
   "cell_type": "code",
   "execution_count": 2,
   "metadata": {},
   "outputs": [],
   "source": [
    "#----------------------------------------------------------------------------------------------------\n",
    "class ControlledPendulum (System):\n",
    "#----------------------------------------------------------------------------------------------------\n",
    "\n",
    "  def __init__(self,control,Mo,M,L,G):\n",
    "    r\"\"\"\n",
    "Args:\n",
    "  Mo,M (float): mass of the chariot and the bob [kg]\n",
    "  L (float): length of pendulum [m]\n",
    "  G (float): intensity of the gravity [m.sec^-2]\n",
    "  control (Callable[[float],float]): (lateral) control force field (instance of Controller class)\n",
    "    \"\"\"\n",
    "    self.Mo, self.M, self.L, self.G = Mo, M, L, G\n",
    "    self.control = control\n",
    "    def fun(t,state,a=1+Mo/M):\n",
    "      x,θ,xʹ,θʹ = state\n",
    "      sinθ, cosθ = sin(θ), cos(θ)\n",
    "      u = control(t)[0]/M+L*square(θʹ)*sinθ\n",
    "      v = -G*sinθ\n",
    "      D = a-square(cosθ)\n",
    "      xʺ = (u-v*cosθ)/D\n",
    "      θʺ = (a*v-u*cosθ)/(L*D)\n",
    "      return array((xʹ,θʹ,xʺ,θʺ))\n",
    "    self.fun = fun\n",
    "    def cartesian(state,a=1+Mo/M):\n",
    "      x,θ,xʹ,θʹ = state\n",
    "      return array((x,x+L*sin(θ),-L*cos(θ)))\n",
    "    self.cartesian = cartesian\n",
    "\n",
    "  def displayer(self,env,ax,refsize=80):\n",
    "    r\"\"\"\n",
    "Args:\n",
    "  refsize (int): reference dimension for the blobs [pt^2]\n",
    "    \"\"\"\n",
    "    Lx,Ly = 6*self.L,1.25*self.L\n",
    "    ax.set(xlim=(-Lx,Lx),ylim=(-Ly,Ly))\n",
    "    ax.set_title(r'trajectory:cahotic',fontsize='x-small')\n",
    "    ax.axhline(0,c='k')\n",
    "    mo,m = self.Mo,self.M\n",
    "    r = clip(sqrt(mo/m),1./refsize,refsize)\n",
    "    sz = (refsize*r,refsize/r)\n",
    "    a_pole, = ax.plot((),(),'k')\n",
    "    a_masses = ax.scatter((0,0),(0,0),s=sz,marker='o',c=('b','r'))\n",
    "    a_tail, = ax.plot((),(),'y')\n",
    "    def disp(Lx2=2*Lx):\n",
    "      x,xb,yb = self.cartesian(env.state)\n",
    "      a_pole.set_data((x,xb),(0,yb))\n",
    "      a_masses.set_offsets(((x,0),(xb,yb),))\n",
    "      a_tail.set_data(*self.cartesian(env.cached_states)[1:])\n",
    "      xr = ((x-Lx)//Lx2)*Lx2+Lx2\n",
    "      ax.set(xlim=(xr-Lx,xr+Lx))\n",
    "    return disp\n",
    "\n",
    "  @staticmethod\n",
    "  def makestate(x=0.,θ=0.,xʹ=0.,θʹ=0.):\n",
    "    r\"\"\"\n",
    "Args:\n",
    "  x (float): position of the pivot [m]\n",
    "  xʹ (float): speed of the pivot [m.sec^-1]\n",
    "  θ (float): angle of the pendulum with downward vertical [deg]\n",
    "  θʹ (float): angular speed of pendulum [deg.sec^-1]\n",
    "    \"\"\"\n",
    "    return array((x,radians(θ),xʹ,radians(θʹ)))\n",
    "\n",
    "  launch_defaults = dict(period=10.,cache=(140,.05),max_step=.05)\n",
    "\n",
    "class PIDControlledPendulum (PIDControlledMixin,ControlledPendulum):\n",
    "  launch_defaults = dict(ControlledPendulum.launch_defaults,period=.1,method='DOP853')\n",
    "  @staticmethod\n",
    "  def pos(x): return x[0],0\n",
    "  @staticmethod\n",
    "  def gap(o,state): return o-state[0]"
   ]
  },
  {
   "cell_type": "code",
   "execution_count": 3,
   "metadata": {},
   "outputs": [
    {
     "name": "stderr",
     "output_type": "stream",
     "text": [
      "qt.qpa.plugin: Could not find the Qt platform plugin \"wayland\" in \"\"\n"
     ]
    }
   ],
   "source": [
    "from myutil.simpy import SimpySimulation\n",
    "#%matplotlib widget\n",
    "%matplotlib qt6"
   ]
  },
  {
   "cell_type": "code",
   "execution_count": 4,
   "metadata": {},
   "outputs": [
    {
     "data": {
      "text/plain": [
       "<myutil.simpy.SimpySimulation at 0x7f91b32b3620>"
      ]
     },
     "execution_count": 4,
     "metadata": {},
     "output_type": "execute_result"
    },
    {
     "name": "stderr",
     "output_type": "stream",
     "text": [
      "WARNING:py.warnings:/storage/tools/anaconda/202501/lib/python3.12/site-packages/scipy/integrate/_ivp/rk.py:505: UserWarning: The following arguments have no effect for a chosen solver: `jac`.\n",
      "  super().__init__(fun, t0, y0, t_bound, max_step, rtol, atol,\n",
      "\n"
     ]
    }
   ],
   "source": [
    "from ipyshow.odesimu.util import buffered\n",
    "from functools import partial\n",
    "class Target:\n",
    "  period = 4\n",
    "  @staticmethod\n",
    "  def sinf(t,R=1.,D=0.,omega=2*pi/period):\n",
    "    p = omega*t\n",
    "    return R*sin(p)+D*t\n",
    "  @staticmethod\n",
    "  def sinsinf(t,R=1.,k=3.,D=0.,omega=2*pi/period):\n",
    "    p = omega*t\n",
    "    return R*sin(p)*sin(p/k)+D*t\n",
    "  @staticmethod\n",
    "  def fixed(t): return 0.,\n",
    "  @staticmethod\n",
    "  def buffered(f,_B=buffered(T=period,N=int(100*period)),*a,**ka): return _B(partial(f,*a,**ka))\n",
    "  control = dict(\n",
    "    N=2,\n",
    "    gP=30.,\n",
    "    #gP=.5,\n",
    "    gI=10.,\n",
    "    gD=20.,\n",
    "    #gD=7.,\n",
    "    #blur=.05,\n",
    "  )\n",
    "\n",
    "direct_control = (lambda t,A=5.,ω=.5,s=array((1.,0.)): A*(s if ω*t%2<.5 else -s))\n",
    "\n",
    "#target = Target.buffered(Target.sinf,R=4.)\n",
    "#target = Target.buffered(Target.sinsinf,R=4.,k=5.5)\n",
    "target = Target.buffered(Target.sinsinf,R=4.,D=.5)\n",
    "#target = Target.fixed\n",
    "\n",
    "ini = dict(θ=179.)\n",
    "#ini = dict(θ=-90.,θʹ=0.)\n",
    "#ini = dict(θ=90.,θʹ=181)\n",
    "#ini = dict(θ=179.)\n",
    "#ini = dict(θ=90.,θʹ=degrees(sqrt(9.81))) # should be aperiodic, but appears periodic due to numerical errors\n",
    "\n",
    "syst = PIDControlledPendulum(Target.control,target,Mo=2,M=1,L=2,G=9.81)\n",
    "#syst = ControlledPendulum(direct_control,Mo=2,M=1,L=2,G=9.81)\n",
    "SimpySimulation(\n",
    "  syst.launch(init_y=ini),\n",
    "  play_kw=dict(frame_per_stu=25,track=60.,fig_kw=dict(figsize=(9,3))),\n",
    ")"
   ]
  },
  {
   "cell_type": "code",
   "execution_count": null,
   "metadata": {},
   "outputs": [],
   "source": []
  }
 ],
 "metadata": {
  "anaconda-cloud": {},
  "kernelspec": {
   "display_name": "Python 3 (ipykernel)",
   "language": "python",
   "name": "python3"
  },
  "language_info": {
   "codemirror_mode": {
    "name": "ipython",
    "version": 3
   },
   "file_extension": ".py",
   "mimetype": "text/x-python",
   "name": "python",
   "nbconvert_exporter": "python",
   "pygments_lexer": "ipython3",
   "version": "3.12.8"
  },
  "varInspector": {
   "cols": {
    "lenName": 16,
    "lenType": 16,
    "lenVar": 40
   },
   "kernels_config": {
    "python": {
     "delete_cmd_postfix": "",
     "delete_cmd_prefix": "del ",
     "library": "var_list.py",
     "varRefreshCmd": "print(var_dic_list())"
    },
    "r": {
     "delete_cmd_postfix": ") ",
     "delete_cmd_prefix": "rm(",
     "library": "var_list.r",
     "varRefreshCmd": "cat(var_dic_list()) "
    }
   },
   "types_to_exclude": [
    "module",
    "function",
    "builtin_function_or_method",
    "instance",
    "_Feature"
   ],
   "window_display": false
  }
 },
 "nbformat": 4,
 "nbformat_minor": 4
}
