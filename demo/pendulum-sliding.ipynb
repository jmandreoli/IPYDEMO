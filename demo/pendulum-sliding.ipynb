{
 "cells": [
  {
   "cell_type": "markdown",
   "metadata": {},
   "source": [
    "# Sliding pendulum system, with control\n",
    "\n",
    "<img align=\"right\" width=\"150\" src=\"pendulum-sliding.png\">\n",
    "\n",
    "Consider the system composed of a simple pendulum of length $l$ and mass $m$ concentrated at its bob. The pivot of the pendulum is attached to a chariot of mass $m_o$ concentrated at its centre, sliding along a horizontal rail and submitted to a uniform lateral control force field $\\zeta$, possibly depending on time. The system is submitted to a uniform, constant gravitational acceleration field $g$ and moves without friction.\n",
    "\n",
    "The generalised coordinate of the system is the position $x$ of the pivot on the rail and angle $\\theta$ of the pendulum with the downward vertical direction. The standard (Cartesian) coordinates of the bob are given by\n",
    "$$\n",
    "x_b = x+l\\sin\\theta\n",
    "\\hspace{2cm}\n",
    "y_b = -l\\cos\\theta\n",
    "$$\n",
    "\n",
    "The active forces are weight on the bob ($V_{(b)}=mgy$) and control on the pivot ($V_{(p)}=-\\zeta x$). Hence the Lagrangian\n",
    "$$\n",
    "\\begin{align*}\n",
    "\\mathcal{L} & = & \\frac{1}{2}(m_o\\dot{x}^2+m(\\dot{x}^2+l^2\\dot{\\theta}^2+2l\\dot{x}\\dot{\\theta}\\cos\\theta))+\\zeta x+mgl\\cos\\theta\\\\\n",
    "& = & \\frac{1}{2}(m_o+m)\\dot{x}^2+\\frac{1}{2}m l^2\\dot{\\theta}^2+ml\\dot{x}\\dot{\\theta}\\cos\\theta+\\zeta x+mgl\\cos\\theta\n",
    "\\end{align*}\n",
    "$$\n",
    "\n",
    "The equations of the dynamics are given by:\n",
    "$$\n",
    "\\begin{array}{rrcl}\n",
    "\\left[\\frac{\\mathbf{d}}{\\mathbf{d}t}\\frac{\\partial\\mathcal{L}}{\\partial\\dot{x}} = \\frac{\\partial\\mathcal{L}}{\\partial x}\\right]\n",
    "\\hspace{1cm} &\n",
    "(m_o+m)\\ddot{x}+ml\\ddot{\\theta}\\cos\\theta & = & \\zeta+ml\\dot{\\theta}^2\\sin\\theta\n",
    "\\\\\n",
    "\\left[\\frac{\\mathbf{d}}{\\mathbf{d}t}\\frac{\\partial\\mathcal{L}}{\\partial\\dot{\\theta}} = \\frac{\\partial\\mathcal{L}}{\\partial\\theta}\\right]\n",
    "\\hspace{1cm} &\n",
    "\\ddot{x}\\cos\\theta+l\\ddot{\\theta} & = & -g\\sin\\theta\n",
    "\\end{array}\n",
    "$$\n",
    "which can be rewritten as\n",
    "$$\n",
    "\\left\\{\n",
    "\\begin{array}{rcl}\n",
    "a\\ddot{x}+l\\ddot{\\theta}\\cos\\theta & = & u\n",
    "\\\\\n",
    "\\ddot{x}\\cos\\theta+l\\ddot{\\theta} & = & v\n",
    "\\end{array}\n",
    "\\right.\n",
    "\\hspace{1cm}\\textrm{where}\\hspace{1cm}\n",
    "\\left|\n",
    "\\begin{array}{l}\n",
    "a \\triangleq 1+\\frac{m_o}{m}\n",
    "\\\\\n",
    "u \\triangleq \\frac{\\zeta}{m}+l\\dot{\\theta}^2\\sin\\theta\n",
    "\\hspace{1cm}\n",
    "v \\triangleq -g\\sin\\theta\n",
    "\\end{array}\n",
    "\\right.\n",
    "$$\n",
    "\n",
    "The solution in $\\ddot{x},\\ddot{\\theta}$ is therefore\n",
    "$$\n",
    "\\left\\{\n",
    "\\begin{array}{rcl}\n",
    "\\ddot{x} & = &\n",
    "\\frac{u-v\\cos\\theta}{a-\\cos^2\\theta}\n",
    "\\\\\n",
    "\\ddot{\\theta} & = &\n",
    "\\frac{av-u\\cos\\theta}{l(a-\\cos^2\\theta)}\n",
    "\\end{array}\n",
    "\\right.\n",
    "$$"
   ]
  },
  {
   "cell_type": "code",
   "execution_count": 1,
   "metadata": {},
   "outputs": [],
   "source": [
    "import logging; logging.basicConfig(level=logging.WARNING); logging.captureWarnings(True)\n",
    "from numpy import sin,cos,pi,array,radians,square,sqrt,clip\n",
    "from ipyshow.odesimu import System\n",
    "from ipyshow.odesimu.util import PIDControlledMixin,buffered"
   ]
  },
  {
   "cell_type": "markdown",
   "metadata": {},
   "source": [
    "## ControlledPendulum class"
   ]
  },
  {
   "cell_type": "code",
   "execution_count": 2,
   "metadata": {},
   "outputs": [],
   "source": [
    "#----------------------------------------------------------------------------------------------------\n",
    "class ControlledPendulum (System):\n",
    "#----------------------------------------------------------------------------------------------------\n",
    "\n",
    "  def __init__(self,control,Mo,M,L,G):\n",
    "    r\"\"\"\n",
    "Args:\n",
    "  Mo,M (float): mass of the chariot and the bob [kg]\n",
    "  L (float): length of pendulum [m]\n",
    "  G (float): intensity of the gravity [m.sec^-2]\n",
    "  control (Callable[[float],float]): (lateral) control force field (instance of Controller class)\n",
    "    \"\"\"\n",
    "    self.Mo, self.M, self.L, self.G = Mo, M, L, G\n",
    "    self.control = control\n",
    "    def fun(t,state,a=1+Mo/M):\n",
    "      x,θ,xʹ,θʹ = state\n",
    "      sinθ, cosθ = sin(θ), cos(θ)\n",
    "      u = control(t)[0]/M+L*square(θʹ)*sinθ\n",
    "      v = -G*sinθ\n",
    "      D = a-square(cosθ)\n",
    "      xʺ = (u-v*cosθ)/D\n",
    "      θʺ = (a*v-u*cosθ)/(L*D)\n",
    "      return array((xʹ,θʹ,xʺ,θʺ))\n",
    "    self.fun = fun\n",
    "    def cartesian(state,a=1+Mo/M):\n",
    "      x,θ,xʹ,θʹ = state\n",
    "      return array((x,x+L*sin(θ),-L*cos(θ)))\n",
    "    self.cartesian = cartesian\n",
    "\n",
    "  def displayer(self,env,ax,refsize=80):\n",
    "    r\"\"\"\n",
    "Args:\n",
    "  refsize (int): reference dimension for the blobs [pt^2]\n",
    "    \"\"\"\n",
    "    Lx,Ly = 6*self.L,1.25*self.L\n",
    "    ax.set(xlim=(-Lx,Lx),ylim=(-Ly,Ly))\n",
    "    ax.set_title(r'trajectory:cahotic',fontsize='x-small')\n",
    "    ax.axhline(0,c='k')\n",
    "    mo,m = self.Mo,self.M\n",
    "    r = clip(sqrt(mo/m),1./refsize,refsize)\n",
    "    sz = (refsize*r,refsize/r)\n",
    "    a_pole, = ax.plot((),(),'k')\n",
    "    a_masses = ax.scatter((0,0),(0,0),s=sz,marker='o',c=('b','r'))\n",
    "    a_tail, = ax.plot((),(),'y')\n",
    "    def disp(Lx2=2*Lx):\n",
    "      x,xb,yb = self.cartesian(env.state)\n",
    "      a_pole.set_data((x,xb),(0,yb))\n",
    "      a_masses.set_offsets(((x,0),(xb,yb),))\n",
    "      a_tail.set_data(*self.cartesian(env.cached_states)[1:])\n",
    "      xr = ((x-Lx)//Lx2)*Lx2+Lx2\n",
    "      ax.set(xlim=(xr-Lx,xr+Lx))\n",
    "    return disp\n",
    "\n",
    "  @staticmethod\n",
    "  def makestate(x=0.,θ=0.,xʹ=0.,θʹ=0.):\n",
    "    r\"\"\"\n",
    "Args:\n",
    "  x (float): position of the pivot [m]\n",
    "  xʹ (float): speed of the pivot [m.sec^-1]\n",
    "  θ (float): angle of the pendulum with downward vertical [deg]\n",
    "  θʹ (float): angular speed of pendulum [deg.sec^-1]\n",
    "    \"\"\"\n",
    "    return array((x,radians(θ),xʹ,radians(θʹ)))\n",
    "\n",
    "  launch_defaults = dict(period=10.,cache=(140,.05),max_step=.05)\n",
    "\n",
    "class PIDControlledPendulum (PIDControlledMixin,ControlledPendulum):\n",
    "  launch_defaults = dict(ControlledPendulum.launch_defaults,period=.1,method='DOP853')\n",
    "  @staticmethod\n",
    "  def pos(x): return x,0.\n",
    "  @staticmethod\n",
    "  def gap(o,state): return o-state[0]"
   ]
  },
  {
   "cell_type": "code",
   "execution_count": 3,
   "metadata": {},
   "outputs": [],
   "source": [
    "from functools import partial\n",
    "from myutil.simpy import SimpySimulation\n",
    "%matplotlib widget\n",
    "#%matplotlib qt5"
   ]
  },
  {
   "cell_type": "code",
   "execution_count": 4,
   "metadata": {},
   "outputs": [
    {
     "data": {
      "application/vnd.jupyter.widget-view+json": {
       "model_id": "",
       "version_major": 2,
       "version_minor": 0
      },
      "text/plain": [
       "VBox(children=(HBox(children=(SimpleButton(icon='close', layout=Layout(padding='0 .1cm 0 .1cm', width='auto'),…"
      ]
     },
     "metadata": {},
     "output_type": "display_data"
    },
    {
     "data": {
      "application/vnd.jupyter.widget-view+json": {
       "model_id": "1f0221038f1b4fa3aa9cdee2a45a25ea",
       "version_major": 2,
       "version_minor": 0
      },
      "image/png": "[encoded data removed]",
      "text/html": [
       "\n",
       "            <div style=\"display: inline-block;\">\n",
       "                <div class=\"jupyter-widgets widget-label\" style=\"text-align: center;\">\n",
       "                    Figure\n",
       "                </div>\n",
       "                <img src='data:image/png;base64,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' width=900.0/>\n",
       "            </div>\n",
       "        "
      ],
      "text/plain": [
       "Canvas(toolbar=Toolbar(toolitems=[('Home', 'Reset original view', 'home', 'home'), ('Back', 'Back to previous …"
      ]
     },
     "metadata": {},
     "output_type": "display_data"
    }
   ],
   "source": [
    "logging.basicConfig(level='WARN')\n",
    "\n",
    "target_period=4.\n",
    "def sintarget(t,R=1.,omega=2*pi/target_period):\n",
    "  p = omega*t\n",
    "  return R*sin(p)\n",
    "def sinsintarget(t,R=1.,k=3.,omega=2*pi/target_period):\n",
    "  p = omega*t\n",
    "  return R*sin(p)*sin(p/k)\n",
    "target = buffered(T=target_period,N=int(100*target_period))(partial(sinsintarget,R=3.))\n",
    "#target = buffered(T=target_period,N=int(100*period))(partial(sinsintarget,R=3.,k=5.5))\n",
    "#target = lambda t: 0\n",
    "#target = buffered(T=target_period,N=int(100*period))(lambda t: t+2*sin(t))\n",
    "target_control = dict(\n",
    "  N=2,\n",
    "  gP=30.,\n",
    "  #gP=.5,\n",
    "  gI=10.,\n",
    "  gD=20.,\n",
    "  #gD=7.,\n",
    "  #blur=.05,\n",
    ")\n",
    "direct_control = (lambda t,A=5.,ω=.5,s=array((1.,0.)): A*(s if ω*t%2<.5 else -s))\n",
    "\n",
    "ini = dict(θ=179.)\n",
    "#ini = dict(θ=-90.,θʹ=0.)\n",
    "#ini = dict(θ=90.,θʹ=181)\n",
    "#ini = dict(θ=179.)\n",
    "#ini = dict(θ=90.,θʹ=degrees(sqrt(9.81))) # should be aperiodic, but appears periodic due to numerical errors\n",
    "\n",
    "syst = PIDControlledPendulum(target_control,target,Mo=2,M=1,L=2,G=9.81)\n",
    "#syst = ControlledPendulum(direct_control,Mo=2,M=1,L=2,G=9.81)\n",
    "SimpySimulation(\n",
    "  syst.launch(init_y=ini),\n",
    "  play_kw=dict(frame_per_stu=25,track=60.,fig_kw=dict(figsize=(9,3))),\n",
    ")"
   ]
  },
  {
   "cell_type": "code",
   "execution_count": null,
   "metadata": {},
   "outputs": [],
   "source": []
  }
 ],
 "metadata": {
  "anaconda-cloud": {},
  "kernelspec": {
   "display_name": "Python 3 (ipykernel)",
   "language": "python",
   "name": "python3"
  },
  "language_info": {
   "codemirror_mode": {
    "name": "ipython",
    "version": 3
   },
   "file_extension": ".py",
   "mimetype": "text/x-python",
   "name": "python",
   "nbconvert_exporter": "python",
   "pygments_lexer": "ipython3",
   "version": "3.10.4"
  },
  "varInspector": {
   "cols": {
    "lenName": 16,
    "lenType": 16,
    "lenVar": 40
   },
   "kernels_config": {
    "python": {
     "delete_cmd_postfix": "",
     "delete_cmd_prefix": "del ",
     "library": "var_list.py",
     "varRefreshCmd": "print(var_dic_list())"
    },
    "r": {
     "delete_cmd_postfix": ") ",
     "delete_cmd_prefix": "rm(",
     "library": "var_list.r",
     "varRefreshCmd": "cat(var_dic_list()) "
    }
   },
   "types_to_exclude": [
    "module",
    "function",
    "builtin_function_or_method",
    "instance",
    "_Feature"
   ],
   "window_display": false
  }
 },
 "nbformat": 4,
 "nbformat_minor": 4
}
