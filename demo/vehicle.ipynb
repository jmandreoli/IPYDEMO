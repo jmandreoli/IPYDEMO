{
 "cells": [
  {
   "cell_type": "markdown",
   "metadata": {},
   "source": [
    "# Acceleration controller\n",
    "\n",
    "Consider the system of a point body (vehicle) of mass $1$, moving without friction, and controlled by an external force.\n",
    "\n",
    "The equations of the dynamics are given by\n",
    "\n",
    "\\begin{eqnarray*}\n",
    "\\left(\\begin{array}{l}\\ddot{x}\\\\ \\ddot{y}\\end{array}\\right) & = & \\gamma(t)\n",
    "\\end{eqnarray*}\n",
    "\n",
    "$\\gamma$ is assumed piecewise constant, with changing points at regular intervals (the control rate). At each changing points, the value of $\\gamma$ is acquired from a controller, to which the current state of the system ($x,y,\\dot{x},\\dot{y}$) is communicated. The controller can thus keep a history of its observations, and base its decisions on it (control loop).\n",
    "\n",
    "Documentation: [here](../doc/_build/html/odesimu.html)"
   ]
  },
  {
   "cell_type": "code",
   "execution_count": 1,
   "metadata": {},
   "outputs": [
    {
     "name": "stdout",
     "output_type": "stream",
     "text": [
      "Populating the interactive namespace from numpy and matplotlib\n"
     ]
    }
   ],
   "source": [
    "%pylab\n",
    "# for inline animation (but slower and more resource consuming):\n",
    "#%pylab notebook\n",
    "\n",
    "import logging\n",
    "from functools import partial\n",
    "from ipyshow.util import Setup\n",
    "from ipyshow.odesimu import System\n",
    "from ipyshow.odesimu.util import DPiecewiseFunc, buffered, blurred, logger_hook, PIDController, marker_hook"
   ]
  },
  {
   "cell_type": "markdown",
   "metadata": {},
   "source": [
    "## Vehicle class"
   ]
  },
  {
   "cell_type": "code",
   "execution_count": 2,
   "metadata": {},
   "outputs": [],
   "source": [
    "#----------------------------------------------------------------------------------------------------\n",
    "class Vehicle(System):\n",
    "#----------------------------------------------------------------------------------------------------\n",
    "\n",
    "    shadowshape = (2,)\n",
    "\n",
    "    #integrator = dict(name='dopri5')\n",
    "    # don't use the default intergrator lsoda, as it uses forward looking (not consistent with control)\n",
    "    integrator = dict(name='dop853')\n",
    "\n",
    "    @Setup(\n",
    "        'control: (lateral) acceleration as function of time [m.s^-2]',\n",
    "    )\n",
    "    def __init__(self,control):\n",
    "        self.control = control\n",
    "        def main(t,state):\n",
    "            x,y,xʹ,yʹ = state\n",
    "            xʺ,yʺ = control(t)\n",
    "            return array((xʹ,yʹ,xʺ,yʺ))\n",
    "        self.main = main\n",
    "        def fordisplay(state):\n",
    "            x,y,xʹ,yʹ = state\n",
    "            live = x,y\n",
    "            return live,live\n",
    "        self.fordisplay = fordisplay\n",
    "\n",
    "    def runstep(self,crate=None,ini=None,**ka):\n",
    "        self.control.reset(ini)\n",
    "        t0 = T = 1/crate\n",
    "        for t,y,start in super(Vehicle,self).runstep(ini=ini,**ka):\n",
    "            if t>t0: self.control.update(t,y); t0 += T\n",
    "            yield t,y,start\n",
    "\n",
    "    def display(self,ax,bounds=None,**ka):\n",
    "        ax.scatter((0,),(0,),c='k',marker='o')\n",
    "        diag_s = ax.scatter((),(),c='b',marker='o',label='vehicle')\n",
    "        tail_l, = ax.plot((),(),'y')\n",
    "        ax.set_title(r'Vehicle under acceleration control')\n",
    "        ax.set_xlim(bounds[0][0],bounds[1][0])\n",
    "        ax.set_ylim(bounds[0][1],bounds[1][1])\n",
    "        def disp(t,live,tail):\n",
    "            diag_s.set_offsets((live,))\n",
    "            tail_l.set_data(tail[:,0],tail[:,1])\n",
    "        anim = super().display(ax,disp,**ka)\n",
    "        ax.legend(fontsize='x-small')\n",
    "        return anim\n",
    "\n",
    "    @staticmethod\n",
    "    @Setup(\n",
    "        'x,y: position of vehicle [m]',\n",
    "        'xʹ,yʹ: speed of vehicle [m.sec^-1]',\n",
    "        x=0.,y=0.,xʹ=0.,yʹ=0.\n",
    "    )\n",
    "    def makestate(x,y,xʹ,yʹ): return array((x,y,xʹ,yʹ))\n",
    "\n",
    "    @Setup(\n",
    "        'bounds: corners of display',\n",
    "        'crate: control rate',\n",
    "        taild=10.,hooks=(partial(logger_hook,logger=logging.getLogger()),)\n",
    "    )\n",
    "    def launch(self,*a,**ka): return super().launch(*a,**ka)"
   ]
  },
  {
   "cell_type": "code",
   "execution_count": 3,
   "metadata": {},
   "outputs": [
    {
     "data": {
      "text/html": [
       "<TABLE><TBODY><TR><TD colspan=\"4\" style=\"background-color: gray; color: white; font-weight: bold;\">Vehicle.__init__(self, control)</TD></TR><TR><TH>control</TH><TD style=\"max-width:2cm; white-space: nowrap; overflow: hidden\" title=\"\"></TD><TD>(lateral) acceleration as function of time</TD><TD> <SPAN>m</SPAN> <SPAN>s</SPAN><SUP>-2</SUP></TD></TR><TR><TD colspan=\"4\" style=\"background-color: gray; color: white; font-weight: bold;\">Vehicle.launch(self, *a, **ka)</TD></TR><TR><TH>maxtime</TH><TD style=\"max-width:2cm; white-space: nowrap; overflow: hidden\" title=\"inf\">inf</TD><TD>total simulation time length</TD><TD> <SPAN>sec</SPAN></TD></TR><TR><TH>srate</TH><TD style=\"max-width:2cm; white-space: nowrap; overflow: hidden\" title=\"25.0\">25.0</TD><TD>sampling rate</TD><TD> <SPAN>sec</SPAN><SUP>-1</SUP></TD></TR><TR><TH>taild</TH><TD style=\"max-width:2cm; white-space: nowrap; overflow: hidden\" title=\"10.0\">10.0</TD><TD>shadow duration</TD><TD> <SPAN>sec</SPAN></TD></TR><TR><TH>hooks</TH><TD style=\"max-width:2cm; white-space: nowrap; overflow: hidden\" title=\"(functools.partial(&lt;function logger_hook at 0x7f8ea42f4378&gt;, logger=&lt;RootLogger root (WARNING)&gt;),)\">(functools.partial(&lt;function logger_hook at 0x7f8ea42f4378&gt;, logger=&lt;RootLogger root (WARNING)&gt;),)</TD><TD>tuple of display hooks</TD><TD/></TR><TR><TH>ini</TH><TD style=\"max-width:2cm; white-space: nowrap; overflow: hidden\" title=\"\"></TD><TD>initial state</TD><TD/></TR><TR><TH>bounds</TH><TD style=\"max-width:2cm; white-space: nowrap; overflow: hidden\" title=\"\"></TD><TD>corners of display</TD><TD/></TR><TR><TH>crate</TH><TD style=\"max-width:2cm; white-space: nowrap; overflow: hidden\" title=\"\"></TD><TD>control rate</TD><TD/></TR><TR><TD colspan=\"4\" style=\"background-color: gray; color: white; font-weight: bold;\">Vehicle.makestate(x, y, xʹ, yʹ)</TD></TR><TR><TH>x,y</TH><TD style=\"max-width:2cm; white-space: nowrap; overflow: hidden\" title=\"0.0,0.0\">0.0,0.0</TD><TD>position of vehicle</TD><TD> <SPAN>m</SPAN></TD></TR><TR><TH>xʹ,yʹ</TH><TD style=\"max-width:2cm; white-space: nowrap; overflow: hidden\" title=\"0.0,0.0\">0.0,0.0</TD><TD>speed of vehicle</TD><TD> <SPAN>m</SPAN> <SPAN>sec</SPAN><SUP>-1</SUP></TD></TR><TR><TD colspan=\"4\" style=\"background-color: gray; color: white; font-weight: bold;\">PIDController.__init__(self, gP, gI, gD, observe, target, **ka)</TD></TR><TR><TH>N</TH><TD style=\"max-width:2cm; white-space: nowrap; overflow: hidden\" title=\"\"></TD><TD>size of the buffer of change points</TD><TD/></TR><TR><TH>gP,gI,gD</TH><TD style=\"max-width:2cm; white-space: nowrap; overflow: hidden\" title=\"0.0,0.0,0.0\">0.0,0.0,0.0</TD><TD>control gains (proportional, integral, derivative)</TD><TD/></TR><TR><TH>observe</TH><TD style=\"max-width:2cm; white-space: nowrap; overflow: hidden\" title=\"\"></TD><TD>observation function</TD><TD/></TR><TR><TH>target</TH><TD style=\"max-width:2cm; white-space: nowrap; overflow: hidden\" title=\"\"></TD><TD>target function</TD><TD/></TR></TBODY></TABLE>"
      ],
      "text/plain": [
       "**** Vehicle.__init__(self, control) ****\n",
       "    control   : (lateral) acceleration as function of time [m.s^-2]\n",
       "**** Vehicle.launch(self, *a, **ka) ****\n",
       "    maxtime   (inf       ): total simulation time length [sec]\n",
       "    srate     (25.0      ): sampling rate [sec^-1]\n",
       "    taild     (10.0      ): shadow duration [sec]\n",
       "    hooks     ((functools): tuple of display hooks []\n",
       "    ini       : initial state []\n",
       "    bounds    : corners of display []\n",
       "    crate     : control rate []\n",
       "**** Vehicle.makestate(x, y, xʹ, yʹ) ****\n",
       "    x,y       (0.0,0.0   ): position of vehicle [m]\n",
       "    xʹ,yʹ     (0.0,0.0   ): speed of vehicle [m.sec^-1]\n",
       "**** PIDController.__init__(self, gP, gI, gD, observe, target, **ka) ****\n",
       "    N         : size of the buffer of change points []\n",
       "    gP,gI,gD  (0.0,0.0,0.0): control gains (proportional, integral, derivative) []\n",
       "    observe   : observation function []\n",
       "    target    : target function []"
      ]
     },
     "execution_count": 3,
     "metadata": {},
     "output_type": "execute_result"
    }
   ],
   "source": [
    "Setup.display(Vehicle,PIDController)"
   ]
  },
  {
   "cell_type": "code",
   "execution_count": 6,
   "metadata": {},
   "outputs": [
    {
     "data": {
      "text/plain": [
       "<matplotlib.animation.FuncAnimation at 0x7f8e9f712c18>"
      ]
     },
     "execution_count": 6,
     "metadata": {},
     "output_type": "execute_result"
    }
   ],
   "source": [
    "logging.basicConfig(level='WARN') # can be changed dynamically by logger_hook\n",
    "\n",
    "period = 15\n",
    "def target_still(t,spot=array((7.,5.))): return spot\n",
    "def target_circle(t,R=4.,ω=2*pi/period):\n",
    "    θ = ω*t\n",
    "    return R*hstack((sin(θ),cos(θ)))\n",
    "def target_cycloid(t,R=4.,r=2.,l=-5.,ω=2*pi/period):\n",
    "    θ = ω*t\n",
    "    return R*hstack((sin(θ),cos(θ)))+r*hstack((sin(l*θ),cos(l*θ)))\n",
    "\n",
    "#target = target_still\n",
    "#target = buffered(T=period,N=int(period*100))(target_circle)\n",
    "target = buffered(T=period,N=int(period*100))(partial(target_cycloid,l=5.))\n",
    "\n",
    "#blur = .005\n",
    "blur = None\n",
    "\n",
    "control = PIDController(\n",
    "      N=2,\n",
    "      gP=30.,gD=30.,gI=8.,\n",
    "      target=blurred(blur,shape=(2,))(target),\n",
    "      observe=(lambda state=zeros((4,)):state[:2]),\n",
    "      )\n",
    "\n",
    "syst = Vehicle(control)\n",
    "syst.launch(\n",
    "    ini=syst.makestate(x=0.,y=0.,xʹ=0.,yʹ=0.),\n",
    "    crate=30.,\n",
    "    bounds=((-8.,-8.),(8.,8.)),\n",
    "    hooks=(partial(marker_hook,f=target,marker='o',s=20,label='target'),partial(logger_hook,logger=logging.getLogger())),\n",
    "    taild=period+5.,\n",
    ")"
   ]
  },
  {
   "cell_type": "code",
   "execution_count": null,
   "metadata": {
    "collapsed": true
   },
   "outputs": [],
   "source": []
  }
 ],
 "metadata": {
  "anaconda-cloud": {},
  "kernelspec": {
   "display_name": "Python 3",
   "language": "python",
   "name": "python3"
  },
  "language_info": {
   "codemirror_mode": {
    "name": "ipython",
    "version": 3
   },
   "file_extension": ".py",
   "mimetype": "text/x-python",
   "name": "python",
   "nbconvert_exporter": "python",
   "pygments_lexer": "ipython3",
   "version": "3.6.5"
  }
 },
 "nbformat": 4,
 "nbformat_minor": 1
}
