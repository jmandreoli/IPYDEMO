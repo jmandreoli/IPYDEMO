{
 "cells": [
  {
   "cell_type": "markdown",
   "metadata": {},
   "source": [
    "# Acceleration controller\n",
    "\n",
    "Consider the system of a point body (vehicle) of mass $1$, moving without friction, and controlled by an external force.\n",
    "\n",
    "The equations of the dynamics are given by\n",
    "\n",
    "\\begin{eqnarray*}\n",
    "\\left(\\begin{array}{l}\\ddot{x}\\\\ \\ddot{y}\\end{array}\\right) & = & \\gamma(t)\n",
    "\\end{eqnarray*}\n",
    "\n",
    "$\\gamma$ is assumed piecewise constant, with changing points at regular intervals (the control rate). At each changing points, the value of $\\gamma$ is acquired from a controller. At regular intervals, the controller has access to the current simulation time $t$ and state of the system $(x,y,\\dot{x},\\dot{y})$. The controller can thus keep a history of its observations, and base its decisions on it (control loop)."
   ]
  },
  {
   "cell_type": "code",
   "execution_count": 5,
   "metadata": {},
   "outputs": [],
   "source": [
    "import logging; logging.basicConfig(level=logging.WARNING); logging.captureWarnings(True)\n",
    "from numpy import sin,cos,arcsin,arccos,pi,square,sqrt,clip,array,hstack,argmin,argmax,degrees,radians\n",
    "from ipyshow.odesimu import System\n",
    "from ipyshow.odesimu.util import PIDControlledMixin"
   ]
  },
  {
   "cell_type": "markdown",
   "metadata": {},
   "source": [
    "## Vehicle class"
   ]
  },
  {
   "cell_type": "code",
   "execution_count": 2,
   "metadata": {},
   "outputs": [],
   "source": [
    "#----------------------------------------------------------------------------------------------------\n",
    "class Vehicle(System):\n",
    "#----------------------------------------------------------------------------------------------------\n",
    "\n",
    "  def __init__(self,control):\n",
    "    r\"\"\"\n",
    "Args:\n",
    "  control: a function of time\n",
    "    \"\"\"\n",
    "    self.control = control\n",
    "    def fun(t,state):\n",
    "      x,y,xʹ,yʹ = state\n",
    "      xʺ,yʺ = control(t)\n",
    "      return array((xʹ,yʹ,xʺ,yʺ))\n",
    "    self.fun = fun\n",
    "    self.jac = lambda t,state,c=array(((0.,0.,1.,0.),(0.,0.,0.,1.),(0.,0.,0.,0.),(0.,0.,0.,0.))): c\n",
    "\n",
    "  def displayer(self,env,ax,bounds=None,**ka):\n",
    "    vmin,vmax = bounds\n",
    "    ax.set(xlim=(vmin[0],vmax[0]),ylim=(vmin[1],vmax[1]))\n",
    "    ax.set_title(r'Vehicle under acceleration control',fontsize='x-small')\n",
    "    ax.scatter((0,),(0,),c='k',marker='o')\n",
    "    a_vehicle= ax.scatter((),(),c='b',marker='o',label='vehicle')\n",
    "    a_tail, = ax.plot((),(),'y')\n",
    "    ax.legend(fontsize='x-small')\n",
    "    def disp():\n",
    "      a_vehicle.set_offsets((env.state[:2],))\n",
    "      a_tail.set_data(*env.cached_states[:2])\n",
    "    return disp\n",
    "\n",
    "  @staticmethod\n",
    "  def makestate(x,y,xʹ=0.,yʹ=0.):\n",
    "    r\"\"\"\n",
    "Args:\n",
    "  x,y (float): position of vehicle [m]\n",
    "  xʹ,yʹ (float): speed of vehicle [m.sec^-1]\n",
    "    \"\"\"\n",
    "    return array((x,y,xʹ,yʹ))\n",
    "\n",
    "  launch_defaults = dict(period=.1,cache=(350,.05),max_step=.01,method='LSODA')\n",
    "\n",
    "class PIDControlledVehicle (PIDControlledMixin,Vehicle):\n",
    "  launch_defaults = dict(Vehicle.launch_defaults,period=.1,method='DOP853')\n",
    "  display_defaults = dict(PIDControlledMixin.display_defaults,c='r',marker='o',s=10)\n",
    "  @staticmethod\n",
    "  def gap(o,state): return o-state[:2]"
   ]
  },
  {
   "cell_type": "code",
   "execution_count": 3,
   "metadata": {},
   "outputs": [
    {
     "name": "stderr",
     "output_type": "stream",
     "text": [
      "qt.qpa.plugin: Could not find the Qt platform plugin \"wayland\" in \"\"\n"
     ]
    }
   ],
   "source": [
    "#%matplotlib widget\n",
    "%matplotlib qt6\n",
    "from myutil.simpy import SimpySimulation"
   ]
  },
  {
   "cell_type": "code",
   "execution_count": 8,
   "metadata": {},
   "outputs": [
    {
     "data": {
      "text/plain": [
       "<myutil.simpy.SimpySimulation at 0x7fe8b5f90ad0>"
      ]
     },
     "execution_count": 8,
     "metadata": {},
     "output_type": "execute_result"
    }
   ],
   "source": [
    "from ipyshow.odesimu.util import buffered\n",
    "from functools import partial\n",
    "\n",
    "class Target:\n",
    "  period = 20\n",
    "  @staticmethod\n",
    "  def still(t,spot=array((7.,5.))): return spot\n",
    "  @staticmethod\n",
    "  def circle(t,R=4.,ω=2*pi/period):\n",
    "    θ = ω*t\n",
    "    return R*hstack((sin(θ),cos(θ)))\n",
    "  @staticmethod\n",
    "  def cycloid(t,R=4.,r=2.,l=-5.,ω=2*pi/period):\n",
    "    θ = ω*t\n",
    "    return R*hstack((sin(θ),cos(θ)))+r*hstack((sin(l*θ),cos(l*θ)))\n",
    "  @staticmethod\n",
    "  def buffered(f,_B=buffered(T=period,N=int(100*period)),*a,**ka): return _B(partial(f,*a,**ka))\n",
    "  control = dict(\n",
    "    N=2,\n",
    "    gP=15.,\n",
    "    #gI=2.,\n",
    "    gD=5.,\n",
    "    blur=.05,\n",
    "  )\n",
    "\n",
    "#target = Target.still\n",
    "#target = Target.buffered(Target.circle)\n",
    "target = Target.buffered(Target.cycloid,l=5.)\n",
    "\n",
    "syst = PIDControlledVehicle(Target.control,target)\n",
    "ini = dict(x=0.,y=0.,xʹ=0.,yʹ=0.)\n",
    "SimpySimulation(\n",
    "  syst.launch(\n",
    "    dict(bounds=((-8.,-8.),(8.,8.))),\n",
    "    init_y=ini,\n",
    "  ),\n",
    "  play_kw=dict(frame_per_stu=25,track=60.),\n",
    ")"
   ]
  },
  {
   "cell_type": "code",
   "execution_count": null,
   "metadata": {},
   "outputs": [],
   "source": []
  }
 ],
 "metadata": {
  "anaconda-cloud": {},
  "kernelspec": {
   "display_name": "Python 3 (ipykernel)",
   "language": "python",
   "name": "python3"
  },
  "language_info": {
   "codemirror_mode": {
    "name": "ipython",
    "version": 3
   },
   "file_extension": ".py",
   "mimetype": "text/x-python",
   "name": "python",
   "nbconvert_exporter": "python",
   "pygments_lexer": "ipython3",
   "version": "3.12.8"
  },
  "varInspector": {
   "cols": {
    "lenName": 16,
    "lenType": 16,
    "lenVar": 40
   },
   "kernels_config": {
    "python": {
     "delete_cmd_postfix": "",
     "delete_cmd_prefix": "del ",
     "library": "var_list.py",
     "varRefreshCmd": "print(var_dic_list())"
    },
    "r": {
     "delete_cmd_postfix": ") ",
     "delete_cmd_prefix": "rm(",
     "library": "var_list.r",
     "varRefreshCmd": "cat(var_dic_list()) "
    }
   },
   "types_to_exclude": [
    "module",
    "function",
    "builtin_function_or_method",
    "instance",
    "_Feature"
   ],
   "window_display": false
  }
 },
 "nbformat": 4,
 "nbformat_minor": 4
}
