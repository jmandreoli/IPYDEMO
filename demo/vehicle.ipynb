{
 "cells": [
  {
   "cell_type": "markdown",
   "metadata": {},
   "source": [
    "# Acceleration controller\n",
    "\n",
    "Consider the system of a point body (vehicle) of mass $1$, moving without friction, and controlled by an external force.\n",
    "\n",
    "The equations of the dynamics are given by\n",
    "\n",
    "\\begin{eqnarray*}\n",
    "\\left(\\begin{array}{l}\\ddot{x}\\\\ \\ddot{y}\\end{array}\\right) & = & \\gamma(t)\n",
    "\\end{eqnarray*}\n",
    "\n",
    "$\\gamma$ is assumed piecewise constant, with changing points at regular intervals (the control rate). At each changing points, the value of $\\gamma$ is acquired from a controller. At regular intervals, the controller has access to the current simulation time $t$ and state of the system $(x,y,\\dot{x},\\dot{y})$. The controller can thus keep a history of its observations, and base its decisions on it (control loop)."
   ]
  },
  {
   "cell_type": "code",
   "execution_count": 1,
   "metadata": {},
   "outputs": [
    {
     "name": "stdout",
     "output_type": "stream",
     "text": [
      "Populating the interactive namespace from numpy and matplotlib\n"
     ]
    }
   ],
   "source": [
    "%pylab widget\n",
    "\n",
    "import logging\n",
    "from functools import partial\n",
    "from myutil.simpy import SimpySimulation\n",
    "from ipyshow.odesimu import System\n",
    "from ipyshow.odesimu.util import PIDController, buffered, blurred, period_hook"
   ]
  },
  {
   "cell_type": "markdown",
   "metadata": {},
   "source": [
    "## Vehicle class"
   ]
  },
  {
   "cell_type": "code",
   "execution_count": 2,
   "metadata": {},
   "outputs": [],
   "source": [
    "#----------------------------------------------------------------------------------------------------\n",
    "class Vehicle(System):\n",
    "#----------------------------------------------------------------------------------------------------\n",
    "\n",
    "  def __init__(self,control):\n",
    "    r\"\"\"\n",
    "Args:\n",
    "  control: a function of time\n",
    "    \"\"\"\n",
    "    self.control = control\n",
    "    def fun(t,state):\n",
    "      x,y,xʹ,yʹ = state\n",
    "      xʺ,yʺ = control(t)\n",
    "      return array((xʹ,yʹ,xʺ,yʺ))\n",
    "    self.fun = fun\n",
    "    self.jac = lambda t,state,c=array(((0.,0.,1.,0.),(0.,0.,0.,1.),(0.,0.,0.,0.),(0.,0.,0.,0.))): c\n",
    "\n",
    "  def displayer(self,env,ax,bounds=None,**ka):\n",
    "    vmin,vmax = bounds\n",
    "    ax.set(xlim=(vmin[0],vmax[0]),ylim=(vmin[1],vmax[1]))\n",
    "    ax.set_title(r'Vehicle under acceleration control',fontsize='x-small')\n",
    "    ax.scatter((0,),(0,),c='k',marker='o')\n",
    "    a_vehicle= ax.scatter((),(),c='b',marker='o',label='vehicle')\n",
    "    a_tail, = ax.plot((),(),'y')\n",
    "    ax.legend(fontsize='x-small')\n",
    "    def disp():\n",
    "      a_vehicle.set_offsets((env.state[:2],))\n",
    "      a_tail.set_data(*env.cached_states[:2])\n",
    "    return disp\n",
    "\n",
    "  @staticmethod\n",
    "  def makestate(x,y,xʹ=0.,yʹ=0.):\n",
    "    r\"\"\"\n",
    "Args:\n",
    "  x,y (float): position of vehicle [m]\n",
    "  xʹ,yʹ (float): speed of vehicle [m.sec^-1]\n",
    "    \"\"\"\n",
    "    return array((x,y,xʹ,yʹ))\n",
    "\n",
    "  launch_defaults = dict(period=.1,cache=(200,.1),max_step=.01,method='LSODA')"
   ]
  },
  {
   "cell_type": "code",
   "execution_count": 3,
   "metadata": {},
   "outputs": [
    {
     "data": {
      "application/vnd.jupyter.widget-view+json": {
       "model_id": "",
       "version_major": 2,
       "version_minor": 0
      },
      "text/plain": [
       "VBox(children=(HBox(children=(SimpleButton(icon='close', layout=Layout(padding='0 .1cm 0 .1cm', width='auto'),…"
      ]
     },
     "metadata": {},
     "output_type": "display_data"
    }
   ],
   "source": [
    "logging.basicConfig(level=logging.WARNING)\n",
    "\n",
    "def target_displayer(env,ax):\n",
    "  return lambda a=ax.scatter((),(),c='r',s=20,label='target'): a.set_offsets((target(env.now),))\n",
    "\n",
    "target_period = 25\n",
    "def target_still(t,spot=array((7.,5.))): return spot\n",
    "def target_circle(t,R=4.,ω=2*pi/target_period):\n",
    "  θ = ω*t\n",
    "  return R*hstack((sin(θ),cos(θ)))\n",
    "def target_cycloid(t,R=4.,r=2.,l=-5.,ω=2*pi/target_period):\n",
    "  θ = ω*t\n",
    "  return R*hstack((sin(θ),cos(θ)))+r*hstack((sin(l*θ),cos(l*θ)))\n",
    "\n",
    "target = target_still\n",
    "#target = buffered(T=target_period,N=int(target_period*100))(target_circle)\n",
    "#target = buffered(T=target_period,N=int(target_period*100))(partial(target_cycloid,l=5.))\n",
    "\n",
    "def launch(control_kw,blurred_kw=None,**ka):\n",
    "  otarget = target if blurred_kw is None else blurred(**blured_kw)(target)\n",
    "  control = PIDController(N=2,observe=(lambda t,state: otarget(t)-state[:2]),**control_kw)\n",
    "  syst = Vehicle(control)\n",
    "  return syst.launch(target_displayer,dict(bounds=((-8.,-8.),(8.,8.))),hooks=(partial(period_hook,control),),init_y=ini,**ka)\n",
    "\n",
    "ini = dict(x=0.,y=0.,xʹ=0.,yʹ=0.)\n",
    "\n",
    "SimpySimulation(\n",
    "  launch(\n",
    "    dict(gP=10.,gI=None,gD=30.),\n",
    "    None, # dict(level=.05,offset=(7.,5.))\n",
    "    jac=None,\n",
    "  ),\n",
    "  frame_per_stu=25,\n",
    "  play_kw=dict(track=60.),\n",
    ")"
   ]
  },
  {
   "cell_type": "code",
   "execution_count": null,
   "metadata": {},
   "outputs": [],
   "source": []
  }
 ],
 "metadata": {
  "anaconda-cloud": {},
  "kernelspec": {
   "display_name": "Python 3",
   "language": "python",
   "name": "python3"
  },
  "language_info": {
   "codemirror_mode": {
    "name": "ipython",
    "version": 3
   },
   "file_extension": ".py",
   "mimetype": "text/x-python",
   "name": "python",
   "nbconvert_exporter": "python",
   "pygments_lexer": "ipython3",
   "version": "3.8.6"
  },
  "varInspector": {
   "cols": {
    "lenName": 16,
    "lenType": 16,
    "lenVar": 40
   },
   "kernels_config": {
    "python": {
     "delete_cmd_postfix": "",
     "delete_cmd_prefix": "del ",
     "library": "var_list.py",
     "varRefreshCmd": "print(var_dic_list())"
    },
    "r": {
     "delete_cmd_postfix": ") ",
     "delete_cmd_prefix": "rm(",
     "library": "var_list.r",
     "varRefreshCmd": "cat(var_dic_list()) "
    }
   },
   "types_to_exclude": [
    "module",
    "function",
    "builtin_function_or_method",
    "instance",
    "_Feature"
   ],
   "window_display": false
  }
 },
 "nbformat": 4,
 "nbformat_minor": 4
}
