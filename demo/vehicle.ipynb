{
 "cells": [
  {
   "cell_type": "markdown",
   "metadata": {},
   "source": [
    "# Acceleration controller\n",
    "\n",
    "Here, the system is a point body (vehicle) of mass $1$, moving without friction, and controlled by an external force.\n",
    "\n",
    "The equations of the dynamics are given by\n",
    "\n",
    "\\begin{eqnarray*}\n",
    "\\left(\\begin{array}{l}\\ddot{x}\\\\ \\ddot{y}\\end{array}\\right) & = & \\gamma(t)\n",
    "\\end{eqnarray*}\n",
    "\n",
    "$\\gamma$ is assumed piecewise constant, with changing points at regular intervals (the control rate). At each changing points, the value of $\\gamma$ is acquired from a controller, to which the current state of the system ($x,y,\\dot{x},\\dot{y}$) is communicated. The controller can thus keep a history of its observations, and base its decisions on it (control loop).\n",
    "\n",
    "Documentation: [here](../doc/_build/html/odesimu.html)"
   ]
  },
  {
   "cell_type": "code",
   "execution_count": 1,
   "metadata": {
    "collapsed": false
   },
   "outputs": [
    {
     "name": "stdout",
     "output_type": "stream",
     "text": [
      "Using matplotlib backend: Qt4Agg\n",
      "Populating the interactive namespace from numpy and matplotlib\n"
     ]
    }
   ],
   "source": [
    "%autoreload 2\n",
    "%pylab\n",
    "\n",
    "import logging\n",
    "logger = logging.getLogger()\n",
    "\n",
    "from functools import partial\n",
    "from ipyshow.odesimu.system import System, marker_hook\n",
    "from ipyshow.odesimu.util import DPiecewiseFunc, buffered, blurred, logger_hook, PIDController"
   ]
  },
  {
   "cell_type": "markdown",
   "metadata": {},
   "source": [
    "## Vehicle class"
   ]
  },
  {
   "cell_type": "code",
   "execution_count": 2,
   "metadata": {
    "collapsed": false
   },
   "outputs": [],
   "source": [
    "#----------------------------------------------------------------------------------------------------\n",
    "class Vehicle(System):\n",
    "#----------------------------------------------------------------------------------------------------\n",
    "\n",
    "    #integrator = dict(name='dopri5')\n",
    "    # don't use the default intergrator lsoda, as it uses forward looking (not consistent with control)\n",
    "    integrator = dict(name='dop853')\n",
    "\n",
    "    def __init__(self,control):\n",
    "        \"\"\"\n",
    ":param control: (lateral) acceleration, in m/s^2\n",
    "        \"\"\"\n",
    "        self.control = control\n",
    "        def main(t,state):\n",
    "            x,y,dx,dy = state\n",
    "            ddx,ddy = control(t)\n",
    "            return array((dx,dy,ddx,ddy))\n",
    "        self.main = main\n",
    "        def fordisplay(state):\n",
    "            x,y,dx,dy = state\n",
    "            live = x,y\n",
    "            return live,live\n",
    "        self.fordisplay = fordisplay\n",
    "    \n",
    "    def runstep(self,crate=None,ini=None,**ka):\n",
    "        self.control.reset(ini)\n",
    "        t0 = T = 1/crate\n",
    "        for t,y in super(Vehicle,self).runstep(ini=ini,**ka):\n",
    "            if t>t0: self.control.update(t,y); t0 += T\n",
    "            yield t,y\n",
    "\n",
    "    def display(self,ax,bounds=None,**ka):\n",
    "        ax.scatter((0,),(0,),c='k',marker='o')\n",
    "        diag_s = ax.scatter((),(),c='b',marker='o',label='vehicle')\n",
    "        tail_l, = ax.plot((),(),'y')\n",
    "        ax.set_title(r'Vehicle under acceleration control')\n",
    "        ax.set_xlim(bounds[0][0],bounds[1][0])\n",
    "        ax.set_ylim(bounds[0][1],bounds[1][1])\n",
    "        def disp(t,live,tail):\n",
    "            diag_s.set_offsets((live,))\n",
    "            tail_l.set_data(tail[:,0],tail[:,1])\n",
    "        anim = super(Vehicle,self).display(ax,disp,**ka)\n",
    "        ax.legend(fontsize='x-small')\n",
    "        return anim\n",
    "\n",
    "    @staticmethod\n",
    "    def makestate(x=0.,y=0.,dx=0.,dy=0.): return array((x,y,dx,dy))"
   ]
  },
  {
   "cell_type": "markdown",
   "metadata": {},
   "source": [
    "Launcher\n",
    "========\n",
    "\n",
    "System parameters:\n",
    "\n",
    "* `control`: control force exerted on vehicle, as a function mapping time (in sec) to force (in N)\n",
    "\n",
    "Here, the control force is defined by a controller which attemps to force the vehicle to track a target through a feedback loop. The target is defined by a function mapping time to a position in the plane.\n",
    "\n",
    "PID controller parameters:\n",
    "\n",
    "* `gP,gI,gD`: proportional, integration and derivative gains\n",
    "* `target`: target function, input: time, output: perceived target value (here the perceived position of the target in the plane)\n",
    "* `observe`: feedback observation function, input: real system state, output: perceived system state (here the perceived position of the vehicle in the plane)\n",
    "\n",
    "Launch parameters:\n",
    "\n",
    "* `ini/x,y,dx,dy`: initial position and speed of the vehicle (in m and m.sec$^{-1}$)\n",
    "* `srate`: simulation rate (in sec$^{-1}$), also taken to be the display rate\n",
    "* `taild`: duration of the shadow, ie. the trace of previous states (in sec)\n",
    "* `bounds`: pair of coordinates (in m) of the opposite corners (lower left and upper right) of the display boundaries\n",
    "* `hooks`: list of display hooks (see doc)\n",
    "* `crate`: control rate, at which the controller is notified of the current state of the vehicle (in sec$^{-1}$)"
   ]
  },
  {
   "cell_type": "code",
   "execution_count": 44,
   "metadata": {
    "collapsed": false
   },
   "outputs": [],
   "source": [
    "logger.setLevel(logging.WARNING) # can be changed dynamically by logger_hook\n",
    "\n",
    "period = 15\n",
    "def target_still(t,spot=array((7.,5.))): return spot\n",
    "def target_circle(t,R=4.,omega=2*pi/period):\n",
    "    p = omega*t\n",
    "    return R*hstack((sin(p),cos(p)))\n",
    "def target_cycloid(t,R=4.,r=2.,l=-5.,omega=2*pi/period):\n",
    "    p = omega*t\n",
    "    return hstack((\n",
    "        R*sin(p)+r*sin(l*p),\n",
    "        R*cos(p)+r*cos(l*p),\n",
    "        ))\n",
    "\n",
    "target = target_still\n",
    "#target = buffered(T=period,N=int(period*100))(target_circle)\n",
    "#target = buffered(T=period,N=int(period*100))(partial(target_cycloid,l=5))\n",
    "\n",
    "control = PIDController(\n",
    "      N=2,\n",
    "      gP=3.,\n",
    "      #gP=.5,\n",
    "      #gI=1.,\n",
    "      gD=5.,\n",
    "      #gD=7.,\n",
    "      target=blurred(0.05,shape=(2,))(target),\n",
    "      observe=(lambda state=zeros((4,)):state[:2]),\n",
    "      )\n",
    "\n",
    "syst = Vehicle(control)\n",
    "syst.launch(\n",
    "    ini=syst.makestate(\n",
    "        x=0.,\n",
    "        y=0.,\n",
    "        dx=10.,\n",
    "        dy=0.,\n",
    "        ),\n",
    "    crate=5.,\n",
    "    bounds=((-8.,-8.),(8.,8.)),\n",
    "    hooks=(partial(marker_hook,f=target,marker='o',s=20,label='target'),partial(logger_hook,logger=logger)),\n",
    "    maxtime=infty,\n",
    "    srate=25.,\n",
    "    taild=period+5.,\n",
    "    animate=dict(\n",
    "        repeat=False,\n",
    "        ),\n",
    "    )"
   ]
  },
  {
   "cell_type": "code",
   "execution_count": null,
   "metadata": {
    "collapsed": true
   },
   "outputs": [],
   "source": []
  }
 ],
 "metadata": {
  "kernelspec": {
   "display_name": "Python 3",
   "language": "python",
   "name": "python3"
  },
  "language_info": {
   "codemirror_mode": {
    "name": "ipython",
    "version": 3
   },
   "file_extension": ".py",
   "mimetype": "text/x-python",
   "name": "python",
   "nbconvert_exporter": "python",
   "pygments_lexer": "ipython3",
   "version": "3.4.3"
  }
 },
 "nbformat": 4,
 "nbformat_minor": 0
}
