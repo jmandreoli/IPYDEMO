{
 "cells": [
  {
   "cell_type": "markdown",
   "metadata": {},
   "source": [
    "# Acceleration controller\n",
    "\n",
    "Consider the system of a point body (vehicle) of mass $1$, moving without friction, and controlled by an external force.\n",
    "\n",
    "The equations of the dynamics are given by\n",
    "\n",
    "\\begin{eqnarray*}\n",
    "\\left(\\begin{array}{l}\\ddot{x}\\\\ \\ddot{y}\\end{array}\\right) & = & \\gamma(t)\n",
    "\\end{eqnarray*}\n",
    "\n",
    "$\\gamma$ is assumed piecewise constant, with changing points at regular intervals (the control rate). At each changing points, the value of $\\gamma$ is acquired from a controller. At regular intervals, the controller has access to the current simulation time $t$ and state of the system $(x,y,\\dot{x},\\dot{y})$. The controller can thus keep a history of its observations, and base its decisions on it (control loop).\n",
    "\n",
    "Documentation: [here](../doc/_build/html/odesimu.html)"
   ]
  },
  {
   "cell_type": "code",
   "execution_count": 1,
   "metadata": {},
   "outputs": [
    {
     "name": "stdout",
     "output_type": "stream",
     "text": [
      "Populating the interactive namespace from numpy and matplotlib\n"
     ]
    }
   ],
   "source": [
    "%pylab qt5\n",
    "# for external animation (less resource consuming), use appropriate backend, e.g. qt5\n",
    "\n",
    "import logging\n",
    "from functools import partial\n",
    "from ipyshow import Setup\n",
    "from ipyshow.odesimu import System\n",
    "from ipyshow.odesimu.util import DPiecewiseFunc, buffered, blurred, logger_hook, PIDController, marker_hook"
   ]
  },
  {
   "cell_type": "markdown",
   "metadata": {},
   "source": [
    "## Vehicle class"
   ]
  },
  {
   "cell_type": "code",
   "execution_count": 2,
   "metadata": {},
   "outputs": [],
   "source": [
    "#----------------------------------------------------------------------------------------------------\n",
    "class Vehicle(System):\n",
    "#----------------------------------------------------------------------------------------------------\n",
    "\n",
    "  shadowshape = (2,)\n",
    "\n",
    "  #integrator = dict(name='dopri5')\n",
    "  # don't use the default intergrator lsoda, as it uses forward looking (not consistent with control)\n",
    "  integrator = dict(name='dop853')\n",
    "\n",
    "  def __init__(self,control):\n",
    "    self.control = control\n",
    "    def main(t,state):\n",
    "      x,y,xʹ,yʹ = state\n",
    "      xʺ,yʺ = control(t)\n",
    "      return array((xʹ,yʹ,xʺ,yʺ))\n",
    "    self.main = main\n",
    "    self.jac = lambda t,state,c=array(((0.,0.,1.,0.),(0.,0.,0.,1.),(0.,0.,0.,0.),(0.,0.,0.,0.))): c\n",
    "    def fordisplay(state):\n",
    "      x,y,xʹ,yʹ = state\n",
    "      live = x,y\n",
    "      return live,live\n",
    "    self.fordisplay = fordisplay\n",
    "\n",
    "  def display(self,ax,bounds=None,**ka):\n",
    "    ax.scatter((0,),(0,),c='k',marker='o')\n",
    "    diag_s = ax.scatter((),(),c='b',marker='o',label='vehicle')\n",
    "    tail_l, = ax.plot((),(),'y')\n",
    "    ax.set_title(r'Vehicle under acceleration control')\n",
    "    ax.set_xlim(bounds[0][0],bounds[1][0])\n",
    "    ax.set_ylim(bounds[0][1],bounds[1][1])\n",
    "    def disp(t,live,tail):\n",
    "      diag_s.set_offsets((live,))\n",
    "      tail_l.set_data(tail[:,0],tail[:,1])\n",
    "    anim = super().display(ax,disp,**ka)\n",
    "    ax.legend(fontsize='x-small') # must be last\n",
    "    return anim\n",
    "\n",
    "  @staticmethod\n",
    "  @Setup(\n",
    "    'x,y: position of vehicle [m]',\n",
    "    'xʹ,yʹ: speed of vehicle [m.sec^-1]',\n",
    "    x=0.,y=0.,xʹ=0.,yʹ=0.\n",
    "  )\n",
    "  def makestate(x,y,xʹ,yʹ): return array((x,y,xʹ,yʹ))\n",
    "\n",
    "  @Setup(\n",
    "    System.launch,\n",
    "    'bounds: corners of display',\n",
    "    taild=10.,hooks=(partial(logger_hook,logger=logging.getLogger()),)\n",
    "  )\n",
    "  def launch(self,*a,**ka): return super().launch(*a,listeners=((self.control.reset,self.control.update),),**ka)\n"
   ]
  },
  {
   "cell_type": "code",
   "execution_count": 3,
   "metadata": {},
   "outputs": [
    {
     "data": {
      "text/html": [
       "<TABLE><TBODY><TR><TD colspan=\"4\" style=\"background-color: gray; color: white; font-weight: bold;\">Vehicle.launch(self, *a, **ka)</TD></TR><TR><TH>ini</TH><TD style=\"max-width:2cm; white-space: nowrap; overflow: hidden\" title=\"\"></TD><TD>initial state</TD><TD/></TR><TR><TH>srate</TH><TD style=\"max-width:2cm; white-space: nowrap; overflow: hidden\" title=\"25.0\">25.0</TD><TD>sampling rate</TD><TD> <SPAN>sec</SPAN><SUP>-1</SUP></TD></TR><TR><TH>maxtime</TH><TD style=\"max-width:2cm; white-space: nowrap; overflow: hidden\" title=\"inf\">inf</TD><TD>total simulation time length</TD><TD> <SPAN>sec</SPAN></TD></TR><TR><TH>taild</TH><TD style=\"max-width:2cm; white-space: nowrap; overflow: hidden\" title=\"10.0\">10.0</TD><TD>shadow duration</TD><TD> <SPAN>sec</SPAN></TD></TR><TR><TH>hooks</TH><TD style=\"max-width:2cm; white-space: nowrap; overflow: hidden\" title=\"(functools.partial(&lt;function logger_hook at 0x7f8fe0cce6a8&gt;, logger=&lt;RootLogger root (WARNING)&gt;),)\">(functools.partial(&lt;function logger_hook at 0x7f8fe0cce6a8&gt;, logger=&lt;RootLogger root (WARNING)&gt;),)</TD><TD>tuple of display hooks</TD><TD/></TR><TR><TH>listeners</TH><TD style=\"max-width:2cm; white-space: nowrap; overflow: hidden\" title=\"\"></TD><TD>tuple of state trackers</TD><TD/></TR><TR><TH>bounds</TH><TD style=\"max-width:2cm; white-space: nowrap; overflow: hidden\" title=\"\"></TD><TD>corners of display</TD><TD/></TR><TR><TD colspan=\"4\" style=\"background-color: gray; color: white; font-weight: bold;\">Vehicle.makestate(x, y, xʹ, yʹ)</TD></TR><TR><TH>x,y</TH><TD style=\"max-width:2cm; white-space: nowrap; overflow: hidden\" title=\"0.0,0.0\">0.0,0.0</TD><TD>position of vehicle</TD><TD> <SPAN>m</SPAN></TD></TR><TR><TH>xʹ,yʹ</TH><TD style=\"max-width:2cm; white-space: nowrap; overflow: hidden\" title=\"0.0,0.0\">0.0,0.0</TD><TD>speed of vehicle</TD><TD> <SPAN>m</SPAN> <SPAN>sec</SPAN><SUP>-1</SUP></TD></TR><TR><TD colspan=\"4\" style=\"background-color: gray; color: white; font-weight: bold;\">PIDController.__init__(self, gP, gI=None, gD=None, observe=None, action=None, crate=None, **ka)</TD></TR><TR><TH>N</TH><TD style=\"max-width:2cm; white-space: nowrap; overflow: hidden\" title=\"\"></TD><TD>size of the buffer of change points</TD><TD/></TR><TR><TH>gP</TH><TD style=\"max-width:2cm; white-space: nowrap; overflow: hidden\" title=\"\"></TD><TD>proportional control gain as error quantity per observation quantity</TD><TD> <SPAN>err</SPAN></TD></TR><TR><TH>gI</TH><TD style=\"max-width:2cm; white-space: nowrap; overflow: hidden\" title=\"\"></TD><TD>integral control gain</TD><TD> <SPAN>err</SPAN> <SPAN>sec</SPAN><SUP>-1</SUP></TD></TR><TR><TH>gD</TH><TD style=\"max-width:2cm; white-space: nowrap; overflow: hidden\" title=\"\"></TD><TD>derivative control gain</TD><TD> <SPAN>err</SPAN> <SPAN>sec</SPAN></TD></TR><TR><TH>crate</TH><TD style=\"max-width:2cm; white-space: nowrap; overflow: hidden\" title=\"\"></TD><TD>control rate</TD><TD> <SPAN>sec</SPAN><SUP>-1</SUP></TD></TR><TR><TH>observe</TH><TD style=\"max-width:2cm; white-space: nowrap; overflow: hidden\" title=\"\"></TD><TD>input to observation transform</TD><TD/></TR><TR><TH>action</TH><TD style=\"max-width:2cm; white-space: nowrap; overflow: hidden\" title=\"\"></TD><TD>error to output transform</TD><TD/></TR></TBODY></TABLE>"
      ],
      "text/plain": [
       "**** Vehicle.launch(self, *a, **ka) ****\n",
       "    ini       : initial state []\n",
       "    srate     (25.0      ): sampling rate [sec^-1]\n",
       "    maxtime   (inf       ): total simulation time length [sec]\n",
       "    taild     (10.0      ): shadow duration [sec]\n",
       "    hooks     ((functools): tuple of display hooks []\n",
       "    listeners : tuple of state trackers []\n",
       "    bounds    : corners of display []\n",
       "**** Vehicle.makestate(x, y, xʹ, yʹ) ****\n",
       "    x,y       (0.0,0.0   ): position of vehicle [m]\n",
       "    xʹ,yʹ     (0.0,0.0   ): speed of vehicle [m.sec^-1]\n",
       "**** PIDController.__init__(self, gP, gI=None, gD=None, observe=None, action=None, crate=None, **ka) ****\n",
       "    N         : size of the buffer of change points []\n",
       "    gP        : proportional control gain as error quantity per observation quantity [err]\n",
       "    gI        : integral control gain [err.sec^-1]\n",
       "    gD        : derivative control gain [err.sec]\n",
       "    crate     : control rate [sec^-1]\n",
       "    observe   : input to observation transform []\n",
       "    action    : error to output transform []"
      ]
     },
     "execution_count": 3,
     "metadata": {},
     "output_type": "execute_result"
    }
   ],
   "source": [
    "Setup.display(Vehicle,PIDController)"
   ]
  },
  {
   "cell_type": "code",
   "execution_count": 4,
   "metadata": {},
   "outputs": [
    {
     "data": {
      "text/plain": [
       "<matplotlib.animation.FuncAnimation at 0x7f8fd86af7f0>"
      ]
     },
     "execution_count": 4,
     "metadata": {},
     "output_type": "execute_result"
    }
   ],
   "source": [
    "logging.basicConfig(level='WARN') # can be changed dynamically by logger_hook\n",
    "\n",
    "period = 15\n",
    "def target_still(t,spot=array((7.,5.))): return spot\n",
    "def target_circle(t,R=4.,ω=2*pi/period):\n",
    "  θ = ω*t\n",
    "  return R*hstack((sin(θ),cos(θ)))\n",
    "def target_cycloid(t,R=4.,r=2.,l=-5.,ω=2*pi/period):\n",
    "  θ = ω*t\n",
    "  return R*hstack((sin(θ),cos(θ)))+r*hstack((sin(l*θ),cos(l*θ)))\n",
    "\n",
    "#target = target_still\n",
    "#target = buffered(T=period,N=int(period*100))(target_circle)\n",
    "target = buffered(T=period,N=int(period*100))(partial(target_cycloid,l=5.))\n",
    "\n",
    "blur = .05\n",
    "#blur = None\n",
    "\n",
    "syst = Vehicle(\n",
    "  PIDController(\n",
    "    N=2,gP=30.,gI=8.,gD=30.,crate=30.,\n",
    "    observe=blurred(blur,offset=(.7,.5))(lambda t,state: target(t)-state[:2]),\n",
    "    action=None\n",
    "  )\n",
    ")\n",
    "syst.launch(\n",
    "  ini=syst.makestate(x=0.,y=0.,xʹ=0.,yʹ=0.),\n",
    "  bounds=((-8.,-8.),(8.,8.)),\n",
    "  hooks=(partial(marker_hook,f=target,marker='o',s=20,label='target'),partial(logger_hook,logger=logging.getLogger())),\n",
    "  taild=period+5.,\n",
    ")"
   ]
  },
  {
   "cell_type": "code",
   "execution_count": null,
   "metadata": {},
   "outputs": [],
   "source": []
  }
 ],
 "metadata": {
  "anaconda-cloud": {},
  "kernelspec": {
   "display_name": "Python 3",
   "language": "python",
   "name": "python3"
  },
  "language_info": {
   "codemirror_mode": {
    "name": "ipython",
    "version": 3
   },
   "file_extension": ".py",
   "mimetype": "text/x-python",
   "name": "python",
   "nbconvert_exporter": "python",
   "pygments_lexer": "ipython3",
   "version": "3.7.3"
  },
  "varInspector": {
   "cols": {
    "lenName": 16,
    "lenType": 16,
    "lenVar": 40
   },
   "kernels_config": {
    "python": {
     "delete_cmd_postfix": "",
     "delete_cmd_prefix": "del ",
     "library": "var_list.py",
     "varRefreshCmd": "print(var_dic_list())"
    },
    "r": {
     "delete_cmd_postfix": ") ",
     "delete_cmd_prefix": "rm(",
     "library": "var_list.r",
     "varRefreshCmd": "cat(var_dic_list()) "
    }
   },
   "types_to_exclude": [
    "module",
    "function",
    "builtin_function_or_method",
    "instance",
    "_Feature"
   ],
   "window_display": false
  }
 },
 "nbformat": 4,
 "nbformat_minor": 1
}
