{
 "cells": [
  {
   "cell_type": "markdown",
   "metadata": {},
   "source": [
    "# Acceleration controller\n",
    "\n",
    "Consider the system of a point body (vehicle) of mass $1$, moving without friction, and controlled by an external force.\n",
    "\n",
    "The equations of the dynamics are given by\n",
    "\n",
    "\\begin{eqnarray*}\n",
    "\\left(\\begin{array}{l}\\ddot{x}\\\\ \\ddot{y}\\end{array}\\right) & = & \\gamma(t)\n",
    "\\end{eqnarray*}\n",
    "\n",
    "$\\gamma$ is assumed piecewise constant, with changing points at regular intervals (the control rate). At each changing points, the value of $\\gamma$ is acquired from a controller, to which the current state of the system ($x,y,\\dot{x},\\dot{y}$) is communicated. The controller can thus keep a history of its observations, and base its decisions on it (control loop).\n",
    "\n",
    "Documentation: [here](../doc/_build/html/odesimu.html)"
   ]
  },
  {
   "cell_type": "code",
   "execution_count": 2,
   "metadata": {
    "collapsed": false
   },
   "outputs": [
    {
     "name": "stdout",
     "output_type": "stream",
     "text": [
      "Using matplotlib backend: Qt5Agg\n",
      "Populating the interactive namespace from numpy and matplotlib\n"
     ]
    }
   ],
   "source": [
    "%pylab\n",
    "# for inline animation (but slower and more resource consuming):\n",
    "#%pylab nbagg\n",
    "\n",
    "import logging\n",
    "from functools import partial\n",
    "from collections import ChainMap\n",
    "from ipyshow.odesimu.system import System, marker_hook\n",
    "from ipyshow.odesimu.util import DPiecewiseFunc, buffered, blurred, logger_hook, PIDController"
   ]
  },
  {
   "cell_type": "markdown",
   "metadata": {},
   "source": [
    "## Vehicle class"
   ]
  },
  {
   "cell_type": "code",
   "execution_count": 3,
   "metadata": {
    "collapsed": false
   },
   "outputs": [],
   "source": [
    "#----------------------------------------------------------------------------------------------------\n",
    "class Vehicle(System):\n",
    "#----------------------------------------------------------------------------------------------------\n",
    "\n",
    "    shadowshape = (2,)\n",
    "\n",
    "    #integrator = dict(name='dopri5')\n",
    "    # don't use the default intergrator lsoda, as it uses forward looking (not consistent with control)\n",
    "    integrator = dict(name='dop853')\n",
    "\n",
    "    def __init__(self,control):\n",
    "        \"\"\"\n",
    ":param control: (lateral) acceleration, in m/s^2\n",
    "        \"\"\"\n",
    "        self.control = control\n",
    "        def main(t,state):\n",
    "            x,y,dx,dy = state\n",
    "            ddx,ddy = control(t)\n",
    "            return array((dx,dy,ddx,ddy))\n",
    "        self.main = main\n",
    "        def fordisplay(state):\n",
    "            x,y,dx,dy = state\n",
    "            live = x,y\n",
    "            return live,live\n",
    "        self.fordisplay = fordisplay\n",
    "\n",
    "    def runstep(self,crate=None,ini=None,**ka):\n",
    "        self.control.reset(ini)\n",
    "        t0 = T = 1/crate\n",
    "        for t,y in super(Vehicle,self).runstep(ini=ini,**ka):\n",
    "            if t>t0: self.control.update(t,y); t0 += T\n",
    "            yield t,y\n",
    "\n",
    "    def display(self,ax,bounds=None,**ka):\n",
    "        ax.scatter((0,),(0,),c='k',marker='o')\n",
    "        diag_s = ax.scatter((),(),c='b',marker='o',label='vehicle')\n",
    "        tail_l, = ax.plot((),(),'y')\n",
    "        ax.set_title(r'Vehicle under acceleration control')\n",
    "        ax.set_xlim(bounds[0][0],bounds[1][0])\n",
    "        ax.set_ylim(bounds[0][1],bounds[1][1])\n",
    "        def disp(t,live,tail):\n",
    "            diag_s.set_offsets((live,))\n",
    "            tail_l.set_data(tail[:,0],tail[:,1])\n",
    "        anim = super(Vehicle,self).display(ax,disp,**ka)\n",
    "        ax.legend(fontsize='x-small')\n",
    "        return anim\n",
    "\n",
    "    @staticmethod\n",
    "    def makestate(x=0.,y=0.,dx=0.,dy=0.):\n",
    "        r\"\"\"\n",
    ":param x,y: initial position of vehicle [m]\n",
    ":param dx,dy: initial speed of vehicle [m.sec^-1]\n",
    "        \"\"\"\n",
    "        return array((x,y,dx,dy))\n",
    "\n",
    "    launchdefaults = ChainMap(\n",
    "        dict(\n",
    "            taild=10.,\n",
    "            hooks=(partial(logger_hook,logger=logging.getLogger()),),\n",
    "            ),\n",
    "        System.launchdefaults\n",
    "        )\n",
    "    \n",
    "    Help = (\n",
    "        ('bounds','corners of display'),\n",
    "        ('crate','control rate'),\n",
    "    )\n",
    "    Help += System.Help"
   ]
  },
  {
   "cell_type": "code",
   "execution_count": 4,
   "metadata": {
    "collapsed": false
   },
   "outputs": [
    {
     "name": "stdout",
     "output_type": "stream",
     "text": [
      "bounds                   corners of display\n",
      "crate                    control rate\n",
      "maxtime        inf       total simulation time length [sec]\n",
      "srate          25.0      sampling rate [sec^-1]\n",
      "taild          10.0      shadow duration [sec]\n",
      "hooks          ...       tuple of display hooks\n"
     ]
    }
   ],
   "source": [
    "print(Vehicle.launchhelp())"
   ]
  },
  {
   "cell_type": "code",
   "execution_count": 6,
   "metadata": {
    "collapsed": false
   },
   "outputs": [
    {
     "data": {
      "text/plain": [
       "<matplotlib.animation.FuncAnimation at 0x7f1b83eedf98>"
      ]
     },
     "execution_count": 6,
     "metadata": {},
     "output_type": "execute_result"
    }
   ],
   "source": [
    "logging.basicConfig(level='WARN') # can be changed dynamically by logger_hook\n",
    "\n",
    "period = 15\n",
    "def target_still(t,spot=array((7.,5.))): return spot\n",
    "def target_circle(t,R=4.,omega=2*pi/period):\n",
    "    p = omega*t\n",
    "    return R*hstack((sin(p),cos(p)))\n",
    "def target_cycloid(t,R=4.,r=2.,l=-5.,omega=2*pi/period):\n",
    "    p = omega*t\n",
    "    return hstack((\n",
    "        R*sin(p)+r*sin(l*p),\n",
    "        R*cos(p)+r*cos(l*p),\n",
    "        ))\n",
    "\n",
    "#target = target_still\n",
    "target = buffered(T=period,N=int(period*100))(target_circle)\n",
    "#target = buffered(T=period,N=int(period*100))(partial(target_cycloid,l=5))\n",
    "\n",
    "control = PIDController(\n",
    "      N=2,\n",
    "      gP=3.,\n",
    "      #gP=.5,\n",
    "      #gI=1.,\n",
    "      gD=5.,\n",
    "      #gD=7.,\n",
    "      target=blurred(0.01,shape=(2,))(target),\n",
    "      observe=(lambda state=zeros((4,)):state[:2]),\n",
    "      )\n",
    "\n",
    "syst = Vehicle(control)\n",
    "syst.launch(\n",
    "    ini=syst.makestate(x=0.,y=0.,dx=10.,dy=0.),\n",
    "    crate=5.,\n",
    "    bounds=((-8.,-8.),(8.,8.)),\n",
    "    hooks=(partial(marker_hook,f=target,marker='o',s=20,label='target'),partial(logger_hook,logger=logging.getLogger())),\n",
    "    taild=period+5.,\n",
    ")"
   ]
  },
  {
   "cell_type": "code",
   "execution_count": null,
   "metadata": {
    "collapsed": true
   },
   "outputs": [],
   "source": []
  }
 ],
 "metadata": {
  "anaconda-cloud": {},
  "kernelspec": {
   "display_name": "Python [default]",
   "language": "python",
   "name": "python3"
  },
  "language_info": {
   "codemirror_mode": {
    "name": "ipython",
    "version": 3
   },
   "file_extension": ".py",
   "mimetype": "text/x-python",
   "name": "python",
   "nbconvert_exporter": "python",
   "pygments_lexer": "ipython3",
   "version": "3.5.2"
  }
 },
 "nbformat": 4,
 "nbformat_minor": 0
}
