{
 "cells": [
  {
   "cell_type": "markdown",
   "metadata": {},
   "source": [
    "# Double Pendulum system\n",
    "\n",
    "Consider the system composed of two pendulums of length $l_1,l_2$, and mass $m_1,m_2$ concentrated at one end, respectively. The pivot of the first pendulum is attached to a fix point, that of the second pendulum is attached to the dangling bob of the first pendulum. The system is submitted to a uniform, constant gravitational acceleration field $g$ and evolves without friction.\n",
    "\n",
    "The generalised coordinates of the system are the angles $\\theta_1,\\theta_2$ of each pendulum with the vertical downward direction. The standard (Cartesian) coordinates are then given by\n",
    "\n",
    "\\begin{equation*}\n",
    "\\begin{array}{rcl}\n",
    "x_1 & = & l_1\\sin\\theta_1\\\\\n",
    "y_1 & = & -l_1\\cos\\theta_1\n",
    "\\end{array}\n",
    "\\hspace{2cm}\n",
    "\\begin{array}{rcl}\n",
    "x_2 & = & l_1\\sin\\theta_1+l_2\\sin\\theta_2\\\\\n",
    "y_2 & = & -l_1\\cos\\theta_1-l_2\\cos\\theta_2\n",
    "\\end{array}\n",
    "\\end{equation*}\n",
    "\n",
    "The only active forces are the weights of the form $-\\nabla V(m_i,x_i,y_i)$ with $V(m,x,y)=mgy$. Hence the Lagrangian\n",
    "\n",
    "\\begin{eqnarray*}\n",
    "\\mathcal{L} & = &\n",
    "\\underbrace{\n",
    "\\frac{1}{2}m_1l_1^2\\dot{\\theta}_1^2+\\frac{1}{2}m_2(l_1^2\\dot{\\theta}_1^2+l_2^2\\dot{\\theta}_2^2+\n",
    "2l_1l_2\\dot{\\theta}_1\\dot{\\theta}_2\\cos(\\theta_1-\\theta_2))\n",
    "}_{\\textrm{kinetic energy}}\n",
    "+\n",
    "\\underbrace{\n",
    "m_1gl_1\\cos\\theta_1+m_2g(l_1\\cos\\theta_1+l_2\\cos\\theta_2)\n",
    "}_{-\\textrm{potential energy}}\\\\\n",
    "& = &\n",
    "\\frac{1}{2}ml_1^2\\dot{\\theta}_1^2+\\frac{1}{2}m_2l_2^2\\dot{\\theta}_2^2+\n",
    "m_2l_1l_2\\dot{\\theta}_1\\dot{\\theta}_2\\cos\\Delta+\n",
    "mgl_1\\cos\\theta_1+m_2gl_2\\cos\\theta_2\n",
    "\\end{eqnarray*}\n",
    "\n",
    "where $m\\triangleq m_1+m_2$ and $\\Delta\\triangleq\\theta_1-\\theta_2$. After simplification, the equations of the dynamics are given by:\n",
    "\n",
    "\\begin{equation*}\n",
    "\\begin{array}{rrcl}\n",
    "\\left[\\frac{\\mathbf{d}}{\\mathbf{d}t}\\frac{\\partial\\mathcal{L}}{\\partial\\dot{\\theta}_1} = \\frac{\\partial\\mathcal{L}}{\\partial\\theta_1}\\right]\n",
    "\\hspace{.2cm} &\n",
    "ml_1\\ddot{\\theta}_1+m_2l_2\\ddot{\\theta}_2\\cos\\Delta\n",
    "& = &\n",
    "-m_2l_2\\dot{\\theta}_2^2\\sin\\Delta-mg\\sin\\theta_1\n",
    "\\\\\n",
    "\\left[\\frac{\\mathbf{d}}{\\mathbf{d}t}\\frac{\\partial\\mathcal{L}}{\\partial\\dot{\\theta}_2} = \\frac{\\partial\\mathcal{L}}{\\partial\\theta_2}\\right]\n",
    "\\hspace{.2cm} &\n",
    "m_2l_1\\ddot{\\theta}_1\\cos\\Delta+m_2l_2\\ddot{\\theta}_2\n",
    "& = &\n",
    "m_2l_1\\dot{\\theta}_1^2\\sin\\Delta-m_2g\\sin\\theta_2\n",
    "\\end{array}\n",
    "\\end{equation*}\n",
    "\n",
    "which rewrites as\n",
    "\n",
    "\\begin{equation*}\n",
    "\\left\\{\n",
    "\\begin{array}{rcl}\n",
    "ab\\ddot{\\theta}_1 + \\ddot{\\theta}_2\\cos\\Delta & = & u\n",
    "\\\\\n",
    "b\\ddot{\\theta}_1\\cos\\Delta + \\ddot{\\theta}_2 & = & v\n",
    "\\end{array}\n",
    "\\right.\n",
    "\\hspace{1cm}\\textrm{where}\\hspace{1cm}\n",
    "\\left|\n",
    "\\begin{array}{l}\n",
    "a \\triangleq \\frac{m}{m_2}=1+\\frac{m_1}{m_2}\n",
    "\\hspace{1cm}\n",
    "b \\triangleq \\frac{l_1}{l_2}\n",
    "\\hspace{1cm}\n",
    "c \\triangleq \\frac{g}{l_2}\n",
    "\\\\\n",
    "u \\triangleq -\\dot{\\theta}_2^2\\sin\\Delta-ac\\sin\\theta_1\n",
    "\\hspace{1cm}\n",
    "v \\triangleq b\\dot{\\theta}_1^2\\sin\\Delta-c\\sin\\theta_2\n",
    "\\end{array}\n",
    "\\right.\n",
    "\\end{equation*}\n",
    "\n",
    "The solution in $\\ddot{\\theta}_1,\\ddot{\\theta}_2$ is therefore\n",
    "\n",
    "\\begin{equation*}\n",
    "\\left\\{\n",
    "\\begin{array}{rcl}\n",
    "\\ddot{\\theta}_1 & = &\n",
    "\\frac{u-v\\cos\\Delta}{b(a-\\cos^2\\Delta)}\n",
    "\\\\\n",
    "\\ddot{\\theta}_2 & = &\n",
    "\\frac{av-u\\cos\\Delta}{a-\\cos^2\\Delta}\n",
    "\\end{array}\n",
    "\\right.\n",
    "\\end{equation*}\n",
    "\n",
    "Documentation: [here](../doc/_build/html/odesimu.html)"
   ]
  },
  {
   "cell_type": "code",
   "execution_count": 1,
   "metadata": {
    "collapsed": false
   },
   "outputs": [
    {
     "name": "stdout",
     "output_type": "stream",
     "text": [
      "Using matplotlib backend: Qt5Agg\n",
      "Populating the interactive namespace from numpy and matplotlib\n"
     ]
    }
   ],
   "source": [
    "%pylab\n",
    "# for inline animation (but slower and more resource consuming):\n",
    "#%pylab nbagg\n",
    "\n",
    "import logging\n",
    "from functools import partial\n",
    "from ipyshow.util import Setup\n",
    "from ipyshow.odesimu.system import System\n",
    "from ipyshow.odesimu.util import logger_hook"
   ]
  },
  {
   "cell_type": "markdown",
   "metadata": {},
   "source": [
    "## DoublePendulum class"
   ]
  },
  {
   "cell_type": "code",
   "execution_count": 2,
   "metadata": {
    "collapsed": false
   },
   "outputs": [],
   "source": [
    "#----------------------------------------------------------------------------------------------------\n",
    "class DoublePendulum (System):\n",
    "#----------------------------------------------------------------------------------------------------\n",
    "\n",
    "    shadowshape = (2,)\n",
    "\n",
    "    @Setup(\n",
    "        'G: intensity of the gravitation [m.sec^-2]',\n",
    "        'L1,L2: lengths of the pendulums [m]',\n",
    "        'M1,M2: masses of the pendulums [kg]',\n",
    "    )\n",
    "    def __init__(self,L1,L2,M1,M2,G):\n",
    "        self.L1, self.L2, self.M1, self.M2, self.G = L1, L2, M1, M2, G\n",
    "        def main(t,state,a=1+M1/M2,b=L1/L2,c=G/L2):\n",
    "            theta1,dtheta1,theta2,dtheta2 = state\n",
    "            delta = theta1-theta2\n",
    "            cosdelta, sindelta = cos(delta), sin(delta)\n",
    "            u = -square(dtheta2)*sindelta-a*c*sin(theta1)\n",
    "            v = b*square(dtheta1)*sindelta-c*sin(theta2)\n",
    "            D = a-square(cosdelta)\n",
    "            ddtheta1 = (u-v*cosdelta)/(D*b)\n",
    "            ddtheta2 = (a*v-u*cosdelta)/D\n",
    "            return array((dtheta1, ddtheta1, dtheta2, ddtheta2))\n",
    "        self.main = main\n",
    "        def fordisplay(state):\n",
    "            theta1,w1,theta2,w2 = state\n",
    "            x1 = L1*sin(theta1)\n",
    "            y1 = -L1*cos(theta1)\n",
    "            x2 = x1 + L2*sin(theta2)\n",
    "            y2 = y1 - L2*cos(theta2)\n",
    "            live = (x1,y1),(x2,y2)\n",
    "            return live, live[1]\n",
    "        self.fordisplay = fordisplay\n",
    "\n",
    "    def display(self,ax,refsize=None,**ka):\n",
    "        L = 1.05*(self.L1+self.L2)\n",
    "        ax.set_xlim(-L,L)\n",
    "        ax.set_ylim(-L,L)\n",
    "        ax.scatter((0.,),(0.,),c='k',marker='o',s=refsize)\n",
    "        m1,m2 = self.M1,self.M2\n",
    "        r = clip(sqrt(m1/m2),1./refsize,refsize)\n",
    "        sz = (refsize*r,refsize/r)\n",
    "        diag_l, = ax.plot((),(),'k')\n",
    "        diag_s = ax.scatter((),(),s=sz,marker='o',c=('b','r'))\n",
    "        tail_l, = ax.plot((),(),'y')\n",
    "        ax.set_title(r'trajectory:cahotic')\n",
    "        def disp(t,live,tail):\n",
    "            (x1,y1),(x2,y2) = live\n",
    "            diag_l.set_data((0,x1,x2),(0,y1,y2))\n",
    "            diag_s.set_offsets(((x1,y1),(x2,y2)))\n",
    "            tail_l.set_data(tail[:,0],tail[:,1])\n",
    "        return super(DoublePendulum,self).display(ax,disp,**ka)\n",
    "\n",
    "    @staticmethod\n",
    "    @Setup(\n",
    "        'theta1,theta2: angles of the pendulums with downward vertical [deg]',\n",
    "        'w1,w2: initial angular speeds [deg.sec^-1]',\n",
    "        w1=0.,w2=0.\n",
    "    )\n",
    "    def makestate(theta1,w1,theta2,w2,c=pi/180.):\n",
    "        return array((theta1,w1,theta2,w2))*c\n",
    "\n",
    "    @Setup(\n",
    "        'refsize: average size (area) of the bobs for display [pt^2]',\n",
    "        taild=5.,refsize=100.,hooks=(partial(logger_hook,logger=logging.getLogger()),)\n",
    "    )\n",
    "    def launch(self,*a,**ka): return super().launch(*a,**ka)"
   ]
  },
  {
   "cell_type": "code",
   "execution_count": 3,
   "metadata": {
    "collapsed": false
   },
   "outputs": [
    {
     "data": {
      "text/html": [
       "<TABLE><TBODY><TR><TD style=\"background-color: gray; color: white; font-weight: bold;\" colspan=\"4\">DoublePendulum.launch(self, *a, **ka)</TD></TR><TR><TH>refsize</TH><TD style=\"max-width:2cm; white-space: nowrap; overflow: hidden\">100.0</TD><TD>average size (area) of the bobs for display</TD><TD><SPAN>pt</SPAN><SUP>2</SUP></TD></TR><TR><TH>maxtime</TH><TD style=\"max-width:2cm; white-space: nowrap; overflow: hidden\">inf</TD><TD>total simulation time length</TD><TD><SPAN>sec</SPAN></TD></TR><TR><TH>srate</TH><TD style=\"max-width:2cm; white-space: nowrap; overflow: hidden\">25.0</TD><TD>sampling rate</TD><TD><SPAN>sec</SPAN><SUP>-1</SUP></TD></TR><TR><TH>taild</TH><TD style=\"max-width:2cm; white-space: nowrap; overflow: hidden\">5.0</TD><TD>shadow duration</TD><TD><SPAN>sec</SPAN></TD></TR><TR><TH>hooks</TH><TD style=\"max-width:2cm; white-space: nowrap; overflow: hidden\">(functools.partial(&lt;function logger_hook at 0x7f3ab9453268&gt;, logger=&lt;logging.RootLogger object at 0x7f3abe162d30&gt;),)</TD><TD>tuple of display hooks</TD></TR><TR><TH>ini</TH><TD style=\"max-width:2cm; white-space: nowrap; overflow: hidden\"></TD><TD>initial state</TD></TR><TR><TD style=\"background-color: gray; color: white; font-weight: bold;\" colspan=\"4\">DoublePendulum.makestate(theta1, w1, theta2, w2, c=0.017453292519943295)</TD></TR><TR><TH>theta1,theta2</TH><TD style=\"max-width:2cm; white-space: nowrap; overflow: hidden\"></TD><TD>angles of the pendulums with downward vertical</TD><TD><SPAN>deg</SPAN></TD></TR><TR><TH>w1,w2</TH><TD style=\"max-width:2cm; white-space: nowrap; overflow: hidden\"></TD><TD>initial angular speeds</TD><TD><SPAN>deg</SPAN> <SPAN>sec</SPAN><SUP>-1</SUP></TD></TR><TR><TD style=\"background-color: gray; color: white; font-weight: bold;\" colspan=\"4\">DoublePendulum.__init__(self, L1, L2, M1, M2, G)</TD></TR><TR><TH>G</TH><TD style=\"max-width:2cm; white-space: nowrap; overflow: hidden\"></TD><TD>intensity of the gravitation</TD><TD><SPAN>m</SPAN> <SPAN>sec</SPAN><SUP>-2</SUP></TD></TR><TR><TH>L1,L2</TH><TD style=\"max-width:2cm; white-space: nowrap; overflow: hidden\"></TD><TD>lengths of the pendulums</TD><TD><SPAN>m</SPAN></TD></TR><TR><TH>M1,M2</TH><TD style=\"max-width:2cm; white-space: nowrap; overflow: hidden\"></TD><TD>masses of the pendulums</TD><TD><SPAN>kg</SPAN></TD></TR><TR><TD style=\"background-color: gray; color: white; font-weight: bold;\" colspan=\"4\">PIDController.__init__(self, gP, gI, gD, observe, target, **ka)</TD></TR><TR><TH>gP</TH><TD style=\"max-width:2cm; white-space: nowrap; overflow: hidden\">0.0</TD><TD>control gain (proportional)</TD></TR><TR><TH>gI</TH><TD style=\"max-width:2cm; white-space: nowrap; overflow: hidden\">0.0</TD><TD>control gain (integral)</TD></TR><TR><TH>gD</TH><TD style=\"max-width:2cm; white-space: nowrap; overflow: hidden\">0.0</TD><TD>control gain (derivative)</TD></TR><TR><TH>observe</TH><TD style=\"max-width:2cm; white-space: nowrap; overflow: hidden\"></TD><TD>observation function</TD></TR><TR><TH>target</TH><TD style=\"max-width:2cm; white-space: nowrap; overflow: hidden\"></TD><TD>target function</TD></TR><TR><TH>N</TH><TD style=\"max-width:2cm; white-space: nowrap; overflow: hidden\"></TD><TD>size of the buffer of change points</TD></TR></TBODY></TABLE>"
      ],
      "text/plain": [
       "**** DoublePendulum.launch(self, *a, **ka) ****\n",
       "    refsize   (100.0     ): average size (area) of the bobs for display [pt^2]\n",
       "    maxtime   (inf       ): total simulation time length [sec]\n",
       "    srate     (25.0      ): sampling rate [sec^-1]\n",
       "    taild     (5.0       ): shadow duration [sec]\n",
       "    hooks     ((functools): tuple of display hooks\n",
       "    ini       : initial state\n",
       "**** DoublePendulum.makestate(theta1, w1, theta2, w2, c=0.017453292519943295) ****\n",
       "    theta1,theta2: angles of the pendulums with downward vertical [deg]\n",
       "    w1,w2     : initial angular speeds [deg.sec^-1]\n",
       "**** DoublePendulum.__init__(self, L1, L2, M1, M2, G) ****\n",
       "    G         : intensity of the gravitation [m.sec^-2]\n",
       "    L1,L2     : lengths of the pendulums [m]\n",
       "    M1,M2     : masses of the pendulums [kg]\n",
       "**** PIDController.__init__(self, gP, gI, gD, observe, target, **ka) ****\n",
       "    gP        (0.0       ): control gain (proportional)\n",
       "    gI        (0.0       ): control gain (integral)\n",
       "    gD        (0.0       ): control gain (derivative)\n",
       "    observe   : observation function\n",
       "    target    : target function\n",
       "    N         : size of the buffer of change points"
      ]
     },
     "execution_count": 3,
     "metadata": {},
     "output_type": "execute_result"
    }
   ],
   "source": [
    "Setup"
   ]
  },
  {
   "cell_type": "code",
   "execution_count": 4,
   "metadata": {
    "collapsed": false
   },
   "outputs": [
    {
     "data": {
      "text/plain": [
       "<matplotlib.animation.FuncAnimation at 0x7f3a805bff98>"
      ]
     },
     "execution_count": 4,
     "metadata": {},
     "output_type": "execute_result"
    }
   ],
   "source": [
    "logging.basicConfig(level='WARN') # can be changed dynamically by logger_hook\n",
    "syst = DoublePendulum(M1=3.,L1=4.,M2=1.,L2=2.,G=9.807,); ini = dict(theta1=180.,theta2=179.,w1=45.,w2=-45.)\n",
    "#syst = DoublePendulum(M1=3.,L1=4.,M2=1.,L2=2.,G=1.622,); ini = dict(theta1=180.,theta2=179.,w1=45.,w2=-45.) # the same on the Moon ...\n",
    "syst.launch(ini=syst.makestate(**ini))"
   ]
  },
  {
   "cell_type": "code",
   "execution_count": null,
   "metadata": {
    "collapsed": true
   },
   "outputs": [],
   "source": []
  }
 ],
 "metadata": {
  "anaconda-cloud": {},
  "kernelspec": {
   "display_name": "Python [default]",
   "language": "python",
   "name": "python3"
  },
  "language_info": {
   "codemirror_mode": {
    "name": "ipython",
    "version": 3
   },
   "file_extension": ".py",
   "mimetype": "text/x-python",
   "name": "python",
   "nbconvert_exporter": "python",
   "pygments_lexer": "ipython3",
   "version": "3.5.2"
  }
 },
 "nbformat": 4,
 "nbformat_minor": 0
}
