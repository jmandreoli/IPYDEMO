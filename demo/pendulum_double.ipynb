{
 "cells": [
  {
   "cell_type": "markdown",
   "metadata": {},
   "source": [
    "# Double Pendulum system\n",
    "\n",
    "Consider the system composed of two pendulums of length $l_1,l_2$, and mass $m_1,m_2$ concentrated at one end, respectively. The pivot of the first pendulum is attached to a fix point, that of the second pendulum is attached to the dangling bob of the first pendulum. The system is submitted to a uniform, constant gravitational acceleration field $g$ and evolves without friction.\n",
    "\n",
    "The generalised coordinates of the system are the angles $\\theta_1,\\theta_2$ of each pendulum with the vertical downward direction. The standard (Cartesian) coordinates are then given by\n",
    "\n",
    "\\begin{equation*}\n",
    "\\begin{array}{rcl}\n",
    "x_1 & = & l_1\\sin\\theta_1\\\\\n",
    "y_1 & = & -l_1\\cos\\theta_1\n",
    "\\end{array}\n",
    "\\hspace{2cm}\n",
    "\\begin{array}{rcl}\n",
    "x_2 & = & l_1\\sin\\theta_1+l_2\\sin\\theta_2\\\\\n",
    "y_2 & = & -l_1\\cos\\theta_1-l_2\\cos\\theta_2\n",
    "\\end{array}\n",
    "\\end{equation*}\n",
    "\n",
    "The only active forces are the weights of the form $-\\nabla V(m_i,x_i,y_i)$ with $V(m,x,y)=mgy$. Hence the Lagrangian\n",
    "\n",
    "\\begin{eqnarray*}\n",
    "\\mathcal{L} & = &\n",
    "\\underbrace{\n",
    "\\frac{1}{2}m_1l_1^2\\dot{\\theta}_1^2+\\frac{1}{2}m_2(l_1^2\\dot{\\theta}_1^2+l_2^2\\dot{\\theta}_2^2+\n",
    "2l_1l_2\\dot{\\theta}_1\\dot{\\theta}_2\\cos(\\theta_1-\\theta_2))\n",
    "}_{\\textrm{kinetic energy}}\n",
    "\\underbrace{\n",
    "+m_1gl_1\\cos\\theta_1+m_2g(l_1\\cos\\theta_1+l_2\\cos\\theta_2)\n",
    "}_{-\\textrm{potential energy}}\\\\\n",
    "& = &\n",
    "\\frac{1}{2}ml_1^2\\dot{\\theta}_1^2+\\frac{1}{2}m_2l_2^2\\dot{\\theta}_2^2+\n",
    "m_2l_1l_2\\dot{\\theta}_1\\dot{\\theta}_2\\cos\\Delta+\n",
    "mgl_1\\cos\\theta_1+m_2gl_2\\cos\\theta_2\n",
    "\\end{eqnarray*}\n",
    "\n",
    "where $m\\triangleq m_1+m_2$ and $\\Delta\\triangleq\\theta_1-\\theta_2$. After simplification, the equations of the dynamics are given by:\n",
    "\n",
    "\\begin{equation*}\n",
    "\\begin{array}{rrcl}\n",
    "\\left[\\frac{\\mathbf{d}}{\\mathbf{d}t}\\frac{\\partial\\mathcal{L}}{\\partial\\dot{\\theta}_1} = \\frac{\\partial\\mathcal{L}}{\\partial\\theta_1}\\right]\n",
    "\\hspace{.2cm} &\n",
    "ml_1\\ddot{\\theta}_1+m_2l_2\\ddot{\\theta}_2\\cos\\Delta\n",
    "& = &\n",
    "-m_2l_2\\dot{\\theta}_2^2\\sin\\Delta-mg\\sin\\theta_1\n",
    "\\\\\n",
    "\\left[\\frac{\\mathbf{d}}{\\mathbf{d}t}\\frac{\\partial\\mathcal{L}}{\\partial\\dot{\\theta}_2} = \\frac{\\partial\\mathcal{L}}{\\partial\\theta_2}\\right]\n",
    "\\hspace{.2cm} &\n",
    "m_2l_1\\ddot{\\theta}_1\\cos\\Delta+m_2l_2\\ddot{\\theta}_2\n",
    "& = &\n",
    "m_2l_1\\dot{\\theta}_1^2\\sin\\Delta-m_2g\\sin\\theta_2\n",
    "\\end{array}\n",
    "\\end{equation*}\n",
    "\n",
    "which rewrites as\n",
    "\n",
    "\\begin{equation*}\n",
    "\\left\\{\n",
    "\\begin{array}{rcl}\n",
    "ab\\ddot{\\theta}_1 + \\ddot{\\theta}_2\\cos\\Delta & = & u\n",
    "\\\\\n",
    "b\\ddot{\\theta}_1\\cos\\Delta + \\ddot{\\theta}_2 & = & v\n",
    "\\end{array}\n",
    "\\right.\n",
    "\\hspace{1cm}\\textrm{where}\\hspace{1cm}\n",
    "\\left|\n",
    "\\begin{array}{l}\n",
    "a \\triangleq \\frac{m}{m_2}=1+\\frac{m_1}{m_2}\n",
    "\\hspace{1cm}\n",
    "b \\triangleq \\frac{l_1}{l_2}\n",
    "\\hspace{1cm}\n",
    "c \\triangleq \\frac{g}{l_2}\n",
    "\\\\\n",
    "u \\triangleq -\\dot{\\theta}_2^2\\sin\\Delta-ac\\sin\\theta_1\n",
    "\\hspace{1cm}\n",
    "v \\triangleq b\\dot{\\theta}_1^2\\sin\\Delta-c\\sin\\theta_2\n",
    "\\end{array}\n",
    "\\right.\n",
    "\\end{equation*}\n",
    "\n",
    "The solution in $\\ddot{\\theta}_1,\\ddot{\\theta}_2$ is therefore\n",
    "\n",
    "\\begin{equation*}\n",
    "\\left\\{\n",
    "\\begin{array}{rcl}\n",
    "\\ddot{\\theta}_1 & = &\n",
    "\\frac{u-v\\cos\\Delta}{b(a-\\cos^2\\Delta)}\n",
    "\\\\\n",
    "\\ddot{\\theta}_2 & = &\n",
    "\\frac{av-u\\cos\\Delta}{a-\\cos^2\\Delta}\n",
    "\\end{array}\n",
    "\\right.\n",
    "\\end{equation*}\n",
    "\n",
    "Documentation: [here](../doc/_build/html/odesimu.html)"
   ]
  },
  {
   "cell_type": "code",
   "execution_count": 1,
   "metadata": {},
   "outputs": [
    {
     "name": "stdout",
     "output_type": "stream",
     "text": [
      "Populating the interactive namespace from numpy and matplotlib\n"
     ]
    }
   ],
   "source": [
    "%pylab\n",
    "# for inline animation (but slower and more resource consuming):\n",
    "#%pylab notebook\n",
    "\n",
    "import logging\n",
    "from functools import partial\n",
    "from ipyshow.util import Setup\n",
    "from ipyshow.odesimu import System\n",
    "from ipyshow.odesimu.util import logger_hook"
   ]
  },
  {
   "cell_type": "markdown",
   "metadata": {},
   "source": [
    "## DoublePendulum class"
   ]
  },
  {
   "cell_type": "code",
   "execution_count": 2,
   "metadata": {},
   "outputs": [],
   "source": [
    "#----------------------------------------------------------------------------------------------------\n",
    "class DoublePendulum (System):\n",
    "#----------------------------------------------------------------------------------------------------\n",
    "\n",
    "    shadowshape = (2,)\n",
    "\n",
    "    @Setup(\n",
    "        'G: intensity of the gravitation [m.sec^-2]',\n",
    "        'L1,L2: lengths of the pendulums [m]',\n",
    "        'M1,M2: masses of the pendulums [kg]',\n",
    "    )\n",
    "    def __init__(self,L1,L2,M1,M2,G):\n",
    "        self.L1, self.L2, self.M1, self.M2, self.G = L1, L2, M1, M2, G\n",
    "        def main(t,state,a=1+M1/M2,b=L1/L2,c=G/L2):\n",
    "            θ1,θ1ʹ,θ2,θ2ʹ = state\n",
    "            Δ = θ1-θ2\n",
    "            cosΔ, sinΔ = cos(Δ), sin(Δ)\n",
    "            u = -square(θ2ʹ)*sinΔ-a*c*sin(θ1)\n",
    "            v = b*square(θ1ʹ)*sinΔ-c*sin(θ2)\n",
    "            D = a-square(cosΔ)\n",
    "            θ1ʺ = (u-v*cosΔ)/(D*b)\n",
    "            θ2ʺ = (a*v-u*cosΔ)/D\n",
    "            return array((θ1ʹ,θ1ʺ,θ2ʹ,θ2ʺ))\n",
    "        self.main = main\n",
    "        def fordisplay(state):\n",
    "            θ1,ω1,θ2,ω2 = state\n",
    "            z1 = L1*array((sin(θ1),-cos(θ1)))\n",
    "            z2 = z1+L2*array((sin(θ2),-cos(θ2)))\n",
    "            return (z1,z2),z2\n",
    "        self.fordisplay = fordisplay\n",
    "\n",
    "    def display(self,ax,refsize=None,**ka):\n",
    "        L = 1.05*(self.L1+self.L2)\n",
    "        ax.set_xlim(-L,L)\n",
    "        ax.set_ylim(-L,L)\n",
    "        ax.scatter((0.,),(0.,),c='k',marker='o',s=refsize)\n",
    "        m1,m2 = self.M1,self.M2\n",
    "        r = clip(sqrt(m1/m2),1./refsize,refsize)\n",
    "        sz = (refsize*r,refsize/r)\n",
    "        diag_l, = ax.plot((),(),'k')\n",
    "        diag_s = ax.scatter((),(),s=sz,marker='o',c=('b','r'))\n",
    "        tail_l, = ax.plot((),(),'y')\n",
    "        ax.set_title(r'trajectory:cahotic')\n",
    "        def disp(t,live,tail):\n",
    "            (x1,y1),(x2,y2) = live\n",
    "            diag_l.set_data((0,x1,x2),(0,y1,y2))\n",
    "            diag_s.set_offsets(((x1,y1),(x2,y2)))\n",
    "            tail_l.set_data(tail[:,0],tail[:,1])\n",
    "        return super().display(ax,disp,**ka)\n",
    "\n",
    "    @staticmethod\n",
    "    @Setup(\n",
    "        'θ1,θ2: angles of the pendulums with downward vertical [deg]',\n",
    "        'θ1ʹ,θ2ʹ: angular speeds [deg.sec^-1]',\n",
    "        θ1ʹ=0.,θ2ʹ=0.\n",
    "    )\n",
    "    def makestate(θ1,θ1ʹ,θ2,θ2ʹ): return radians((θ1,θ1ʹ,θ2,θ2ʹ))\n",
    "\n",
    "    @Setup(\n",
    "        'refsize: average size (area) of the bobs for display [pt^2]',\n",
    "        taild=5.,refsize=100.,hooks=(partial(logger_hook,logger=logging.getLogger()),)\n",
    "    )\n",
    "    def launch(self,*a,**ka): return super().launch(*a,**ka)"
   ]
  },
  {
   "cell_type": "code",
   "execution_count": 3,
   "metadata": {},
   "outputs": [
    {
     "data": {
      "text/html": [
       "<TABLE><TBODY><TR><TD colspan=\"4\" style=\"background-color: gray; color: white; font-weight: bold;\">DoublePendulum.__init__(self, L1, L2, M1, M2, G)</TD></TR><TR><TH>G</TH><TD style=\"max-width:2cm; white-space: nowrap; overflow: hidden\" title=\"\"></TD><TD>intensity of the gravitation</TD><TD> <SPAN>m</SPAN> <SPAN>sec</SPAN><SUP>-2</SUP></TD></TR><TR><TH>L1,L2</TH><TD style=\"max-width:2cm; white-space: nowrap; overflow: hidden\" title=\"\"></TD><TD>lengths of the pendulums</TD><TD> <SPAN>m</SPAN></TD></TR><TR><TH>M1,M2</TH><TD style=\"max-width:2cm; white-space: nowrap; overflow: hidden\" title=\"\"></TD><TD>masses of the pendulums</TD><TD> <SPAN>kg</SPAN></TD></TR><TR><TD colspan=\"4\" style=\"background-color: gray; color: white; font-weight: bold;\">DoublePendulum.launch(self, *a, **ka)</TD></TR><TR><TH>maxtime</TH><TD style=\"max-width:2cm; white-space: nowrap; overflow: hidden\" title=\"inf\">inf</TD><TD>total simulation time length</TD><TD> <SPAN>sec</SPAN></TD></TR><TR><TH>srate</TH><TD style=\"max-width:2cm; white-space: nowrap; overflow: hidden\" title=\"25.0\">25.0</TD><TD>sampling rate</TD><TD> <SPAN>sec</SPAN><SUP>-1</SUP></TD></TR><TR><TH>taild</TH><TD style=\"max-width:2cm; white-space: nowrap; overflow: hidden\" title=\"5.0\">5.0</TD><TD>shadow duration</TD><TD> <SPAN>sec</SPAN></TD></TR><TR><TH>hooks</TH><TD style=\"max-width:2cm; white-space: nowrap; overflow: hidden\" title=\"(functools.partial(&lt;function logger_hook at 0x7f186d044378&gt;, logger=&lt;RootLogger root (WARNING)&gt;),)\">(functools.partial(&lt;function logger_hook at 0x7f186d044378&gt;, logger=&lt;RootLogger root (WARNING)&gt;),)</TD><TD>tuple of display hooks</TD><TD/></TR><TR><TH>ini</TH><TD style=\"max-width:2cm; white-space: nowrap; overflow: hidden\" title=\"\"></TD><TD>initial state</TD><TD/></TR><TR><TH>refsize</TH><TD style=\"max-width:2cm; white-space: nowrap; overflow: hidden\" title=\"100.0\">100.0</TD><TD>average size (area) of the bobs for display</TD><TD> <SPAN>pt</SPAN><SUP>2</SUP></TD></TR><TR><TD colspan=\"4\" style=\"background-color: gray; color: white; font-weight: bold;\">DoublePendulum.makestate(θ1, θ1ʹ, θ2, θ2ʹ)</TD></TR><TR><TH>θ1,θ2</TH><TD style=\"max-width:2cm; white-space: nowrap; overflow: hidden\" title=\"\"></TD><TD>angles of the pendulums with downward vertical</TD><TD> <SPAN>deg</SPAN></TD></TR><TR><TH>θ1ʹ,θ2ʹ</TH><TD style=\"max-width:2cm; white-space: nowrap; overflow: hidden\" title=\"0.0,0.0\">0.0,0.0</TD><TD>angular speeds</TD><TD> <SPAN>deg</SPAN> <SPAN>sec</SPAN><SUP>-1</SUP></TD></TR></TBODY></TABLE>"
      ],
      "text/plain": [
       "**** DoublePendulum.__init__(self, L1, L2, M1, M2, G) ****\n",
       "    G         : intensity of the gravitation [m.sec^-2]\n",
       "    L1,L2     : lengths of the pendulums [m]\n",
       "    M1,M2     : masses of the pendulums [kg]\n",
       "**** DoublePendulum.launch(self, *a, **ka) ****\n",
       "    maxtime   (inf       ): total simulation time length [sec]\n",
       "    srate     (25.0      ): sampling rate [sec^-1]\n",
       "    taild     (5.0       ): shadow duration [sec]\n",
       "    hooks     ((functools): tuple of display hooks []\n",
       "    ini       : initial state []\n",
       "    refsize   (100.0     ): average size (area) of the bobs for display [pt^2]\n",
       "**** DoublePendulum.makestate(θ1, θ1ʹ, θ2, θ2ʹ) ****\n",
       "    θ1,θ2     : angles of the pendulums with downward vertical [deg]\n",
       "    θ1ʹ,θ2ʹ   (0.0,0.0   ): angular speeds [deg.sec^-1]"
      ]
     },
     "execution_count": 3,
     "metadata": {},
     "output_type": "execute_result"
    }
   ],
   "source": [
    "Setup.display(DoublePendulum)"
   ]
  },
  {
   "cell_type": "code",
   "execution_count": 4,
   "metadata": {},
   "outputs": [
    {
     "data": {
      "text/plain": [
       "<matplotlib.animation.FuncAnimation at 0x7f1867a3cc50>"
      ]
     },
     "execution_count": 4,
     "metadata": {},
     "output_type": "execute_result"
    }
   ],
   "source": [
    "logging.basicConfig(level='WARN') # can be changed dynamically by logger_hook\n",
    "G = 9.807 # on Earth\n",
    "#G = 1.622 # on the Moon...\n",
    "syst = DoublePendulum(M1=3.,L1=4.,M2=1.,L2=2.,G=G)\n",
    "ini = dict(θ1=180.,θ2=179.,θ1ʹ=45.,θ2ʹ=-45.)\n",
    "syst.launch(ini=syst.makestate(**ini))"
   ]
  },
  {
   "cell_type": "code",
   "execution_count": null,
   "metadata": {
    "collapsed": true
   },
   "outputs": [],
   "source": []
  }
 ],
 "metadata": {
  "anaconda-cloud": {},
  "kernelspec": {
   "display_name": "Python 3",
   "language": "python",
   "name": "python3"
  },
  "language_info": {
   "codemirror_mode": {
    "name": "ipython",
    "version": 3
   },
   "file_extension": ".py",
   "mimetype": "text/x-python",
   "name": "python",
   "nbconvert_exporter": "python",
   "pygments_lexer": "ipython3",
   "version": "3.6.5"
  }
 },
 "nbformat": 4,
 "nbformat_minor": 1
}
