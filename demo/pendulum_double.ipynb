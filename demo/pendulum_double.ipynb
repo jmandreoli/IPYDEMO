{
 "cells": [
  {
   "cell_type": "markdown",
   "metadata": {},
   "source": [
    "# Double Pendulum system\n",
    "\n",
    "Consider the system composed of two pendulums of length $l_1,l_2$, and mass $m_1,m_2$ concentrated at one end, respectively. The pivot of the first pendulum is attached to a fix point, that of the second pendulum is attached to the dangling bob of the first pendulum. The system is submitted to a uniform, constant gravitational acceleration field $g$ and evolves without friction.\n",
    "\n",
    "The generalised coordinates of the system are the angles $\\theta_1,\\theta_2$ of each pendulum with the vertical downward direction. The standard (Cartesian) coordinates are then given by\n",
    "\n",
    "\\begin{equation*}\n",
    "\\begin{array}{rcl}\n",
    "x_1 & = & l_1\\sin\\theta_1\\\\\n",
    "y_1 & = & -l_1\\cos\\theta_1\n",
    "\\end{array}\n",
    "\\hspace{2cm}\n",
    "\\begin{array}{rcl}\n",
    "x_2 & = & l_1\\sin\\theta_1+l_2\\sin\\theta_2\\\\\n",
    "y_2 & = & -l_1\\cos\\theta_1-l_2\\cos\\theta_2\n",
    "\\end{array}\n",
    "\\end{equation*}\n",
    "\n",
    "The only active forces are the weights of the form $-\\nabla V(m_i,x_i,y_i)$ with $V(m,x,y)=mgy$. Hence the Lagrangian\n",
    "\n",
    "\\begin{align*}\n",
    "\\mathcal{L} & =\\hspace{.2cm}\n",
    "\\underbrace{\n",
    "\\frac{1}{2}m_1l_1^2\\dot{\\theta}_1^2+\\frac{1}{2}m_2(l_1^2\\dot{\\theta}_1^2+l_2^2\\dot{\\theta}_2^2+\n",
    "2l_1l_2\\dot{\\theta}_1\\dot{\\theta}_2\\cos(\\theta_1-\\theta_2))\n",
    "}_{\\textrm{kinetic energy}}\n",
    "\\underbrace{\n",
    "+m_1gl_1\\cos\\theta_1+m_2g(l_1\\cos\\theta_1+l_2\\cos\\theta_2)\n",
    "}_{-\\textrm{potential energy}}\\\\\n",
    "& =\\hspace{.2cm}\n",
    "\\frac{1}{2}ml_1^2\\dot{\\theta}_1^2+\\frac{1}{2}m_2l_2^2\\dot{\\theta}_2^2+\n",
    "m_2l_1l_2\\dot{\\theta}_1\\dot{\\theta}_2\\cos\\Delta+\n",
    "mgl_1\\cos\\theta_1+m_2gl_2\\cos\\theta_2\n",
    "\\end{align*}\n",
    "\n",
    "where $m\\triangleq m_1+m_2$ and $\\Delta\\triangleq\\theta_1-\\theta_2$. After simplification, the equations of the dynamics are given by:\n",
    "\n",
    "\\begin{equation*}\n",
    "\\begin{array}{rrcl}\n",
    "\\left[\\frac{\\mathbf{d}}{\\mathbf{d}t}\\frac{\\partial\\mathcal{L}}{\\partial\\dot{\\theta}_1} = \\frac{\\partial\\mathcal{L}}{\\partial\\theta_1}\\right]\n",
    "\\hspace{1.5cm} &\n",
    "ml_1\\ddot{\\theta}_1+m_2l_2\\ddot{\\theta}_2\\cos\\Delta\n",
    "& = &\n",
    "-m_2l_2\\dot{\\theta}_2^2\\sin\\Delta-mg\\sin\\theta_1\n",
    "\\\\\n",
    "\\left[\\frac{\\mathbf{d}}{\\mathbf{d}t}\\frac{\\partial\\mathcal{L}}{\\partial\\dot{\\theta}_2} = \\frac{\\partial\\mathcal{L}}{\\partial\\theta_2}\\right]\n",
    "\\hspace{1.5cm} &\n",
    "m_2l_1\\ddot{\\theta}_1\\cos\\Delta+m_2l_2\\ddot{\\theta}_2\n",
    "& = &\n",
    "m_2l_1\\dot{\\theta}_1^2\\sin\\Delta-m_2g\\sin\\theta_2\n",
    "\\end{array}\n",
    "\\end{equation*}\n",
    "\n",
    "which rewrites as\n",
    "\n",
    "\\begin{equation*}\n",
    "\\left\\{\n",
    "\\begin{array}{rcl}\n",
    "ab\\ddot{\\theta}_1 + \\ddot{\\theta}_2\\cos\\Delta & = & u\n",
    "\\\\\n",
    "b\\ddot{\\theta}_1\\cos\\Delta + \\ddot{\\theta}_2 & = & v\n",
    "\\end{array}\n",
    "\\right.\n",
    "\\hspace{1cm}\\textrm{where}\\hspace{1cm}\n",
    "\\left|\n",
    "\\begin{array}{l}\n",
    "a \\triangleq \\frac{m}{m_2}=1+\\frac{m_1}{m_2}\n",
    "\\hspace{1cm}\n",
    "b \\triangleq \\frac{l_1}{l_2}\n",
    "\\hspace{1cm}\n",
    "c \\triangleq \\frac{g}{l_2}\n",
    "\\\\\n",
    "u \\triangleq -\\dot{\\theta}_2^2\\sin\\Delta-ac\\sin\\theta_1\n",
    "\\hspace{1cm}\n",
    "v \\triangleq b\\dot{\\theta}_1^2\\sin\\Delta-c\\sin\\theta_2\n",
    "\\end{array}\n",
    "\\right.\n",
    "\\end{equation*}\n",
    "\n",
    "The solution in $\\ddot{\\theta}_1,\\ddot{\\theta}_2$ is therefore\n",
    "\n",
    "\\begin{equation*}\n",
    "\\left\\{\n",
    "\\begin{array}{rcl}\n",
    "\\ddot{\\theta}_1 & = &\n",
    "\\frac{u-v\\cos\\Delta}{b(a-\\cos^2\\Delta)}\n",
    "\\\\\n",
    "\\ddot{\\theta}_2 & = &\n",
    "\\frac{av-u\\cos\\Delta}{a-\\cos^2\\Delta}\n",
    "\\end{array}\n",
    "\\right.\n",
    "\\end{equation*}"
   ]
  },
  {
   "cell_type": "code",
   "execution_count": 1,
   "metadata": {},
   "outputs": [],
   "source": [
    "import logging\n",
    "from myutil.simpy import SimpySimulation\n",
    "from ipyshow.odesimu import System"
   ]
  },
  {
   "cell_type": "markdown",
   "metadata": {},
   "source": [
    "## DoublePendulum class"
   ]
  },
  {
   "cell_type": "code",
   "execution_count": 2,
   "metadata": {},
   "outputs": [],
   "source": [
    "#----------------------------------------------------------------------------------------------------\n",
    "class DoublePendulum (System):\n",
    "#----------------------------------------------------------------------------------------------------\n",
    "\n",
    "  def __init__(self,L1,L2,M1,M2,G):\n",
    "    r\"\"\"\n",
    "Args:\n",
    "  G (float): intensity of the gravitation [m.sec^-2]\n",
    "  L1,L2 (float): lengths of the pendulums [m]\n",
    "  M1,M2 (float): masses of the pendulums [kg]\n",
    "    \"\"\"\n",
    "    self.L1, self.L2, self.M1, self.M2, self.G = L1, L2, M1, M2, G\n",
    "    def fun(t,state,a=1+M1/M2,b=L1/L2,c=G/L2):\n",
    "      θ1,θ1ʹ,θ2,θ2ʹ = state\n",
    "      Δ = θ1-θ2\n",
    "      cosΔ, sinΔ = cos(Δ), sin(Δ)\n",
    "      u = -square(θ2ʹ)*sinΔ-a*c*sin(θ1)\n",
    "      v = b*square(θ1ʹ)*sinΔ-c*sin(θ2)\n",
    "      D = a-square(cosΔ)\n",
    "      θ1ʺ = (u-v*cosΔ)/(D*b)\n",
    "      θ2ʺ = (a*v-u*cosΔ)/D\n",
    "      return array((θ1ʹ,θ1ʺ,θ2ʹ,θ2ʺ))\n",
    "    self.fun = fun\n",
    "    self.jac = None\n",
    "    def cartesian(state):\n",
    "      θ1,ω1,θ2,ω2 = state\n",
    "      z1 = L1*array((sin(θ1),-cos(θ1)))\n",
    "      z2 = z1+L2*array((sin(θ2),-cos(θ2)))\n",
    "      return z1,z2\n",
    "    self.cartesian = cartesian\n",
    "\n",
    "  def displayer(self,env,ax,refsize=80):\n",
    "    r\"\"\"\n",
    "Args:\n",
    "  refsize (int): reference dimension for the blobs [pt^2]\n",
    "    \"\"\"\n",
    "    ax.set_title(r'trajectory:cahotic',fontsize='x-small')\n",
    "    L = 1.05*(self.L1+self.L2)\n",
    "    ax.set(xlim=(-L,L),ylim=(-L,L))\n",
    "    ax.scatter((0.,),(0.,),c='k',marker='o',s=refsize)\n",
    "    m1,m2 = self.M1,self.M2\n",
    "    r = clip(sqrt(m1/m2),1./refsize,refsize)\n",
    "    sz = (refsize*r,refsize/r)\n",
    "    a_poles, = ax.plot((),(),'k')\n",
    "    a_bobs = ax.scatter((0,0),(0,0),s=sz,marker='o',c=('b','r'))\n",
    "    a_tail, = ax.plot((),(),'y')\n",
    "    def disp():\n",
    "      (x1,y1),(x2,y2) = self.cartesian(env.state)\n",
    "      a_poles.set_data((0,x1,x2),(0,y1,y2))\n",
    "      a_bobs.set_offsets(((x1,y1),(x2,y2)))\n",
    "      a_tail.set_data(*self.cartesian(env.cached_states)[1])\n",
    "    return disp\n",
    "\n",
    "  @staticmethod\n",
    "  def makestate(θ1,θ2,θ1ʹ=0.,θ2ʹ=0.):\n",
    "    r\"\"\"\n",
    "Args:\n",
    "  θ1,θ2 (float): angles of the pendulums with downward vertical [deg]\n",
    "  θ1ʹ,θ2ʹ (float): angular speeds [deg.sec^-1]\n",
    "    \"\"\"\n",
    "    return radians((θ1,θ1ʹ,θ2,θ2ʹ))\n",
    "\n",
    "  launch_defaults = dict(period=10.,cache=(60,.025),max_step=.05)"
   ]
  },
  {
   "cell_type": "code",
   "execution_count": 3,
   "metadata": {},
   "outputs": [
    {
     "name": "stdout",
     "output_type": "stream",
     "text": [
      "Populating the interactive namespace from numpy and matplotlib\n"
     ]
    }
   ],
   "source": [
    "#%pylab qt5\n",
    "%pylab widget"
   ]
  },
  {
   "cell_type": "code",
   "execution_count": 4,
   "metadata": {},
   "outputs": [
    {
     "data": {
      "application/vnd.jupyter.widget-view+json": {
       "model_id": "",
       "version_major": 2,
       "version_minor": 0
      },
      "text/plain": [
       "VBox(children=(HBox(children=(SimpleButton(icon='close', layout=Layout(padding='0 .1cm 0 .1cm', width='auto'),…"
      ]
     },
     "metadata": {},
     "output_type": "display_data"
    }
   ],
   "source": [
    "logging.basicConfig(level=logging.WARNING)\n",
    "\n",
    "G = 9.807 # on Earth\n",
    "#G = 1.622 # on the Moon...\n",
    "syst = DoublePendulum(M1=3.,L1=4.,M2=1.,L2=2.,G=G)\n",
    "#syst = DoublePendulum(M1=1.,L1=.5,M2=2.,L2=3.,G=G)\n",
    "ini = dict(θ1=180.,θ2=179.,θ1ʹ=45.,θ2ʹ=-45.)\n",
    "\n",
    "SimpySimulation(\n",
    "  syst.launch(init_y=ini,method='DOP853'),\n",
    "  play_kw=dict(frame_per_stu=25,track=60.),\n",
    ")"
   ]
  },
  {
   "cell_type": "code",
   "execution_count": null,
   "metadata": {},
   "outputs": [],
   "source": []
  }
 ],
 "metadata": {
  "anaconda-cloud": {},
  "kernelspec": {
   "display_name": "Python 3",
   "language": "python",
   "name": "python3"
  },
  "language_info": {
   "codemirror_mode": {
    "name": "ipython",
    "version": 3
   },
   "file_extension": ".py",
   "mimetype": "text/x-python",
   "name": "python",
   "nbconvert_exporter": "python",
   "pygments_lexer": "ipython3",
   "version": "3.9.4"
  },
  "varInspector": {
   "cols": {
    "lenName": 16,
    "lenType": 16,
    "lenVar": 40
   },
   "kernels_config": {
    "python": {
     "delete_cmd_postfix": "",
     "delete_cmd_prefix": "del ",
     "library": "var_list.py",
     "varRefreshCmd": "print(var_dic_list())"
    },
    "r": {
     "delete_cmd_postfix": ") ",
     "delete_cmd_prefix": "rm(",
     "library": "var_list.r",
     "varRefreshCmd": "cat(var_dic_list()) "
    }
   },
   "types_to_exclude": [
    "module",
    "function",
    "builtin_function_or_method",
    "instance",
    "_Feature"
   ],
   "window_display": false
  }
 },
 "nbformat": 4,
 "nbformat_minor": 4
}
