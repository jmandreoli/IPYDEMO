{
 "cells": [
  {
   "cell_type": "markdown",
   "metadata": {},
   "source": [
    "# Mandelbrot set visualisation"
   ]
  },
  {
   "cell_type": "markdown",
   "metadata": {},
   "source": [
    "The Mandelbrot set is the subset of the complex numbers $c$ such that the sequence\n",
    "\\begin{equation}\n",
    "z_0=0 \\hspace{1cm} z_{n+1}=z_n^2+c\n",
    "\\end{equation}\n",
    "remains bounded. It can be shown that if $|z_n|\\geq2$ for some $n$, then the sequence is unbounded (i.e. $2$ is an escape radius for that sequence)."
   ]
  },
  {
   "cell_type": "markdown",
   "metadata": {},
   "source": [
    "<span style=\"font-size: x-small\">See also: the [documentation](../doc/index.html) of module `fractal`.</span>"
   ]
  },
  {
   "cell_type": "code",
   "execution_count": 1,
   "metadata": {
    "collapsed": false
   },
   "outputs": [],
   "source": [
    "%autoreload 2\n",
    "\n",
    "import logging\n",
    "logger = logging.getLogger()\n",
    "\n",
    "from numpy import array, zeros, ones, linspace, sum, abs, floor, square, sqrt, newaxis, nan, seterr\n",
    "from fractal import FractalAnimation\n",
    "from itertools import islice"
   ]
  },
  {
   "cell_type": "code",
   "execution_count": 2,
   "metadata": {
    "collapsed": false
   },
   "outputs": [],
   "source": [
    "def mandelbrot(N,bounds):\n",
    "    xb, yb = bounds\n",
    "    r = (xb[1]-xb[0])/(yb[1]-yb[0])\n",
    "    Nx = int(sqrt(N/r)); Ny = int(N/Nx)\n",
    "    tmd,tmap = zeros((2,Nx,Ny),float)\n",
    "    c = array(linspace(xb[0],xb[1],Ny),dtype=complex)[newaxis,:]+1.j*array(linspace(yb[0],yb[1],Nx),dtype=complex)[:,newaxis]\n",
    "    z = zeros((Nx,Ny),dtype=complex)\n",
    "    undecided = ones((Nx,Ny),bool)\n",
    "    sel = zeros((Nx,Ny),bool)\n",
    "    n = 0\n",
    "    seterr(invalid='ignore')\n",
    "    while True:\n",
    "        square(z,z)\n",
    "        z += c\n",
    "        sel[...] = abs(z)>=2.\n",
    "        z[sel] = nan\n",
    "        undecided[sel] = False\n",
    "        n += 1\n",
    "        tmd[...] = -tmap\n",
    "        tmd[undecided] += 1\n",
    "        tmap += tmd/n\n",
    "        yield tmap\n",
    "\n",
    "def MandelbrotAnimation(ax,N=250000,bounds=((-2.5,1.),(-1.,1.)),itermax=100):\n",
    "    img = ax.imshow(zeros((1,1),float),vmin=0.,vmax=1.,origin='lower',extent=bounds[0]+bounds[1])\n",
    "    def frames(bounds):\n",
    "        return islice(((tmap,bounds) for tmap in mandelbrot(N,bounds)),itermax)\n",
    "    def func(frm,interrupt=False):\n",
    "        tmap,bounds = frm\n",
    "        if interrupt:\n",
    "            img.set_array(tmap)\n",
    "            img.set_extent(bounds[0]+bounds[1])\n",
    "        img.changed()\n",
    "        return img,\n",
    "    return FractalAnimation(ax,func=func,frames=frames,init_func=(lambda: None),interval=100,repeat=False)"
   ]
  },
  {
   "cell_type": "markdown",
   "metadata": {},
   "source": [
    "Launcher\n",
    "--------\n",
    "\n",
    "* Open a new zoom level by selecting a rectangle with the mouse (button click on one corner, keep pressed, and release on opposite corner).\n",
    "\n",
    "* Navigate through the different zoom levels using the arrow keys on the keyboard (up or right = forward, down or left = backward)\n",
    "\n",
    "* The zoom level is indicated in the top right corner. The precision is indicated in the top left corner. At deeper zoom levels, details start to appear at higher precision levels."
   ]
  },
  {
   "cell_type": "code",
   "execution_count": 3,
   "metadata": {
    "collapsed": false
   },
   "outputs": [],
   "source": [
    "logger.setLevel(logging.INFO)\n",
    "def test(**ka):\n",
    "    from matplotlib.pyplot import figure, show\n",
    "    fig = figure(figsize=(8,8))\n",
    "    ax = fig.add_axes((0,0,1,1),xticks=(),yticks=())\n",
    "    MandelbrotAnimation(ax,**ka)\n",
    "    show()\n",
    "test(N=160000,itermax=1000)"
   ]
  }
 ],
 "metadata": {
  "kernelspec": {
   "display_name": "Python 3",
   "language": "python",
   "name": "python3"
  },
  "language_info": {
   "codemirror_mode": {
    "name": "ipython",
    "version": 3
   },
   "file_extension": ".py",
   "mimetype": "text/x-python",
   "name": "python",
   "nbconvert_exporter": "python",
   "pygments_lexer": "ipython3",
   "version": "3.4.3"
  }
 },
 "nbformat": 4,
 "nbformat_minor": 0
}
